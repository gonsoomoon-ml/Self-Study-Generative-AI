{
 "cells": [
  {
   "cell_type": "markdown",
   "metadata": {},
   "source": [
    "# LangGraph 를 이용한 Prompt Flow "
   ]
  },
  {
   "cell_type": "code",
   "execution_count": 1,
   "metadata": {},
   "outputs": [],
   "source": [
    "# Used for this tutorial; not a requirement for LangGraph\n",
    "# %pip install -U langchain_anthropic\n",
    "# ! pip install --upgrade langgraph"
   ]
  },
  {
   "cell_type": "code",
   "execution_count": 2,
   "metadata": {},
   "outputs": [],
   "source": [
    "import getpass\n",
    "import os\n",
    "\n",
    "\n",
    "def _set_env(var: str):\n",
    "    if not os.environ.get(var):\n",
    "        os.environ[var] = getpass.getpass(f\"{var}: \")\n",
    "\n",
    "\n",
    "_set_env(\"ANTHROPIC_API_KEY\")"
   ]
  },
  {
   "cell_type": "markdown",
   "metadata": {},
   "source": [
    "#### 그래프 정의\n",
    "- State 정의\n",
    "- 사용할 모델 정의\n",
    "- 그래프 빌더 정의\n",
    "- 노드, 에지 정의\n",
    "- 그래프 컴파일"
   ]
  },
  {
   "cell_type": "code",
   "execution_count": 8,
   "metadata": {},
   "outputs": [
    {
     "data": {
      "image/jpeg": "[encoded data removed]",
      "text/plain": [
       "<IPython.core.display.Image object>"
      ]
     },
     "metadata": {},
     "output_type": "display_data"
    }
   ],
   "source": [
    "from typing import TypedDict, Annotated\n",
    "from langgraph.graph import StateGraph, START, END\n",
    "from langchain_anthropic import ChatAnthropic\n",
    "from langchain_core.messages import HumanMessage\n",
    "\n",
    "# Stage 정의\n",
    "class State(TypedDict):\n",
    "    prompt: Annotated[str, \"실행할 프롬프트\"]\n",
    "    response: Annotated[str, \"AI의 응답\"]\n",
    "\n",
    "# 모델 정의\n",
    "def get_llm_model(model_id):\n",
    "    llm = ChatAnthropic(model=model_id)\n",
    "\n",
    "    return llm\n",
    "\n",
    "# 프롬프트 처리 노드 정의\n",
    "def process_prompt(state: State) -> State:\n",
    "    llm = get_llm_model(model_id=\"claude-3-haiku-20240307\")\n",
    "    prompt = state[\"prompt\"]\n",
    "    print(\"prompt: \\n\", prompt)\n",
    "    response = llm.invoke([HumanMessage(content=prompt)])\n",
    "    return {\"prompt\": prompt, \"response\": response.content}\n",
    "\n",
    "# 그래프 정의\n",
    "graph_builder = StateGraph(State)\n",
    "\n",
    "# 노트, 에지 생성\n",
    "graph_builder.add_node(\"process_prompt\", process_prompt)\n",
    "graph_builder.add_edge(START, \"process_prompt\")\n",
    "graph_builder.add_edge(\"process_prompt\", END)\n",
    "# 그래프 컴파일\n",
    "graph = graph_builder.compile()\n",
    "\n",
    "from IPython.display import Image, display\n",
    "\n",
    "try:\n",
    "    display(Image(graph.get_graph().draw_mermaid_png()))\n",
    "except Exception:\n",
    "    # This requires some extra dependencies and is optional\n",
    "    pass\n",
    "\n"
   ]
  },
  {
   "cell_type": "markdown",
   "metadata": {},
   "source": [
    "### 그래프를 실행할 함수 정의"
   ]
  },
  {
   "cell_type": "code",
   "execution_count": 9,
   "metadata": {},
   "outputs": [],
   "source": [
    "def run_prompt(prompt: str):\n",
    "    inputs = {\"prompt\": prompt}\n",
    "    result = graph.invoke(inputs)\n",
    "    return result[\"response\"]\n",
    "\n",
    "\n"
   ]
  },
  {
   "cell_type": "markdown",
   "metadata": {},
   "source": [
    "### 메인: 그래프 실행"
   ]
  },
  {
   "cell_type": "code",
   "execution_count": 10,
   "metadata": {},
   "outputs": [
    {
     "name": "stdout",
     "output_type": "stream",
     "text": [
      "\n",
      "프롬프트 1: 인공지능이 사회에 미칠 긍정적인 영향을 서술해주세요.\n",
      "prompt: \n",
      " 인공지능이 사회에 미칠 긍정적인 영향을 서술해주세요.\n"
     ]
    },
    {
     "name": "stdout",
     "output_type": "stream",
     "text": [
      "응답: 인공지능의 발전은 사회 전반에 걸쳐 많은 긍정적인 영향을 미칠 것으로 기대됩니다. 몇 가지 대표적인 영향은 다음과 같습니다:\n",
      "\n",
      "1. 생산성 향상: 인공지능 기술은 반복적이고 단순한 작업의 자동화를 통해 인간의 생산성을 크게 높일 수 있습니다. 이를 통해 기업의 경쟁력 향상과 더불어 근로자들의 업무 효율성 증대를 기대할 수 있습니다.\n",
      "\n",
      "2. 의료 분야 혁신: 인공지능은 의료 분야에서 정확한 진단, 맞춤형 치료, 신약 개발 등에 활용되어 의료 서비스의 질을 향상시킬 수 있습니다. 이는 환자의 치료 효과 개선과 의료 비용 절감에 기여할 것입니다.\n",
      "\n",
      "3. 교육의 개선: 인공지능 기술은 개인의 학습 패턴을 분석하여 맞춤형 학습 콘텐츠와 방식을 제공함으로써 교육의 질적 향상을 도모할 수 있습니다. 이를 통해 학습자의 능력 개발과 교육 기회의 균등화를 이룰 수 있습니다.\n",
      "\n",
      "4. 삶의 질 향상: 인공지능은 안전, 교통, 에너지, 환경 등 다양한 분야에서 인간의 일상생활을 편리하고 안전하게 개선할 수 있습니다. 이를 통해 궁극적으로 삶의 질 향상과 지속가능한 발전을 달성할 수 있습니다.\n",
      "\n",
      "이처럼 인공지능 기술은 인간의 생활에 다양한 긍정적인 변화를 가져올 것으로 기대되며, 이를 통해 사회 전반의 발전을 이끌어갈 수 있을 것입니다.\n"
     ]
    }
   ],
   "source": [
    "# 테스트용 프롬프트\n",
    "test_prompts = [\n",
    "    \"인공지능이 사회에 미칠 긍정적인 영향을 서술해주세요.\"\n",
    "]\n",
    "\n",
    "for i, prompt in enumerate(test_prompts, 1):\n",
    "    print(f\"\\n프롬프트 {i}: {prompt}\")\n",
    "    response = run_prompt(prompt)\n",
    "    print(f\"응답: {response}\")\n",
    "\n",
    "# 아래 동작 안함\n",
    "# def run_prompt_stream(prompt: str):\n",
    "#     inputs = {\"prompt\": prompt}\n",
    "#     for output in graph.stream(inputs):\n",
    "#         if output and \"response\" in output:\n",
    "#             yield output[\"response\"]    \n",
    "\n",
    "# for i, prompt in enumerate(test_prompts, 1):\n",
    "#     print(f\"\\n프롬프트 {i}: {prompt}\")\n",
    "#     print(\"응답: \", end=\"\", flush=True)\n",
    "#     for chunk in run_prompt_stream(prompt):\n",
    "#         print(chunk, end=\"\", flush=True)\n",
    "#     print()  # 줄바꿈을 위해"
   ]
  },
  {
   "cell_type": "code",
   "execution_count": null,
   "metadata": {},
   "outputs": [],
   "source": []
  }
 ],
 "metadata": {
  "kernelspec": {
   "display_name": ".venv",
   "language": "python",
   "name": "python3"
  },
  "language_info": {
   "codemirror_mode": {
    "name": "ipython",
    "version": 3
   },
   "file_extension": ".py",
   "mimetype": "text/x-python",
   "name": "python",
   "nbconvert_exporter": "python",
   "pygments_lexer": "ipython3",
   "version": "3.10.14"
  }
 },
 "nbformat": 4,
 "nbformat_minor": 2
}
