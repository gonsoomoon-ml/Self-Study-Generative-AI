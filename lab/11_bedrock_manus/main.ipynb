{
 "cells": [
  {
   "cell_type": "code",
   "execution_count": 96,
   "id": "8daa2248-2979-43f7-a945-85784fb716a0",
   "metadata": {
    "tags": []
   },
   "outputs": [
    {
     "name": "stdout",
     "output_type": "stream",
     "text": [
      "The autoreload extension is already loaded. To reload it, use:\n",
      "  %reload_ext autoreload\n"
     ]
    }
   ],
   "source": [
    "%load_ext autoreload\n",
    "%autoreload 2"
   ]
  },
  {
   "cell_type": "markdown",
   "id": "11e5fc8a",
   "metadata": {},
   "source": [
    "### 그래프 가시화"
   ]
  },
  {
   "cell_type": "code",
   "execution_count": 97,
   "id": "31c857df-1974-4937-ad1c-fb3001e9e5d9",
   "metadata": {},
   "outputs": [],
   "source": [
    "# from src.graph import build_graph\n",
    "# graph = build_graph()\n",
    "\n",
    "# from IPython.display import Image, display\n",
    "\n",
    "# try:\n",
    "#     display(\n",
    "#         Image(graph.get_graph(xray=True).draw_mermaid_png())\n",
    "#     )  # 실행 가능한 객체의 그래프를 mermaid 형식의 PNG로 그려서 표시합니다. \n",
    "#        # xray=True는 추가적인 세부 정보를 포함합니다.\n",
    "# except Exception as e:\n",
    "#     print(f\"그래프 생성 중 오류가 발생했습니다: {str(e)}\")\n",
    "#     print(f\"오류 유형: {type(e).__name__}\")"
   ]
  },
  {
   "cell_type": "markdown",
   "id": "e347b257",
   "metadata": {},
   "source": [
    "### 그래프 실행"
   ]
  },
  {
   "cell_type": "code",
   "execution_count": 98,
   "id": "12c20d61",
   "metadata": {},
   "outputs": [],
   "source": [
    "import sys\n",
    "from src.workflow import run_agent_workflow"
   ]
  },
  {
   "cell_type": "code",
   "execution_count": 99,
   "id": "8e915a3c-bb0d-4d3d-88cf-bfa0b61e8f9f",
   "metadata": {
    "tags": []
   },
   "outputs": [],
   "source": [
    "# user_query = '''\n",
    "#     I would like to analyze Amazon product sales data.\n",
    "#     The target for analysis is the 'Amazon-Sale-Report-1st-Week-June-2022.csv' file.\n",
    "#     Please conduct an analysis to extract marketing insights based on this data.\n",
    "#     Please perform various analytical techniques starting from basic data attribute exploration, product sales trends, variable relationships, variable combinations, etc.\n",
    "#     If there are any additional analyses needed to extract insights after the data analysis, please perform those as well.\n",
    "#     Please include detailed analysis in the report along with supporting images and charts.\n",
    "#     Please save the final report in PDF format.\n",
    "# '''\n",
    "\n",
    "user_query = '''\n",
    "    이것은 아마존 상품판매 데이터를 분석하고 싶습니다.\n",
    "    분석대상은 './data/Amazon-Sale-Report-1st-Week-June-2022.csv' 파일 입니다.\n",
    "    데이터를 기반으로 마케팅 인사이트 추출을 위한 분석을 진행해 주세요.\n",
    "    분석은 기본적인 데이터 속성 탐색 부터, 상품 판매 트렌드, 변수 관계, 변수 조합 등 다양한 분석 기법을 수행해 주세요.\n",
    "    데이터 분석 후 인사이트 추출에 필요한 사항이 있다면 그를 위한 추가 분석도 수행해 주세요.\n",
    "    분석 리포트는 상세 분석과 그 것을 뒷받침 할 수 있는 이미지 및 차트를 함께 삽입해 주세요.\n",
    "    최종 리포트는 pdf 형태로 저장해 주세요.\n",
    "'''"
   ]
  },
  {
   "cell_type": "code",
   "execution_count": 100,
   "id": "1bf1bef5",
   "metadata": {},
   "outputs": [
    {
     "name": "stderr",
     "output_type": "stream",
     "text": [
      "\n",
      "INFO [src.workflow] \u001b[92m===== Starting workflow =====\u001b[0m\n",
      "\n",
      "INFO [src.workflow] \u001b[92m\n",
      "user input: \n",
      "    이것은 아마존 상품판매 데이터를 분석하고 싶습니다.\n",
      "    분석대상은 './data/Amazon-Sale-Report-1st-Week-June-2022.csv' 파일 입니다.\n",
      "    데이터를 기반으로 마케팅 인사이트 추출을 위한 분석을 진행해 주세요.\n",
      "    분석은 기본적인 데이터 속성 탐색 부터, 상품 판매 트렌드, 변수 관계, 변수 조합 등 다양한 분석 기법을 수행해 주세요.\n",
      "    데이터 분석 후 인사이트 추출에 필요한 사항이 있다면 그를 위한 추가 분석도 수행해 주세요.\n",
      "    분석 리포트는 상세 분석과 그 것을 뒷받침 할 수 있는 이미지 및 차트를 함께 삽입해 주세요.\n",
      "    최종 리포트는 pdf 형태로 저장해 주세요.\n",
      "\u001b[0m\n"
     ]
    },
    {
     "name": "stdout",
     "output_type": "stream",
     "text": [
      "'./artifacts/' 폴더가 존재하지 않습니다.\n"
     ]
    },
    {
     "name": "stderr",
     "output_type": "stream",
     "text": [
      "\n",
      "INFO [src.graph.nodes] \u001b[92m===== Coordinator talking...... =====\u001b[0m\n",
      "\n",
      "DEBUG [src.graph.nodes] \u001b[92mCoordinator - Prompt Cache Disabled\u001b[0m\n",
      "\n",
      "DEBUG [src.graph.nodes] ########################################################\n",
      "\n",
      "DEBUG [src.graph.nodes] \n",
      "\u001b[91mCoordinator - system_prompts:\n",
      "[ { 'text': '---\\n'\n",
      "            'CURRENT_TIME: Mon May 12 2025 16:17:38 \\n'\n",
      "            '---\\n'\n",
      "            '\\n'\n",
      "            'You are Bedrock-Manus, a friendly AI assistant developed by the Bedrock-Manus team. '\n",
      "            'You specialize in handling greetings and small talk, while directing complex tasks to '\n",
      "            'a specialized planner.\\n'\n",
      "            '\\n'\n",
      "            '# Details\\n'\n",
      "            '\\n'\n",
      "            'Your primary responsibilities are:\\n'\n",
      "            '- Introducing yourself as Bedrock-Manus when appropriate\\n'\n",
      "            '- Responding to greetings (e.g., \"hello\", \"hi\", \"good morning\")\\n'\n",
      "            '- Engaging in small talk (e.g., weather, time, how are you)\\n'\n",
      "            '- Politely rejecting inappropriate or harmful requests\\n'\n",
      "            '- Directing all other questions to the planner\\n'\n",
      "            '\\n'\n",
      "            '# Execution Rules\\n'\n",
      "            '\\n'\n",
      "            '- If the input is a greeting, small talk, or poses a security/moral risk:\\n'\n",
      "            '  - Respond in plain text with an appropriate greeting or polite rejection\\n'\n",
      "            '- For all other inputs:\\n'\n",
      "            '  - Indicate that you need to pass this request to the planner by responding with:\\n'\n",
      "            '  \"handoff_to_planner: I\\'ll need to consult our planning system for this request.\"\\n'\n",
      "            '\\n'\n",
      "            '# Notes\\n'\n",
      "            '\\n'\n",
      "            '- Always identify yourself as Bedrock-Manus when relevant\\n'\n",
      "            '- Keep responses friendly but professional\\n'\n",
      "            \"- Don't attempt to solve complex problems or create plans yourself\\n\"\n",
      "            '- Always direct non-greeting queries to the planner\\n'\n",
      "            '- Maintain the same language as the user'}]\u001b[0m\n",
      "\n",
      "DEBUG [src.graph.nodes] \n",
      "\u001b[91mCoordinator - messages:\n",
      "[ { 'content': [ { 'text': '\\n'\n",
      "                           'Here is a user request: <user_request>\\n'\n",
      "                           '    이것은 아마존 상품판매 데이터를 분석하고 싶습니다.\\n'\n",
      "                           \"    분석대상은 './data/Amazon-Sale-Report-1st-Week-June-2022.csv' 파일 입니다.\\n\"\n",
      "                           '    데이터를 기반으로 마케팅 인사이트 추출을 위한 분석을 진행해 주세요.\\n'\n",
      "                           '    분석은 기본적인 데이터 속성 탐색 부터, 상품 판매 트렌드, 변수 관계, 변수 조합 등 다양한 분석 기법을 수행해 '\n",
      "                           '주세요.\\n'\n",
      "                           '    데이터 분석 후 인사이트 추출에 필요한 사항이 있다면 그를 위한 추가 분석도 수행해 주세요.\\n'\n",
      "                           '    분석 리포트는 상세 분석과 그 것을 뒷받침 할 수 있는 이미지 및 차트를 함께 삽입해 주세요.\\n'\n",
      "                           '    최종 리포트는 pdf 형태로 저장해 주세요.\\n'\n",
      "                           '</user_request>\\n'}],\n",
      "    'role': 'user'}]\u001b[0m\n",
      "\n",
      "DEBUG [src.graph.nodes] ########################################################\n"
     ]
    },
    {
     "name": "stdout",
     "output_type": "stream",
     "text": [
      "## Langfuse 인증 테스트: True\n",
      "INFO     [botocore.credentials] Found credentials in shared credentials file: ~/.aws/credentials\n",
      "boto3 Bedrock client successfully created!\n",
      "bedrock-runtime(https://bedrock-runtime.us-east-1.amazonaws.com)\n",
      "### stream:  False\n"
     ]
    },
    {
     "name": "stderr",
     "output_type": "stream",
     "text": [
      "\n",
      "DEBUG [src.graph.nodes] \n",
      "\u001b[91mCurrent state messages:\n",
      "[ { 'content': [ { 'text': '\\n'\n",
      "                           'Here is a user request: <user_request>\\n'\n",
      "                           '    이것은 아마존 상품판매 데이터를 분석하고 싶습니다.\\n'\n",
      "                           \"    분석대상은 './data/Amazon-Sale-Report-1st-Week-June-2022.csv' 파일 입니다.\\n\"\n",
      "                           '    데이터를 기반으로 마케팅 인사이트 추출을 위한 분석을 진행해 주세요.\\n'\n",
      "                           '    분석은 기본적인 데이터 속성 탐색 부터, 상품 판매 트렌드, 변수 관계, 변수 조합 등 다양한 분석 기법을 수행해 '\n",
      "                           '주세요.\\n'\n",
      "                           '    데이터 분석 후 인사이트 추출에 필요한 사항이 있다면 그를 위한 추가 분석도 수행해 주세요.\\n'\n",
      "                           '    분석 리포트는 상세 분석과 그 것을 뒷받침 할 수 있는 이미지 및 차트를 함께 삽입해 주세요.\\n'\n",
      "                           '    최종 리포트는 pdf 형태로 저장해 주세요.\\n'\n",
      "                           '</user_request>\\n'}],\n",
      "    'role': 'user'}]\u001b[0m\n",
      "\n",
      "DEBUG [src.graph.nodes] \n",
      "\u001b[91mCoordinator response:\n",
      "{ 'ResponseMetadata': { 'HTTPHeaders': { 'connection': 'keep-alive',\n",
      "                                         'content-length': '466',\n",
      "                                         'content-type': 'application/json',\n",
      "                                         'date': 'Mon, 12 May 2025 07:17:41 GMT',\n",
      "                                         'x-amzn-requestid': '46b7ba5c-3b50-429e-80cb-423bd3619fbf'},\n",
      "                        'HTTPStatusCode': 200,\n",
      "                        'RequestId': '46b7ba5c-3b50-429e-80cb-423bd3619fbf',\n",
      "                        'RetryAttempts': 0},\n",
      "  'metrics': {'latencyMs': 2497},\n",
      "  'output': { 'message': { 'content': [ { 'text': \"handoff_to_planner: I'll need to consult our \"\n",
      "                                                  'planning system for this request.\\n'\n",
      "                                                  '\\n'\n",
      "                                                  '이 요청은 아마존 판매 데이터의 복잡한 분석과 리포트 생성이 필요한 작업이므로, 계획 '\n",
      "                                                  '시스템에 전달하여 체계적인 분석을 진행하도록 하겠습니다.'}],\n",
      "                           'role': 'assistant'}},\n",
      "  'stopReason': 'end_turn',\n",
      "  'usage': {'inputTokens': 654, 'outputTokens': 106, 'totalTokens': 760}}\u001b[0m\n"
     ]
    },
    {
     "name": "stdout",
     "output_type": "stream",
     "text": [
      "### response_text: \n",
      " {'response': {'ResponseMetadata': {'RequestId': '46b7ba5c-3b50-429e-80cb-423bd3619fbf', 'HTTPStatusCode': 200, 'HTTPHeaders': {'date': 'Mon, 12 May 2025 07:17:41 GMT', 'content-type': 'application/json', 'content-length': '466', 'connection': 'keep-alive', 'x-amzn-requestid': '46b7ba5c-3b50-429e-80cb-423bd3619fbf'}, 'RetryAttempts': 0}, 'output': {'message': {'role': 'assistant', 'content': [{'text': \"handoff_to_planner: I'll need to consult our planning system for this request.\\n\\n이 요청은 아마존 판매 데이터의 복잡한 분석과 리포트 생성이 필요한 작업이므로, 계획 시스템에 전달하여 체계적인 분석을 진행하도록 하겠습니다.\"}]}}, 'stopReason': 'end_turn', 'usage': {'inputTokens': 654, 'outputTokens': 106, 'totalTokens': 760}, 'metrics': {'latencyMs': 2497}}, 'verbose': False, 'stream': False, 'callback': <langchain_core.callbacks.streaming_stdout.StreamingStdOutCallbackHandler object at 0x12a16a2a0>}\n",
      "### ai_message: \n",
      " {'ai_message': 'no stream'}\n",
      "{\n",
      "  \"ResponseMetadata\": {\n",
      "    \"RequestId\": \"46b7ba5c-3b50-429e-80cb-423bd3619fbf\",\n",
      "    \"HTTPStatusCode\": 200,\n",
      "    \"HTTPHeaders\": {\n",
      "      \"date\": \"Mon, 12 May 2025 07:17:41 GMT\",\n",
      "      \"content-type\": \"application/json\",\n",
      "      \"content-length\": \"466\",\n",
      "      \"connection\": \"keep-alive\",\n",
      "      \"x-amzn-requestid\": \"46b7ba5c-3b50-429e-80cb-423bd3619fbf\"\n",
      "    },\n",
      "    \"RetryAttempts\": 0\n",
      "  },\n",
      "  \"output\": {\n",
      "    \"message\": {\n",
      "      \"role\": \"assistant\",\n",
      "      \"content\": [\n",
      "        {\n",
      "          \"text\": \"handoff_to_planner: I'll need to consult our planning system for this request.\\n\\n이 요청은 아마존 판매 데이터의 복잡한 분석과 리포트 생성이 필요한 작업이므로, 계획 시스템에 전달하여 체계적인 분석을 진행하도록 하겠습니다.\"\n",
      "        }\n",
      "      ]\n",
      "    }\n",
      "  },\n",
      "  \"stopReason\": \"end_turn\",\n",
      "  \"usage\": {\n",
      "    \"inputTokens\": 654,\n",
      "    \"outputTokens\": 106,\n",
      "    \"totalTokens\": 760\n",
      "  },\n",
      "  \"metrics\": {\n",
      "    \"latencyMs\": 2497\n",
      "  }\n",
      "}\n",
      "## response: \n",
      " {'ResponseMetadata': {'RequestId': '46b7ba5c-3b50-429e-80cb-423bd3619fbf', 'HTTPStatusCode': 200, 'HTTPHeaders': {'date': 'Mon, 12 May 2025 07:17:41 GMT', 'content-type': 'application/json', 'content-length': '466', 'connection': 'keep-alive', 'x-amzn-requestid': '46b7ba5c-3b50-429e-80cb-423bd3619fbf'}, 'RetryAttempts': 0}, 'output': {'message': {'role': 'assistant', 'content': [{'text': \"handoff_to_planner: I'll need to consult our planning system for this request.\\n\\n이 요청은 아마존 판매 데이터의 복잡한 분석과 리포트 생성이 필요한 작업이므로, 계획 시스템에 전달하여 체계적인 분석을 진행하도록 하겠습니다.\"}]}}, 'stopReason': 'end_turn', 'usage': {'inputTokens': 654, 'outputTokens': 106, 'totalTokens': 760}, 'metrics': {'latencyMs': 2497}}\n",
      "## ai_message: \n",
      " {'ai_message': 'no stream'}\n",
      "### Finish in invoke\n"
     ]
    },
    {
     "ename": "KeyError",
     "evalue": "'text'",
     "output_type": "error",
     "traceback": [
      "\u001b[31m---------------------------------------------------------------------------\u001b[39m",
      "\u001b[31mKeyError\u001b[39m                                  Traceback (most recent call last)",
      "\u001b[36mCell\u001b[39m\u001b[36m \u001b[39m\u001b[32mIn[100]\u001b[39m\u001b[32m, line 28\u001b[39m\n\u001b[32m     23\u001b[39m \u001b[38;5;66;03m#import nest_asyncio\u001b[39;00m\n\u001b[32m     24\u001b[39m \u001b[38;5;66;03m#nest_asyncio.apply()\u001b[39;00m\n\u001b[32m     26\u001b[39m remove_artifact_folder()\n\u001b[32m---> \u001b[39m\u001b[32m28\u001b[39m result = \u001b[43mrun_agent_workflow\u001b[49m\u001b[43m(\u001b[49m\n\u001b[32m     29\u001b[39m \u001b[43m    \u001b[49m\u001b[43muser_input\u001b[49m\u001b[43m=\u001b[49m\u001b[43muser_query\u001b[49m\u001b[43m,\u001b[49m\n\u001b[32m     30\u001b[39m \u001b[43m    \u001b[49m\u001b[43mdebug\u001b[49m\u001b[43m=\u001b[49m\u001b[38;5;28;43;01mFalse\u001b[39;49;00m\n\u001b[32m     31\u001b[39m \u001b[43m)\u001b[49m\n\u001b[32m     33\u001b[39m \u001b[38;5;66;03m# Print the conversation history\u001b[39;00m\n\u001b[32m     34\u001b[39m \u001b[38;5;28mprint\u001b[39m(\u001b[33m\"\u001b[39m\u001b[38;5;130;01m\\n\u001b[39;00m\u001b[33m=== Conversation History ===\u001b[39m\u001b[33m\"\u001b[39m)\n",
      "\u001b[36mFile \u001b[39m\u001b[32m~/250501-Cursor/Self-Study-Generative-AI/lab/11_bedrock_manus/src/workflow.py:112\u001b[39m, in \u001b[36mrun_agent_workflow\u001b[39m\u001b[34m(user_input, debug)\u001b[39m\n\u001b[32m    106\u001b[39m langfuse_handler = get_langfuse_handler()\n\u001b[32m    107\u001b[39m config = RunnableConfig(\n\u001b[32m    108\u001b[39m             recursion_limit=\u001b[32m3\u001b[39m, \n\u001b[32m    109\u001b[39m             callbacks=[langfuse_handler]  \u001b[38;5;66;03m# 여기에 Langfuse 핸들러 추가}    \u001b[39;00m\n\u001b[32m    110\u001b[39m )\n\u001b[32m--> \u001b[39m\u001b[32m112\u001b[39m result = \u001b[43mgraph\u001b[49m\u001b[43m.\u001b[49m\u001b[43minvoke\u001b[49m\u001b[43m(\u001b[49m\n\u001b[32m    113\u001b[39m \u001b[43m    \u001b[49m\u001b[38;5;28;43minput\u001b[39;49m\u001b[43m=\u001b[49m\u001b[43m{\u001b[49m\n\u001b[32m    114\u001b[39m \u001b[43m        \u001b[49m\u001b[38;5;66;43;03m# Constants\u001b[39;49;00m\n\u001b[32m    115\u001b[39m \u001b[43m        \u001b[49m\u001b[33;43m\"\u001b[39;49m\u001b[33;43mTEAM_MEMBERS\u001b[39;49m\u001b[33;43m\"\u001b[39;49m\u001b[43m:\u001b[49m\u001b[43m \u001b[49m\u001b[43mTEAM_MEMBERS\u001b[49m\u001b[43m,\u001b[49m\n\u001b[32m    116\u001b[39m \u001b[43m        \u001b[49m\u001b[38;5;66;43;03m# Runtime Variables\u001b[39;49;00m\n\u001b[32m    117\u001b[39m \u001b[43m        \u001b[49m\u001b[38;5;66;43;03m#\"messages\": [{\"role\": \"user\", \"content\": user_input}],\u001b[39;49;00m\n\u001b[32m    118\u001b[39m \u001b[43m        \u001b[49m\u001b[33;43m\"\u001b[39;49m\u001b[33;43mmessages\u001b[39;49m\u001b[33;43m\"\u001b[39;49m\u001b[43m:\u001b[49m\u001b[43m \u001b[49m\u001b[43mmessages\u001b[49m\u001b[43m,\u001b[49m\n\u001b[32m    119\u001b[39m \u001b[43m        \u001b[49m\u001b[33;43m\"\u001b[39;49m\u001b[33;43mdeep_thinking_mode\u001b[39;49m\u001b[33;43m\"\u001b[39;49m\u001b[43m:\u001b[49m\u001b[43m \u001b[49m\u001b[38;5;28;43;01mTrue\u001b[39;49;00m\u001b[43m,\u001b[49m\n\u001b[32m    120\u001b[39m \u001b[43m        \u001b[49m\u001b[33;43m\"\u001b[39;49m\u001b[33;43msearch_before_planning\u001b[39;49m\u001b[33;43m\"\u001b[39;49m\u001b[43m:\u001b[49m\u001b[43m \u001b[49m\u001b[38;5;28;43;01mFalse\u001b[39;49;00m\u001b[43m,\u001b[49m\n\u001b[32m    121\u001b[39m \u001b[43m        \u001b[49m\u001b[33;43m\"\u001b[39;49m\u001b[33;43mrequest\u001b[39;49m\u001b[33;43m\"\u001b[39;49m\u001b[43m:\u001b[49m\u001b[43m \u001b[49m\u001b[43muser_input\u001b[49m\n\u001b[32m    122\u001b[39m \u001b[43m    \u001b[49m\u001b[43m}\u001b[49m\u001b[43m,\u001b[49m\n\u001b[32m    123\u001b[39m \u001b[43m    \u001b[49m\u001b[43mconfig\u001b[49m\u001b[43m=\u001b[49m\u001b[43mconfig\u001b[49m\u001b[43m    \u001b[49m\n\u001b[32m    124\u001b[39m \u001b[43m\u001b[49m\u001b[43m)\u001b[49m\n\u001b[32m    125\u001b[39m logger.debug(\u001b[33mf\u001b[39m\u001b[33m\"\u001b[39m\u001b[38;5;132;01m{\u001b[39;00mColors.RED\u001b[38;5;132;01m}\u001b[39;00m\u001b[33mFinal workflow state: \u001b[39m\u001b[38;5;132;01m{\u001b[39;00mresult\u001b[38;5;132;01m}\u001b[39;00m\u001b[38;5;132;01m{\u001b[39;00mColors.END\u001b[38;5;132;01m}\u001b[39;00m\u001b[33m\"\u001b[39m)\n\u001b[32m    126\u001b[39m logger.info(\u001b[33mf\u001b[39m\u001b[33m\"\u001b[39m\u001b[38;5;132;01m{\u001b[39;00mColors.GREEN\u001b[38;5;132;01m}\u001b[39;00m\u001b[33m===== Workflow completed successfully =====\u001b[39m\u001b[38;5;132;01m{\u001b[39;00mColors.END\u001b[38;5;132;01m}\u001b[39;00m\u001b[33m\"\u001b[39m)\n",
      "\u001b[36mFile \u001b[39m\u001b[32m~/miniconda3/envs/bedrock-manus/lib/python3.12/site-packages/langgraph/pregel/__init__.py:2823\u001b[39m, in \u001b[36mPregel.invoke\u001b[39m\u001b[34m(self, input, config, stream_mode, output_keys, interrupt_before, interrupt_after, checkpoint_during, debug, **kwargs)\u001b[39m\n\u001b[32m   2820\u001b[39m chunks: \u001b[38;5;28mlist\u001b[39m[Union[\u001b[38;5;28mdict\u001b[39m[\u001b[38;5;28mstr\u001b[39m, Any], Any]] = []\n\u001b[32m   2821\u001b[39m interrupts: \u001b[38;5;28mlist\u001b[39m[Interrupt] = []\n\u001b[32m-> \u001b[39m\u001b[32m2823\u001b[39m \u001b[43m\u001b[49m\u001b[38;5;28;43;01mfor\u001b[39;49;00m\u001b[43m \u001b[49m\u001b[43mchunk\u001b[49m\u001b[43m \u001b[49m\u001b[38;5;129;43;01min\u001b[39;49;00m\u001b[43m \u001b[49m\u001b[38;5;28;43mself\u001b[39;49m\u001b[43m.\u001b[49m\u001b[43mstream\u001b[49m\u001b[43m(\u001b[49m\n\u001b[32m   2824\u001b[39m \u001b[43m    \u001b[49m\u001b[38;5;28;43minput\u001b[39;49m\u001b[43m,\u001b[49m\n\u001b[32m   2825\u001b[39m \u001b[43m    \u001b[49m\u001b[43mconfig\u001b[49m\u001b[43m,\u001b[49m\n\u001b[32m   2826\u001b[39m \u001b[43m    \u001b[49m\u001b[43mstream_mode\u001b[49m\u001b[43m=\u001b[49m\u001b[43mstream_mode\u001b[49m\u001b[43m,\u001b[49m\n\u001b[32m   2827\u001b[39m \u001b[43m    \u001b[49m\u001b[43moutput_keys\u001b[49m\u001b[43m=\u001b[49m\u001b[43moutput_keys\u001b[49m\u001b[43m,\u001b[49m\n\u001b[32m   2828\u001b[39m \u001b[43m    \u001b[49m\u001b[43minterrupt_before\u001b[49m\u001b[43m=\u001b[49m\u001b[43minterrupt_before\u001b[49m\u001b[43m,\u001b[49m\n\u001b[32m   2829\u001b[39m \u001b[43m    \u001b[49m\u001b[43minterrupt_after\u001b[49m\u001b[43m=\u001b[49m\u001b[43minterrupt_after\u001b[49m\u001b[43m,\u001b[49m\n\u001b[32m   2830\u001b[39m \u001b[43m    \u001b[49m\u001b[43mcheckpoint_during\u001b[49m\u001b[43m=\u001b[49m\u001b[43mcheckpoint_during\u001b[49m\u001b[43m,\u001b[49m\n\u001b[32m   2831\u001b[39m \u001b[43m    \u001b[49m\u001b[43mdebug\u001b[49m\u001b[43m=\u001b[49m\u001b[43mdebug\u001b[49m\u001b[43m,\u001b[49m\n\u001b[32m   2832\u001b[39m \u001b[43m    \u001b[49m\u001b[43m*\u001b[49m\u001b[43m*\u001b[49m\u001b[43mkwargs\u001b[49m\u001b[43m,\u001b[49m\n\u001b[32m   2833\u001b[39m \u001b[43m\u001b[49m\u001b[43m)\u001b[49m\u001b[43m:\u001b[49m\n\u001b[32m   2834\u001b[39m \u001b[43m    \u001b[49m\u001b[38;5;28;43;01mif\u001b[39;49;00m\u001b[43m \u001b[49m\u001b[43mstream_mode\u001b[49m\u001b[43m \u001b[49m\u001b[43m==\u001b[49m\u001b[43m \u001b[49m\u001b[33;43m\"\u001b[39;49m\u001b[33;43mvalues\u001b[39;49m\u001b[33;43m\"\u001b[39;49m\u001b[43m:\u001b[49m\n\u001b[32m   2835\u001b[39m \u001b[43m        \u001b[49m\u001b[38;5;28;43;01mif\u001b[39;49;00m\u001b[43m \u001b[49m\u001b[43m(\u001b[49m\n\u001b[32m   2836\u001b[39m \u001b[43m            \u001b[49m\u001b[38;5;28;43misinstance\u001b[39;49m\u001b[43m(\u001b[49m\u001b[43mchunk\u001b[49m\u001b[43m,\u001b[49m\u001b[43m \u001b[49m\u001b[38;5;28;43mdict\u001b[39;49m\u001b[43m)\u001b[49m\n\u001b[32m   2837\u001b[39m \u001b[43m            \u001b[49m\u001b[38;5;129;43;01mand\u001b[39;49;00m\u001b[43m \u001b[49m\u001b[43m(\u001b[49m\u001b[43mints\u001b[49m\u001b[43m \u001b[49m\u001b[43m:=\u001b[49m\u001b[43m \u001b[49m\u001b[43mchunk\u001b[49m\u001b[43m.\u001b[49m\u001b[43mget\u001b[49m\u001b[43m(\u001b[49m\u001b[43mINTERRUPT\u001b[49m\u001b[43m)\u001b[49m\u001b[43m)\u001b[49m\u001b[43m \u001b[49m\u001b[38;5;129;43;01mis\u001b[39;49;00m\u001b[43m \u001b[49m\u001b[38;5;129;43;01mnot\u001b[39;49;00m\u001b[43m \u001b[49m\u001b[38;5;28;43;01mNone\u001b[39;49;00m\n\u001b[32m   2838\u001b[39m \u001b[43m        \u001b[49m\u001b[43m)\u001b[49m\u001b[43m:\u001b[49m\n",
      "\u001b[36mFile \u001b[39m\u001b[32m~/miniconda3/envs/bedrock-manus/lib/python3.12/site-packages/langgraph/pregel/__init__.py:2461\u001b[39m, in \u001b[36mPregel.stream\u001b[39m\u001b[34m(self, input, config, stream_mode, output_keys, interrupt_before, interrupt_after, checkpoint_during, debug, subgraphs)\u001b[39m\n\u001b[32m   2455\u001b[39m     \u001b[38;5;66;03m# Similarly to Bulk Synchronous Parallel / Pregel model\u001b[39;00m\n\u001b[32m   2456\u001b[39m     \u001b[38;5;66;03m# computation proceeds in steps, while there are channel updates.\u001b[39;00m\n\u001b[32m   2457\u001b[39m     \u001b[38;5;66;03m# Channel updates from step N are only visible in step N+1\u001b[39;00m\n\u001b[32m   2458\u001b[39m     \u001b[38;5;66;03m# channels are guaranteed to be immutable for the duration of the step,\u001b[39;00m\n\u001b[32m   2459\u001b[39m     \u001b[38;5;66;03m# with channel updates applied only at the transition between steps.\u001b[39;00m\n\u001b[32m   2460\u001b[39m     \u001b[38;5;28;01mwhile\u001b[39;00m loop.tick(input_keys=\u001b[38;5;28mself\u001b[39m.input_channels):\n\u001b[32m-> \u001b[39m\u001b[32m2461\u001b[39m \u001b[43m        \u001b[49m\u001b[38;5;28;43;01mfor\u001b[39;49;00m\u001b[43m \u001b[49m\u001b[43m_\u001b[49m\u001b[43m \u001b[49m\u001b[38;5;129;43;01min\u001b[39;49;00m\u001b[43m \u001b[49m\u001b[43mrunner\u001b[49m\u001b[43m.\u001b[49m\u001b[43mtick\u001b[49m\u001b[43m(\u001b[49m\n\u001b[32m   2462\u001b[39m \u001b[43m            \u001b[49m\u001b[43mloop\u001b[49m\u001b[43m.\u001b[49m\u001b[43mtasks\u001b[49m\u001b[43m.\u001b[49m\u001b[43mvalues\u001b[49m\u001b[43m(\u001b[49m\u001b[43m)\u001b[49m\u001b[43m,\u001b[49m\n\u001b[32m   2463\u001b[39m \u001b[43m            \u001b[49m\u001b[43mtimeout\u001b[49m\u001b[43m=\u001b[49m\u001b[38;5;28;43mself\u001b[39;49m\u001b[43m.\u001b[49m\u001b[43mstep_timeout\u001b[49m\u001b[43m,\u001b[49m\n\u001b[32m   2464\u001b[39m \u001b[43m            \u001b[49m\u001b[43mretry_policy\u001b[49m\u001b[43m=\u001b[49m\u001b[38;5;28;43mself\u001b[39;49m\u001b[43m.\u001b[49m\u001b[43mretry_policy\u001b[49m\u001b[43m,\u001b[49m\n\u001b[32m   2465\u001b[39m \u001b[43m            \u001b[49m\u001b[43mget_waiter\u001b[49m\u001b[43m=\u001b[49m\u001b[43mget_waiter\u001b[49m\u001b[43m,\u001b[49m\n\u001b[32m   2466\u001b[39m \u001b[43m        \u001b[49m\u001b[43m)\u001b[49m\u001b[43m:\u001b[49m\n\u001b[32m   2467\u001b[39m \u001b[43m            \u001b[49m\u001b[38;5;66;43;03m# emit output\u001b[39;49;00m\n\u001b[32m   2468\u001b[39m \u001b[43m            \u001b[49m\u001b[38;5;28;43;01myield from\u001b[39;49;00m\u001b[43m \u001b[49m\u001b[43moutput\u001b[49m\u001b[43m(\u001b[49m\u001b[43m)\u001b[49m\n\u001b[32m   2469\u001b[39m \u001b[38;5;66;03m# emit output\u001b[39;00m\n",
      "\u001b[36mFile \u001b[39m\u001b[32m<string>:23\u001b[39m, in \u001b[36mcoordinator_node\u001b[39m\u001b[34m(state)\u001b[39m\n",
      "\u001b[31mKeyError\u001b[39m: 'text'",
      "During task with name 'coordinator' and id '33f637d9-8096-131f-5b41-862b32576a71'"
     ]
    }
   ],
   "source": [
    "import os\n",
    "import shutil\n",
    "\n",
    "def remove_artifact_folder(folder_path=\"./artifacts/\"):\n",
    "    \"\"\"\n",
    "    ./artifact/ 폴더가 존재하면 삭제하는 함수\n",
    "    \n",
    "    Args:\n",
    "        folder_path (str): 삭제할 폴더 경로\n",
    "    \"\"\"\n",
    "    if os.path.exists(folder_path):\n",
    "        print(f\"'{folder_path}' 폴더를 삭제합니다...\")\n",
    "        try:\n",
    "            # 폴더와 그 내용을 모두 삭제\n",
    "            shutil.rmtree(folder_path)\n",
    "            print(f\"'{folder_path}' 폴더가 성공적으로 삭제되었습니다.\")\n",
    "        except Exception as e:\n",
    "            print(f\"오류 발생: {e}\")\n",
    "    else:\n",
    "        print(f\"'{folder_path}' 폴더가 존재하지 않습니다.\")\n",
    "\n",
    "\n",
    "#import nest_asyncio\n",
    "#nest_asyncio.apply()\n",
    "\n",
    "remove_artifact_folder()\n",
    "\n",
    "result = run_agent_workflow(\n",
    "    user_input=user_query,\n",
    "    debug=False\n",
    ")\n",
    "\n",
    "# Print the conversation history\n",
    "print(\"\\n=== Conversation History ===\")\n",
    "print (\"result\", result)\n",
    "for history in result[\"history\"]:\n",
    "\n",
    "    print (\"===\")\n",
    "    print (f'agent: {history[\"agent\"]}')\n",
    "    print (f'message: {history[\"message\"]}')"
   ]
  },
  {
   "cell_type": "code",
   "execution_count": null,
   "id": "4e4a3c61",
   "metadata": {
    "editable": true,
    "slideshow": {
     "slide_type": ""
    },
    "tags": []
   },
   "outputs": [],
   "source": [
    "\n"
   ]
  }
 ],
 "metadata": {
  "kernelspec": {
   "display_name": "bedrock-manus",
   "language": "python",
   "name": "python3"
  },
  "language_info": {
   "codemirror_mode": {
    "name": "ipython",
    "version": 3
   },
   "file_extension": ".py",
   "mimetype": "text/x-python",
   "name": "python",
   "nbconvert_exporter": "python",
   "pygments_lexer": "ipython3",
   "version": "3.12.9"
  }
 },
 "nbformat": 4,
 "nbformat_minor": 5
}
