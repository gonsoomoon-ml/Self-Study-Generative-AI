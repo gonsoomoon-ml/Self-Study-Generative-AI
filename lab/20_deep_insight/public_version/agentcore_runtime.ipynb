{
 "cells": [
  {
   "cell_type": "markdown",
   "id": "5c0122e65c053f38",
   "metadata": {},
   "source": [
    "# Amazon Bedrock AgentCore Runtime에서 Bedrock Manus 호스팅하기 가이드\n",
    "\n",
    "이 튜토리얼에서는 Amazon Bedrock AgentCore Runtime을 사용하여 기존 Strands SDK 기반으로 로컬에서 돌아가던 Bedrock Manus 에이전트를 Bedrock AgentCore 환경에 호스팅하는 방법을 배웁니다.\n",
    "\n",
    "\n",
    "### Overview\n",
    "\n",
    "시연 목적으로 **1) Strands 에이전트를 로컬에서 호스팅하는 예제**를 먼저 살펴보고, **2) 같은 에이전트를 AgentCore Runtime에 올리는 예제**를 이어서 보며 두 방식을 비교해보도록 하겠습니다.\n",
    "\n",
    "\n",
    "| 정보                | 세부사항                                                                      |\n",
    "|:--------------------|:-----------------------------------------------------------------------------|\n",
    "| 에이전트 유형        | 멀티 에이전트 (Planner, Supervisor, Coder, Reporter)                                                                         |\n",
    "| 에이전틱 프레임워크   | Strands                                                          |\n",
    "| LLM 모델            | Anthropic Claude Sonnet 3.7                                                    |\n",
    "| 튜토리얼 구성요소    | AgentCore Runtime에서 에이전트 호스팅. Strands SDK 및 Amazon Bedrock 모델 사용 |\n",
    "| 튜토리얼 분야        | 범용                                                                         |\n",
    "| 예제 복잡도         | 쉬움                                                                         |\n",
    "| 사용된 SDK          | Amazon BedrockAgentCore Python SDK 및 boto3                                 |\n",
    "\n",
    "\n",
    "### 목차\n",
    "\n",
    "#### 1) 로컬에서 에이전트 실행/호출하기\n",
    "AgentCore Runtime 배포 전 로컬 환경에서의 개발 및 테스트 과정\n",
    "\n",
    "- **Step 1.** 에이전트 코드 작성\n",
    "- **Step 2.** 로컬 실행 후 테스트\n",
    "\n",
    "#### 2) AgentCore Runtime에 에이전트 배포 후 호출하기\n",
    "Amazon Bedrock AgentCore starter toolkit을 활용한 프로덕션 배포 과정\n",
    "\n",
    "- **Step 1.** AgentCore Runtime용 에이전트 코드 작성\n",
    "- **Step 2.** 배포 전 설정: agentcore_runtime.configure()\n",
    "- **Step 3.** 배포: agentcore_runtime.launch()\n",
    "- **Step 4.** 호출: agentcore_runtime.invoke()\n"
   ]
  },
  {
   "cell_type": "markdown",
   "id": "3a676f58ecf52b42",
   "metadata": {},
   "source": [
    "## 사전 준비사항\n",
    "* Python 3.11+\n",
    "* AWS credentials\n",
    "* Amazon Bedrock AgentCore SDK\n",
    "* Docker running"
   ]
  },
  {
   "cell_type": "code",
   "execution_count": 8,
   "id": "df2e9bf4",
   "metadata": {},
   "outputs": [
    {
     "name": "stdout",
     "output_type": "stream",
     "text": [
      "The autoreload extension is already loaded. To reload it, use:\n",
      "  %reload_ext autoreload\n"
     ]
    }
   ],
   "source": [
    "%load_ext autoreload\n",
    "%autoreload 2"
   ]
  },
  {
   "cell_type": "code",
   "execution_count": 9,
   "id": "b8a5e570",
   "metadata": {},
   "outputs": [],
   "source": [
    "import sys, os\n",
    "module_path = \"../../../..\"\n",
    "sys.path.append(os.path.abspath(module_path))"
   ]
  },
  {
   "cell_type": "markdown",
   "id": "ca924a7a2731e26f",
   "metadata": {},
   "source": [
    "# 1) Local에서 에이전트 실행/호출하기 \n",
    "\n",
    "AgentCore Runtime에 에이전트를 배포하기 전에, 시연 목적으로 Bedrock Manus를 로컬에서 개발하고 실행하는 과정을 보겠습니다.\n",
    "\n",
    "- Step 1. 에이전트 코드 작성\n",
    "- Step 2. 로컬 실행 후 테스트 \n",
    "\n",
    "### Step 1. 에이전트 코드 작성\n",
    "먼저 Strands SDK로 작성된 Bedrock Manus 에이전트의 핵심 메인 코드를 살펴보겠습니다.\n"
   ]
  },
  {
   "cell_type": "markdown",
   "id": "b41ce8bc-7177-42e6-8faa-aca57eb7256f",
   "metadata": {},
   "source": [
    "### Step 2. 로컬 실행 및 테스트"
   ]
  },
  {
   "cell_type": "code",
   "execution_count": 10,
   "id": "3401b0b3-4545-47b3-a6fa-09a61e8de677",
   "metadata": {},
   "outputs": [],
   "source": [
    "# # 실행 예시:\n",
    "# !python local_agent.py '{\"prompt\": \"moon market 판매 현황 보고서를 작성해주세요.\"}'"
   ]
  },
  {
   "cell_type": "markdown",
   "id": "932110e6-fca6-47b6-b7c5-c4714a866a80",
   "metadata": {},
   "source": [
    "\n",
    "- - - \n",
    "# 2) AgentCore Runtime에 에이전트 배포 후 호출하기 \n",
    "\n",
    "이제 위 Bedrock Manus를 AgentCore Runtime에 배포해보겠습니다.    \n",
    "\n",
    "[Amazon Bedrock AgentCore starter toolkit](https://docs.aws.amazon.com/bedrock-agentcore/latest/devguide/getting-started-starter-toolkit.html)을 이용해 에이전트를 AgentCore 런타임에 쉽게 배포할 수 있습니다. 아래 4개의 Step을 따라가시면, Bedrock Manus를 AgentCore Runtime에서 테스트해볼 수 있습니다. \n",
    "\n",
    "- Step 1. AgentCore Runtime용 에이전트 코드 작성\n",
    "- Step 2. 배포 전 설정: `agentcore_runtime.configure()`\n",
    "- Step 3. 배포: `agentcore_runtime.launch`\n",
    "- Step 4. 호출: `agentcore_runtime.invoke()`"
   ]
  },
  {
   "cell_type": "markdown",
   "id": "c2cf2dd6-480c-4bb5-8805-e8e3ba348e68",
   "metadata": {},
   "source": [
    "\n",
    "### Step 1. AgentCore Runtime용 에이전트 코드 작성\n",
    "기존 코드를 AgentCore Runtime 용 에이전트로 변경하는 것은 어렵지 않습니다. 위의 코드에서 아래 4가지만 추가해주면 됩니다:\n",
    "\n",
    "- `from bedrock_agentcore.runtime import BedrockAgentCoreApp`로 Runtime App 가져오기\n",
    "- 코드에서 `app = BedrockAgentCoreApp()`로 App 초기화\n",
    "- 호출할 메인 함수를 `@app.entrypoint` 데코레이터로 장식\n",
    "- `app.run()`으로 AgentCoreRuntime이 에이전트 실행을 제어하도록 하기\n"
   ]
  },
  {
   "cell_type": "markdown",
   "id": "c64db7b5-0f1b-475f-9bf2-467b4449d46a",
   "metadata": {},
   "source": [
    "**AgentCore Runtime에 배포할 에이전트가 준비되었습니다!** (agentcore_runtime.py) \n",
    "\n",
    "이제 이 에이전트를 클라우드 환경에 배포해볼까요?\n"
   ]
  },
  {
   "cell_type": "markdown",
   "id": "ef885f7a-7a4c-4a54-88e8-e546533a087e",
   "metadata": {},
   "source": [
    "\n",
    "### Step 2. IAM Role 설정 및 배포 구성: `agentcore_runtime.configure()`  \n",
    "\n",
    "먼저 AgentCore Runtime이 사용할 IAM Role을 만들고,    \n",
    "다음으로 starter toolkit을 사용하여 진입점 (entrypoint)과 생성한 IAM Role, 그리고 패키지 설치를 위한 requirements 파일을 연결하여 AgentCore Runtime 배포를 구성하겠습니다. "
   ]
  },
  {
   "cell_type": "code",
   "execution_count": 11,
   "id": "54dd2fdf-985c-4a70-8b87-071783a209de",
   "metadata": {},
   "outputs": [
    {
     "name": "stdout",
     "output_type": "stream",
     "text": [
      "sys.path[0]: /home/ubuntu/aws-ai-ml-workshop-kr/genai/aws-gen-ai-kr/20_applications\n"
     ]
    }
   ],
   "source": [
    "# IAM Role 생성\n",
    "\n",
    "import sys\n",
    "import os\n",
    "\n",
    "current_dir = os.path.dirname(os.path.abspath('__file__' if '__file__' in globals() else '.'))\n",
    "utils_dir = os.path.join(current_dir, '..')\n",
    "utils_dir = os.path.join(utils_dir, '..')\n",
    "utils_dir = os.path.abspath(utils_dir)\n",
    "\n",
    "sys.path.insert(0, utils_dir)\n",
    "print(\"sys.path[0]:\", sys.path[0])\n",
    "\n",
    "from src.utils.agentcore import create_agentcore_role\n",
    "\n",
    "agent_name=\"bedrock_manus_runtime\"\n",
    "# agentcore_iam_role = create_agentcore_role(agent_name=agent_name)\n",
    "# print(agentcore_iam_role)\n",
    "# agentcore_iam_role = \"arn:aws:iam::057716757052:role/agentcore-bedrock_manus_runtime-role\""
   ]
  },
  {
   "cell_type": "code",
   "execution_count": 12,
   "id": "a9fff327",
   "metadata": {},
   "outputs": [],
   "source": [
    "# 올바른 방법 1: 딕셔너리로 직접 할당\n",
    "agentcore_iam_role = {\n",
    "    'Role': {\n",
    "        'Path': '/',\n",
    "        'RoleName': 'agentcore-bedrock_manus_runtime-role',\n",
    "        'RoleId': 'AROAQ24BP2I6GBFPY65CS',\n",
    "        'Arn': 'arn:aws:iam::057716757052:role/agentcore-bedrock_manus_runtime-role',\n",
    "        'CreateDate': '2025-09-28T01:33:47Z',  # datetime 객체 대신 문자열 사용\n",
    "        'AssumeRolePolicyDocument': {\n",
    "            'Version': '2012-10-17',\n",
    "            'Statement': [{\n",
    "                'Sid': 'AssumeRolePolicy',\n",
    "                'Effect': 'Allow',\n",
    "                'Principal': {'Service': 'bedrock-agentcore.amazonaws.com'},\n",
    "                'Action': 'sts:AssumeRole',\n",
    "                'Condition': {\n",
    "                    'StringEquals': {'aws:SourceAccount': '057716757052'},\n",
    "                    'ArnLike': {'aws:SourceArn': 'arn:aws:bedrock-agentcore:us-east-1:057716757052:*'}\n",
    "                }\n",
    "            }]\n",
    "        }\n",
    "    },\n",
    "    'ResponseMetadata': {\n",
    "        'RequestId': 'fb9f7061-c02f-4b2c-aa63-768fc0d0c9d5',\n",
    "        'HTTPStatusCode': 200,\n",
    "        'HTTPHeaders': {\n",
    "            'date': 'Sun, 28 Sep 2025 01:33:47 GMT',\n",
    "            'x-amzn-requestid': 'fb9f7061-c02f-4b2c-aa63-768fc0d0c9d5',\n",
    "            'content-type': 'text/xml',\n",
    "            'content-length': '1118'\n",
    "        },\n",
    "        'RetryAttempts': 0\n",
    "    }\n",
    "}"
   ]
  },
  {
   "cell_type": "code",
   "execution_count": 13,
   "id": "2e79eba2-ca59-463f-9ebf-56e362d7ae66",
   "metadata": {},
   "outputs": [
    {
     "name": "stderr",
     "output_type": "stream",
     "text": [
      "Entrypoint parsed: file=/home/ubuntu/aws-ai-ml-workshop-kr/genai/aws-gen-ai-kr/20_applications/08_bedrock_manus/use_cases/05_insight_extractor_strands_sdk_workshop_phase_2/agentcore_runtime.py, bedrock_agentcore_name=agentcore_runtime\n",
      "Configuring BedrockAgentCore agent: bedrock_manus_runtime\n"
     ]
    },
    {
     "name": "stdout",
     "output_type": "stream",
     "text": [
      "region us-east-1\n"
     ]
    },
    {
     "data": {
      "text/html": [
       "<pre style=\"white-space:pre;overflow-x:auto;line-height:normal;font-family:Menlo,'DejaVu Sans Mono',consolas,'Courier New',monospace\">\n",
       "<span style=\"color: #808000; text-decoration-color: #808000; font-weight: bold; text-decoration: underline\">⚠️  [WARNING] Platform mismatch: Current system is </span><span style=\"color: #008000; text-decoration-color: #008000; text-decoration: underline\">'linux/amd64'</span><span style=\"color: #808000; text-decoration-color: #808000; font-weight: bold; text-decoration: underline\"> but Bedrock AgentCore requires </span><span style=\"color: #008000; text-decoration-color: #008000; text-decoration: underline\">'linux/arm64'</span><span style=\"color: #808000; text-decoration-color: #808000; font-weight: bold; text-decoration: underline\">.</span>\n",
       "<span style=\"color: #808000; text-decoration-color: #808000; font-weight: bold; text-decoration: underline\">For deployment options and workarounds, see: </span>\n",
       "<span style=\"color: #0000ff; text-decoration-color: #0000ff; text-decoration: underline\">https://docs.aws.amazon.com/bedrock-agentcore/latest/devguide/getting-started-custom.html</span>\n",
       "\n",
       "</pre>\n"
      ],
      "text/plain": [
       "\n",
       "\u001b[1;4;33m⚠️  \u001b[0m\u001b[1;4;33m[\u001b[0m\u001b[1;4;33mWARNING\u001b[0m\u001b[1;4;33m]\u001b[0m\u001b[1;4;33m Platform mismatch: Current system is \u001b[0m\u001b[4;32m'linux/amd64'\u001b[0m\u001b[1;4;33m but Bedrock AgentCore requires \u001b[0m\u001b[4;32m'linux/arm64'\u001b[0m\u001b[1;4;33m.\u001b[0m\n",
       "\u001b[1;4;33mFor deployment options and workarounds, see: \u001b[0m\n",
       "\u001b[4;94mhttps://docs.aws.amazon.com/bedrock-agentcore/latest/devguide/getting-started-custom.html\u001b[0m\n",
       "\n"
      ]
     },
     "metadata": {},
     "output_type": "display_data"
    },
    {
     "name": "stderr",
     "output_type": "stream",
     "text": [
      "Generated Dockerfile: /home/ubuntu/aws-ai-ml-workshop-kr/genai/aws-gen-ai-kr/20_applications/08_bedrock_manus/use_cases/05_insight_extractor_strands_sdk_workshop_phase_2/Dockerfile\n",
      "Generated .dockerignore: /home/ubuntu/aws-ai-ml-workshop-kr/genai/aws-gen-ai-kr/20_applications/08_bedrock_manus/use_cases/05_insight_extractor_strands_sdk_workshop_phase_2/.dockerignore\n",
      "Keeping 'bedrock_manus_runtime' as default agent\n",
      "Bedrock AgentCore configured: /home/ubuntu/aws-ai-ml-workshop-kr/genai/aws-gen-ai-kr/20_applications/08_bedrock_manus/use_cases/05_insight_extractor_strands_sdk_workshop_phase_2/.bedrock_agentcore.yaml\n"
     ]
    },
    {
     "data": {
      "text/plain": [
       "ConfigureResult(config_path=PosixPath('/home/ubuntu/aws-ai-ml-workshop-kr/genai/aws-gen-ai-kr/20_applications/08_bedrock_manus/use_cases/05_insight_extractor_strands_sdk_workshop_phase_2/.bedrock_agentcore.yaml'), dockerfile_path=PosixPath('/home/ubuntu/aws-ai-ml-workshop-kr/genai/aws-gen-ai-kr/20_applications/08_bedrock_manus/use_cases/05_insight_extractor_strands_sdk_workshop_phase_2/Dockerfile'), dockerignore_path=PosixPath('/home/ubuntu/aws-ai-ml-workshop-kr/genai/aws-gen-ai-kr/20_applications/08_bedrock_manus/use_cases/05_insight_extractor_strands_sdk_workshop_phase_2/.dockerignore'), runtime='Docker', region='us-east-1', account_id='057716757052', execution_role='arn:aws:iam::057716757052:role/agentcore-bedrock_manus_runtime-role', ecr_repository=None, auto_create_ecr=True)"
      ]
     },
     "execution_count": 13,
     "metadata": {},
     "output_type": "execute_result"
    }
   ],
   "source": [
    "from bedrock_agentcore_starter_toolkit import Runtime\n",
    "from boto3.session import Session\n",
    "boto_session = Session()\n",
    "region = boto_session.region_name\n",
    "print(\"region\", region)\n",
    "\n",
    "agentcore_runtime = Runtime()\n",
    "\n",
    "response = agentcore_runtime.configure(\n",
    "    agent_name=agent_name,\n",
    "    # entrypoint=\"runtime.py\",\n",
    "    entrypoint=\"agentcore_runtime.py\",\n",
    "    execution_role=agentcore_iam_role['Role']['Arn'],\n",
    "    auto_create_ecr=True,  # starter toolkit이 시작 시 Amazon ECR 리포지토리를 자동으로 생성하도록 구성\n",
    "    requirements_file=\"requirements.txt\",\n",
    "    region=region\n",
    ")\n",
    "response"
   ]
  },
  {
   "cell_type": "markdown",
   "id": "5a5fd644",
   "metadata": {},
   "source": [
    "#### 더 알아보기\n",
    "**Signature:**\n",
    "```python\n",
    "agentcore_runtime.configure(\n",
    "    entrypoint: str,\n",
    "    execution_role: Optional[str] = None,\n",
    "    agent_name: Optional[str] = None,\n",
    "    requirements: Optional[List[str]] = None,\n",
    "    requirements_file: Optional[str] = None,\n",
    "    ecr_repository: Optional[str] = None,\n",
    "    container_runtime: Optional[str] = None,\n",
    "    auto_create_ecr: bool = True,\n",
    "    auto_create_execution_role: bool = False,\n",
    "    authorizer_configuration: Optional[Dict[str, Any]] = None,\n",
    "    region: Optional[str] = None,\n",
    "    protocol: Optional[Literal['HTTP', 'MCP']] = None,\n",
    ") -> bedrock_agentcore_starter_toolkit.operations.runtime.models.ConfigureResult\n",
    "```\n",
    "\n",
    "**Docstring:**  \n",
    "Configure Bedrock AgentCore from notebook using an entrypoint file.\n",
    "\n",
    "**Args:**\n",
    "- **entrypoint**: Path to Python file with optional Bedrock AgentCore name (e.g., \"handler.py\" or \"handler.py:bedrock_agentcore\")\n",
    "- **execution_role**: AWS IAM execution role ARN or name (optional if auto_create_execution_role=True)\n",
    "- **agent_name**: name of the agent\n",
    "- **requirements**: Optional list of requirements to generate requirements.txt\n",
    "- **requirements_file**: Optional path to existing requirements file\n",
    "- **ecr_repository**: Optional ECR repository URI\n",
    "- **container_runtime**: Optional container runtime (docker/podman)\n",
    "- **auto_create_ecr**: Whether to auto-create ECR repository\n",
    "- **auto_create_execution_role**: Whether to auto-create execution role (makes execution_role optional)\n",
    "- **authorizer_configuration**: JWT authorizer configuration dictionary\n",
    "- **region**: AWS region for deployment\n",
    "- **protocol**: agent server protocol, must be either HTTP or MCP"
   ]
  },
  {
   "cell_type": "markdown",
   "id": "9e1b84cc-798e-472c-ac0b-2c315f4b704d",
   "metadata": {},
   "source": [
    "### Step 3. 배포: `agentcore_runtime.launch()`\n",
    "위 configure 명령어를 통해, **에이전트 배포를 위한 Dockerfile이 준비**되었습니다. \n",
    "\n",
    "이제 `launch()` 명령어를 이용해서 위 Dockerfile을 기반으로 에이전트의 컨테이너 이미지를 생성해 Amazon ECR 레포지토리에 올린 뒤, AgentCore Runtime에 배포해보겠습니다.\n"
   ]
  },
  {
   "cell_type": "code",
   "execution_count": 16,
   "id": "17a32ab8-7701-4900-8055-e24364bdf35c",
   "metadata": {},
   "outputs": [
    {
     "name": "stderr",
     "output_type": "stream",
     "text": [
      "🚀 CodeBuild mode: building in cloud (RECOMMENDED - DEFAULT)\n",
      "   • Build ARM64 containers in the cloud with CodeBuild\n",
      "   • No local Docker required\n",
      "💡 Available deployment modes:\n",
      "   • runtime.launch()                           → CodeBuild (current)\n",
      "   • runtime.launch(local=True)                 → Local development\n",
      "   • runtime.launch(local_build=True)           → Local build + cloud deploy (NEW)\n",
      "Starting CodeBuild ARM64 deployment for agent 'bedrock_manus_runtime' to account 057716757052 (us-east-1)\n",
      "Setting up AWS resources (ECR repository, execution roles)...\n",
      "Using ECR repository from config: 057716757052.dkr.ecr.us-east-1.amazonaws.com/bedrock-agentcore-bedrock_manus_runtime\n",
      "Using execution role from config: arn:aws:iam::057716757052:role/agentcore-bedrock_manus_runtime-role\n",
      "Preparing CodeBuild project and uploading source...\n",
      "Using CodeBuild role from config: arn:aws:iam::057716757052:role/AmazonBedrockAgentCoreSDKCodeBuild-us-east-1-b015ee5cd0\n",
      "Using .dockerignore with 43 patterns\n",
      "Uploaded source to S3: bedrock_manus_runtime/source.zip\n",
      "Using CodeBuild project from config: bedrock-agentcore-bedrock_manus_runtime-builder\n",
      "Starting CodeBuild build (this may take several minutes)...\n",
      "Starting CodeBuild monitoring...\n",
      "🔄 QUEUED started (total: 0s)\n",
      "✅ QUEUED completed in 1.0s\n",
      "🔄 PROVISIONING started (total: 1s)\n",
      "✅ PROVISIONING completed in 8.2s\n",
      "🔄 DOWNLOAD_SOURCE started (total: 9s)\n",
      "✅ DOWNLOAD_SOURCE completed in 2.1s\n",
      "🔄 BUILD started (total: 11s)\n",
      "✅ BUILD completed in 35.1s\n",
      "🔄 POST_BUILD started (total: 46s)\n",
      "✅ POST_BUILD completed in 46.3s\n",
      "🔄 COMPLETED started (total: 93s)\n",
      "✅ COMPLETED completed in 1.0s\n",
      "🎉 CodeBuild completed successfully in 1m 33s\n",
      "CodeBuild completed successfully\n",
      "✅ CodeBuild project configuration saved\n",
      "Deploying to Bedrock AgentCore...\n",
      "✅ Agent created/updated: arn:aws:bedrock-agentcore:us-east-1:057716757052:runtime/bedrock_manus_runtime-gD4hEq3Sru\n",
      "Polling for endpoint to be ready...\n",
      "Agent endpoint: arn:aws:bedrock-agentcore:us-east-1:057716757052:runtime/bedrock_manus_runtime-gD4hEq3Sru/runtime-endpoint/DEFAULT\n",
      "Deployment completed successfully - Agent: arn:aws:bedrock-agentcore:us-east-1:057716757052:runtime/bedrock_manus_runtime-gD4hEq3Sru\n",
      "Built with CodeBuild: bedrock-agentcore-bedrock_manus_runtime-builder:f5a9d7c9-de29-4233-a73d-02756860a18e\n",
      "Deployed to cloud: arn:aws:bedrock-agentcore:us-east-1:057716757052:runtime/bedrock_manus_runtime-gD4hEq3Sru\n",
      "ECR image: 057716757052.dkr.ecr.us-east-1.amazonaws.com/bedrock-agentcore-bedrock_manus_runtime\n",
      "🔍 Agent logs available at:\n",
      "   /aws/bedrock-agentcore/runtimes/bedrock_manus_runtime-gD4hEq3Sru-DEFAULT\n",
      "   /aws/bedrock-agentcore/runtimes/bedrock_manus_runtime-gD4hEq3Sru-DEFAULT --log-stream-names otel-rt-logs\n",
      "💡 Tail logs with: aws logs tail /aws/bedrock-agentcore/runtimes/bedrock_manus_runtime-gD4hEq3Sru-DEFAULT --follow\n",
      "💡 Or view recent logs: aws logs tail /aws/bedrock-agentcore/runtimes/bedrock_manus_runtime-gD4hEq3Sru-DEFAULT --since 1h\n"
     ]
    }
   ],
   "source": [
    "launch_result = agentcore_runtime.launch(auto_update_on_conflict=True)"
   ]
  },
  {
   "cell_type": "code",
   "execution_count": 17,
   "id": "4491351a",
   "metadata": {},
   "outputs": [
    {
     "name": "stdout",
     "output_type": "stream",
     "text": [
      "Machine: x86_64\n",
      "Processor: x86_64\n",
      "Architecture: ('64bit', 'ELF')\n",
      "Platform: Linux-6.8.0-1039-aws-x86_64-with-glibc2.35\n"
     ]
    }
   ],
   "source": [
    "import platform\n",
    "print(f\"Machine: {platform.machine()}\")\n",
    "print(f\"Processor: {platform.processor()}\")\n",
    "print(f\"Architecture: {platform.architecture()}\")\n",
    "print(f\"Platform: {platform.platform()}\")"
   ]
  },
  {
   "cell_type": "markdown",
   "id": "a0ae9c09-09db-4a76-871a-92eacd96b9c3",
   "metadata": {},
   "source": [
    "#### Step 3-a. 배포 완료 후, 잘 배포되었는지 상태 체크: `agentcore_runtime.status()`"
   ]
  },
  {
   "cell_type": "code",
   "execution_count": 22,
   "id": "afa6ac09-9adb-4846-9fc1-4d12aeb74853",
   "metadata": {},
   "outputs": [
    {
     "name": "stderr",
     "output_type": "stream",
     "text": [
      "Retrieved Bedrock AgentCore status for: bedrock_manus_runtime\n",
      "INFO:bedrock_agentcore_starter_toolkit.notebook.runtime.bedrock_agentcore:Retrieved Bedrock AgentCore status for: bedrock_manus_runtime\n"
     ]
    },
    {
     "data": {
      "text/plain": [
       "'READY'"
      ]
     },
     "execution_count": 22,
     "metadata": {},
     "output_type": "execute_result"
    }
   ],
   "source": [
    "status_response = agentcore_runtime.status()\n",
    "status = status_response.endpoint['status']\n",
    "end_status = ['READY', 'CREATE_FAILED', 'DELETE_FAILED', 'UPDATE_FAILED']\n",
    "while status not in end_status:\n",
    "    time.sleep(10)\n",
    "    status_response = agentcore_runtime.status()\n",
    "    status = status_response.endpoint['status']\n",
    "    print(status)\n",
    "status"
   ]
  },
  {
   "cell_type": "markdown",
   "id": "b7f89c56-918a-4cab-beaa-c7ac43a2ba29",
   "metadata": {},
   "source": [
    "### Step 4. 배포한 에이전트 호출: `invoke_agent_runtime()`"
   ]
  },
  {
   "cell_type": "code",
   "execution_count": 13,
   "id": "78945203",
   "metadata": {},
   "outputs": [
    {
     "name": "stdout",
     "output_type": "stream",
     "text": [
      "\u001b[97mhan\u001b[0m\u001b[97mdoff_to_\u001b[0m\u001b[97mplanner: I\u001b[0m\u001b[97m'll need to cons\u001b[0m\u001b[97mult our planning system\u001b[0m\u001b[97m for this request.\u001b[0m\u001b[96mLet\u001b[0m\u001b[96m me analyze\u001b[0m\u001b[96m the user\u001b[0m\u001b[96m's\u001b[0m\u001b[96m request to\u001b[0m\u001b[96m develop\u001b[0m\u001b[96m a comprehensive\u001b[0m\u001b[96m plan. The\u001b[0m\u001b[96m user\u001b[0m\u001b[96m wants me\u001b[0m\u001b[96m to:\n",
      "\n",
      "1\u001b[0m\u001b[96m. Analyze\u001b[0m\u001b[96m the file\u001b[0m\u001b[96m `\u001b[0m\u001b[96m./\u001b[0m\u001b[96mdata\u001b[0m\u001b[96m/\u001b[0m\u001b[96mDat\u001b[0m\u001b[96m-\u001b[0m\u001b[96mfresh\u001b[0m\u001b[96m-\u001b[0m\u001b[96mfoo\u001b[0m\u001b[96md-\u001b[0m\u001b[96mclaude\u001b[0m\u001b[96m.\u001b[0m\u001b[96mcsv\u001b[0m\u001b[96m`\u001b[0m\u001b[96m\n",
      "2. Calculate\u001b[0m\u001b[96m the total\u001b[0m\u001b[96m sales amount\u001b[0m\u001b[96m (\u001b[0m\u001b[96m총\u001b[0m\u001b[96m \u001b[0m\u001b[96m매출액\u001b[0m\u001b[96m)\u001b[0m\u001b[96m\n",
      "3. Calculate\u001b[0m\u001b[96m sales\u001b[0m\u001b[96m proportion\u001b[0m\u001b[96m by\u001b[0m\u001b[96m category (카\u001b[0m\u001b[96m테고리별\u001b[0m\u001b[96m 매출 \u001b[0m\u001b[96m비중\u001b[0m\u001b[96m)\n",
      "4.\u001b[0m\u001b[96m Generate\u001b[0m\u001b[96m a\u001b[0m\u001b[96m PDF\u001b[0m\u001b[96m report with this\u001b[0m\u001b[96m information\u001b[0m\u001b[96m\n",
      "\n",
      "This\u001b[0m\u001b[96m is a data\u001b[0m\u001b[96m analysis task requiring\u001b[0m\u001b[96m numerical\u001b[0m\u001b[96m calculations (\u001b[0m\u001b[96mtotal\u001b[0m\u001b[96m sales, category\u001b[0m\u001b[96m proport\u001b[0m\u001b[96mions) and report\u001b[0m\u001b[96m generation. Base\u001b[0m\u001b[96md on the mandatory\u001b[0m\u001b[96m workflow rules, we\u001b[0m\u001b[96m nee\u001b[0m\u001b[96md to use\u001b[0m\u001b[96m Coder for\u001b[0m\u001b[96m the data\u001b[0m\u001b[96m analysis\u001b[0m\u001b[96m,\u001b[0m\u001b[96m Validator for ver\u001b[0m\u001b[96mifying the\u001b[0m\u001b[96m calculations, and Reporter\u001b[0m\u001b[96m for generating the PDF\u001b[0m\u001b[96m report.\u001b[0m\u001b[96m\n",
      "\n",
      "Let\u001b[0m\u001b[96m me create\u001b[0m\u001b[96m a detailed plan following\u001b[0m\u001b[96m the require\u001b[0m\u001b[96md agent\u001b[0m\u001b[96m loop\u001b[0m\u001b[96m structure\u001b[0m\u001b[96m:\n",
      "\n",
      "1.\u001b[0m\u001b[96m **Coder\u001b[0m\u001b[96m**: Will\u001b[0m\u001b[96m load the\u001b[0m\u001b[96m CSV\u001b[0m\u001b[96m file\u001b[0m\u001b[96m,\u001b[0m\u001b[96m perform data analysis\u001b[0m\u001b[96m, calculate\u001b[0m\u001b[96m total sales, an\u001b[0m\u001b[96md determine\u001b[0m\u001b[96m category-\u001b[0m\u001b[96mwise sales proportions\u001b[0m\u001b[96m. Will\u001b[0m\u001b[96m also\u001b[0m\u001b[96m create visual\u001b[0m\u001b[96mizations and generate metadata\u001b[0m\u001b[96m for\u001b[0m\u001b[96m validation.\u001b[0m\u001b[96m\n",
      "2. **\u001b[0m\u001b[96mValidator**: Will verify\u001b[0m\u001b[96m all calculations\u001b[0m\u001b[96m performe\u001b[0m\u001b[96md by the\u001b[0m\u001b[96m Coder an\u001b[0m\u001b[96md generate\u001b[0m\u001b[96m citation metadata.\u001b[0m\u001b[96m\n",
      "3. **\u001b[0m\u001b[96mReporter**: Will create\u001b[0m\u001b[96m a comprehensive\u001b[0m\u001b[96m PDF\u001b[0m\u001b[96m report using\u001b[0m\u001b[96m the validate\u001b[0m\u001b[96md data an\u001b[0m\u001b[96md visual\u001b[0m\u001b[96mizations.\n",
      "\n",
      "Since\u001b[0m\u001b[96m there\u001b[0m\u001b[96m's\u001b[0m\u001b[96m no existing plan (\u001b[0m\u001b[96mfull\u001b[0m\u001b[96m_\u001b[0m\u001b[96mplan is\u001b[0m\u001b[96m empty), I\u001b[0m\u001b[96m'll create a new\u001b[0m\u001b[96m one from\u001b[0m\u001b[96m scratch.\u001b[0m\u001b[96m\u001b[0m\u001b[97m# Plan\u001b[0m\u001b[97m\n",
      "\n",
      "## thought\n",
      "The\u001b[0m\u001b[97m user\u001b[0m\u001b[97m needs\u001b[0m\u001b[97m a data\u001b[0m\u001b[97m analysis of\u001b[0m\u001b[97m the CSV\u001b[0m\u001b[97m file \"./\u001b[0m\u001b[97mdata/Dat\u001b[0m\u001b[97m-fresh-foo\u001b[0m\u001b[97md-claude.csv\u001b[0m\u001b[97m\" to calculate total\u001b[0m\u001b[97m sales and category\u001b[0m\u001b[97m-wise sales proport\u001b[0m\u001b[97mions,\u001b[0m\u001b[97m followe\u001b[0m\u001b[97md by a PDF report\u001b[0m\u001b[97m generation. This\u001b[0m\u001b[97m requires data processing\u001b[0m\u001b[97m, numerical calculations,\u001b[0m\u001b[97m validation\u001b[0m\u001b[97m, and report\u001b[0m\u001b[97m creation\u001b[0m\u001b[97m.\n",
      "\n",
      "## title\u001b[0m\u001b[97m:\u001b[0m\u001b[97m\n",
      "매\u001b[0m\u001b[97m출 데\u001b[0m\u001b[97m이터 분\u001b[0m\u001b[97m석 및 \u001b[0m\u001b[97mPDF\u001b[0m\u001b[97m 보고서\u001b[0m\u001b[97m 생성\u001b[0m\u001b[97m\n",
      "\n",
      "## steps:\u001b[0m\u001b[97m\n",
      "###\u001b[0m\u001b[97m 1.\u001b[0m\u001b[97m Coder: CSV\u001b[0m\u001b[97m 데\u001b[0m\u001b[97m이터 분\u001b[0m\u001b[97m석 및 \u001b[0m\u001b[97m매\u001b[0m\u001b[97m출액\u001b[0m\u001b[97m 계산\u001b[0m\u001b[97m\n",
      "- [\u001b[0m\u001b[97m ] \"./\u001b[0m\u001b[97mdata/Dat\u001b[0m\u001b[97m-fresh-foo\u001b[0m\u001b[97md-claude.csv\u001b[0m\u001b[97m\" 파일\u001b[0m\u001b[97m 로\u001b[0m\u001b[97m드 \u001b[0m\u001b[97m및 데이\u001b[0m\u001b[97m터 구\u001b[0m\u001b[97m조\u001b[0m\u001b[97m 확\u001b[0m\u001b[97m인\n",
      "- [\u001b[0m\u001b[97m ] 총 \u001b[0m\u001b[97m매출액 \u001b[0m\u001b[97m계산 (\u001b[0m\u001b[97m모\u001b[0m\u001b[97m든 거\u001b[0m\u001b[97m래의\u001b[0m\u001b[97m 합계)\u001b[0m\u001b[97m\n",
      "- [ ]\u001b[0m\u001b[97m 카테고\u001b[0m\u001b[97m리별 매\u001b[0m\u001b[97m출액\u001b[0m\u001b[97m 계산\u001b[0m\u001b[97m\n",
      "-\u001b[0m\u001b[97m [ ] 카\u001b[0m\u001b[97m테고리별\u001b[0m\u001b[97m 매출 \u001b[0m\u001b[97m비중(\u001b[0m\u001b[97m%) 계산\u001b[0m\u001b[97m\n",
      "- [ ] \u001b[0m\u001b[97m매\u001b[0m\u001b[97m출 데\u001b[0m\u001b[97m이터 시\u001b[0m\u001b[97m각화 (\u001b[0m\u001b[97m파\u001b[0m\u001b[97m이 \u001b[0m\u001b[97m차트 또\u001b[0m\u001b[97m는 막대\u001b[0m\u001b[97m 그\u001b[0m\u001b[97m래프)\u001b[0m\u001b[97m\n",
      "- [ ] \u001b[0m\u001b[97m계\u001b[0m\u001b[97m산 검\u001b[0m\u001b[97m증을\u001b[0m\u001b[97m 위한 \u001b[0m\u001b[97m메\u001b[0m\u001b[97m타데이터\u001b[0m\u001b[97m 생성\u001b[0m\u001b[97m\n",
      "\n",
      "### 2.\u001b[0m\u001b[97m Validator: \u001b[0m\u001b[97m매\u001b[0m\u001b[97m출 계\u001b[0m\u001b[97m산 검증\u001b[0m\u001b[97m \u001b[0m\u001b[97m및 인\u001b[0m\u001b[97m용\u001b[0m\u001b[97m \u001b[0m\u001b[97m메타데이\u001b[0m\u001b[97m터 생성\u001b[0m\u001b[97m\n",
      "- [ ]\u001b[0m\u001b[97m Coder가\u001b[0m\u001b[97m 계산한\u001b[0m\u001b[97m 총\u001b[0m\u001b[97m 매출액\u001b[0m\u001b[97m \u001b[0m\u001b[97m검\u001b[0m\u001b[97m증\n",
      "- [\u001b[0m\u001b[97m ] \u001b[0m\u001b[97m카\u001b[0m\u001b[97m테고리별\u001b[0m\u001b[97m 매출액\u001b[0m\u001b[97m 및\u001b[0m\u001b[97m 비중 \u001b[0m\u001b[97m계\u001b[0m\u001b[97m산 검증\u001b[0m\u001b[97m\n",
      "- [ ]\u001b[0m\u001b[97m \u001b[0m\u001b[97m주\u001b[0m\u001b[97m요\u001b[0m\u001b[97m 수\u001b[0m\u001b[97m치\u001b[0m\u001b[97m에\u001b[0m\u001b[97m 대한 \u001b[0m\u001b[97m인용 메\u001b[0m\u001b[97m타데이터\u001b[0m\u001b[97m 생성\u001b[0m\u001b[97m\n",
      "- [ ] \u001b[0m\u001b[97m보\u001b[0m\u001b[97m고서를\u001b[0m\u001b[97m 위한 \u001b[0m\u001b[97m참\u001b[0m\u001b[97m조\u001b[0m\u001b[97m 정\u001b[0m\u001b[97m보 생성\u001b[0m\u001b[97m\n",
      "\n",
      "### 3\u001b[0m\u001b[97m. Reporter: \u001b[0m\u001b[97m검\u001b[0m\u001b[97m증된 데\u001b[0m\u001b[97m이터로\u001b[0m\u001b[97m PDF 보\u001b[0m\u001b[97m고서 작\u001b[0m\u001b[97m성\n",
      "- [\u001b[0m\u001b[97m ] \u001b[0m\u001b[97m분석 결\u001b[0m\u001b[97m과 \u001b[0m\u001b[97m요\u001b[0m\u001b[97m약 및 \u001b[0m\u001b[97m주\u001b[0m\u001b[97m요 발\u001b[0m\u001b[97m견 사\u001b[0m\u001b[97m항 기술\u001b[0m\u001b[97m\n",
      "- [ ]\u001b[0m\u001b[97m 검\u001b[0m\u001b[97m증된 수\u001b[0m\u001b[97m치 정보\u001b[0m\u001b[97m와\u001b[0m\u001b[97m 함\u001b[0m\u001b[97m께 총\u001b[0m\u001b[97m 매출 \u001b[0m\u001b[97m정\u001b[0m\u001b[97m보 포\u001b[0m\u001b[97m함\n",
      "- [\u001b[0m\u001b[97m ] 카\u001b[0m\u001b[97m테고리별\u001b[0m\u001b[97m 매출 \u001b[0m\u001b[97m및\u001b[0m\u001b[97m 비중 \u001b[0m\u001b[97m정보 포\u001b[0m\u001b[97m함\n",
      "- [\u001b[0m\u001b[97m ] 시\u001b[0m\u001b[97m각화 자\u001b[0m\u001b[97m료 \u001b[0m\u001b[97m보\u001b[0m\u001b[97m고\u001b[0m\u001b[97m서에\u001b[0m\u001b[97m 통\u001b[0m\u001b[97m합\u001b[0m\u001b[97m\n",
      "- [ ] \u001b[0m\u001b[97m인\u001b[0m\u001b[97m용 및\u001b[0m\u001b[97m 참조가\u001b[0m\u001b[97m 포함된\u001b[0m\u001b[97m 보고서\u001b[0m\u001b[97m PDF\u001b[0m\u001b[97m 생성 \u001b[0m\u001b[97m(\u001b[0m\u001b[97mfinal\u001b[0m\u001b[97m_report_\u001b[0m\u001b[97mwith_citations.\u001b[0m\u001b[97mpdf)\u001b[0m\u001b[97m\n",
      "-\u001b[0m\u001b[97m [ ] 인\u001b[0m\u001b[97m용 제\u001b[0m\u001b[97m거\u001b[0m\u001b[97m한\u001b[0m\u001b[97m 최\u001b[0m\u001b[97m종 보고\u001b[0m\u001b[97m서 PDF \u001b[0m\u001b[97m생성 (\u001b[0m\u001b[97mfinal_report.\u001b[0m\u001b[97mpdf)\u001b[0m\u001b[97mI'll\u001b[0m\u001b[97m help\u001b[0m\u001b[97m you execute\u001b[0m\u001b[97m this\u001b[0m\u001b[97m plan for\u001b[0m\u001b[97m analyzing\u001b[0m\u001b[97m sales\u001b[0m\u001b[97m data and creating\u001b[0m\u001b[97m a PDF report.\u001b[0m\u001b[97m Base\u001b[0m\u001b[97md on the provide\u001b[0m\u001b[97md plan, we\u001b[0m\u001b[97m nee\u001b[0m\u001b[97md to follow\u001b[0m\u001b[97m the\u001b[0m\u001b[97m sequence\u001b[0m\u001b[97m:\u001b[0m\u001b[97m Coder →\u001b[0m\u001b[97m Validator → Reporter\u001b[0m\u001b[97m.\n",
      "\n",
      "Looking\u001b[0m\u001b[97m at the current\u001b[0m\u001b[97m status\u001b[0m\u001b[97m, we\u001b[0m\u001b[97m nee\u001b[0m\u001b[97md to start\u001b[0m\u001b[97m with the C\u001b[0m\u001b[97moder agent\u001b[0m\u001b[97m to analyze\u001b[0m\u001b[97m the CSV\u001b[0m\u001b[97m data and perform\u001b[0m\u001b[97m the necessary calculations.\u001b[0m\u001b[97m\n",
      "\n",
      "Let\u001b[0m\u001b[97m me\u001b[0m\u001b[97m begin\u001b[0m\u001b[97m by calling\u001b[0m\u001b[97m the c\u001b[0m\u001b[97moder agent to\u001b[0m\u001b[97m perform\u001b[0m\u001b[97m the data\u001b[0m\u001b[97m analysis tasks\u001b[0m\u001b[97m:\u001b[0m"
     ]
    },
    {
     "ename": "ReadTimeoutError",
     "evalue": "Read timeout on endpoint URL: \"None\"",
     "output_type": "error",
     "traceback": [
      "\u001b[31m---------------------------------------------------------------------------\u001b[39m",
      "\u001b[31mTimeoutError\u001b[39m                              Traceback (most recent call last)",
      "\u001b[36mFile \u001b[39m\u001b[32m~/aws-ai-ml-workshop-kr/genai/aws-gen-ai-kr/20_applications/08_bedrock_manus/use_cases/05_insight_extractor_strands_sdk_workshop_phase_2/setup/.venv/lib/python3.12/site-packages/urllib3/response.py:779\u001b[39m, in \u001b[36mHTTPResponse._error_catcher\u001b[39m\u001b[34m(self)\u001b[39m\n\u001b[32m    778\u001b[39m \u001b[38;5;28;01mtry\u001b[39;00m:\n\u001b[32m--> \u001b[39m\u001b[32m779\u001b[39m     \u001b[38;5;28;01myield\u001b[39;00m\n\u001b[32m    781\u001b[39m \u001b[38;5;28;01mexcept\u001b[39;00m SocketTimeout \u001b[38;5;28;01mas\u001b[39;00m e:\n\u001b[32m    782\u001b[39m     \u001b[38;5;66;03m# FIXME: Ideally we'd like to include the url in the ReadTimeoutError but\u001b[39;00m\n\u001b[32m    783\u001b[39m     \u001b[38;5;66;03m# there is yet no clean way to get at it from this context.\u001b[39;00m\n",
      "\u001b[36mFile \u001b[39m\u001b[32m~/aws-ai-ml-workshop-kr/genai/aws-gen-ai-kr/20_applications/08_bedrock_manus/use_cases/05_insight_extractor_strands_sdk_workshop_phase_2/setup/.venv/lib/python3.12/site-packages/urllib3/response.py:904\u001b[39m, in \u001b[36mHTTPResponse._raw_read\u001b[39m\u001b[34m(self, amt, read1)\u001b[39m\n\u001b[32m    903\u001b[39m \u001b[38;5;28;01mwith\u001b[39;00m \u001b[38;5;28mself\u001b[39m._error_catcher():\n\u001b[32m--> \u001b[39m\u001b[32m904\u001b[39m     data = \u001b[38;5;28;43mself\u001b[39;49m\u001b[43m.\u001b[49m\u001b[43m_fp_read\u001b[49m\u001b[43m(\u001b[49m\u001b[43mamt\u001b[49m\u001b[43m,\u001b[49m\u001b[43m \u001b[49m\u001b[43mread1\u001b[49m\u001b[43m=\u001b[49m\u001b[43mread1\u001b[49m\u001b[43m)\u001b[49m \u001b[38;5;28;01mif\u001b[39;00m \u001b[38;5;129;01mnot\u001b[39;00m fp_closed \u001b[38;5;28;01melse\u001b[39;00m \u001b[33mb\u001b[39m\u001b[33m\"\u001b[39m\u001b[33m\"\u001b[39m\n\u001b[32m    905\u001b[39m     \u001b[38;5;28;01mif\u001b[39;00m amt \u001b[38;5;129;01mis\u001b[39;00m \u001b[38;5;129;01mnot\u001b[39;00m \u001b[38;5;28;01mNone\u001b[39;00m \u001b[38;5;129;01mand\u001b[39;00m amt != \u001b[32m0\u001b[39m \u001b[38;5;129;01mand\u001b[39;00m \u001b[38;5;129;01mnot\u001b[39;00m data:\n\u001b[32m    906\u001b[39m         \u001b[38;5;66;03m# Platform-specific: Buggy versions of Python.\u001b[39;00m\n\u001b[32m    907\u001b[39m         \u001b[38;5;66;03m# Close the connection when no data is returned\u001b[39;00m\n\u001b[32m   (...)\u001b[39m\u001b[32m    912\u001b[39m         \u001b[38;5;66;03m# not properly close the connection in all cases. There is\u001b[39;00m\n\u001b[32m    913\u001b[39m         \u001b[38;5;66;03m# no harm in redundantly calling close.\u001b[39;00m\n",
      "\u001b[36mFile \u001b[39m\u001b[32m~/aws-ai-ml-workshop-kr/genai/aws-gen-ai-kr/20_applications/08_bedrock_manus/use_cases/05_insight_extractor_strands_sdk_workshop_phase_2/setup/.venv/lib/python3.12/site-packages/urllib3/response.py:887\u001b[39m, in \u001b[36mHTTPResponse._fp_read\u001b[39m\u001b[34m(self, amt, read1)\u001b[39m\n\u001b[32m    885\u001b[39m \u001b[38;5;28;01melse\u001b[39;00m:\n\u001b[32m    886\u001b[39m     \u001b[38;5;66;03m# StringIO doesn't like amt=None\u001b[39;00m\n\u001b[32m--> \u001b[39m\u001b[32m887\u001b[39m     \u001b[38;5;28;01mreturn\u001b[39;00m \u001b[38;5;28;43mself\u001b[39;49m\u001b[43m.\u001b[49m\u001b[43m_fp\u001b[49m\u001b[43m.\u001b[49m\u001b[43mread\u001b[49m\u001b[43m(\u001b[49m\u001b[43mamt\u001b[49m\u001b[43m)\u001b[49m \u001b[38;5;28;01mif\u001b[39;00m amt \u001b[38;5;129;01mis\u001b[39;00m \u001b[38;5;129;01mnot\u001b[39;00m \u001b[38;5;28;01mNone\u001b[39;00m \u001b[38;5;28;01melse\u001b[39;00m \u001b[38;5;28mself\u001b[39m._fp.read()\n",
      "\u001b[36mFile \u001b[39m\u001b[32m~/.local/share/uv/python/cpython-3.12.11-linux-x86_64-gnu/lib/python3.12/http/client.py:473\u001b[39m, in \u001b[36mHTTPResponse.read\u001b[39m\u001b[34m(self, amt)\u001b[39m\n\u001b[32m    472\u001b[39m \u001b[38;5;28;01mif\u001b[39;00m \u001b[38;5;28mself\u001b[39m.chunked:\n\u001b[32m--> \u001b[39m\u001b[32m473\u001b[39m     \u001b[38;5;28;01mreturn\u001b[39;00m \u001b[38;5;28;43mself\u001b[39;49m\u001b[43m.\u001b[49m\u001b[43m_read_chunked\u001b[49m\u001b[43m(\u001b[49m\u001b[43mamt\u001b[49m\u001b[43m)\u001b[49m\n\u001b[32m    475\u001b[39m \u001b[38;5;28;01mif\u001b[39;00m amt \u001b[38;5;129;01mis\u001b[39;00m \u001b[38;5;129;01mnot\u001b[39;00m \u001b[38;5;28;01mNone\u001b[39;00m \u001b[38;5;129;01mand\u001b[39;00m amt >= \u001b[32m0\u001b[39m:\n",
      "\u001b[36mFile \u001b[39m\u001b[32m~/.local/share/uv/python/cpython-3.12.11-linux-x86_64-gnu/lib/python3.12/http/client.py:597\u001b[39m, in \u001b[36mHTTPResponse._read_chunked\u001b[39m\u001b[34m(self, amt)\u001b[39m\n\u001b[32m    596\u001b[39m \u001b[38;5;28;01mtry\u001b[39;00m:\n\u001b[32m--> \u001b[39m\u001b[32m597\u001b[39m     \u001b[38;5;28;01mwhile\u001b[39;00m (chunk_left := \u001b[38;5;28;43mself\u001b[39;49m\u001b[43m.\u001b[49m\u001b[43m_get_chunk_left\u001b[49m\u001b[43m(\u001b[49m\u001b[43m)\u001b[49m) \u001b[38;5;129;01mis\u001b[39;00m \u001b[38;5;129;01mnot\u001b[39;00m \u001b[38;5;28;01mNone\u001b[39;00m:\n\u001b[32m    598\u001b[39m         \u001b[38;5;28;01mif\u001b[39;00m amt \u001b[38;5;129;01mis\u001b[39;00m \u001b[38;5;129;01mnot\u001b[39;00m \u001b[38;5;28;01mNone\u001b[39;00m \u001b[38;5;129;01mand\u001b[39;00m amt <= chunk_left:\n",
      "\u001b[36mFile \u001b[39m\u001b[32m~/.local/share/uv/python/cpython-3.12.11-linux-x86_64-gnu/lib/python3.12/http/client.py:579\u001b[39m, in \u001b[36mHTTPResponse._get_chunk_left\u001b[39m\u001b[34m(self)\u001b[39m\n\u001b[32m    578\u001b[39m \u001b[38;5;28;01mtry\u001b[39;00m:\n\u001b[32m--> \u001b[39m\u001b[32m579\u001b[39m     chunk_left = \u001b[38;5;28;43mself\u001b[39;49m\u001b[43m.\u001b[49m\u001b[43m_read_next_chunk_size\u001b[49m\u001b[43m(\u001b[49m\u001b[43m)\u001b[49m\n\u001b[32m    580\u001b[39m \u001b[38;5;28;01mexcept\u001b[39;00m \u001b[38;5;167;01mValueError\u001b[39;00m:\n",
      "\u001b[36mFile \u001b[39m\u001b[32m~/.local/share/uv/python/cpython-3.12.11-linux-x86_64-gnu/lib/python3.12/http/client.py:539\u001b[39m, in \u001b[36mHTTPResponse._read_next_chunk_size\u001b[39m\u001b[34m(self)\u001b[39m\n\u001b[32m    537\u001b[39m \u001b[38;5;28;01mdef\u001b[39;00m\u001b[38;5;250m \u001b[39m\u001b[34m_read_next_chunk_size\u001b[39m(\u001b[38;5;28mself\u001b[39m):\n\u001b[32m    538\u001b[39m     \u001b[38;5;66;03m# Read the next chunk size from the file\u001b[39;00m\n\u001b[32m--> \u001b[39m\u001b[32m539\u001b[39m     line = \u001b[38;5;28;43mself\u001b[39;49m\u001b[43m.\u001b[49m\u001b[43mfp\u001b[49m\u001b[43m.\u001b[49m\u001b[43mreadline\u001b[49m\u001b[43m(\u001b[49m\u001b[43m_MAXLINE\u001b[49m\u001b[43m \u001b[49m\u001b[43m+\u001b[49m\u001b[43m \u001b[49m\u001b[32;43m1\u001b[39;49m\u001b[43m)\u001b[49m\n\u001b[32m    540\u001b[39m     \u001b[38;5;28;01mif\u001b[39;00m \u001b[38;5;28mlen\u001b[39m(line) > _MAXLINE:\n",
      "\u001b[36mFile \u001b[39m\u001b[32m~/.local/share/uv/python/cpython-3.12.11-linux-x86_64-gnu/lib/python3.12/socket.py:720\u001b[39m, in \u001b[36mSocketIO.readinto\u001b[39m\u001b[34m(self, b)\u001b[39m\n\u001b[32m    719\u001b[39m \u001b[38;5;28;01mtry\u001b[39;00m:\n\u001b[32m--> \u001b[39m\u001b[32m720\u001b[39m     \u001b[38;5;28;01mreturn\u001b[39;00m \u001b[38;5;28;43mself\u001b[39;49m\u001b[43m.\u001b[49m\u001b[43m_sock\u001b[49m\u001b[43m.\u001b[49m\u001b[43mrecv_into\u001b[49m\u001b[43m(\u001b[49m\u001b[43mb\u001b[49m\u001b[43m)\u001b[49m\n\u001b[32m    721\u001b[39m \u001b[38;5;28;01mexcept\u001b[39;00m timeout:\n",
      "\u001b[36mFile \u001b[39m\u001b[32m~/.local/share/uv/python/cpython-3.12.11-linux-x86_64-gnu/lib/python3.12/ssl.py:1251\u001b[39m, in \u001b[36mSSLSocket.recv_into\u001b[39m\u001b[34m(self, buffer, nbytes, flags)\u001b[39m\n\u001b[32m   1248\u001b[39m         \u001b[38;5;28;01mraise\u001b[39;00m \u001b[38;5;167;01mValueError\u001b[39;00m(\n\u001b[32m   1249\u001b[39m           \u001b[33m\"\u001b[39m\u001b[33mnon-zero flags not allowed in calls to recv_into() on \u001b[39m\u001b[38;5;132;01m%s\u001b[39;00m\u001b[33m\"\u001b[39m %\n\u001b[32m   1250\u001b[39m           \u001b[38;5;28mself\u001b[39m.\u001b[34m__class__\u001b[39m)\n\u001b[32m-> \u001b[39m\u001b[32m1251\u001b[39m     \u001b[38;5;28;01mreturn\u001b[39;00m \u001b[38;5;28;43mself\u001b[39;49m\u001b[43m.\u001b[49m\u001b[43mread\u001b[49m\u001b[43m(\u001b[49m\u001b[43mnbytes\u001b[49m\u001b[43m,\u001b[49m\u001b[43m \u001b[49m\u001b[43mbuffer\u001b[49m\u001b[43m)\u001b[49m\n\u001b[32m   1252\u001b[39m \u001b[38;5;28;01melse\u001b[39;00m:\n",
      "\u001b[36mFile \u001b[39m\u001b[32m~/.local/share/uv/python/cpython-3.12.11-linux-x86_64-gnu/lib/python3.12/ssl.py:1103\u001b[39m, in \u001b[36mSSLSocket.read\u001b[39m\u001b[34m(self, len, buffer)\u001b[39m\n\u001b[32m   1102\u001b[39m \u001b[38;5;28;01mif\u001b[39;00m buffer \u001b[38;5;129;01mis\u001b[39;00m \u001b[38;5;129;01mnot\u001b[39;00m \u001b[38;5;28;01mNone\u001b[39;00m:\n\u001b[32m-> \u001b[39m\u001b[32m1103\u001b[39m     \u001b[38;5;28;01mreturn\u001b[39;00m \u001b[38;5;28;43mself\u001b[39;49m\u001b[43m.\u001b[49m\u001b[43m_sslobj\u001b[49m\u001b[43m.\u001b[49m\u001b[43mread\u001b[49m\u001b[43m(\u001b[49m\u001b[38;5;28;43mlen\u001b[39;49m\u001b[43m,\u001b[49m\u001b[43m \u001b[49m\u001b[43mbuffer\u001b[49m\u001b[43m)\u001b[49m\n\u001b[32m   1104\u001b[39m \u001b[38;5;28;01melse\u001b[39;00m:\n",
      "\u001b[31mTimeoutError\u001b[39m: The read operation timed out",
      "\nThe above exception was the direct cause of the following exception:\n",
      "\u001b[31mReadTimeoutError\u001b[39m                          Traceback (most recent call last)",
      "\u001b[36mFile \u001b[39m\u001b[32m~/aws-ai-ml-workshop-kr/genai/aws-gen-ai-kr/20_applications/08_bedrock_manus/use_cases/05_insight_extractor_strands_sdk_workshop_phase_2/setup/.venv/lib/python3.12/site-packages/botocore/response.py:98\u001b[39m, in \u001b[36mStreamingBody.read\u001b[39m\u001b[34m(self, amt)\u001b[39m\n\u001b[32m     97\u001b[39m \u001b[38;5;28;01mtry\u001b[39;00m:\n\u001b[32m---> \u001b[39m\u001b[32m98\u001b[39m     chunk = \u001b[38;5;28;43mself\u001b[39;49m\u001b[43m.\u001b[49m\u001b[43m_raw_stream\u001b[49m\u001b[43m.\u001b[49m\u001b[43mread\u001b[49m\u001b[43m(\u001b[49m\u001b[43mamt\u001b[49m\u001b[43m)\u001b[49m\n\u001b[32m     99\u001b[39m \u001b[38;5;28;01mexcept\u001b[39;00m URLLib3ReadTimeoutError \u001b[38;5;28;01mas\u001b[39;00m e:\n\u001b[32m    100\u001b[39m     \u001b[38;5;66;03m# TODO: the url will be None as urllib3 isn't setting it yet\u001b[39;00m\n",
      "\u001b[36mFile \u001b[39m\u001b[32m~/aws-ai-ml-workshop-kr/genai/aws-gen-ai-kr/20_applications/08_bedrock_manus/use_cases/05_insight_extractor_strands_sdk_workshop_phase_2/setup/.venv/lib/python3.12/site-packages/urllib3/response.py:980\u001b[39m, in \u001b[36mHTTPResponse.read\u001b[39m\u001b[34m(self, amt, decode_content, cache_content)\u001b[39m\n\u001b[32m    978\u001b[39m         \u001b[38;5;28;01mreturn\u001b[39;00m \u001b[38;5;28mself\u001b[39m._decoded_buffer.get(amt)\n\u001b[32m--> \u001b[39m\u001b[32m980\u001b[39m data = \u001b[38;5;28;43mself\u001b[39;49m\u001b[43m.\u001b[49m\u001b[43m_raw_read\u001b[49m\u001b[43m(\u001b[49m\u001b[43mamt\u001b[49m\u001b[43m)\u001b[49m\n\u001b[32m    982\u001b[39m flush_decoder = amt \u001b[38;5;129;01mis\u001b[39;00m \u001b[38;5;28;01mNone\u001b[39;00m \u001b[38;5;129;01mor\u001b[39;00m (amt != \u001b[32m0\u001b[39m \u001b[38;5;129;01mand\u001b[39;00m \u001b[38;5;129;01mnot\u001b[39;00m data)\n",
      "\u001b[36mFile \u001b[39m\u001b[32m~/aws-ai-ml-workshop-kr/genai/aws-gen-ai-kr/20_applications/08_bedrock_manus/use_cases/05_insight_extractor_strands_sdk_workshop_phase_2/setup/.venv/lib/python3.12/site-packages/urllib3/response.py:903\u001b[39m, in \u001b[36mHTTPResponse._raw_read\u001b[39m\u001b[34m(self, amt, read1)\u001b[39m\n\u001b[32m    901\u001b[39m fp_closed = \u001b[38;5;28mgetattr\u001b[39m(\u001b[38;5;28mself\u001b[39m._fp, \u001b[33m\"\u001b[39m\u001b[33mclosed\u001b[39m\u001b[33m\"\u001b[39m, \u001b[38;5;28;01mFalse\u001b[39;00m)\n\u001b[32m--> \u001b[39m\u001b[32m903\u001b[39m \u001b[38;5;28;01mwith\u001b[39;00m \u001b[38;5;28mself\u001b[39m._error_catcher():\n\u001b[32m    904\u001b[39m     data = \u001b[38;5;28mself\u001b[39m._fp_read(amt, read1=read1) \u001b[38;5;28;01mif\u001b[39;00m \u001b[38;5;129;01mnot\u001b[39;00m fp_closed \u001b[38;5;28;01melse\u001b[39;00m \u001b[33mb\u001b[39m\u001b[33m\"\u001b[39m\u001b[33m\"\u001b[39m\n",
      "\u001b[36mFile \u001b[39m\u001b[32m~/.local/share/uv/python/cpython-3.12.11-linux-x86_64-gnu/lib/python3.12/contextlib.py:158\u001b[39m, in \u001b[36m_GeneratorContextManager.__exit__\u001b[39m\u001b[34m(self, typ, value, traceback)\u001b[39m\n\u001b[32m    157\u001b[39m \u001b[38;5;28;01mtry\u001b[39;00m:\n\u001b[32m--> \u001b[39m\u001b[32m158\u001b[39m     \u001b[38;5;28;43mself\u001b[39;49m\u001b[43m.\u001b[49m\u001b[43mgen\u001b[49m\u001b[43m.\u001b[49m\u001b[43mthrow\u001b[49m\u001b[43m(\u001b[49m\u001b[43mvalue\u001b[49m\u001b[43m)\u001b[49m\n\u001b[32m    159\u001b[39m \u001b[38;5;28;01mexcept\u001b[39;00m \u001b[38;5;167;01mStopIteration\u001b[39;00m \u001b[38;5;28;01mas\u001b[39;00m exc:\n\u001b[32m    160\u001b[39m     \u001b[38;5;66;03m# Suppress StopIteration *unless* it's the same exception that\u001b[39;00m\n\u001b[32m    161\u001b[39m     \u001b[38;5;66;03m# was passed to throw().  This prevents a StopIteration\u001b[39;00m\n\u001b[32m    162\u001b[39m     \u001b[38;5;66;03m# raised inside the \"with\" statement from being suppressed.\u001b[39;00m\n",
      "\u001b[36mFile \u001b[39m\u001b[32m~/aws-ai-ml-workshop-kr/genai/aws-gen-ai-kr/20_applications/08_bedrock_manus/use_cases/05_insight_extractor_strands_sdk_workshop_phase_2/setup/.venv/lib/python3.12/site-packages/urllib3/response.py:784\u001b[39m, in \u001b[36mHTTPResponse._error_catcher\u001b[39m\u001b[34m(self)\u001b[39m\n\u001b[32m    781\u001b[39m \u001b[38;5;28;01mexcept\u001b[39;00m SocketTimeout \u001b[38;5;28;01mas\u001b[39;00m e:\n\u001b[32m    782\u001b[39m     \u001b[38;5;66;03m# FIXME: Ideally we'd like to include the url in the ReadTimeoutError but\u001b[39;00m\n\u001b[32m    783\u001b[39m     \u001b[38;5;66;03m# there is yet no clean way to get at it from this context.\u001b[39;00m\n\u001b[32m--> \u001b[39m\u001b[32m784\u001b[39m     \u001b[38;5;28;01mraise\u001b[39;00m ReadTimeoutError(\u001b[38;5;28mself\u001b[39m._pool, \u001b[38;5;28;01mNone\u001b[39;00m, \u001b[33m\"\u001b[39m\u001b[33mRead timed out.\u001b[39m\u001b[33m\"\u001b[39m) \u001b[38;5;28;01mfrom\u001b[39;00m\u001b[38;5;250m \u001b[39m\u001b[34;01me\u001b[39;00m  \u001b[38;5;66;03m# type: ignore[arg-type]\u001b[39;00m\n\u001b[32m    786\u001b[39m \u001b[38;5;28;01mexcept\u001b[39;00m BaseSSLError \u001b[38;5;28;01mas\u001b[39;00m e:\n\u001b[32m    787\u001b[39m     \u001b[38;5;66;03m# FIXME: Is there a better way to differentiate between SSLErrors?\u001b[39;00m\n",
      "\u001b[31mReadTimeoutError\u001b[39m: AWSHTTPSConnectionPool(host='bedrock-agentcore.us-east-1.amazonaws.com', port=443): Read timed out.",
      "\nDuring handling of the above exception, another exception occurred:\n",
      "\u001b[31mReadTimeoutError\u001b[39m                          Traceback (most recent call last)",
      "\u001b[36mCell\u001b[39m\u001b[36m \u001b[39m\u001b[32mIn[13]\u001b[39m\u001b[32m, line 58\u001b[39m\n\u001b[32m     56\u001b[39m \u001b[38;5;28;01mif\u001b[39;00m \u001b[33m\"\u001b[39m\u001b[33mtext/event-stream\u001b[39m\u001b[33m\"\u001b[39m \u001b[38;5;129;01min\u001b[39;00m boto3_response.get(\u001b[33m\"\u001b[39m\u001b[33mcontentType\u001b[39m\u001b[33m\"\u001b[39m, \u001b[33m\"\u001b[39m\u001b[33m\"\u001b[39m):\n\u001b[32m     57\u001b[39m     content = []\n\u001b[32m---> \u001b[39m\u001b[32m58\u001b[39m \u001b[43m    \u001b[49m\u001b[38;5;28;43;01mfor\u001b[39;49;00m\u001b[43m \u001b[49m\u001b[43mevent\u001b[49m\u001b[43m \u001b[49m\u001b[38;5;129;43;01min\u001b[39;49;00m\u001b[43m \u001b[49m\u001b[43mboto3_response\u001b[49m\u001b[43m[\u001b[49m\u001b[33;43m\"\u001b[39;49m\u001b[33;43mresponse\u001b[39;49m\u001b[33;43m\"\u001b[39;49m\u001b[43m]\u001b[49m\u001b[43m.\u001b[49m\u001b[43miter_lines\u001b[49m\u001b[43m(\u001b[49m\u001b[43mchunk_size\u001b[49m\u001b[43m=\u001b[49m\u001b[32;43m1\u001b[39;49m\u001b[43m)\u001b[49m\u001b[43m:\u001b[49m\n\u001b[32m     59\u001b[39m \u001b[43m        \u001b[49m\u001b[43mevent\u001b[49m\u001b[43m \u001b[49m\u001b[43m=\u001b[49m\u001b[43m \u001b[49m\u001b[43mparse_sse_data\u001b[49m\u001b[43m(\u001b[49m\u001b[43mevent\u001b[49m\u001b[43m)\u001b[49m\n\u001b[32m     60\u001b[39m \u001b[43m        \u001b[49m\u001b[38;5;28;43;01mif\u001b[39;49;00m\u001b[43m \u001b[49m\u001b[43mevent\u001b[49m\u001b[43m \u001b[49m\u001b[38;5;129;43;01mis\u001b[39;49;00m\u001b[43m \u001b[49m\u001b[38;5;28;43;01mNone\u001b[39;49;00m\u001b[43m:\u001b[49m\u001b[43m  \u001b[49m\u001b[38;5;66;43;03m# None 체크 추가\u001b[39;49;00m\n",
      "\u001b[36mFile \u001b[39m\u001b[32m~/aws-ai-ml-workshop-kr/genai/aws-gen-ai-kr/20_applications/08_bedrock_manus/use_cases/05_insight_extractor_strands_sdk_workshop_phase_2/setup/.venv/lib/python3.12/site-packages/botocore/response.py:157\u001b[39m, in \u001b[36mStreamingBody.iter_lines\u001b[39m\u001b[34m(self, chunk_size, keepends)\u001b[39m\n\u001b[32m    151\u001b[39m \u001b[38;5;250m\u001b[39m\u001b[33;03m\"\"\"Return an iterator to yield lines from the raw stream.\u001b[39;00m\n\u001b[32m    152\u001b[39m \n\u001b[32m    153\u001b[39m \u001b[33;03mThis is achieved by reading chunk of bytes (of size chunk_size) at a\u001b[39;00m\n\u001b[32m    154\u001b[39m \u001b[33;03mtime from the raw stream, and then yielding lines from there.\u001b[39;00m\n\u001b[32m    155\u001b[39m \u001b[33;03m\"\"\"\u001b[39;00m\n\u001b[32m    156\u001b[39m pending = \u001b[33mb\u001b[39m\u001b[33m'\u001b[39m\u001b[33m'\u001b[39m\n\u001b[32m--> \u001b[39m\u001b[32m157\u001b[39m \u001b[43m\u001b[49m\u001b[38;5;28;43;01mfor\u001b[39;49;00m\u001b[43m \u001b[49m\u001b[43mchunk\u001b[49m\u001b[43m \u001b[49m\u001b[38;5;129;43;01min\u001b[39;49;00m\u001b[43m \u001b[49m\u001b[38;5;28;43mself\u001b[39;49m\u001b[43m.\u001b[49m\u001b[43miter_chunks\u001b[49m\u001b[43m(\u001b[49m\u001b[43mchunk_size\u001b[49m\u001b[43m)\u001b[49m\u001b[43m:\u001b[49m\n\u001b[32m    158\u001b[39m \u001b[43m    \u001b[49m\u001b[43mlines\u001b[49m\u001b[43m \u001b[49m\u001b[43m=\u001b[49m\u001b[43m \u001b[49m\u001b[43m(\u001b[49m\u001b[43mpending\u001b[49m\u001b[43m \u001b[49m\u001b[43m+\u001b[49m\u001b[43m \u001b[49m\u001b[43mchunk\u001b[49m\u001b[43m)\u001b[49m\u001b[43m.\u001b[49m\u001b[43msplitlines\u001b[49m\u001b[43m(\u001b[49m\u001b[38;5;28;43;01mTrue\u001b[39;49;00m\u001b[43m)\u001b[49m\n\u001b[32m    159\u001b[39m \u001b[43m    \u001b[49m\u001b[38;5;28;43;01mfor\u001b[39;49;00m\u001b[43m \u001b[49m\u001b[43mline\u001b[49m\u001b[43m \u001b[49m\u001b[38;5;129;43;01min\u001b[39;49;00m\u001b[43m \u001b[49m\u001b[43mlines\u001b[49m\u001b[43m[\u001b[49m\u001b[43m:\u001b[49m\u001b[43m-\u001b[49m\u001b[32;43m1\u001b[39;49m\u001b[43m]\u001b[49m\u001b[43m:\u001b[49m\n",
      "\u001b[36mFile \u001b[39m\u001b[32m~/aws-ai-ml-workshop-kr/genai/aws-gen-ai-kr/20_applications/08_bedrock_manus/use_cases/05_insight_extractor_strands_sdk_workshop_phase_2/setup/.venv/lib/python3.12/site-packages/botocore/response.py:170\u001b[39m, in \u001b[36mStreamingBody.iter_chunks\u001b[39m\u001b[34m(self, chunk_size)\u001b[39m\n\u001b[32m    166\u001b[39m \u001b[38;5;250m\u001b[39m\u001b[33;03m\"\"\"Return an iterator to yield chunks of chunk_size bytes from the raw\u001b[39;00m\n\u001b[32m    167\u001b[39m \u001b[33;03mstream.\u001b[39;00m\n\u001b[32m    168\u001b[39m \u001b[33;03m\"\"\"\u001b[39;00m\n\u001b[32m    169\u001b[39m \u001b[38;5;28;01mwhile\u001b[39;00m \u001b[38;5;28;01mTrue\u001b[39;00m:\n\u001b[32m--> \u001b[39m\u001b[32m170\u001b[39m     current_chunk = \u001b[38;5;28;43mself\u001b[39;49m\u001b[43m.\u001b[49m\u001b[43mread\u001b[49m\u001b[43m(\u001b[49m\u001b[43mchunk_size\u001b[49m\u001b[43m)\u001b[49m\n\u001b[32m    171\u001b[39m     \u001b[38;5;28;01mif\u001b[39;00m current_chunk == \u001b[33mb\u001b[39m\u001b[33m\"\u001b[39m\u001b[33m\"\u001b[39m:\n\u001b[32m    172\u001b[39m         \u001b[38;5;28;01mbreak\u001b[39;00m\n",
      "\u001b[36mFile \u001b[39m\u001b[32m~/aws-ai-ml-workshop-kr/genai/aws-gen-ai-kr/20_applications/08_bedrock_manus/use_cases/05_insight_extractor_strands_sdk_workshop_phase_2/setup/.venv/lib/python3.12/site-packages/botocore/response.py:101\u001b[39m, in \u001b[36mStreamingBody.read\u001b[39m\u001b[34m(self, amt)\u001b[39m\n\u001b[32m     98\u001b[39m     chunk = \u001b[38;5;28mself\u001b[39m._raw_stream.read(amt)\n\u001b[32m     99\u001b[39m \u001b[38;5;28;01mexcept\u001b[39;00m URLLib3ReadTimeoutError \u001b[38;5;28;01mas\u001b[39;00m e:\n\u001b[32m    100\u001b[39m     \u001b[38;5;66;03m# TODO: the url will be None as urllib3 isn't setting it yet\u001b[39;00m\n\u001b[32m--> \u001b[39m\u001b[32m101\u001b[39m     \u001b[38;5;28;01mraise\u001b[39;00m ReadTimeoutError(endpoint_url=e.url, error=e)\n\u001b[32m    102\u001b[39m \u001b[38;5;28;01mexcept\u001b[39;00m URLLib3ProtocolError \u001b[38;5;28;01mas\u001b[39;00m e:\n\u001b[32m    103\u001b[39m     \u001b[38;5;28;01mraise\u001b[39;00m ResponseStreamingError(error=e)\n",
      "\u001b[31mReadTimeoutError\u001b[39m: Read timeout on endpoint URL: \"None\""
     ]
    }
   ],
   "source": [
    "import json\n",
    "import boto3\n",
    "from boto3.session import Session\n",
    "from src.utils.strands_sdk_utils import strands_utils\n",
    "\n",
    "boto_session = Session()\n",
    "region = boto_session.region_name\n",
    "\n",
    "def parse_sse_data(sse_bytes):\n",
    "    if not sse_bytes or len(sse_bytes) == 0:\n",
    "        return None\n",
    "\n",
    "    try:\n",
    "        text = sse_bytes.decode('utf-8').strip()\n",
    "        if not text or text == '': return None\n",
    "\n",
    "        if text.startswith('data: '):\n",
    "            json_text = text[6:].strip()\n",
    "            if json_text: return json.loads(json_text)\n",
    "        else:\n",
    "            return json.loads(text)\n",
    "\n",
    "    except Exception as e:\n",
    "        pass\n",
    "\n",
    "    return None\n",
    "\n",
    "agent_arn = launch_result.agent_arn\n",
    "from botocore.config import Config\n",
    "\n",
    "my_config = Config(\n",
    "    connect_timeout=60*100,\n",
    "    read_timeout=60*5*2, # 10분\n",
    ")\n",
    "\n",
    "agentcore_client = boto3.client(\n",
    "    'bedrock-agentcore',\n",
    "    region_name=region,\n",
    "    config=my_config,\n",
    ")\n",
    "\n",
    "# 복잡한 분석 프롬프트 (주석 처리)\n",
    "# boto3_response = agentcore_client.invoke_agent_runtime(\n",
    "#     agentRuntimeArn=agent_arn,\n",
    "#     qualifier=\"DEFAULT\",\n",
    "#     payload=json.dumps({\"prompt\": '이것은 아마존 상품판매 데이터를 분석하고 싶습니다. 분석대상은 \"./data/Dat-fresh-food-claude.csv\" 파일 입니다. 데이터를 기반으로 마케팅 인사이트 추출을 위한 분석을 진행해 주세요. 분석은 기본적인 데이터 속성 탐색 부터, 상품 판매 트렌드, 변수 관계, 변수 조합 등 다양한 분석 기법을 수행해 주세요. 데이터 분석 후 인사이트 추출에 필요한 사항이 있다면 그를 위한 추가 분석도 수행해 주세요. 분석 리포트는 상세 분석과 그 것을 뒷받침 할 수 있는 이미지 및 차트를 함께 삽입해 주세요. 최종 리포트는 pdf 형태로 저장해 주세요.'})\n",
    "# )\n",
    "\n",
    "# 간단한 분석 프롬프트\n",
    "boto3_response = agentcore_client.invoke_agent_runtime(\n",
    "    agentRuntimeArn=agent_arn,\n",
    "    qualifier=\"DEFAULT\",\n",
    "    payload=json.dumps({\"prompt\": \"./data/Dat-fresh-food-claude.csv 파일을 분석해서 총 매출액을 계산하고, 카테고리별 매출 비중도 함께 보여줘. 그리고 pdf 로 보고서 생성해줘\"})\n",
    ")\n",
    "\n",
    "if \"text/event-stream\" in boto3_response.get(\"contentType\", \"\"):\n",
    "    content = []\n",
    "    for event in boto3_response[\"response\"].iter_lines(chunk_size=1):\n",
    "        event = parse_sse_data(event)\n",
    "        if event is None:  # None 체크 추가\n",
    "            continue\n",
    "        else:\n",
    "            strands_utils.process_event_for_display(event)\n",
    "else:\n",
    "    try:\n",
    "        events = []\n",
    "        for event in boto3_response.get(\"response\", []):\n",
    "            print (\"6\", event)\n",
    "            events.append(event)\n",
    "    except Exception as e:\n",
    "        events = [f\"Error reading EventStream: {e}\"]\n",
    "    display(Markdown(json.loads(events[0].decode(\"utf-8\"))))"
   ]
  }
 ],
 "metadata": {
  "kernelspec": {
   "display_name": "bedrock-manus-agentcore (UV)",
   "language": "python",
   "name": "bedrock-manus-agentcore"
  },
  "language_info": {
   "codemirror_mode": {
    "name": "ipython",
    "version": 3
   },
   "file_extension": ".py",
   "mimetype": "text/x-python",
   "name": "python",
   "nbconvert_exporter": "python",
   "pygments_lexer": "ipython3",
   "version": "3.12.11"
  }
 },
 "nbformat": 4,
 "nbformat_minor": 5
}
