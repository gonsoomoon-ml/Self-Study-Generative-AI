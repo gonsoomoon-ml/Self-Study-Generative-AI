{
 "cells": [
  {
   "cell_type": "code",
   "execution_count": 1,
   "id": "8daa2248-2979-43f7-a945-85784fb716a0",
   "metadata": {
    "tags": []
   },
   "outputs": [],
   "source": [
    "%load_ext autoreload\n",
    "%autoreload 2"
   ]
  },
  {
   "cell_type": "code",
   "execution_count": 2,
   "id": "def70031",
   "metadata": {},
   "outputs": [
    {
     "name": "stdout",
     "output_type": "stream",
     "text": [
      "Overwriting .env\n"
     ]
    }
   ],
   "source": [
    "%%writefile .env\n",
    "\n",
    "TAVILY_API_KEY = your_key\n",
    "JINA_API_KEY = your_key\n",
    "CHROME_INSTANCE_PATH = /Applications/Google Chrome.app/Contents/MacOS/Google Chrome\n",
    "BROWSER_HEADLESS=False\n"
   ]
  },
  {
   "cell_type": "code",
   "execution_count": null,
   "id": "12c20d61",
   "metadata": {},
   "outputs": [],
   "source": "import sys\nfrom src.graph.builder import build_graph"
  },
  {
   "cell_type": "code",
   "execution_count": 4,
   "id": "8e915a3c-bb0d-4d3d-88cf-bfa0b61e8f9f",
   "metadata": {
    "tags": []
   },
   "outputs": [],
   "source": [
    "user_query = '''\n",
    "    I would like to analyze Amazon product sales data.\n",
    "    The target for analysis is the './data/Amazon_Sale_Report.csv' file.\n",
    "    Please conduct an analysis to extract marketing insights based on this data.\n",
    "    Please perform various analytical techniques starting from basic data attribute exploration, product sales trends, variable relationships, variable combinations, etc.\n",
    "    If there are any additional analyses needed to extract insights after the data analysis, please perform those as well.\n",
    "    Please include detailed analysis in the report along with supporting images and charts.\n",
    "    Please save the final report in PDF format.\n",
    "'''\n",
    "\n",
    "user_query = '''\n",
    "    이것은 아마존 상품판매 데이터를 분석하고 싶습니다.\n",
    "    분석대상은 \"./data/Amazon_Sale_Report.csv\" 파일 입니다.\n",
    "    데이터를 기반으로 마케팅 인사이트 추출을 위한 분석을 진행해 주세요.\n",
    "    분석은 기본적인 데이터 속성 탐색 부터, 상품 판매 트렌드, 변수 관계, 변수 조합 등 다양한 분석 기법을 수행해 주세요.\n",
    "    데이터 분석 후 인사이트 추출에 필요한 사항이 있다면 그를 위한 추가 분석도 수행해 주세요.\n",
    "    분석 리포트는 상세 분석과 그 것을 뒷받침 할 수 있는 이미지 및 차트를 함께 삽입해 주세요.\n",
    "    최종 리포트는 pdf 형태로 저장해 주세요.\n",
    "'''\n",
    "\n",
    "user_query = '''\n",
    "    이것은 아마존 상품판매 데이터를 분석하고 싶습니다.\n",
    "    분석대상은 \"./data/Dat-fresh-food-claude.csv\" 파일 입니다.\n",
    "    데이터를 기반으로 마케팅 인사이트 추출을 위한 분석을 진행해 주세요.\n",
    "    분석은 기본적인 데이터 속성 탐색 부터, 상품 판매 트렌드, 변수 관계, 변수 조합 등 다양한 분석 기법을 수행해 주세요.\n",
    "    데이터 분석 후 인사이트 추출에 필요한 사항이 있다면 그를 위한 추가 분석도 수행해 주세요.\n",
    "    분석 리포트는 상세 분석과 그 것을 뒷받침 할 수 있는 이미지 및 차트를 함께 삽입해 주세요.\n",
    "    최종 리포트는 pdf 형태로 저장해 주세요.\n",
    "'''\n",
    "\n",
    "#user_query = \"안녕 나는 장동진이야\"\n",
    "#user_query = '''\n",
    "#    이것은 아마존 상품판매 데이터를 분석하고 싶습니다. 분석대상은 \"./data/Amazon_Sale_Report.csv\" 파일 입니다. 데이터를 기반으로 마케팅 인사이트 추출을 위한 분석을 진행해 주세요. 분석은 간단하게 1개정도만 해 주세요. 코드 테스트 중이거든요 데이터 분석 후 인사이트 추출에 필요한 사항이 있다면 그를 위한 추가 분석도 수행해 주세요. 분석 리포트는 상세 분석과 그 것을 뒷받침 할 수 있는 이미지 및 차트를 함께 삽입해 주세요. 최종 리포트는 pdf 형태로 저장해 주세요.\n",
    "#    '''\n",
    "\n",
    "# user_query = '''\n",
    "#     영문으로 작성된 pptx 파일을 한글로 변환하고 싶습니다.\n",
    "#     대상은 \"./data/bedrock.pptx\" 파일 입니다.\n",
    "#     슬라이드의 영문을 한글로 번역하고 슬라이드 structure는 유지해 주세요.\n",
    "# '''\n",
    "\n",
    "# user_query = '''\n",
    "#     주어진 프로젝트 소스코드는 \"Bedrock-Manus: AI automation framework optimized for Amazon Bedrock and business use cases 입니다.\"\n",
    "#     프로젝트 소스코드는 \"./data/08_bedrock_manus.tar.gz\" 파일 입니다.\n",
    "#     나는 Streamlit을 이용해서 이 소스코드에 대한 UI를 만들고 싶습니다. \n",
    "#     제가 원하는 요구사항은\n",
    "#     1. 현재 스텝이 무엇인지 (coodinator, supervisor, planner 등등) 보이는 곳이 있으면 좋겠습니다.\n",
    "#         - 스텝에 대한 자세한 정보는 \"./README.md\"를 참고하시면 됩니다. \n",
    "#     2. 각 스텝에서 진행되는 것이 보였으면 좋겠습니다. 즉, 각 스텝에서 llm이 생성하는 토큰들을 실시간으로 볼 수 있으면 좋겠습니다. \n",
    "#     3. \"app.py\" 파일만 생성하지 말고, 필요하다면 기존의 다른 파일 (workflow.py 등)들도  수정하세요. \n",
    "#     4. 수정된 파일은 모두 ./artifacts 에 넣어주세요.\n",
    "#     참고할 사항이 있습니다. \n",
    "#     1. 소스코드 수행은 \"main.py\"로 수행됩니다. \n",
    "#     2. \"./src/service/workflow_service.py\" 이 파일은 참고하지 마세요. \n",
    "\n",
    "#     UI 생성을 위한 프로젝트 코드를 작성해주세요\n",
    "#     결과물은 ./artifacts 에 넣어주세요.\n",
    "# '''\n",
    "\n",
    "# user_query = '''\n",
    "#     \"2025년 중국 가전 신제품 출시에 대한 리포트 작성해줘.\"\n",
    "# '''"
   ]
  },
  {
   "cell_type": "code",
   "execution_count": null,
   "id": "654c283e",
   "metadata": {},
   "outputs": [],
   "source": "import os\nimport shutil\n\ndef remove_artifact_folder(folder_path=\"./artifacts/\"):\n    \"\"\"\n    ./artifact/ 폴더가 존재하면 삭제하는 함수\n    \n    Args:\n        folder_path (str): 삭제할 폴더 경로\n    \"\"\"\n    if os.path.exists(folder_path):\n        print(f\"'{folder_path}' 폴더를 삭제합니다...\")\n        try:\n            # 폴더와 그 내용을 모두 삭제\n            shutil.rmtree(folder_path)\n            print(f\"'{folder_path}' 폴더가 성공적으로 삭제되었습니다.\")\n        except Exception as e:\n            print(f\"오류 발생: {e}\")\n    else:\n        print(f\"'{folder_path}' 폴더가 존재하지 않습니다.\")\n\n\nimport nest_asyncio\nnest_asyncio.apply()\n\nremove_artifact_folder()\n\n# Build graph and execute with new streaming method\nimport asyncio\n\nasync def run_with_streaming():\n    graph = build_graph()\n    \n    # Execute graph with streaming\n    result = await graph.invoke_async({\n        \"request\": user_query,\n        \"request_prompt\": f\"Here is a user request: <user_request>{user_query}</user_request>\"\n    })\n    \n    return result\n\nresult = asyncio.run(run_with_streaming())\n\n# Print the conversation history\nprint(\"\\n=== Conversation History ===\")\nprint (\"result\", result)"
  },
  {
   "cell_type": "code",
   "execution_count": null,
   "id": "4e4a3c61",
   "metadata": {},
   "outputs": [],
   "source": []
  },
  {
   "cell_type": "code",
   "execution_count": null,
   "id": "ec2acd17",
   "metadata": {},
   "outputs": [],
   "source": []
  }
 ],
 "metadata": {
  "kernelspec": {
   "display_name": "bedrock-manus-agentcore (UV)",
   "language": "python",
   "name": "bedrock-manus-agentcore"
  },
  "language_info": {
   "codemirror_mode": {
    "name": "ipython",
    "version": 3
   },
   "file_extension": ".py",
   "mimetype": "text/x-python",
   "name": "python",
   "nbconvert_exporter": "python",
   "pygments_lexer": "ipython3",
   "version": "3.12.11"
  }
 },
 "nbformat": 4,
 "nbformat_minor": 5
}