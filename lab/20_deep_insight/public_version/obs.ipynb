{
 "cells": [
  {
   "cell_type": "code",
   "execution_count": null,
   "id": "07f50d41",
   "metadata": {},
   "outputs": [],
   "source": "%%writefile obs.py\n\n\n\n\"\"\"\nEntry point script for the Strands Agent Demo.\n\"\"\"\nimport os\nimport shutil\nimport asyncio\nfrom src.workflow import run_graph_streaming_workflow\nfrom src.utils.strands_sdk_utils import strands_utils\n\n# Observability\nfrom opentelemetry import trace, context\nfrom src.utils.agentcore_observability import set_session_context\n\n# Import event queue for unified event processing\nfrom src.utils.event_queue import get_event, has_events, clear_queue \n\n# Env.\nfrom dotenv import load_dotenv\nload_dotenv()\n\ndef remove_artifact_folder(folder_path=\"./artifacts/\"):\n    \"\"\"\n    ./artifact/ 폴더가 존재하면 삭제하는 함수\n    \n    Args:\n        folder_path (str): 삭제할 폴더 경로\n    \"\"\"\n    if os.path.exists(folder_path):\n        print(f\"'{folder_path}' 폴더를 삭제합니다...\")\n        try:\n            shutil.rmtree(folder_path)\n            print(f\"'{folder_path}' 폴더가 성공적으로 삭제되었습니다.\")\n        except Exception as e: print(f\"오류 발생: {e}\")\n    else:\n        print(f\"'{folder_path}' 폴더가 존재하지 않습니다.\")\n\ndef _get_env():\n\n    #load_dotenv()\n\n    # Display the OTEL-related environment variables\n    otel_vars = [\n        \"OTEL_PYTHON_DISTRO\",\n        \"OTEL_PYTHON_CONFIGURATOR\",\n        \"OTEL_EXPORTER_OTLP_PROTOCOL\",\n        \"OTEL_EXPORTER_OTLP_LOGS_HEADERS\",\n        \"OTEL_RESOURCE_ATTRIBUTES\",\n        \"AGENT_OBSERVABILITY_ENABLED\",\n        \"OTEL_TRACES_EXPORTER\"\n    ]\n\n    print(\"OpenTelemetry Configuration:\")\n    for var in otel_vars:\n        value = os.getenv(var)\n        if value: print(f\"{var}={value}\")\n    print(\"=======================\")\n\ndef _setup_execution():\n    \"\"\"Initialize execution environment\"\"\"\n    remove_artifact_folder()\n    clear_queue()\n    print(\"\\n=== Starting Queue-Only Event Stream ===\")\n\nasync def _cleanup_workflow(workflow_task):\n    \"\"\"Handle workflow completion and cleanup\"\"\"\n    if not workflow_task.done():\n        try:\n            await asyncio.wait_for(workflow_task, timeout=1.0)\n        except asyncio.TimeoutError:\n            workflow_task.cancel()\n            try: await workflow_task\n            except asyncio.CancelledError: pass\n\nasync def _yield_pending_events():\n    \"\"\"Yield any pending events from queue\"\"\"\n    while has_events():\n        event = get_event()\n        if event: yield event\n\ndef _print_conversation_history():\n    \"\"\"Print final conversation history\"\"\"\n    print(\"\\n=== Conversation History ===\")\n    from src.graph.nodes import _global_node_states\n    shared_state = _global_node_states.get('shared', {})\n    history = shared_state.get('history', [])\n    \n    if history:\n        for hist_item in history:\n            print(f\"[{hist_item['agent']}] {hist_item['message']}\")\n    else:\n        print(\"No conversation history found\")\n\nasync def graph_streaming_execution(payload):\n    \"\"\"Execute full graph streaming workflow - queue-only event processing\"\"\"\n\n    _get_env()\n    _setup_execution()\n    \n    # Get user query from payload\n    user_query = payload.get(\"user_query\", \"\")\n    session_id = payload.get(\"session-id\", \"default\")\n\n    context_token = set_session_context(session_id)\n    print (\"context_token\", context_token)\n    \n    try:\n        # Get tracer for main application\n        tracer = trace.get_tracer(\n            os.getenv(\"TRACER_MODULE_NAME\", \"insight_extractor_agent\"),\n            os.getenv(\"TRACER_LIBRARY_VERSION\", \"1.0.0\")\n        )\n        with tracer.start_as_current_span(\"insight_extractor_session\") as main_span:\n            \n            main_span.add_event( # add_event 사용 시 (CloudWatch)GenAI Observability의 trace의 event에서 바로 확인 x, \"Traces\"의 event에서는 확인 가능\n                \"user_query\",\n                {\"user-query\": str(user_query)}\n            ) # attribute.name에 _(under bar)가 들어가면 안된다. \n\n\n            # Start workflow in background\n            async def run_workflow():\n                try:\n                    result = await run_graph_streaming_workflow(user_input=user_query)\n                    print(f\"Workflow completed: {result}\")\n                except Exception as e:\n                    print(f\"Workflow error: {e}\")\n            \n            workflow_task = asyncio.create_task(run_workflow())\n\n            \n            \n            try:\n                # Main event loop - monitor queue until workflow completes\n                while not workflow_task.done():\n                    async for event in _yield_pending_events():\n                        yield event\n                    await asyncio.sleep(0.01)\n                    \n            finally:\n                await _cleanup_workflow(workflow_task)\n                \n                # Process remaining events\n                async for event in _yield_pending_events():\n                    yield event\n            \n            # Final completion\n            yield {\"type\": \"workflow_complete\", \"message\": \"All events processed through global queue\"}\n            _print_conversation_history()\n            print(\"=== Queue-Only Event Stream Complete ===\")\n        \n    finally:\n        context.detach(context_token)\n    \n        \n\nif __name__ == \"__main__\":\n\n    \n\n    # Use predefined query for testing\n    payload = {\n        \"user_query\": \"너가 작성할 것은 moon market 의 판매 현황 보고서야. 세일즈 및 마케팅 관점으로 분석을 해주고, 차트 생성 및 인사이트도 뽑아서 pdf 파일로 만들어줘. 분석대상은 './data/Dat-fresh-food-claude.csv' 파일 입니다.\",\n        \"session-id\": \"insight-extractor-2\"\n    }\n\n    #user_query = \"너가 작성할 것은 moon market 의 판매 현황 보고서야. 세일즈 및 마케팅 관점으로 분석을 해주고, 차트 생성 및 인사이트도 뽑아서 pdf 파일로 만들어줘. 분석대상은 './data/Dat-fresh-food-claude.csv' 파일 입니다. Coder 에이전트가 할일은 최대한 작게 해줘. 왜냐하면 reporter 에이전트 테스트 중이라 빨리 코더 단계를 넘어 가야 하거든. 부탁해.\"\n    #user_query = \"너가 작성할 것은 moon market 의 판매 현황 보고서야. 세일즈 및 마케팅 관점으로 분석을 해주고, 차트 생성 및 인사이트도 뽑아서 pdf 파일로 만들어줘. 분석대상은 './data/Dat-fresh-food-claude.csv' 파일 입니다.\"\n\n    # user_query = '''\n        \n    #     분석대상은 \"./data/Dat-fresh-food-claude.csv\" 파일 입니다.\n    #     데이터를 기반으로 마케팅 인사이트 추출을 위한 분석을 진행해 주세요.\n    #     분석은 기본적인 데이터 속성 탐색 부터, 상품 판매 트렌드, 변수 관계, 변수 조합 등 다양한 분석 기법을 수행해 주세요.\n    #     데이터 분석 후 인사이트 추출에 필요한 사항이 있다면 그를 위한 추가 분석도 수행해 주세요.\n    #     분석 리포트는 상세 분석과 그 것을 뒷받침 할 수 있는 이미지 및 차트를 함께 삽입해 주세요.\n    #     최종 리포트는 pdf 형태로 저장해 주세요.\n    # '''\n    remove_artifact_folder()\n\n    # Use full graph streaming execution for real-time streaming with graph structure\n    async def run_streaming():\n        async for event in graph_streaming_execution(payload):\n            strands_utils.process_event_for_display(event)\n\n    asyncio.run(run_streaming())"
  },
  {
   "cell_type": "code",
   "execution_count": 7,
   "id": "e33b0363",
   "metadata": {},
   "outputs": [
    {
     "data": {
      "text/plain": [
       "True"
      ]
     },
     "execution_count": 7,
     "metadata": {},
     "output_type": "execute_result"
    }
   ],
   "source": [
    "from dotenv import load_dotenv\n",
    "# Load environment variables from .env file\n",
    "load_dotenv()"
   ]
  },
  {
   "cell_type": "code",
   "execution_count": 8,
   "id": "593636ea",
   "metadata": {},
   "outputs": [
    {
     "name": "stdout",
     "output_type": "stream",
     "text": [
      "WARNING:strands.multiagent.graph:Graph without execution limits may run indefinitely if cycles exist\n",
      "WARNING:opentelemetry.instrumentation.instrumentor:Attempting to instrument while already instrumented\n",
      "'./artifacts/' 폴더를 삭제합니다...\n",
      "'./artifacts/' 폴더가 성공적으로 삭제되었습니다.\n",
      "OpenTelemetry Configuration:\n",
      "OTEL_PYTHON_DISTRO=aws_distro\n",
      "OTEL_PYTHON_CONFIGURATOR=aws_configurator\n",
      "OTEL_EXPORTER_OTLP_PROTOCOL=http/protobuf\n",
      "OTEL_EXPORTER_OTLP_LOGS_HEADERS=x-aws-log-group=bedrock-agentcore-observability,x-aws-log-stream=insight-extractor-stream,x-aws-metric-namespace=AgentCore\n",
      "OTEL_RESOURCE_ATTRIBUTES=service.name=insight-extractor-agent\n",
      "AGENT_OBSERVABILITY_ENABLED=true\n",
      "OTEL_TRACES_EXPORTER=otlp\n",
      "=======================\n",
      "'./artifacts/' 폴더가 존재하지 않습니다.\n",
      "\n",
      "=== Starting Queue-Only Event Stream ===\n",
      "INFO:src.utils.agentcore_observability:\u001b[92mSession ID 'insight-extractor-2' attached to telemetry context\u001b[0m\n",
      "context_token <Token var=<ContextVar name='current_context' default={} at 0xff9016ca0ef0> at 0xff90034038c0>\n",
      "INFO:src.workflow:\n",
      "\u001b[92mStarting graph streaming workflow\u001b[0m\n",
      "WARNING:strands.multiagent.graph:Graph without execution limits may run indefinitely if cycles exist\n",
      "WARNING:opentelemetry.attributes:Invalid type dict for attribute 'content' value. Expected one of ['bool', 'str', 'bytes', 'int', 'float'] or a sequence of those types\n",
      "\n",
      "INFO:src.graph.nodes:\u001b[92m===== Coordinator started =====\u001b[0m\n",
      "INFO:src.utils.strands_sdk_utils:\u001b[92mCOORDINATOR - Prompt Cache Disabled\u001b[0m\n",
      "\u001b[97mhan\u001b[0m\u001b[97mdoff_to_\u001b[0m\u001b[97mplanner: I\u001b[0m\u001b[97m'll need to cons\u001b[0m\u001b[97mult our planning system\u001b[0m\u001b[97m for this request.\u001b[0m\u001b[97m\n",
      "\n",
      "이\u001b[0m\u001b[97m \u001b[0m\u001b[97m요청은 \u001b[0m\u001b[97m데\u001b[0m\u001b[97m이터 분\u001b[0m\u001b[97m석,\u001b[0m\u001b[97m 시\u001b[0m\u001b[97m각\u001b[0m\u001b[97m화, PDF\u001b[0m\u001b[97m 생성 \u001b[0m\u001b[97m등 \u001b[0m\u001b[97m복\u001b[0m\u001b[97m잡한 \u001b[0m\u001b[97m작업이 \u001b[0m\u001b[97m필요하\u001b[0m\u001b[97m므로 전\u001b[0m\u001b[97m문 \u001b[0m\u001b[97m플래\u001b[0m\u001b[97m너 \u001b[0m\u001b[97m시\u001b[0m\u001b[97m스템에\u001b[0m\u001b[97m 전\u001b[0m\u001b[97m달하\u001b[0m\u001b[97m겠습니다\u001b[0m\u001b[97m.\u001b[0m\n",
      "INFO:src.graph.nodes:\u001b[92m===== Coordinator completed =====\u001b[0m\n",
      "\n",
      "INFO:src.graph.nodes:\u001b[92m===== Planner started =====\u001b[0m\n",
      "INFO:src.utils.strands_sdk_utils:\u001b[92mPLANNER - Prompt Cache Disabled\u001b[0m\n",
      "\u001b[96m사\u001b[0m\u001b[96m용자의 \u001b[0m\u001b[96m요청을\u001b[0m\u001b[96m 분석해\u001b[0m\u001b[96m보\u001b[0m\u001b[96m겠습니\u001b[0m\u001b[96m다.\u001b[0m\u001b[96m\n",
      "\n",
      "**요청 내\u001b[0m\u001b[96m용:**\n",
      "- Moon\u001b[0m\u001b[96m Market의\u001b[0m\u001b[96m 판\u001b[0m\u001b[96m매 현\u001b[0m\u001b[96m황 보\u001b[0m\u001b[96m고서 작\u001b[0m\u001b[96m성\n",
      "- \u001b[0m\u001b[96m세일\u001b[0m\u001b[96m즈 및\u001b[0m\u001b[96m 마케팅 \u001b[0m\u001b[96m관\u001b[0m\u001b[96m점에서 분\u001b[0m\u001b[96m석 필\u001b[0m\u001b[96m요\u001b[0m\u001b[96m\n",
      "- 차\u001b[0m\u001b[96m트 생\u001b[0m\u001b[96m성 및 인\u001b[0m\u001b[96m사이트 도\u001b[0m\u001b[96m출\n",
      "- PDF\u001b[0m\u001b[96m 파\u001b[0m\u001b[96m일 형\u001b[0m\u001b[96m식으로 \u001b[0m\u001b[96m최\u001b[0m\u001b[96m종 결과\u001b[0m\u001b[96m물 제출\u001b[0m\u001b[96m\n",
      "-\u001b[0m\u001b[96m 분석 대\u001b[0m\u001b[96m상 데이\u001b[0m\u001b[96m터: './\u001b[0m\u001b[96mdata/\u001b[0m\u001b[96mDat\u001b[0m\u001b[96m-fresh\u001b[0m\u001b[96m-food-\u001b[0m\u001b[96mclaude.csv'\u001b[0m\u001b[96m 파일\u001b[0m\u001b[96m\n",
      "\n",
      "이 작\u001b[0m\u001b[96m업은 다\u001b[0m\u001b[96m음과 같\u001b[0m\u001b[96m은 단계로 나\u001b[0m\u001b[96m눌 수\u001b[0m\u001b[96m 있습니\u001b[0m\u001b[96m다:\n",
      "\n",
      "1\u001b[0m\u001b[96m. **데이\u001b[0m\u001b[96m터 수집\u001b[0m\u001b[96m 및 분석**:\u001b[0m\u001b[96m Coder 에\u001b[0m\u001b[96m이전트가 \u001b[0m\u001b[96mCSV 파일을\u001b[0m\u001b[96m 로드하\u001b[0m\u001b[96m고 데이\u001b[0m\u001b[96m터를 분석\u001b[0m\u001b[96m\n",
      "2. **데\u001b[0m\u001b[96m이터 시\u001b[0m\u001b[96m각화**:\u001b[0m\u001b[96m Coder 에\u001b[0m\u001b[96m이전트가\u001b[0m\u001b[96m 판매 데\u001b[0m\u001b[96m이터를 \u001b[0m\u001b[96m시각화하\u001b[0m\u001b[96m여 차\u001b[0m\u001b[96m트 생성\n",
      "3. **\u001b[0m\u001b[96m인사이트\u001b[0m\u001b[96m 도출 \u001b[0m\u001b[96m및 보고\u001b[0m\u001b[96m서\u001b[0m\u001b[96m 작성**:\u001b[0m\u001b[96m Reporter\u001b[0m\u001b[96m \u001b[0m\u001b[96m에이전트\u001b[0m\u001b[96m가 분석\u001b[0m\u001b[96m 결과와\u001b[0m\u001b[96m 차트를\u001b[0m\u001b[96m 바\u001b[0m\u001b[96m탕으로\u001b[0m\u001b[96m 판\u001b[0m\u001b[96m매 현황\u001b[0m\u001b[96m 보고서\u001b[0m\u001b[96m 작성 \u001b[0m\u001b[96m및\u001b[0m\u001b[96m PDF\u001b[0m\u001b[96m 생성\u001b[0m\u001b[96m\n",
      "\n",
      "이러한 \u001b[0m\u001b[96m단계를 \u001b[0m\u001b[96m기\u001b[0m\u001b[96m반\u001b[0m\u001b[96m으로 상\u001b[0m\u001b[96m세\u001b[0m\u001b[96m한 계\u001b[0m\u001b[96m획을 수\u001b[0m\u001b[96m립하\u001b[0m\u001b[96m겠습니다\u001b[0m\u001b[96m. 특\u001b[0m\u001b[96m히\u001b[0m\u001b[96m 모\u001b[0m\u001b[96m든 코\u001b[0m\u001b[96m딩 관\u001b[0m\u001b[96m련 작업\u001b[0m\u001b[96m을 C\u001b[0m\u001b[96moder에게\u001b[0m\u001b[96m 한\u001b[0m\u001b[96m 번에\u001b[0m\u001b[96m 할\u001b[0m\u001b[96m당하고,\u001b[0m\u001b[96m 최\u001b[0m\u001b[96m종 보\u001b[0m\u001b[96m고서 \u001b[0m\u001b[96m작성을 \u001b[0m\u001b[96mReporter에게 \u001b[0m\u001b[96m할\u001b[0m\u001b[96m당하는\u001b[0m\u001b[96m 방\u001b[0m\u001b[96m식으\u001b[0m\u001b[96m로 구\u001b[0m\u001b[96m성하\u001b[0m\u001b[96m겠습니다\u001b[0m\u001b[96m.\u001b[0m\u001b[96m\u001b[0m\u001b[97m# Plan\n",
      "\n",
      "## thought\u001b[0m\u001b[97m\n",
      "사용자는 Moon Market의\u001b[0m\u001b[97m 판매 \u001b[0m\u001b[97m현황에 대한\u001b[0m\u001b[97m 보고서\u001b[0m\u001b[97m를 요청했\u001b[0m\u001b[97m습니다.\u001b[0m\u001b[97m 이 작\u001b[0m\u001b[97m업은 './\u001b[0m\u001b[97mdata/Dat\u001b[0m\u001b[97m-fresh-food-claude.csv\u001b[0m\u001b[97m' 파일\u001b[0m\u001b[97m을 분석하\u001b[0m\u001b[97m여 세\u001b[0m\u001b[97m일즈 \u001b[0m\u001b[97m및 마케\u001b[0m\u001b[97m팅 관\u001b[0m\u001b[97m점의 인사이\u001b[0m\u001b[97m트를 도출하고,\u001b[0m\u001b[97m 이를 시\u001b[0m\u001b[97m각화하여 PDF 형\u001b[0m\u001b[97m태로 제출\u001b[0m\u001b[97m하는 것\u001b[0m\u001b[97m입니다.\u001b[0m\u001b[97m 이를\u001b[0m\u001b[97m 위해 데\u001b[0m\u001b[97m이터 분석과\u001b[0m\u001b[97m 시각화\u001b[0m\u001b[97m는 Coder\u001b[0m\u001b[97m가 담당하고\u001b[0m\u001b[97m, 최종 보고\u001b[0m\u001b[97m서 작성\u001b[0m\u001b[97m은 Reporter가 담당하\u001b[0m\u001b[97m는 2단계 \u001b[0m\u001b[97m계획을 수\u001b[0m\u001b[97m립합니다.\u001b[0m\u001b[97m\n",
      "\n",
      "## title:\u001b[0m\u001b[97m\n",
      "Moon Market \u001b[0m\u001b[97m판매 현\u001b[0m\u001b[97m황 보고서 작성\u001b[0m\u001b[97m\n",
      "\n",
      "## steps:\u001b[0m\u001b[97m\n",
      "### 1.\u001b[0m\u001b[97m Coder: 데\u001b[0m\u001b[97m이터 분\u001b[0m\u001b[97m석 및 시각\u001b[0m\u001b[97m화\n",
      "- [\u001b[0m\u001b[97m ] './data/Dat\u001b[0m\u001b[97m-fresh-foo\u001b[0m\u001b[97md-claude.csv\u001b[0m\u001b[97m' 파일 \u001b[0m\u001b[97m로드 및\u001b[0m\u001b[97m 데이터\u001b[0m\u001b[97m 구\u001b[0m\u001b[97m조 파\u001b[0m\u001b[97m악\n",
      "- [\u001b[0m\u001b[97m ] 데\u001b[0m\u001b[97m이터 전\u001b[0m\u001b[97m처리 및\u001b[0m\u001b[97m 기\u001b[0m\u001b[97m초 통계 \u001b[0m\u001b[97m분석 \u001b[0m\u001b[97m수행\n",
      "-\u001b[0m\u001b[97m [ ] 판\u001b[0m\u001b[97m매량 추\u001b[0m\u001b[97m이 분석 \u001b[0m\u001b[97m(시간별\u001b[0m\u001b[97m, 제품별, \u001b[0m\u001b[97m카테고리별\u001b[0m\u001b[97m)\n",
      "- [\u001b[0m\u001b[97m ] 매출 분\u001b[0m\u001b[97m석 (총\u001b[0m\u001b[97m 매출, \u001b[0m\u001b[97m제품별 기\u001b[0m\u001b[97m여도, 성\u001b[0m\u001b[97m장률)\u001b[0m\u001b[97m\n",
      "- [ ] 마\u001b[0m\u001b[97m케팅 \u001b[0m\u001b[97m효과 분석\u001b[0m\u001b[97m (프\u001b[0m\u001b[97m로모션 효과, \u001b[0m\u001b[97m계절성, \u001b[0m\u001b[97m가격 \u001b[0m\u001b[97m탄력성)\u001b[0m\u001b[97m\n",
      "- [ ] \u001b[0m\u001b[97m주요 K\u001b[0m\u001b[97mPI 분석\u001b[0m\u001b[97m (전\u001b[0m\u001b[97m환율, 객\u001b[0m\u001b[97m단가, 재\u001b[0m\u001b[97m구매율 등\u001b[0m\u001b[97m)\n",
      "- [\u001b[0m\u001b[97m ] 판매 데\u001b[0m\u001b[97m이터 시\u001b[0m\u001b[97m각화 (\u001b[0m\u001b[97m시계열 차트\u001b[0m\u001b[97m, 막대 \u001b[0m\u001b[97m그래프, \u001b[0m\u001b[97m파이 차트 \u001b[0m\u001b[97m등)\n",
      "- [ ] 분\u001b[0m\u001b[97m석 결과\u001b[0m\u001b[97m 및 시\u001b[0m\u001b[97m각화 자\u001b[0m\u001b[97m료 저장\n",
      "\n",
      "### \u001b[0m\u001b[97m2. Reporter: 종\u001b[0m\u001b[97m합 보고서 작성\u001b[0m\u001b[97m 및 PDF \u001b[0m\u001b[97m생성\n",
      "- [\u001b[0m\u001b[97m ] 분석\u001b[0m\u001b[97m 데이터 및\u001b[0m\u001b[97m 시각화\u001b[0m\u001b[97m 자료 취\u001b[0m\u001b[97m합\n",
      "- [\u001b[0m\u001b[97m ] 보고서 구\u001b[0m\u001b[97m조 설계 (\u001b[0m\u001b[97m서론, 현\u001b[0m\u001b[97m황 분석, 인\u001b[0m\u001b[97m사이트, 제언)\u001b[0m\u001b[97m\n",
      "- [ ] 세\u001b[0m\u001b[97m일즈 관\u001b[0m\u001b[97m점의 주\u001b[0m\u001b[97m요 발견점\u001b[0m\u001b[97m 및 인사이트 \u001b[0m\u001b[97m정리\n",
      "- [\u001b[0m\u001b[97m ] 마케\u001b[0m\u001b[97m팅 관점의 주\u001b[0m\u001b[97m요 발견점 및 \u001b[0m\u001b[97m인사이트 정리\u001b[0m\u001b[97m\n",
      "- [ ] 향\u001b[0m\u001b[97m후 판매 및\u001b[0m\u001b[97m 마케팅 전\u001b[0m\n",
      "INFO:src.graph.nodes:\u001b[92m===== Planner completed =====\u001b[0m\n",
      "INFO:src.workflow:\n",
      "\u001b[92mGraph streaming workflow completed\u001b[0m\n",
      "Workflow completed: GraphResult(status=<Status.COMPLETED: 'completed'>, results={'coordinator': NodeResult(result=MultiAgentResult(status=<Status.COMPLETED: 'completed'>, results={'coordinator': NodeResult(result=AgentResult(stop_reason='end_turn', message={'role': 'assistant', 'content': [{'text': \"handoff_to_planner: I'll need to consult our planning system for this request.\\n\\n이 요청은 데이터 분석, 시각화, PDF 생성 등 복잡한 작업이 필요하므로 전문 플래너 시스템에 전달하겠습니다.\"}]}, metrics={}, state={}), execution_time=0, status=<Status.PENDING: 'pending'>, accumulated_usage={'inputTokens': 0, 'outputTokens': 0, 'totalTokens': 0}, accumulated_metrics={'latencyMs': 0}, execution_count=0)}, accumulated_usage={'inputTokens': 0, 'outputTokens': 0, 'totalTokens': 0}, accumulated_metrics={'latencyMs': 0}, execution_count=0, execution_time=0), execution_time=0, status=<Status.COMPLETED: 'completed'>, accumulated_usage={'inputTokens': 0, 'outputTokens': 0, 'totalTokens': 0}, accumulated_metrics={'latencyMs': 0}, execution_count=0), 'planner': NodeResult(result=MultiAgentResult(status=<Status.COMPLETED: 'completed'>, results={'planner': NodeResult(result=AgentResult(stop_reason='end_turn', message={'role': 'assistant', 'content': [{'text': \"# Plan\\n\\n## thought\\n사용자는 Moon Market의 판매 현황에 대한 보고서를 요청했습니다. 이 작업은 './data/Dat-fresh-food-claude.csv' 파일을 분석하여 세일즈 및 마케팅 관점의 인사이트를 도출하고, 이를 시각화하여 PDF 형태로 제출하는 것입니다. 이를 위해 데이터 분석과 시각화는 Coder가 담당하고, 최종 보고서 작성은 Reporter가 담당하는 2단계 계획을 수립합니다.\\n\\n## title:\\nMoon Market 판매 현황 보고서 작성\\n\\n## steps:\\n### 1. Coder: 데이터 분석 및 시각화\\n- [ ] './data/Dat-fresh-food-claude.csv' 파일 로드 및 데이터 구조 파악\\n- [ ] 데이터 전처리 및 기초 통계 분석 수행\\n- [ ] 판매량 추이 분석 (시간별, 제품별, 카테고리별)\\n- [ ] 매출 분석 (총 매출, 제품별 기여도, 성장률)\\n- [ ] 마케팅 효과 분석 (프로모션 효과, 계절성, 가격 탄력성)\\n- [ ] 주요 KPI 분석 (전환율, 객단가, 재구매율 등)\\n- [ ] 판매 데이터 시각화 (시계열 차트, 막대 그래프, 파이 차트 등)\\n- [ ] 분석 결과 및 시각화 자료 저장\\n\\n### 2. Reporter: 종합 보고서 작성 및 PDF 생성\\n- [ ] 분석 데이터 및 시각화 자료 취합\\n- [ ] 보고서 구조 설계 (서론, 현황 분석, 인사이트, 제언)\\n- [ ] 세일즈 관점의 주요 발견점 및 인사이트 정리\\n- [ ] 마케팅 관점의 주요 발견점 및 인사이트 정리\\n- [ ] 향후 판매 및 마케팅 전략에 대한 제언 작성\\n- [ ] 전체 내용을 체계적으로 조직하여 보고서 본문 작성\\n- [ ] 보고서를 PDF 형식으로 변환\\n- [ ] 최종 보고서 검토 및 완성\"}]}, metrics={}, state={}), execution_time=0, status=<Status.PENDING: 'pending'>, accumulated_usage={'inputTokens': 0, 'outputTokens': 0, 'totalTokens': 0}, accumulated_metrics={'latencyMs': 0}, execution_count=0)}, accumulated_usage={'inputTokens': 0, 'outputTokens': 0, 'totalTokens': 0}, accumulated_metrics={'latencyMs': 0}, execution_count=0, execution_time=0), execution_time=0, status=<Status.COMPLETED: 'completed'>, accumulated_usage={'inputTokens': 0, 'outputTokens': 0, 'totalTokens': 0}, accumulated_metrics={'latencyMs': 0}, execution_count=0)}, accumulated_usage={'inputTokens': 0, 'outputTokens': 0, 'totalTokens': 0}, accumulated_metrics={'latencyMs': 0}, execution_count=0, execution_time=23320, total_nodes=3, completed_nodes=2, failed_nodes=0, execution_order=[GraphNode(node_id='coordinator', executor=<src.graph.nodes.FunctionNode object at 0xff90035f3590>, dependencies=set(), execution_status=<Status.COMPLETED: 'completed'>, result=NodeResult(result=MultiAgentResult(status=<Status.COMPLETED: 'completed'>, results={'coordinator': NodeResult(result=AgentResult(stop_reason='end_turn', message={'role': 'assistant', 'content': [{'text': \"handoff_to_planner: I'll need to consult our planning system for this request.\\n\\n이 요청은 데이터 분석, 시각화, PDF 생성 등 복잡한 작업이 필요하므로 전문 플래너 시스템에 전달하겠습니다.\"}]}, metrics={}, state={}), execution_time=0, status=<Status.PENDING: 'pending'>, accumulated_usage={'inputTokens': 0, 'outputTokens': 0, 'totalTokens': 0}, accumulated_metrics={'latencyMs': 0}, execution_count=0)}, accumulated_usage={'inputTokens': 0, 'outputTokens': 0, 'totalTokens': 0}, accumulated_metrics={'latencyMs': 0}, execution_count=0, execution_time=0), execution_time=0, status=<Status.COMPLETED: 'completed'>, accumulated_usage={'inputTokens': 0, 'outputTokens': 0, 'totalTokens': 0}, accumulated_metrics={'latencyMs': 0}, execution_count=0), execution_time=0, _initial_messages=[], _initial_state=<strands.agent.state.AgentState object at 0xff90035f37a0>), GraphNode(node_id='planner', executor=<src.graph.nodes.FunctionNode object at 0xff90035f3710>, dependencies={GraphNode(node_id='coordinator', executor=<src.graph.nodes.FunctionNode object at 0xff90035f3590>, dependencies=set(), execution_status=<Status.COMPLETED: 'completed'>, result=NodeResult(result=MultiAgentResult(status=<Status.COMPLETED: 'completed'>, results={'coordinator': NodeResult(result=AgentResult(stop_reason='end_turn', message={'role': 'assistant', 'content': [{'text': \"handoff_to_planner: I'll need to consult our planning system for this request.\\n\\n이 요청은 데이터 분석, 시각화, PDF 생성 등 복잡한 작업이 필요하므로 전문 플래너 시스템에 전달하겠습니다.\"}]}, metrics={}, state={}), execution_time=0, status=<Status.PENDING: 'pending'>, accumulated_usage={'inputTokens': 0, 'outputTokens': 0, 'totalTokens': 0}, accumulated_metrics={'latencyMs': 0}, execution_count=0)}, accumulated_usage={'inputTokens': 0, 'outputTokens': 0, 'totalTokens': 0}, accumulated_metrics={'latencyMs': 0}, execution_count=0, execution_time=0), execution_time=0, status=<Status.COMPLETED: 'completed'>, accumulated_usage={'inputTokens': 0, 'outputTokens': 0, 'totalTokens': 0}, accumulated_metrics={'latencyMs': 0}, execution_count=0), execution_time=0, _initial_messages=[], _initial_state=<strands.agent.state.AgentState object at 0xff90035f37a0>)}, execution_status=<Status.COMPLETED: 'completed'>, result=NodeResult(result=MultiAgentResult(status=<Status.COMPLETED: 'completed'>, results={'planner': NodeResult(result=AgentResult(stop_reason='end_turn', message={'role': 'assistant', 'content': [{'text': \"# Plan\\n\\n## thought\\n사용자는 Moon Market의 판매 현황에 대한 보고서를 요청했습니다. 이 작업은 './data/Dat-fresh-food-claude.csv' 파일을 분석하여 세일즈 및 마케팅 관점의 인사이트를 도출하고, 이를 시각화하여 PDF 형태로 제출하는 것입니다. 이를 위해 데이터 분석과 시각화는 Coder가 담당하고, 최종 보고서 작성은 Reporter가 담당하는 2단계 계획을 수립합니다.\\n\\n## title:\\nMoon Market 판매 현황 보고서 작성\\n\\n## steps:\\n### 1. Coder: 데이터 분석 및 시각화\\n- [ ] './data/Dat-fresh-food-claude.csv' 파일 로드 및 데이터 구조 파악\\n- [ ] 데이터 전처리 및 기초 통계 분석 수행\\n- [ ] 판매량 추이 분석 (시간별, 제품별, 카테고리별)\\n- [ ] 매출 분석 (총 매출, 제품별 기여도, 성장률)\\n- [ ] 마케팅 효과 분석 (프로모션 효과, 계절성, 가격 탄력성)\\n- [ ] 주요 KPI 분석 (전환율, 객단가, 재구매율 등)\\n- [ ] 판매 데이터 시각화 (시계열 차트, 막대 그래프, 파이 차트 등)\\n- [ ] 분석 결과 및 시각화 자료 저장\\n\\n### 2. Reporter: 종합 보고서 작성 및 PDF 생성\\n- [ ] 분석 데이터 및 시각화 자료 취합\\n- [ ] 보고서 구조 설계 (서론, 현황 분석, 인사이트, 제언)\\n- [ ] 세일즈 관점의 주요 발견점 및 인사이트 정리\\n- [ ] 마케팅 관점의 주요 발견점 및 인사이트 정리\\n- [ ] 향후 판매 및 마케팅 전략에 대한 제언 작성\\n- [ ] 전체 내용을 체계적으로 조직하여 보고서 본문 작성\\n- [ ] 보고서를 PDF 형식으로 변환\\n- [ ] 최종 보고서 검토 및 완성\"}]}, metrics={}, state={}), execution_time=0, status=<Status.PENDING: 'pending'>, accumulated_usage={'inputTokens': 0, 'outputTokens': 0, 'totalTokens': 0}, accumulated_metrics={'latencyMs': 0}, execution_count=0)}, accumulated_usage={'inputTokens': 0, 'outputTokens': 0, 'totalTokens': 0}, accumulated_metrics={'latencyMs': 0}, execution_count=0, execution_time=0), execution_time=0, status=<Status.COMPLETED: 'completed'>, accumulated_usage={'inputTokens': 0, 'outputTokens': 0, 'totalTokens': 0}, accumulated_metrics={'latencyMs': 0}, execution_count=0), execution_time=0, _initial_messages=[], _initial_state=<strands.agent.state.AgentState object at 0xff90035f3800>)], edges=[(GraphNode(node_id='coordinator', executor=<src.graph.nodes.FunctionNode object at 0xff90035f3590>, dependencies=set(), execution_status=<Status.COMPLETED: 'completed'>, result=NodeResult(result=MultiAgentResult(status=<Status.COMPLETED: 'completed'>, results={'coordinator': NodeResult(result=AgentResult(stop_reason='end_turn', message={'role': 'assistant', 'content': [{'text': \"handoff_to_planner: I'll need to consult our planning system for this request.\\n\\n이 요청은 데이터 분석, 시각화, PDF 생성 등 복잡한 작업이 필요하므로 전문 플래너 시스템에 전달하겠습니다.\"}]}, metrics={}, state={}), execution_time=0, status=<Status.PENDING: 'pending'>, accumulated_usage={'inputTokens': 0, 'outputTokens': 0, 'totalTokens': 0}, accumulated_metrics={'latencyMs': 0}, execution_count=0)}, accumulated_usage={'inputTokens': 0, 'outputTokens': 0, 'totalTokens': 0}, accumulated_metrics={'latencyMs': 0}, execution_count=0, execution_time=0), execution_time=0, status=<Status.COMPLETED: 'completed'>, accumulated_usage={'inputTokens': 0, 'outputTokens': 0, 'totalTokens': 0}, accumulated_metrics={'latencyMs': 0}, execution_count=0), execution_time=0, _initial_messages=[], _initial_state=<strands.agent.state.AgentState object at 0xff90035f37a0>), GraphNode(node_id='planner', executor=<src.graph.nodes.FunctionNode object at 0xff90035f3710>, dependencies={GraphNode(node_id='coordinator', executor=<src.graph.nodes.FunctionNode object at 0xff90035f3590>, dependencies=set(), execution_status=<Status.COMPLETED: 'completed'>, result=NodeResult(result=MultiAgentResult(status=<Status.COMPLETED: 'completed'>, results={'coordinator': NodeResult(result=AgentResult(stop_reason='end_turn', message={'role': 'assistant', 'content': [{'text': \"handoff_to_planner: I'll need to consult our planning system for this request.\\n\\n이 요청은 데이터 분석, 시각화, PDF 생성 등 복잡한 작업이 필요하므로 전문 플래너 시스템에 전달하겠습니다.\"}]}, metrics={}, state={}), execution_time=0, status=<Status.PENDING: 'pending'>, accumulated_usage={'inputTokens': 0, 'outputTokens': 0, 'totalTokens': 0}, accumulated_metrics={'latencyMs': 0}, execution_count=0)}, accumulated_usage={'inputTokens': 0, 'outputTokens': 0, 'totalTokens': 0}, accumulated_metrics={'latencyMs': 0}, execution_count=0, execution_time=0), execution_time=0, status=<Status.COMPLETED: 'completed'>, accumulated_usage={'inputTokens': 0, 'outputTokens': 0, 'totalTokens': 0}, accumulated_metrics={'latencyMs': 0}, execution_count=0), execution_time=0, _initial_messages=[], _initial_state=<strands.agent.state.AgentState object at 0xff90035f37a0>)}, execution_status=<Status.COMPLETED: 'completed'>, result=NodeResult(result=MultiAgentResult(status=<Status.COMPLETED: 'completed'>, results={'planner': NodeResult(result=AgentResult(stop_reason='end_turn', message={'role': 'assistant', 'content': [{'text': \"# Plan\\n\\n## thought\\n사용자는 Moon Market의 판매 현황에 대한 보고서를 요청했습니다. 이 작업은 './data/Dat-fresh-food-claude.csv' 파일을 분석하여 세일즈 및 마케팅 관점의 인사이트를 도출하고, 이를 시각화하여 PDF 형태로 제출하는 것입니다. 이를 위해 데이터 분석과 시각화는 Coder가 담당하고, 최종 보고서 작성은 Reporter가 담당하는 2단계 계획을 수립합니다.\\n\\n## title:\\nMoon Market 판매 현황 보고서 작성\\n\\n## steps:\\n### 1. Coder: 데이터 분석 및 시각화\\n- [ ] './data/Dat-fresh-food-claude.csv' 파일 로드 및 데이터 구조 파악\\n- [ ] 데이터 전처리 및 기초 통계 분석 수행\\n- [ ] 판매량 추이 분석 (시간별, 제품별, 카테고리별)\\n- [ ] 매출 분석 (총 매출, 제품별 기여도, 성장률)\\n- [ ] 마케팅 효과 분석 (프로모션 효과, 계절성, 가격 탄력성)\\n- [ ] 주요 KPI 분석 (전환율, 객단가, 재구매율 등)\\n- [ ] 판매 데이터 시각화 (시계열 차트, 막대 그래프, 파이 차트 등)\\n- [ ] 분석 결과 및 시각화 자료 저장\\n\\n### 2. Reporter: 종합 보고서 작성 및 PDF 생성\\n- [ ] 분석 데이터 및 시각화 자료 취합\\n- [ ] 보고서 구조 설계 (서론, 현황 분석, 인사이트, 제언)\\n- [ ] 세일즈 관점의 주요 발견점 및 인사이트 정리\\n- [ ] 마케팅 관점의 주요 발견점 및 인사이트 정리\\n- [ ] 향후 판매 및 마케팅 전략에 대한 제언 작성\\n- [ ] 전체 내용을 체계적으로 조직하여 보고서 본문 작성\\n- [ ] 보고서를 PDF 형식으로 변환\\n- [ ] 최종 보고서 검토 및 완성\"}]}, metrics={}, state={}), execution_time=0, status=<Status.PENDING: 'pending'>, accumulated_usage={'inputTokens': 0, 'outputTokens': 0, 'totalTokens': 0}, accumulated_metrics={'latencyMs': 0}, execution_count=0)}, accumulated_usage={'inputTokens': 0, 'outputTokens': 0, 'totalTokens': 0}, accumulated_metrics={'latencyMs': 0}, execution_count=0, execution_time=0), execution_time=0, status=<Status.COMPLETED: 'completed'>, accumulated_usage={'inputTokens': 0, 'outputTokens': 0, 'totalTokens': 0}, accumulated_metrics={'latencyMs': 0}, execution_count=0), execution_time=0, _initial_messages=[], _initial_state=<strands.agent.state.AgentState object at 0xff90035f3800>))], entry_points=[GraphNode(node_id='coordinator', executor=<src.graph.nodes.FunctionNode object at 0xff90035f3590>, dependencies=set(), execution_status=<Status.COMPLETED: 'completed'>, result=NodeResult(result=MultiAgentResult(status=<Status.COMPLETED: 'completed'>, results={'coordinator': NodeResult(result=AgentResult(stop_reason='end_turn', message={'role': 'assistant', 'content': [{'text': \"handoff_to_planner: I'll need to consult our planning system for this request.\\n\\n이 요청은 데이터 분석, 시각화, PDF 생성 등 복잡한 작업이 필요하므로 전문 플래너 시스템에 전달하겠습니다.\"}]}, metrics={}, state={}), execution_time=0, status=<Status.PENDING: 'pending'>, accumulated_usage={'inputTokens': 0, 'outputTokens': 0, 'totalTokens': 0}, accumulated_metrics={'latencyMs': 0}, execution_count=0)}, accumulated_usage={'inputTokens': 0, 'outputTokens': 0, 'totalTokens': 0}, accumulated_metrics={'latencyMs': 0}, execution_count=0, execution_time=0), execution_time=0, status=<Status.COMPLETED: 'completed'>, accumulated_usage={'inputTokens': 0, 'outputTokens': 0, 'totalTokens': 0}, accumulated_metrics={'latencyMs': 0}, execution_count=0), execution_time=0, _initial_messages=[], _initial_state=<strands.agent.state.AgentState object at 0xff90035f37a0>)])\n",
      "\u001b[97m략에 대한 \u001b[0m\u001b[97m제언 작\u001b[0m\u001b[97m성\n",
      "- [ ] \u001b[0m\u001b[97m전체 내\u001b[0m\u001b[97m용을 체계적으로\u001b[0m\u001b[97m 조직하\u001b[0m\u001b[97m여 보고서\u001b[0m\u001b[97m 본문 작성\u001b[0m\u001b[97m\n",
      "- [ ]\u001b[0m\u001b[97m 보고서를\u001b[0m\u001b[97m PDF 형식으로 \u001b[0m\u001b[97m변환\n",
      "- [ ] \u001b[0m\u001b[97m최종 보고\u001b[0m\u001b[97m서 검토 및 \u001b[0m\u001b[97m완성\u001b[0m\n",
      "=== Conversation History ===\n",
      "[coordinator] handoff_to_planner: I'll need to consult our planning system for this request.\n",
      "\n",
      "이 요청은 데이터 분석, 시각화, PDF 생성 등 복잡한 작업이 필요하므로 전문 플래너 시스템에 전달하겠습니다.\n",
      "[planner] # Plan\n",
      "\n",
      "## thought\n",
      "사용자는 Moon Market의 판매 현황에 대한 보고서를 요청했습니다. 이 작업은 './data/Dat-fresh-food-claude.csv' 파일을 분석하여 세일즈 및 마케팅 관점의 인사이트를 도출하고, 이를 시각화하여 PDF 형태로 제출하는 것입니다. 이를 위해 데이터 분석과 시각화는 Coder가 담당하고, 최종 보고서 작성은 Reporter가 담당하는 2단계 계획을 수립합니다.\n",
      "\n",
      "## title:\n",
      "Moon Market 판매 현황 보고서 작성\n",
      "\n",
      "## steps:\n",
      "### 1. Coder: 데이터 분석 및 시각화\n",
      "- [ ] './data/Dat-fresh-food-claude.csv' 파일 로드 및 데이터 구조 파악\n",
      "- [ ] 데이터 전처리 및 기초 통계 분석 수행\n",
      "- [ ] 판매량 추이 분석 (시간별, 제품별, 카테고리별)\n",
      "- [ ] 매출 분석 (총 매출, 제품별 기여도, 성장률)\n",
      "- [ ] 마케팅 효과 분석 (프로모션 효과, 계절성, 가격 탄력성)\n",
      "- [ ] 주요 KPI 분석 (전환율, 객단가, 재구매율 등)\n",
      "- [ ] 판매 데이터 시각화 (시계열 차트, 막대 그래프, 파이 차트 등)\n",
      "- [ ] 분석 결과 및 시각화 자료 저장\n",
      "\n",
      "### 2. Reporter: 종합 보고서 작성 및 PDF 생성\n",
      "- [ ] 분석 데이터 및 시각화 자료 취합\n",
      "- [ ] 보고서 구조 설계 (서론, 현황 분석, 인사이트, 제언)\n",
      "- [ ] 세일즈 관점의 주요 발견점 및 인사이트 정리\n",
      "- [ ] 마케팅 관점의 주요 발견점 및 인사이트 정리\n",
      "- [ ] 향후 판매 및 마케팅 전략에 대한 제언 작성\n",
      "- [ ] 전체 내용을 체계적으로 조직하여 보고서 본문 작성\n",
      "- [ ] 보고서를 PDF 형식으로 변환\n",
      "- [ ] 최종 보고서 검토 및 완성\n",
      "=== Queue-Only Event Stream Complete ===\n"
     ]
    }
   ],
   "source": [
    "!opentelemetry-instrument python obs.py"
   ]
  },
  {
   "cell_type": "code",
   "execution_count": 1,
   "id": "a0ed6710",
   "metadata": {},
   "outputs": [],
   "source": [
    "from opentelemetry import trace, context"
   ]
  },
  {
   "cell_type": "code",
   "execution_count": 2,
   "id": "f98222ea",
   "metadata": {},
   "outputs": [
    {
     "name": "stdout",
     "output_type": "stream",
     "text": [
      "\u001b[31mSignature:\u001b[39m\n",
      "trace.get_tracer(\n",
      "    instrumenting_module_name: str,\n",
      "    instrumenting_library_version: Optional[str] = \u001b[38;5;28;01mNone\u001b[39;00m,\n",
      "    tracer_provider: Optional[opentelemetry.trace.TracerProvider] = \u001b[38;5;28;01mNone\u001b[39;00m,\n",
      "    schema_url: Optional[str] = \u001b[38;5;28;01mNone\u001b[39;00m,\n",
      "    attributes: Optional[Mapping[str, Union[str, bool, int, float, Sequence[str], Sequence[bool], Sequence[int], Sequence[float]]]] = \u001b[38;5;28;01mNone\u001b[39;00m,\n",
      ") -> \u001b[33m'Tracer'\u001b[39m\n",
      "\u001b[31mDocstring:\u001b[39m\n",
      "Returns a `Tracer` for use by the given instrumentation library.\n",
      "\n",
      "This function is a convenience wrapper for\n",
      "opentelemetry.trace.TracerProvider.get_tracer.\n",
      "\n",
      "If tracer_provider is omitted the current configured one is used.\n",
      "\u001b[31mFile:\u001b[39m      ~/projects/aws-ai-ml-workshop-kr/genai/aws-gen-ai-kr/20_applications/08_bedrock_manus/use_cases/05_insight_extractor_strands_sdk_workshop_phase_2/setup/.venv/lib/python3.12/site-packages/opentelemetry/trace/__init__.py\n",
      "\u001b[31mType:\u001b[39m      function"
     ]
    }
   ],
   "source": [
    "trace.get_tracer?"
   ]
  },
  {
   "cell_type": "code",
   "execution_count": null,
   "id": "1025d939",
   "metadata": {},
   "outputs": [],
   "source": []
  }
 ],
 "metadata": {
  "kernelspec": {
   "display_name": "bedrock-manus-agentcore (UV)",
   "language": "python",
   "name": "bedrock-manus-agentcore"
  },
  "language_info": {
   "codemirror_mode": {
    "name": "ipython",
    "version": 3
   },
   "file_extension": ".py",
   "mimetype": "text/x-python",
   "name": "python",
   "nbconvert_exporter": "python",
   "pygments_lexer": "ipython3",
   "version": "3.12.11"
  }
 },
 "nbformat": 4,
 "nbformat_minor": 5
}