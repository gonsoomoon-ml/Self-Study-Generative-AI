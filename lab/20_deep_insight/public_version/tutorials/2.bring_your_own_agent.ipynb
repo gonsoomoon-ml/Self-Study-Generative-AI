{
 "cells": [
  {
   "cell_type": "markdown",
   "id": "b739ff32",
   "metadata": {},
   "source": [
    "# Bring Your Own Agent"
   ]
  },
  {
   "cell_type": "markdown",
   "id": "f3a00f3e",
   "metadata": {},
   "source": [
    "# 1. Architecture"
   ]
  },
  {
   "cell_type": "code",
   "execution_count": null,
   "id": "557f0a6c",
   "metadata": {},
   "outputs": [],
   "source": []
  },
  {
   "cell_type": "markdown",
   "id": "b84ed0ee",
   "metadata": {},
   "source": [
    "# 2. Bring Your Own Agent"
   ]
  },
  {
   "cell_type": "markdown",
   "id": "90968061",
   "metadata": {},
   "source": [
    "## 2.1. Graph definition"
   ]
  },
  {
   "cell_type": "markdown",
   "id": "ae498bbc",
   "metadata": {},
   "source": [
    "### 2.1.1. Prompts"
   ]
  },
  {
   "cell_type": "markdown",
   "id": "7f7e93a2",
   "metadata": {},
   "source": [
    "- agent name: \"coordinator\"\n",
    "- script path: [\"../src/prompts/coordinator.md\"](../src/prompts/coordinator.md)"
   ]
  },
  {
   "cell_type": "code",
   "execution_count": null,
   "id": "2378eaa9",
   "metadata": {},
   "outputs": [],
   "source": [
    "%%writefile ../src/prompts/coordinator_yours.md\n",
    "\n",
    "<here, your prompt>"
   ]
  },
  {
   "cell_type": "markdown",
   "id": "7f599160",
   "metadata": {},
   "source": [
    "- agent name: \"coder\"\n",
    "- script path: [\"../src/prompts/coder.md\"](../src/prompts/coder.md)"
   ]
  },
  {
   "cell_type": "code",
   "execution_count": null,
   "id": "2d9254a0",
   "metadata": {},
   "outputs": [],
   "source": [
    "%%writefile ../src/prompts/coder_yours.md\n",
    "\n",
    "<here, your prompt>"
   ]
  },
  {
   "cell_type": "markdown",
   "id": "640bad77",
   "metadata": {},
   "source": [
    "### 2.1.2 Tools"
   ]
  },
  {
   "cell_type": "markdown",
   "id": "262f4283",
   "metadata": {},
   "source": [
    "- tool name: \"python_repl_tool\"\n",
    "- script path: [\"../src/tools/python_repl_tool.py\"](../src/tools/python_repl_tool.py)"
   ]
  },
  {
   "cell_type": "code",
   "execution_count": null,
   "id": "7d654174",
   "metadata": {},
   "outputs": [],
   "source": [
    "%%writefile ../src/tools/python_repl_tool_yours.py\n",
    "\n",
    "<here, your tool>"
   ]
  },
  {
   "cell_type": "markdown",
   "id": "b7c77d17",
   "metadata": {},
   "source": [
    "- tool name: \"coder_agent_tool\" (**agent as a tool**)\n",
    "- script path: [\"../src/tools/coder_agent_tool.py\"](../src/tools/coder_agent_tool.py)"
   ]
  },
  {
   "cell_type": "code",
   "execution_count": null,
   "id": "bcf96002",
   "metadata": {},
   "outputs": [],
   "source": [
    "%%writefile ../src/tools/coder_agent_tool_yours.py\n",
    "\n",
    "<here, your agent as a tool>"
   ]
  },
  {
   "cell_type": "markdown",
   "id": "e0ed7e97",
   "metadata": {},
   "source": [
    "### 2.1.3 Nodes\n",
    "- 각 노드별 로직을 정의합니다.\n",
    "- script path: [\"../src/graph/nodes.py\"](../src/graph/nodes.py)"
   ]
  },
  {
   "cell_type": "code",
   "execution_count": null,
   "id": "208e8ca2",
   "metadata": {},
   "outputs": [],
   "source": [
    "%%writefile ../src/graph/nodes_yours.py\n",
    "\n",
    "<here, your nodes>"
   ]
  },
  {
   "cell_type": "markdown",
   "id": "6054ebbd",
   "metadata": {},
   "source": [
    "### 2.1.4 Edges (Build Graph)\n",
    "- Strans Agents - [Grpah Pattern](https://strandsagents.com/latest/documentation/docs/user-guide/concepts/multi-agent/graph/?h=graph)\n",
    "- script path: [\"../src/graph/builder.py\"](../src/graph/builder.py#L66-L86)"
   ]
  },
  {
   "cell_type": "code",
   "execution_count": null,
   "id": "73e4a02e",
   "metadata": {},
   "outputs": [],
   "source": [
    "%%writefile ../src/graph/builder_yours.py\n",
    "\n",
    "<here, your edges>"
   ]
  },
  {
   "cell_type": "markdown",
   "id": "22b00640",
   "metadata": {},
   "source": [
    "## 2.2. Main defination\n",
    "- Input definition\n",
    "- 1st script path: [\"../main.py\", Line 80 - 96](../main.py#L80-L96)\n",
    "- 2nd script path: [\"../main.py\", Line 115 - 135](../main.py#L115-L135)"
   ]
  },
  {
   "cell_type": "markdown",
   "id": "b112219d",
   "metadata": {},
   "source": [
    "## 3. Invocation"
   ]
  },
  {
   "cell_type": "code",
   "execution_count": null,
   "id": "73a6b6bc",
   "metadata": {},
   "outputs": [],
   "source": [
    "!uv run ../main.py \\\n",
    "    --user_query \"너가 작성할 것은 moon market 의 판매 현황 보고서야. 세일즈 및 마케팅 관점으로 분석을 해주고, 차트 생성 및 인사이트도 뽑아서 pdf 파일로 만들어줘. 분석대상은 './data/Dat-fresh-food-claude.csv' 파일 입니다.\""
   ]
  },
  {
   "cell_type": "markdown",
   "id": "9c2480c7",
   "metadata": {},
   "source": [
    "- with observability"
   ]
  },
  {
   "cell_type": "code",
   "execution_count": null,
   "id": "056196cc",
   "metadata": {},
   "outputs": [],
   "source": [
    "%%writefile ../.env\n",
    "\n",
    "# AWS OpenTelemetry Configuration\n",
    "OTEL_PYTHON_DISTRO=aws_distro\n",
    "OTEL_PYTHON_CONFIGURATOR=aws_configurator\n",
    "OTEL_EXPORTER_OTLP_PROTOCOL=http/protobuf\n",
    "OTEL_EXPORTER_OTLP_LOGS_HEADERS=x-aws-log-group=bedrock-agentcore-observability,x-aws-log-stream=insight-extractor-stream,x-aws-metric-namespace=AgentCore\n",
    "OTEL_RESOURCE_ATTRIBUTES=service.name=insight-extractor-agent # OTEL_RESOURCE_ATTRIBUTES=service.name ==> (cloudwatch) GenAI Observability에서 Agent Name에 적용\n",
    "AGENT_OBSERVABILITY_ENABLED=true\n",
    "\n",
    "# AWS Configuration\n",
    "AWS_REGION=us-west-2\n",
    "AWS_DEFAULT_REGION=us-west-2\n",
    "AWS_ACCOUNT_ID=615299776985\n",
    "\n",
    "# Tracing Configuration\n",
    "TRACER_MODULE_NAME=insight_extractor_agent\n",
    "TRACER_LIBRARY_VERSION=1.0.0\n"
   ]
  },
  {
   "cell_type": "code",
   "execution_count": null,
   "id": "68945826",
   "metadata": {},
   "outputs": [],
   "source": [
    "!uv run --env-file ../.env opentelemetry-instrument python ../main.py \\\n",
    "    --user_query \"너가 작성할 것은 moon market 의 판매 현황 보고서야. 세일즈 및 마케팅 관점으로 분석을 해주고, 차트 생성 및 인사이트도 뽑아서 pdf 파일로 만들어줘. 분석대상은 './data/Dat-fresh-food-claude.csv' 파일 입니다.\" \\\n",
    "    --session_id \"insight-extractor-2\""
   ]
  },
  {
   "cell_type": "markdown",
   "id": "37d15a12",
   "metadata": {},
   "source": [
    "## 4. AgentCore"
   ]
  },
  {
   "cell_type": "code",
   "execution_count": null,
   "id": "711ff0c2",
   "metadata": {},
   "outputs": [],
   "source": []
  }
 ],
 "metadata": {
  "kernelspec": {
   "display_name": "bedrock-manus-agentcore (UV)",
   "language": "python",
   "name": "bedrock-manus-agentcore"
  },
  "language_info": {
   "codemirror_mode": {
    "name": "ipython",
    "version": 3
   },
   "file_extension": ".py",
   "mimetype": "text/x-python",
   "name": "python",
   "nbconvert_exporter": "python",
   "pygments_lexer": "ipython3",
   "version": "3.12.11"
  }
 },
 "nbformat": 4,
 "nbformat_minor": 5
}
