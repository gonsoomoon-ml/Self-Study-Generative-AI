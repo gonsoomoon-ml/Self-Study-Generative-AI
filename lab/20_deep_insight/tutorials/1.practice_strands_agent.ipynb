{
 "cells": [
  {
   "cell_type": "markdown",
   "id": "ff04f9fe",
   "metadata": {},
   "source": [
    "# Strands Agent SDK"
   ]
  },
  {
   "cell_type": "code",
   "execution_count": 1,
   "id": "3078d567",
   "metadata": {},
   "outputs": [],
   "source": [
    "%load_ext autoreload\n",
    "%autoreload 2"
   ]
  },
  {
   "cell_type": "markdown",
   "id": "1f391050",
   "metadata": {},
   "source": [
    "## 1. 환경변수 및 lib path 설정"
   ]
  },
  {
   "cell_type": "code",
   "execution_count": 2,
   "id": "7c8360fc",
   "metadata": {},
   "outputs": [],
   "source": [
    "import os, sys\n",
    "from dotenv import load_dotenv"
   ]
  },
  {
   "cell_type": "code",
   "execution_count": 3,
   "id": "9fd1453a",
   "metadata": {},
   "outputs": [
    {
     "name": "stdout",
     "output_type": "stream",
     "text": [
      "AWS_DEFAULT_REGION: us-west-2\n"
     ]
    }
   ],
   "source": [
    "load_dotenv()\n",
    "print (f'AWS_DEFAULT_REGION: {os.getenv(\"AWS_DEFAULT_REGION\")}')\n",
    "\n",
    "module_path = \"..\"\n",
    "sys.path.append(os.path.abspath(module_path))"
   ]
  },
  {
   "cell_type": "markdown",
   "id": "8e39305e",
   "metadata": {},
   "source": [
    "## 2. Utilities"
   ]
  },
  {
   "cell_type": "markdown",
   "id": "fb0b0d8a",
   "metadata": {},
   "source": [
    "### 2.1 Get llm model\n",
    "- function name: \"get_model\"\n",
    "- script path: [\"../src/utils/strands_sdk_utils.py\"](../src/utils/strands_sdk_utils.py#L51-L100)"
   ]
  },
  {
   "cell_type": "markdown",
   "id": "faa2b767",
   "metadata": {},
   "source": [
    "### 2.2 Get system prompt\n",
    "- function name: \"apply_prompt_template\"\n",
    "- script path: [\"../src/prompts/template.py\"](../src/prompts/template.py#L4-L12)"
   ]
  },
  {
   "cell_type": "markdown",
   "id": "2357e8a0",
   "metadata": {},
   "source": [
    "### 2.3 Create agent\n",
    "- function name: \"get_agent\"\n",
    "- script path: [\"../src/utils/strands_sdk_utils.py\"](../src/utils/strands_sdk_utils.py#L102-L126)"
   ]
  },
  {
   "cell_type": "markdown",
   "id": "09fdda10",
   "metadata": {},
   "source": [
    "## 3. Agent definition"
   ]
  },
  {
   "cell_type": "markdown",
   "id": "e050e754",
   "metadata": {},
   "source": [
    "- Agent name"
   ]
  },
  {
   "cell_type": "code",
   "execution_count": 4,
   "id": "bd4667df",
   "metadata": {},
   "outputs": [],
   "source": [
    "agent_name = \"toy_agent\""
   ]
  },
  {
   "cell_type": "markdown",
   "id": "64cf9cf1",
   "metadata": {},
   "source": [
    "- System prompt"
   ]
  },
  {
   "cell_type": "code",
   "execution_count": 5,
   "id": "f5254717",
   "metadata": {},
   "outputs": [
    {
     "name": "stdout",
     "output_type": "stream",
     "text": [
      "Overwriting ../src/prompts/toy_agent.md\n"
     ]
    }
   ],
   "source": [
    "%%writefile ../src/prompts/toy_agent.md\n",
    "\n",
    "---\n",
    "CURRENT_TIME: {CURRENT_TIME}\n",
    "AGENT_NAME: {AGENT_NAME}\n",
    "---\n",
    "\n",
    "You are Bedrock-Manus, a friendly AI assistant developed by AWS AIML Specialist SA Dongjin Jang.\n",
    "You specialize in handling greetings, small talk, and knowledge-based question answering using available tools.\n",
    "\n",
    "## Available Tools\n",
    "\n",
    "You have access to the following tools that you should use when appropriate:\n",
    "\n",
    "### 1. Python REPL Tool (python_repl_tool)\n",
    "**When to use**: Use this tool when users need to execute Python code or perform data analysis:\n",
    "- Running Python scripts or code snippets\n",
    "- Data analysis and calculations\n",
    "- Testing code functionality\n",
    "- Mathematical computations\n",
    "\n",
    "**What it does**: Executes Python code in a REPL environment and returns the output\n",
    "\n",
    "**Input**: Python code string\n",
    "\n",
    "### 2. Bash Tool (bash_tool) \n",
    "**When to use**: Use this tool when users need to execute system commands or perform file operations:\n",
    "- Running shell commands\n",
    "- File system operations (ls, mkdir, etc.)\n",
    "- System information queries\n",
    "- Development tasks requiring command line operations\n",
    "\n",
    "**What it does**: Executes bash commands and returns the output\n",
    "\n",
    "**Input**: A bash command string\n",
    "\n",
    "## Tool Usage Guidelines\n",
    "\n",
    "1. **Assess the user's request** - Determine if the question requires tool usage\n",
    "2. **Choose the appropriate tool** - Select based on the type of information needed\n",
    "3. **Use RAG tool for knowledge queries** - When the user asks about topics that might be in your knowledge base\n",
    "4. **Use Python REPL for code execution** - When the user needs to run Python code or perform calculations\n",
    "5. **Use Bash tool for system operations** - When the user needs to interact with the system\n",
    "6. **Provide helpful responses** - Always explain the results in a user-friendly way\n",
    "\n",
    "## Response Style\n",
    "\n",
    "- Be friendly and conversational\n",
    "- Provide clear, helpful answers\n",
    "- When using tools, explain what you're doing and why\n",
    "- If a tool doesn't provide the needed information, acknowledge this and offer alternatives\n",
    "- Always prioritize user experience and clarity\n",
    "\n",
    "Remember to use tools proactively when they can help answer user questions more accurately or completely."
   ]
  },
  {
   "cell_type": "markdown",
   "id": "8d014589",
   "metadata": {},
   "source": [
    "- Get agent"
   ]
  },
  {
   "cell_type": "code",
   "execution_count": null,
   "id": "45aa5b16",
   "metadata": {},
   "outputs": [],
   "source": [
    "from src.utils.strands_sdk_utils import strands_utils\n",
    "from src.prompts.template import apply_prompt_template"
   ]
  },
  {
   "cell_type": "code",
   "execution_count": null,
   "id": "8631bfde",
   "metadata": {},
   "outputs": [],
   "source": [
    "agent = strands_utils.get_agent(\n",
    "    agent_name=agent_name,\n",
    "    system_prompts=apply_prompt_template(prompt_name=agent_name, prompt_context={\"AGENT_NAME\": agent_name}),\n",
    "    agent_type=\"claude-sonnet-3-7\", # claude-sonnet-3-5-v-2, claude-sonnet-3-7\n",
    "    enable_reasoning=False,\n",
    "    prompt_cache_info=(False, None), #(False, None), (True, \"default\")\n",
    "    streaming=True,\n",
    ")\n",
    "\n",
    "#system_prompts=apply_prompt_template(prompt_name=agent_name, prompt_context={\"AGENT_NAME\": agent_name})\n",
    "#print (f'System prompt: \\n{system_prompts}')"
   ]
  },
  {
   "cell_type": "markdown",
   "id": "b65382b9",
   "metadata": {},
   "source": [
    "## 4 Invocation"
   ]
  },
  {
   "cell_type": "markdown",
   "id": "3efda5d8",
   "metadata": {},
   "source": [
    "### 4.1 without streaming\n",
    "\n",
    "- function name: process_streaming_response_yield\n",
    "- script path: [\"../src/utils/strands_sdk_utils.py\"](../src/utils/strands_sdk_utils.py#L180-L200)"
   ]
  },
  {
   "cell_type": "code",
   "execution_count": null,
   "id": "b83889c0",
   "metadata": {},
   "outputs": [],
   "source": [
    "user_input = \"안녕 만나서 반가워. 나는 지금 Strands Agents SDK 공부중이야.\"\n",
    "\n",
    "full_text = \"\"\n",
    "async for event in strands_utils.process_streaming_response_yield(\n",
    "    agent=agent,\n",
    "    message=user_input,\n",
    "    agent_name=agent_name,\n",
    "    source=agent_name\n",
    "):  \n",
    "    #print (event)\n",
    "    if event.get(\"event_type\") == \"text_chunk\":\n",
    "        full_text += event.get(\"data\", \"\")\n",
    "\n",
    "response = {\"text\": full_text}\n",
    "\n",
    "print (f'\\nResponse: {response['text']}')"
   ]
  },
  {
   "cell_type": "markdown",
   "id": "dbe823d6",
   "metadata": {},
   "source": [
    "### 4.2 with streaming\n",
    "\n",
    "- function name: process_event_for_display\n",
    "- script path: [\"../src/utils/strands_sdk_utils.py\"](../src/utils/strands_sdk_utils.py#L297-L341)"
   ]
  },
  {
   "cell_type": "code",
   "execution_count": null,
   "id": "cdba4019",
   "metadata": {},
   "outputs": [],
   "source": [
    "message = \"Strands Agents SDK의 장점은 뭐야?\"\n",
    "\n",
    "full_text = \"\"\n",
    "async for event in strands_utils.process_streaming_response_yield(\n",
    "    agent=agent,\n",
    "    message=message,\n",
    "    agent_name=agent_name,\n",
    "    source=agent_name\n",
    "):\n",
    "    strands_utils.process_event_for_display(event)\n",
    "\n",
    "    if event.get(\"event_type\") == \"text_chunk\":\n",
    "        full_text += event.get(\"data\", \"\")\n",
    "    \n",
    "response = {\"text\": full_text}\n",
    "\n",
    "print (f'\\nResponse: {response['text']}')"
   ]
  },
  {
   "cell_type": "markdown",
   "id": "359c30d4",
   "metadata": {},
   "source": [
    "## 5. Tools"
   ]
  },
  {
   "cell_type": "code",
   "execution_count": null,
   "id": "3e12e658",
   "metadata": {},
   "outputs": [],
   "source": [
    "from src.tools import python_repl_tool, bash_tool"
   ]
  },
  {
   "cell_type": "code",
   "execution_count": null,
   "id": "74af9e0c",
   "metadata": {},
   "outputs": [],
   "source": [
    "agent = strands_utils.get_agent(\n",
    "    agent_name=agent_name,\n",
    "    system_prompts=apply_prompt_template(prompt_name=agent_name, prompt_context={\"AGENT_NAME\": agent_name}),\n",
    "    agent_type=\"claude-sonnet-3-7\", # claude-sonnet-3-5-v-2, claude-sonnet-3-7\n",
    "    enable_reasoning=False,\n",
    "    prompt_cache_info=(False, None), #(False, None), (True, \"default\")\n",
    "    streaming=True,\n",
    "    tools=[python_repl_tool, bash_tool]\n",
    ")"
   ]
  },
  {
   "cell_type": "code",
   "execution_count": null,
   "id": "9d4766a7",
   "metadata": {},
   "outputs": [],
   "source": [
    "message = \"../src/prompts 디렉토리 조회해 주세요\"\n",
    "\n",
    "full_text = \"\"\n",
    "async for event in strands_utils.process_streaming_response_yield(\n",
    "    agent=agent,\n",
    "    message=message,\n",
    "    agent_name=agent_name,\n",
    "    source=agent_name\n",
    "):\n",
    "    #print (event)\n",
    "    strands_utils.process_event_for_display(event)"
   ]
  },
  {
   "cell_type": "code",
   "execution_count": null,
   "id": "3378f134",
   "metadata": {},
   "outputs": [],
   "source": [
    "message = \"Hello world 를 프린팅하는 파이썬 코드를 작성하고 실행시켜 줄래?\"\n",
    "\n",
    "full_text = \"\"\n",
    "async for event in strands_utils.process_streaming_response_yield(\n",
    "    agent=agent,\n",
    "    message=message,\n",
    "    agent_name=agent_name,\n",
    "    source=agent_name\n",
    "):\n",
    "    strands_utils.process_event_for_display(event)"
   ]
  },
  {
   "cell_type": "markdown",
   "id": "d0f0e7c5",
   "metadata": {},
   "source": [
    "## 6. built-in utility"
   ]
  },
  {
   "cell_type": "code",
   "execution_count": null,
   "id": "8e94a336",
   "metadata": {},
   "outputs": [],
   "source": [
    "from pprint import pprint"
   ]
  },
  {
   "cell_type": "markdown",
   "id": "430c7d2c",
   "metadata": {},
   "source": [
    "### 6.1 Check agent"
   ]
  },
  {
   "cell_type": "markdown",
   "id": "35c5a15b",
   "metadata": {},
   "source": [
    "- Syetem prompt"
   ]
  },
  {
   "cell_type": "code",
   "execution_count": null,
   "id": "29f6073b",
   "metadata": {},
   "outputs": [],
   "source": [
    "system_prompt = agent.system_prompt\n",
    "pprint(system_prompt)"
   ]
  },
  {
   "cell_type": "markdown",
   "id": "56bfb0e8",
   "metadata": {},
   "source": [
    "- Message history"
   ]
  },
  {
   "cell_type": "code",
   "execution_count": null,
   "id": "123c6225",
   "metadata": {},
   "outputs": [],
   "source": [
    "agent_messages = agent.messages\n",
    "pprint(agent_messages)"
   ]
  },
  {
   "cell_type": "markdown",
   "id": "cfed8f0c",
   "metadata": {},
   "source": [
    "- observility"
   ]
  },
  {
   "cell_type": "code",
   "execution_count": null,
   "id": "64986e63",
   "metadata": {},
   "outputs": [],
   "source": [
    "pprint(agent.event_loop_metrics)"
   ]
  },
  {
   "cell_type": "markdown",
   "id": "961fb569",
   "metadata": {},
   "source": [
    "- Resume"
   ]
  },
  {
   "cell_type": "code",
   "execution_count": null,
   "id": "3dbcd3ff",
   "metadata": {},
   "outputs": [],
   "source": [
    "from strands import Agent\n",
    "from botocore.config import Config\n",
    "from strands.models import BedrockModel\n",
    "from src.utils.bedrock import bedrock_info"
   ]
  },
  {
   "cell_type": "code",
   "execution_count": null,
   "id": "8c48b93f",
   "metadata": {},
   "outputs": [],
   "source": [
    "llm_ = BedrockModel(\n",
    "    model_id=bedrock_info.get_model_id(model_name=\"Claude-V3-7-Sonnet-CRI\"),\n",
    "    streaming=True,\n",
    "    max_tokens=8192,\n",
    "    stop_sequencesb=[\"\\n\\nHuman\"],\n",
    "    temperature=0.01,\n",
    "    cache_prompt=None, # None/ephemeral/defalut\n",
    "    #cache_tools: Cache point type for tools\n",
    "    boto_client_config=Config(\n",
    "        read_timeout=900,\n",
    "        connect_timeout=900,\n",
    "        retries=dict(max_attempts=50, mode=\"standard\"),\n",
    "    )\n",
    ")\n",
    "\n",
    "\n",
    "agent_ = Agent(\n",
    "    model=llm_,\n",
    "    tools=[python_repl_tool, bash_tool],\n",
    "    system_prompt=system_prompt,\n",
    "    messages=agent_messages,\n",
    "    callback_handler=None # async iterator로 대체 하기 때문에 None 설정\n",
    ")"
   ]
  },
  {
   "cell_type": "code",
   "execution_count": null,
   "id": "baf617f0",
   "metadata": {},
   "outputs": [],
   "source": [
    "message = \"이어서 대화 하는거 맞니?\"\n",
    "\n",
    "full_text = \"\"\n",
    "async for event in strands_utils.process_streaming_response_yield(\n",
    "    agent=agent_,\n",
    "    message=message,\n",
    "    agent_name=agent_name,\n",
    "    source=agent_name\n",
    "):\n",
    "    strands_utils.process_event_for_display(event)\n"
   ]
  },
  {
   "cell_type": "markdown",
   "id": "8956bf40",
   "metadata": {},
   "source": [
    "### 4.2 [Conversation management](https://strandsagents.com/latest/documentation/docs/user-guide/concepts/agents/conversation-management/?h=conversa)\n",
    "\n",
    "As conversations grow, managing this context becomes increasingly important for several reasons:\n",
    "\n",
    "- **Token Limits**: Language models have fixed context windows (maximum tokens they can process)\n",
    "- **Performance**: Larger contexts require more processing time and resources\n",
    "- **Relevance**: Older messages may become less relevant to the current conversation\n",
    "- **Coherence**: Maintaining logical flow and preserving important information\n"
   ]
  },
  {
   "cell_type": "markdown",
   "id": "31a182fb",
   "metadata": {},
   "source": [
    "#### 4.2.1. SlidingWindowConversationManager\n",
    "고정된 수의 최근 메시지를 유지하는 슬라이딩 윈도우 전략을 구현합니다. Agent 클래스에서 기본적으로 사용하는 대화 매니저입니다."
   ]
  },
  {
   "cell_type": "code",
   "execution_count": null,
   "id": "e3d2f049",
   "metadata": {},
   "outputs": [],
   "source": [
    "from strands.agent.conversation_manager import SlidingWindowConversationManager"
   ]
  },
  {
   "cell_type": "code",
   "execution_count": null,
   "id": "9162351c",
   "metadata": {},
   "outputs": [],
   "source": [
    "# Create a conversation manager with custom window size\n",
    "conversation_manager = SlidingWindowConversationManager(\n",
    "    window_size=3,  # Maximum number of messages to keep\n",
    "    should_truncate_results=True, # Enable truncating the tool result when a message is too large for the model's context window \n",
    ")"
   ]
  },
  {
   "cell_type": "code",
   "execution_count": null,
   "id": "7459aa51",
   "metadata": {},
   "outputs": [],
   "source": [
    "agent.conversation_manager = conversation_manager"
   ]
  },
  {
   "cell_type": "code",
   "execution_count": null,
   "id": "cd7d15ba",
   "metadata": {},
   "outputs": [],
   "source": [
    "message = \"안녕 나는 장동진이야\"\n",
    "\n",
    "full_text = \"\"\n",
    "async for event in strands_utils.process_streaming_response_yield(\n",
    "    agent=agent,\n",
    "    message=message,\n",
    "    agent_name=agent_name,\n",
    "    source=agent_name\n",
    "):\n",
    "    strands_utils.process_event_for_display(event)\n",
    "\n",
    "print (\"\\n\")\n",
    "pprint (agent.messages)"
   ]
  },
  {
   "cell_type": "markdown",
   "id": "28ad3936",
   "metadata": {},
   "source": [
    "#### 3.1.2. SummarizingConversationManager\n",
    "\n",
    "오래된 메시지를 요약하여 중요한 정보를 보존하면서 컨텍스트 한계 내에서 대화를 관리합니다.\n",
    "\n",
    "**주요 설정:**\n",
    "\n",
    "| 파라미터 | 타입 | 기본값 | 설명 |\n",
    "|---------|------|--------|------|\n",
    "| `summary_ratio` | `float` | `0.3` | 컨텍스트 축소 시 요약할 메시지 비율 (0.1~0.8 범위) |\n",
    "| `preserve_recent_messages` | `int` | `10` | 항상 유지할 최근 메시지 수 |\n",
    "| `summarization_agent` | `Agent` | `None` | 요약 생성용 커스텀 에이전트 (system_prompt와 동시 사용 불가) |\n",
    "| `summarization_system_prompt` | `str` | `None` | 요약용 커스텀 시스템 프롬프트 (agent와 동시 사용 불가) |\n",
    "\n",
    "> **기본 요약 방식**: 커스텀 설정이 없을 경우, 주요 토픽, 사용된 도구, 기술적 정보를 3인칭 형태의 구조화된 불릿 포인트로 요약합니다."
   ]
  },
  {
   "cell_type": "code",
   "execution_count": null,
   "id": "09ef6246",
   "metadata": {},
   "outputs": [],
   "source": [
    "from strands.agent.conversation_manager import SummarizingConversationManager"
   ]
  },
  {
   "cell_type": "code",
   "execution_count": null,
   "id": "ae8da725",
   "metadata": {},
   "outputs": [],
   "source": [
    "# Custom system prompt for technical conversations\n",
    "custom_system_prompt = \"\"\"\n",
    "You are summarizing a technical conversation. Create a concise bullet-point summary that:\n",
    "- Focuses on code changes, architectural decisions, and technical solutions\n",
    "- Preserves specific function names, file paths, and configuration details\n",
    "- Omits conversational elements and focuses on actionable information\n",
    "- Uses technical terminology appropriate for software development\n",
    "\n",
    "Format as bullet points without conversational language.\n",
    "\"\"\"\n",
    "\n",
    "conversation_manager = SummarizingConversationManager(\n",
    "    summary_ratio=0.3,  # Summarize 30% of messages when context reduction is needed\n",
    "    preserve_recent_messages=3,  # Always keep 10 most recent messages\n",
    "    summarization_system_prompt=custom_system_prompt\n",
    ")"
   ]
  },
  {
   "cell_type": "code",
   "execution_count": null,
   "id": "52b6bbba",
   "metadata": {},
   "outputs": [],
   "source": [
    "agent.conversation_manager = conversation_manager"
   ]
  },
  {
   "cell_type": "code",
   "execution_count": null,
   "id": "ee3f1844",
   "metadata": {},
   "outputs": [],
   "source": [
    "message = \"안녕 나는 장동진이야\"\n",
    "\n",
    "full_text = \"\"\n",
    "async for event in strands_utils.process_streaming_response_yield(\n",
    "    agent=agent_,\n",
    "    message=message,\n",
    "    agent_name=agent_name,\n",
    "    source=agent_name\n",
    "):\n",
    "    #print (event)\n",
    "    strands_utils.process_event_for_display(event)\n",
    "\n",
    "print (\"\\n\")\n",
    "pprint (agent.messages)"
   ]
  },
  {
   "cell_type": "code",
   "execution_count": null,
   "id": "e07a92fc",
   "metadata": {},
   "outputs": [],
   "source": []
  }
 ],
 "metadata": {
  "kernelspec": {
   "display_name": "bedrock-manus-agentcore (UV)",
   "language": "python",
   "name": "bedrock-manus-agentcore"
  },
  "language_info": {
   "codemirror_mode": {
    "name": "ipython",
    "version": 3
   },
   "file_extension": ".py",
   "mimetype": "text/x-python",
   "name": "python",
   "nbconvert_exporter": "python",
   "pygments_lexer": "ipython3",
   "version": "3.12.11"
  }
 },
 "nbformat": 4,
 "nbformat_minor": 5
}
