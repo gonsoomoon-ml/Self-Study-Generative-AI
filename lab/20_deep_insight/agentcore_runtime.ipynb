{
 "cells": [
  {
   "cell_type": "markdown",
   "metadata": {},
   "source": [
    "# Amazon Bedrock AgentCore Runtime에서 Bedrock Manus 호스팅하기 (VPC Private 연결)\n",
    "\n",
    "이 튜토리얼에서는 **VPC Endpoint를 통한 Private 연결**을 사용하여 Amazon Bedrock AgentCore Runtime에서 Bedrock Manus 에이전트를 호스팅하는 방법을 배웁니다.\n",
    "\n",
    "### 🔒 VPC Private 연결의 장점\n",
    "\n",
    "- ✅ **완전한 Private 통신**: AgentCore ↔ Fargate 간 Public 인터넷 사용 없음\n",
    "- ✅ **보안 강화**: Public IP 노출 제거, VPC Endpoint 통해서만 접근\n",
    "- ✅ **Zero Trust**: Security Group 간 참조를 통한 최소 권한 원칙\n",
    "- ✅ **규정 준수**: 데이터가 AWS 네트워크 내부에서만 전송\n",
    "\n",
    "### Overview\n",
    "\n",
    "| 정보                | 세부사항                                                                      |\n",
    "|:--------------------|:-----------------------------------------------------------------------------|\n",
    "| 에이전트 유형        | 멀티 에이전트 (Planner, Supervisor, Coder, Reporter)                         |\n",
    "| 에이전틱 프레임워크   | Strands                                                                      |\n",
    "| LLM 모델            | Anthropic Claude Sonnet 3.7                                                  |\n",
    "| **네트워크 설정**    | **VPC Endpoint (Private 연결)** 🔒                                           |\n",
    "| 튜토리얼 구성요소    | AgentCore Runtime에서 에이전트 호스팅. VPC Private 연결 사용                   |\n",
    "| 튜토리얼 분야        | 범용                                                                         |\n",
    "| 예제 복잡도         | 중급                                                                         |\n",
    "| 사용된 SDK          | Amazon BedrockAgentCore Python SDK 및 boto3                                 |\n",
    "\n",
    "### 📋 목차\n",
    "\n",
    "#### 사전 준비: VPC 인프라 확인\n",
    "- VPC Endpoint 상태 확인\n",
    "- Internal ALB 확인\n",
    "- Test VPC 설정 로드\n",
    "\n",
    "#### 1) AgentCore Runtime 배포 (VPC Private 연결)\n",
    "- **Step 1.** IAM Role 설정\n",
    "- **Step 2.** VPC 설정 추가\n",
    "- **Step 3.** 배포 구성: `agentcore_runtime.configure()`\n",
    "- **Step 4.** 배포: `agentcore_runtime.launch()`\n",
    "- **Step 5.** 상태 확인: `agentcore_runtime.status()`\n",
    "\n",
    "#### 2) 배포한 에이전트 호출 및 검증\n",
    "- Private IP를 통한 호출\n",
    "- 로그 분석 (VPC CIDR 확인)\n",
    "- 성능 측정\n"
   ]
  },
  {
   "cell_type": "markdown",
   "metadata": {},
   "source": [
    "## 사전 준비사항\n",
    "\n",
    "### 필수 요구사항\n",
    "* Python 3.11+\n",
    "* AWS credentials\n",
    "* Amazon Bedrock AgentCore SDK\n",
    "* Docker running\n",
    "\n",
    "### VPC 인프라 요구사항 🔒\n",
    "* **Test VPC 구축 완료** (`test_vpc_setup_new_vpc.sh` 실행 완료)\n",
    "* VPC Endpoints (Bedrock AgentCore)\n",
    "* Internal ALB (internet-facing 아님)\n",
    "* Private Subnets\n",
    "* Security Groups 설정 완료\n",
    "\n",
    "### ⚠️ 중요 발견사항 (2025-10-18)\n",
    "\n",
    "**지원되는 Availability Zone**:\n",
    "- ✅ **use1-az2** (us-east-1a): subnet-0b2fb367d6e823a79 - 지원됨\n",
    "- ❌ **use1-az6** (us-east-1c): subnet-0ed3a6040386768cf - **지원 안 됨!**\n",
    "\n",
    "AWS 공식 문서에 따르면, us-east-1 리전에서 Bedrock AgentCore는 다음 AZ만 지원합니다:\n",
    "- use1-az1, use1-az2, use1-az4\n",
    "\n",
    "**이 노트북은 지원되는 단일 Subnet (use1-az2)만 사용하도록 수정되었습니다.**\n",
    "\n",
    "**Observability 필수**:\n",
    "- CloudWatch 로그 없이는 health check 실패 원인을 디버깅할 수 없습니다\n",
    "- 이 노트북은 observability를 자동으로 활성화합니다\n",
    "\n",
    "### VPC 인프라 확인\n",
    "\n",
    "아직 VPC 인프라를 구축하지 않았다면:\n",
    "```bash\n",
    "cd test_vpc_private_setup\n",
    "./test_vpc_setup_new_vpc.sh\n",
    "python3 test_vpc_private_connectivity.py\n",
    "```"
   ]
  },
  {
   "cell_type": "code",
   "execution_count": 13,
   "metadata": {},
   "outputs": [
    {
     "name": "stdout",
     "output_type": "stream",
     "text": [
      "The autoreload extension is already loaded. To reload it, use:\n",
      "  %reload_ext autoreload\n"
     ]
    }
   ],
   "source": [
    "%load_ext autoreload\n",
    "%autoreload 2"
   ]
  },
  {
   "cell_type": "code",
   "execution_count": 14,
   "metadata": {},
   "outputs": [],
   "source": [
    "import sys, os\n",
    "module_path = \"../../../..\"\n",
    "sys.path.append(os.path.abspath(module_path))"
   ]
  },
  {
   "cell_type": "markdown",
   "metadata": {},
   "source": [
    "# 사전 준비: VPC 인프라 확인\n",
    "\n",
    "AgentCore Runtime을 VPC에 배포하기 전에, Test VPC 인프라가 올바르게 구축되었는지 확인합니다."
   ]
  },
  {
   "cell_type": "code",
   "execution_count": 15,
   "metadata": {},
   "outputs": [
    {
     "name": "stdout",
     "output_type": "stream",
     "text": [
      "============================================================\n",
      "Test VPC Configuration\n",
      "============================================================\n",
      "VPC ID: vpc-05975448296a22c21\n",
      "VPC CIDR: 10.100.0.0/16\n",
      "Region: us-east-1\n",
      "\n",
      "Private Subnets:\n",
      "  - subnet-0b2fb367d6e823a79\n",
      "  - subnet-0ed3a6040386768cf\n",
      "\n",
      "VPC Endpoints:\n",
      "  Data Plane: vpce-0b1c05f284838d951\n",
      "  Gateway: vpce-00259de820f493d28\n",
      "\n",
      "Security Groups:\n",
      "  agentcore: sg-0affaea9ac4dc26b1\n",
      "  alb: sg-061896ca7967f6183\n",
      "  fargate: sg-0e1314a2421686c2c\n",
      "  vpce: sg-085cf66da6c4027d2\n",
      "\n",
      "Internal ALB:\n",
      "  DNS: internal-test-vpc-private-alb-1154687901.us-east-1.elb.amazonaws.com\n",
      "  ARN: arn:aws:elasticloadbalancing:us-east-1:057716757052:loadbalancer/app/test-vpc-private-alb/e15d1372ab65062e\n",
      "============================================================\n"
     ]
    }
   ],
   "source": [
    "import json\n",
    "\n",
    "# Test VPC 설정 로드\n",
    "with open('test_vpc_config.json', 'r') as f:\n",
    "    vpc_config = json.load(f)\n",
    "\n",
    "print(\"=\" * 60)\n",
    "print(\"Test VPC Configuration\")\n",
    "print(\"=\" * 60)\n",
    "print(f\"VPC ID: {vpc_config['vpc_id']}\")\n",
    "print(f\"VPC CIDR: {vpc_config['vpc_cidr']}\")\n",
    "print(f\"Region: {vpc_config['region']}\")\n",
    "print()\n",
    "print(\"Private Subnets:\")\n",
    "for subnet in vpc_config['subnets']['private']:\n",
    "    print(f\"  - {subnet}\")\n",
    "print()\n",
    "print(\"VPC Endpoints:\")\n",
    "print(f\"  Data Plane: {vpc_config['vpc_endpoints']['data_plane']}\")\n",
    "print(f\"  Gateway: {vpc_config['vpc_endpoints']['gateway']}\")\n",
    "print()\n",
    "print(\"Security Groups:\")\n",
    "for sg_name, sg_id in vpc_config['security_groups'].items():\n",
    "    print(f\"  {sg_name}: {sg_id}\")\n",
    "print()\n",
    "print(\"Internal ALB:\")\n",
    "print(f\"  DNS: {vpc_config['alb']['dns']}\")\n",
    "print(f\"  ARN: {vpc_config['alb']['arn']}\")\n",
    "print(\"=\" * 60)"
   ]
  },
  {
   "cell_type": "markdown",
   "metadata": {},
   "source": [
    "### VPC Endpoint 상태 확인"
   ]
  },
  {
   "cell_type": "code",
   "execution_count": 16,
   "metadata": {},
   "outputs": [
    {
     "name": "stdout",
     "output_type": "stream",
     "text": [
      "VPC Endpoint Status:\n",
      "✅ vpce-0b1c05f284838d951\n",
      "   Service: com.amazonaws.us-east-1.bedrock-agentcore\n",
      "   State: available\n",
      "\n",
      "✅ vpce-00259de820f493d28\n",
      "   Service: com.amazonaws.us-east-1.bedrock-agentcore.gateway\n",
      "   State: available\n",
      "\n",
      "✅ All VPC Endpoints are available!\n"
     ]
    }
   ],
   "source": [
    "import boto3\n",
    "\n",
    "ec2_client = boto3.client('ec2', region_name=vpc_config['region'])\n",
    "\n",
    "# VPC Endpoint 상태 확인\n",
    "vpce_ids = [\n",
    "    vpc_config['vpc_endpoints']['data_plane'],\n",
    "    vpc_config['vpc_endpoints']['gateway']\n",
    "]\n",
    "\n",
    "response = ec2_client.describe_vpc_endpoints(VpcEndpointIds=vpce_ids)\n",
    "\n",
    "print(\"VPC Endpoint Status:\")\n",
    "for endpoint in response['VpcEndpoints']:\n",
    "    endpoint_id = endpoint['VpcEndpointId']\n",
    "    state = endpoint['State']\n",
    "    service_name = endpoint['ServiceName']\n",
    "    \n",
    "    status_icon = \"✅\" if state == 'available' else \"⚠️\"\n",
    "    print(f\"{status_icon} {endpoint_id}\")\n",
    "    print(f\"   Service: {service_name}\")\n",
    "    print(f\"   State: {state}\")\n",
    "    print()\n",
    "\n",
    "all_available = all(ep['State'] == 'available' for ep in response['VpcEndpoints'])\n",
    "if all_available:\n",
    "    print(\"✅ All VPC Endpoints are available!\")\n",
    "else:\n",
    "    print(\"⚠️  Some VPC Endpoints are not available. Please check the status.\")"
   ]
  },
  {
   "cell_type": "markdown",
   "metadata": {},
   "source": [
    "---\n",
    "\n",
    "# 1) AgentCore Runtime 배포 (VPC Private 연결)\n",
    "\n",
    "이제 Bedrock Manus를 AgentCore Runtime에 배포하되, **VPC Endpoint를 통한 Private 연결**을 사용하겠습니다."
   ]
  },
  {
   "cell_type": "markdown",
   "metadata": {},
   "source": [
    "## Step 1. IAM Role 설정"
   ]
  },
  {
   "cell_type": "code",
   "execution_count": 17,
   "metadata": {},
   "outputs": [
    {
     "name": "stdout",
     "output_type": "stream",
     "text": [
      "sys.path[0]: /home/ubuntu/aws-ai-ml-workshop-kr/genai/aws-gen-ai-kr/20_applications/08_bedrock_manus\n",
      "Using IAM Role: arn:aws:iam::057716757052:role/agentcore-bedrock_manus_runtime-role\n"
     ]
    }
   ],
   "source": [
    "# IAM Role 설정 (기존과 동일)\n",
    "import sys\n",
    "import os\n",
    "\n",
    "current_dir = os.path.dirname(os.path.abspath('__file__' if '__file__' in globals() else '.'))\n",
    "utils_dir = os.path.join(current_dir, '..')\n",
    "utils_dir = os.path.join(utils_dir, '..')\n",
    "utils_dir = os.path.abspath(utils_dir)\n",
    "\n",
    "sys.path.insert(0, utils_dir)\n",
    "print(\"sys.path[0]:\", sys.path[0])\n",
    "\n",
    "agent_name = \"bedrock_manus_runtime_vpc\"\n",
    "\n",
    "# IAM Role (기존에 생성된 role 사용)\n",
    "agentcore_iam_role = {\n",
    "    'Role': {\n",
    "        'Path': '/',\n",
    "        'RoleName': 'agentcore-bedrock_manus_runtime-role',\n",
    "        'RoleId': 'AROAQ24BP2I6GBFPY65CS',\n",
    "        'Arn': 'arn:aws:iam::057716757052:role/agentcore-bedrock_manus_runtime-role',\n",
    "        'CreateDate': '2025-09-28T01:33:47Z',\n",
    "        'AssumeRolePolicyDocument': {\n",
    "            'Version': '2012-10-17',\n",
    "            'Statement': [{\n",
    "                'Sid': 'AssumeRolePolicy',\n",
    "                'Effect': 'Allow',\n",
    "                'Principal': {'Service': 'bedrock-agentcore.amazonaws.com'},\n",
    "                'Action': 'sts:AssumeRole',\n",
    "                'Condition': {\n",
    "                    'StringEquals': {'aws:SourceAccount': '057716757052'},\n",
    "                    'ArnLike': {'aws:SourceArn': 'arn:aws:bedrock-agentcore:us-east-1:057716757052:*'}\n",
    "                }\n",
    "            }]\n",
    "        }\n",
    "    }\n",
    "}\n",
    "\n",
    "print(f\"Using IAM Role: {agentcore_iam_role['Role']['Arn']}\")"
   ]
  },
  {
   "cell_type": "markdown",
   "metadata": {},
   "source": [
    "## Step 2. VPC 설정 추가 🔒\n",
    "\n",
    "### VPC Configuration\n",
    "\n",
    "AgentCore Runtime을 VPC에 배포하기 위해 다음 정보가 필요합니다:\n",
    "\n",
    "1. **Subnet IDs**: Private subnet에 runtime을 배포\n",
    "2. **Security Group IDs**: AgentCore용 Security Group\n",
    "3. **VPC Endpoint**: Bedrock AgentCore VPC Endpoint (자동으로 사용됨)\n",
    "\n",
    "### 네트워크 흐름\n",
    "\n",
    "```\n",
    "Bedrock AgentCore (AWS)\n",
    "    ↓ Private (PrivateLink)\n",
    "VPC Endpoint (10.100.x.x)\n",
    "    ↓ Private\n",
    "Internal ALB (10.100.x.x)\n",
    "    ↓ Private\n",
    "Fargate Runtime (10.100.x.x)\n",
    "```"
   ]
  },
  {
   "cell_type": "code",
   "execution_count": 18,
   "metadata": {},
   "outputs": [
    {
     "name": "stdout",
     "output_type": "stream",
     "text": [
      "============================================================\n",
      "VPC Configuration for AgentCore Runtime\n",
      "============================================================\n",
      "Subnets (Private): ['subnet-0b2fb367d6e823a79']\n",
      "Security Groups: ['sg-0affaea9ac4dc26b1']\n",
      "\n",
      "📝 Note:\n",
      "  - Using ONLY supported AZ (use1-az2)\n",
      "  - Subnet use1-az6 is NOT supported and excluded\n",
      "  - Runtime will be deployed in PRIVATE subnet\n",
      "  - No public IP will be assigned\n",
      "  - Communication via VPC Endpoint only\n",
      "============================================================\n"
     ]
    }
   ],
   "source": [
    "# VPC 설정 준비\n",
    "# ⚠️ 중요: use1-az6 (subnet-0ed3a6040386768cf)는 지원되지 않음!\n",
    "# AWS 공식 문서: us-east-1에서 use1-az1, use1-az2, use1-az4만 지원\n",
    "\n",
    "# 지원되는 Subnet만 사용 (use1-az2)\n",
    "supported_subnets = ['subnet-0b2fb367d6e823a79']  # us-east-1a (use1-az2) ✅\n",
    "\n",
    "vpc_configuration = {\n",
    "    'subnetIds': supported_subnets,\n",
    "    'securityGroupIds': [vpc_config['security_groups']['agentcore']]\n",
    "}\n",
    "\n",
    "print(\"=\" * 60)\n",
    "print(\"VPC Configuration for AgentCore Runtime\")\n",
    "print(\"=\" * 60)\n",
    "print(f\"Subnets (Private): {vpc_configuration['subnetIds']}\")\n",
    "print(f\"Security Groups: {vpc_configuration['securityGroupIds']}\")\n",
    "print()\n",
    "print(\"📝 Note:\")\n",
    "print(\"  - Using ONLY supported AZ (use1-az2)\")\n",
    "print(\"  - Subnet use1-az6 is NOT supported and excluded\")\n",
    "print(\"  - Runtime will be deployed in PRIVATE subnet\")\n",
    "print(\"  - No public IP will be assigned\")\n",
    "print(\"  - Communication via VPC Endpoint only\")\n",
    "print(\"=\" * 60)"
   ]
  },
  {
   "cell_type": "markdown",
   "metadata": {},
   "source": [
    "## Step 3. 배포 구성: `agentcore_runtime.configure()`\n",
    "\n",
    "### ⚠️ 중요: VPC 설정 추가\n",
    "\n",
    "기존 `configure()` 메소드에서 달라진 점:\n",
    "- **추가되지 않음**: VPC 설정은 `launch()` 또는 별도 API 호출 시 적용\n",
    "- `configure()`는 Docker 이미지 및 entrypoint 설정만 담당\n",
    "\n",
    "VPC 설정은 다음 단계에서 적용됩니다."
   ]
  },
  {
   "cell_type": "code",
   "execution_count": 19,
   "metadata": {},
   "outputs": [
    {
     "name": "stderr",
     "output_type": "stream",
     "text": [
      "Entrypoint parsed: file=/home/ubuntu/aws-ai-ml-workshop-kr/genai/aws-gen-ai-kr/20_applications/08_bedrock_manus/use_cases/05_insight_extractor_strands_sdk_workshop_phase_2/test_vpc_private_setup/agentcore_runtime.py, bedrock_agentcore_name=agentcore_runtime\n",
      "Configuring BedrockAgentCore agent: bedrock_manus_runtime_vpc\n"
     ]
    },
    {
     "name": "stdout",
     "output_type": "stream",
     "text": [
      "region: us-east-1\n"
     ]
    },
    {
     "data": {
      "text/html": [
       "<pre style=\"white-space:pre;overflow-x:auto;line-height:normal;font-family:Menlo,'DejaVu Sans Mono',consolas,'Courier New',monospace\">\n",
       "<span style=\"color: #808000; text-decoration-color: #808000; font-weight: bold; text-decoration: underline\">⚠️  [WARNING] Platform mismatch: Current system is </span><span style=\"color: #008000; text-decoration-color: #008000; text-decoration: underline\">'linux/amd64'</span><span style=\"color: #808000; text-decoration-color: #808000; font-weight: bold; text-decoration: underline\"> but Bedrock AgentCore requires </span><span style=\"color: #008000; text-decoration-color: #008000; text-decoration: underline\">'linux/arm64'</span><span style=\"color: #808000; text-decoration-color: #808000; font-weight: bold; text-decoration: underline\">.</span>\n",
       "<span style=\"color: #808000; text-decoration-color: #808000; font-weight: bold; text-decoration: underline\">For deployment options and workarounds, see: </span>\n",
       "<span style=\"color: #0000ff; text-decoration-color: #0000ff; text-decoration: underline\">https://docs.aws.amazon.com/bedrock-agentcore/latest/devguide/getting-started-custom.html</span>\n",
       "\n",
       "</pre>\n"
      ],
      "text/plain": [
       "\n",
       "\u001b[1;4;33m⚠️  \u001b[0m\u001b[1;4;33m[\u001b[0m\u001b[1;4;33mWARNING\u001b[0m\u001b[1;4;33m]\u001b[0m\u001b[1;4;33m Platform mismatch: Current system is \u001b[0m\u001b[4;32m'linux/amd64'\u001b[0m\u001b[1;4;33m but Bedrock AgentCore requires \u001b[0m\u001b[4;32m'linux/arm64'\u001b[0m\u001b[1;4;33m.\u001b[0m\n",
       "\u001b[1;4;33mFor deployment options and workarounds, see: \u001b[0m\n",
       "\u001b[4;94mhttps://docs.aws.amazon.com/bedrock-agentcore/latest/devguide/getting-started-custom.html\u001b[0m\n",
       "\n"
      ]
     },
     "metadata": {},
     "output_type": "display_data"
    },
    {
     "name": "stderr",
     "output_type": "stream",
     "text": [
      "Generated Dockerfile: /home/ubuntu/aws-ai-ml-workshop-kr/genai/aws-gen-ai-kr/20_applications/08_bedrock_manus/use_cases/05_insight_extractor_strands_sdk_workshop_phase_2/test_vpc_private_setup/Dockerfile\n",
      "Generated .dockerignore: /home/ubuntu/aws-ai-ml-workshop-kr/genai/aws-gen-ai-kr/20_applications/08_bedrock_manus/use_cases/05_insight_extractor_strands_sdk_workshop_phase_2/test_vpc_private_setup/.dockerignore\n",
      "Keeping 'bedrock_manus_runtime_vpc' as default agent\n",
      "Bedrock AgentCore configured: /home/ubuntu/aws-ai-ml-workshop-kr/genai/aws-gen-ai-kr/20_applications/08_bedrock_manus/use_cases/05_insight_extractor_strands_sdk_workshop_phase_2/test_vpc_private_setup/.bedrock_agentcore.yaml\n"
     ]
    },
    {
     "name": "stdout",
     "output_type": "stream",
     "text": [
      "\n",
      "✅ Configuration completed!\n",
      "   Config file: /home/ubuntu/aws-ai-ml-workshop-kr/genai/aws-gen-ai-kr/20_applications/08_bedrock_manus/use_cases/05_insight_extractor_strands_sdk_workshop_phase_2/test_vpc_private_setup/.bedrock_agentcore.yaml\n",
      "   Dockerfile: /home/ubuntu/aws-ai-ml-workshop-kr/genai/aws-gen-ai-kr/20_applications/08_bedrock_manus/use_cases/05_insight_extractor_strands_sdk_workshop_phase_2/test_vpc_private_setup/Dockerfile\n"
     ]
    },
    {
     "data": {
      "text/plain": [
       "ConfigureResult(config_path=PosixPath('/home/ubuntu/aws-ai-ml-workshop-kr/genai/aws-gen-ai-kr/20_applications/08_bedrock_manus/use_cases/05_insight_extractor_strands_sdk_workshop_phase_2/test_vpc_private_setup/.bedrock_agentcore.yaml'), dockerfile_path=PosixPath('/home/ubuntu/aws-ai-ml-workshop-kr/genai/aws-gen-ai-kr/20_applications/08_bedrock_manus/use_cases/05_insight_extractor_strands_sdk_workshop_phase_2/test_vpc_private_setup/Dockerfile'), dockerignore_path=PosixPath('/home/ubuntu/aws-ai-ml-workshop-kr/genai/aws-gen-ai-kr/20_applications/08_bedrock_manus/use_cases/05_insight_extractor_strands_sdk_workshop_phase_2/test_vpc_private_setup/.dockerignore'), runtime='Docker', region='us-east-1', account_id='057716757052', execution_role='arn:aws:iam::057716757052:role/agentcore-bedrock_manus_runtime-role', ecr_repository=None, auto_create_ecr=True)"
      ]
     },
     "execution_count": 19,
     "metadata": {},
     "output_type": "execute_result"
    }
   ],
   "source": [
    "from bedrock_agentcore_starter_toolkit import Runtime\n",
    "from boto3.session import Session\n",
    "\n",
    "boto_session = Session()\n",
    "region = boto_session.region_name\n",
    "print(\"region:\", region)\n",
    "\n",
    "agentcore_runtime = Runtime()\n",
    "\n",
    "# Configure - 현재 디렉토리의 파일 사용\n",
    "response = agentcore_runtime.configure(\n",
    "    agent_name=agent_name,\n",
    "    entrypoint=\"agentcore_runtime.py\",  # 현재 디렉토리의 agentcore_runtime.py 사용\n",
    "    execution_role=agentcore_iam_role['Role']['Arn'],\n",
    "    auto_create_ecr=True,\n",
    "    requirements_file=\"requirements.txt\",  # 현재 디렉토리의 requirements.txt 사용\n",
    "    region=region\n",
    ")\n",
    "\n",
    "print()\n",
    "print(\"✅ Configuration completed!\")\n",
    "print(f\"   Config file: {response.config_path}\")\n",
    "print(f\"   Dockerfile: {response.dockerfile_path}\")\n",
    "response"
   ]
  },
  {
   "cell_type": "markdown",
   "metadata": {},
   "source": [
    "### Configure 후 VPC 설정 적용\n",
    "\n",
    "`.bedrock_agentcore.yaml` 파일에 VPC 설정을 추가합니다."
   ]
  },
  {
   "cell_type": "code",
   "execution_count": 20,
   "metadata": {},
   "outputs": [
    {
     "name": "stdout",
     "output_type": "stream",
     "text": [
      "✅ VPC configuration added to .bedrock_agentcore.yaml\n",
      "\n",
      "Network Configuration:\n",
      "  Network Mode: VPC\n",
      "  Subnets: ['subnet-0b2fb367d6e823a79']\n",
      "  Security Groups: ['sg-0affaea9ac4dc26b1']\n",
      "\n",
      "🔥 Observability Configuration:\n",
      "  CloudWatch Logs: ENABLED ✅\n",
      "  This will allow debugging via CloudWatch logs\n",
      "\n",
      "📝 Note: VPC Endpoints will be used automatically when runtime is in VPC\n"
     ]
    }
   ],
   "source": [
    "import yaml\n",
    "\n",
    "# .bedrock_agentcore.yaml 파일 읽기\n",
    "config_file_path = response.config_path\n",
    "with open(config_file_path, 'r') as f:\n",
    "    bedrock_config = yaml.safe_load(f)\n",
    "\n",
    "# AWS API 형식에 맞춰 VPC 설정 추가\n",
    "agent_name = 'bedrock_manus_runtime_vpc'\n",
    "if agent_name in bedrock_config['agents']:\n",
    "    agent_config = bedrock_config['agents'][agent_name]\n",
    "    \n",
    "    # VPC 네트워크 설정 (AWS API 형식)\n",
    "    agent_config['aws']['network_configuration'] = {\n",
    "        'network_mode': 'VPC',\n",
    "        'network_mode_config': {\n",
    "            'security_groups': vpc_configuration['securityGroupIds'],\n",
    "            'subnets': vpc_configuration['subnetIds']\n",
    "        }\n",
    "    }\n",
    "    \n",
    "    # 🔥 CRITICAL: Observability 설정 추가 (CloudWatch 로그 활성화)\n",
    "    agent_config['aws']['observability'] = {\n",
    "        'enabled': True\n",
    "    }\n",
    "\n",
    "# 파일에 저장\n",
    "with open(config_file_path, 'w') as f:\n",
    "    yaml.dump(bedrock_config, f, default_flow_style=False, sort_keys=False)\n",
    "\n",
    "print(\"✅ VPC configuration added to .bedrock_agentcore.yaml\")\n",
    "print()\n",
    "print(\"Network Configuration:\")\n",
    "print(f\"  Network Mode: VPC\")\n",
    "print(f\"  Subnets: {vpc_configuration['subnetIds']}\")\n",
    "print(f\"  Security Groups: {vpc_configuration['securityGroupIds']}\")\n",
    "print()\n",
    "print(\"🔥 Observability Configuration:\")\n",
    "print(f\"  CloudWatch Logs: ENABLED ✅\")\n",
    "print(f\"  This will allow debugging via CloudWatch logs\")\n",
    "print()\n",
    "print(\"📝 Note: VPC Endpoints will be used automatically when runtime is in VPC\")"
   ]
  },
  {
   "cell_type": "markdown",
   "metadata": {},
   "source": [
    "## Step 4. 배포: AWS CLI로 Runtime 생성\n",
    "\n",
    "### 🚀 VPC Private 배포 (SDK 버그 우회)\n",
    "\n",
    "**문제**: `agentcore_runtime.launch()`는 VPC `network_mode_config`를 YAML에서 제거하는 버그가 있습니다.\n",
    "\n",
    "**해결**: 기존 ECR 이미지를 사용하여 AWS CLI로 Runtime만 생성합니다.\n",
    "\n",
    "이 방법으로:\n",
    "- ✅ VPC 설정 보존 (security_groups, subnets)\n",
    "- ✅ Private subnet에 배포\n",
    "- ✅ Observability 활성화 (CloudWatch 로그)"
   ]
  },
  {
   "cell_type": "code",
   "execution_count": 27,
   "metadata": {},
   "outputs": [
    {
     "name": "stdout",
     "output_type": "stream",
     "text": [
      "⚠️  Using PUBLIC runtime's ECR image: 057716757052.dkr.ecr.us-east-1.amazonaws.com/bedrock-agentcore-bedrock_manus_runtime\n",
      "============================================================\n",
      "Creating VPC Runtime with AWS CLI v2\n",
      "============================================================\n",
      "ECR Image: 057716757052.dkr.ecr.us-east-1.amazonaws.com/bedrock-agentcore-bedrock_manus_runtime:latest\n",
      "VPC Subnets: ['subnet-0b2fb367d6e823a79']\n",
      "Security Groups: ['sg-0affaea9ac4dc26b1']\n",
      "============================================================\n",
      "\n",
      "🚀 Creating Runtime: bedrock_manus_runtime_vpc_1760773105\n",
      "\n",
      "✅ Runtime Created!\n",
      "   ARN: arn:aws:bedrock-agentcore:us-east-1:057716757052:runtime/bedrock_manus_runtime_vpc_1760773105-PtBWr17D4z\n",
      "   ID: bedrock_manus_runtime_vpc_1760773105-PtBWr17D4z\n",
      "   Status: CREATING\n",
      "\n",
      "ℹ️  Note: Runtime created in VPC mode with networkModeConfig\n"
     ]
    }
   ],
   "source": [
    "# AWS CLI로 VPC Runtime 생성 (JSON 파일 사용)\n",
    "import yaml\n",
    "import subprocess\n",
    "import json\n",
    "import time\n",
    "import tempfile\n",
    "\n",
    "# YAML에서 설정 읽기\n",
    "with open('.bedrock_agentcore.yaml', 'r') as f:\n",
    "    config = yaml.safe_load(f)\n",
    "\n",
    "agent_config = config['agents']['bedrock_manus_runtime_vpc']\n",
    "network_config = agent_config['aws']['network_configuration']\n",
    "account_id = agent_config['aws']['account']\n",
    "\n",
    "# VPC 설정\n",
    "subnets = network_config['network_mode_config']['subnets']\n",
    "security_groups = network_config['network_mode_config']['security_groups']\n",
    "execution_role = agent_config['aws']['execution_role']\n",
    "\n",
    "# ECR repository - null이면 기존 PUBLIC runtime의 ECR 이미지 사용\n",
    "ecr_repo = agent_config['aws']['ecr_repository']\n",
    "if not ecr_repo or ecr_repo == 'null':\n",
    "    ecr_repo = f\"{account_id}.dkr.ecr.{region}.amazonaws.com/bedrock-agentcore-bedrock_manus_runtime\"\n",
    "    print(f\"⚠️  Using PUBLIC runtime's ECR image: {ecr_repo}\")\n",
    "\n",
    "print(\"=\" * 60)\n",
    "print(\"Creating VPC Runtime with AWS CLI v2\")\n",
    "print(\"=\" * 60)\n",
    "print(f\"ECR Image: {ecr_repo}:latest\")\n",
    "print(f\"VPC Subnets: {subnets}\")\n",
    "print(f\"Security Groups: {security_groups}\")\n",
    "print(\"=\" * 60)\n",
    "print()\n",
    "\n",
    "# Runtime 생성 요청 JSON\n",
    "runtime_name = f\"bedrock_manus_runtime_vpc_{int(time.time())}\"\n",
    "\n",
    "create_request = {\n",
    "    \"agentRuntimeName\": runtime_name,\n",
    "    \"agentRuntimeArtifact\": {\n",
    "        \"containerConfiguration\": {\n",
    "            \"containerUri\": f\"{ecr_repo}:latest\"\n",
    "        }\n",
    "    },\n",
    "    \"roleArn\": execution_role,\n",
    "    \"networkConfiguration\": {\n",
    "        \"networkMode\": \"VPC\",\n",
    "        \"networkModeConfig\": {\n",
    "            \"securityGroups\": security_groups,\n",
    "            \"subnets\": subnets\n",
    "        }\n",
    "    },\n",
    "    \"protocolConfiguration\": {\n",
    "        \"serverProtocol\": \"HTTP\"\n",
    "    }\n",
    "}\n",
    "\n",
    "# 임시 JSON 파일 생성\n",
    "with tempfile.NamedTemporaryFile(mode='w', suffix='.json', delete=False) as f:\n",
    "    json.dump(create_request, f, indent=2)\n",
    "    json_file = f.name\n",
    "\n",
    "print(f\"🚀 Creating Runtime: {runtime_name}\")\n",
    "print()\n",
    "\n",
    "try:\n",
    "    # AWS CLI 실행 (이제 venv가 v2 사용)\n",
    "    result = subprocess.run(\n",
    "        ['aws', 'bedrock-agentcore-control', 'create-agent-runtime',\n",
    "        '--cli-input-json', f'file://{json_file}',\n",
    "        '--region', region],\n",
    "        capture_output=True,\n",
    "        text=True\n",
    "    )\n",
    "\n",
    "    if result.returncode == 0:\n",
    "        response = json.loads(result.stdout)\n",
    "\n",
    "        agent_arn = response['agentRuntimeArn']\n",
    "        runtime_id = response['agentRuntimeId']\n",
    "        status = response['status']\n",
    "\n",
    "        print(\"✅ Runtime Created!\")\n",
    "        print(f\"   ARN: {agent_arn}\")\n",
    "        print(f\"   ID: {runtime_id}\")\n",
    "        print(f\"   Status: {status}\")\n",
    "        print()\n",
    "        print(\"ℹ️  Note: Runtime created in VPC mode with networkModeConfig\")\n",
    "\n",
    "        # launch_result 객체 생성\n",
    "        class LaunchResult:\n",
    "            def __init__(self, arn, runtime_id):\n",
    "                self.agent_arn = arn\n",
    "                self.runtime_id = runtime_id\n",
    "\n",
    "        launch_result = LaunchResult(agent_arn, runtime_id)\n",
    "    else:\n",
    "        print(\"❌ Error creating Runtime:\")\n",
    "        print(result.stderr)\n",
    "        raise Exception(f\"Runtime creation failed: {result.stderr}\")\n",
    "finally:\n",
    "    # 임시 파일 삭제\n",
    "    import os\n",
    "    if os.path.exists(json_file):\n",
    "        os.unlink(json_file)"
   ]
  },
  {
   "cell_type": "markdown",
   "metadata": {},
   "source": [
    "## Step 5. 배포 상태 확인: `agentcore_runtime.status()`"
   ]
  },
  {
   "cell_type": "code",
   "execution_count": 28,
   "metadata": {},
   "outputs": [
    {
     "name": "stdout",
     "output_type": "stream",
     "text": [
      "⏳ Checking Runtime status: bedrock_manus_runtime_vpc_1760773105-PtBWr17D4z\n",
      "\n",
      "  Status: READY\n",
      "\n",
      "============================================================\n",
      "✅ Runtime is READY!\n",
      "============================================================\n",
      "\n",
      "🔒 VPC Private connectivity is active\n",
      "   All traffic will go through VPC Endpoint (no public internet)\n",
      "\n",
      "🔍 Verifying observability configuration...\n",
      "  ⚠️  Observability: NOT ENABLED\n",
      "     WARNING: Cannot debug health check issues without logs!\n",
      "\n",
      "============================================================\n",
      "🎯 Next Steps:\n",
      "============================================================\n",
      "1. Wait 1-2 minutes for container to fully start\n",
      "2. Check CloudWatch logs to see container startup\n",
      "3. Test Runtime invocation in next cell\n",
      "4. If health check fails, check logs for the reason\n",
      "============================================================\n",
      "\n",
      "Final Status: READY\n"
     ]
    }
   ],
   "source": [
    "import time\n",
    "import boto3\n",
    "\n",
    "# Runtime ID 추출\n",
    "runtime_id = launch_result.runtime_id\n",
    "agentcore_control = boto3.client('bedrock-agentcore-control', region_name=region)\n",
    "\n",
    "print(f\"⏳ Checking Runtime status: {runtime_id}\")\n",
    "print()\n",
    "\n",
    "end_status = ['READY', 'CREATE_FAILED', 'DELETE_FAILED', 'UPDATE_FAILED']\n",
    "status = 'CREATING'\n",
    "\n",
    "while status not in end_status:\n",
    "    time.sleep(10)\n",
    "    \n",
    "    try:\n",
    "        response = agentcore_control.get_agent_runtime(agentRuntimeId=runtime_id)\n",
    "        status = response['status']\n",
    "        print(f\"  Status: {status}\")\n",
    "    except Exception as e:\n",
    "        print(f\"  Error checking status: {e}\")\n",
    "        break\n",
    "\n",
    "print()\n",
    "if status == 'READY':\n",
    "    print(\"=\" * 60)\n",
    "    print(\"✅ Runtime is READY!\")\n",
    "    print(\"=\" * 60)\n",
    "    print()\n",
    "    print(\"🔒 VPC Private connectivity is active\")\n",
    "    print(\"   All traffic will go through VPC Endpoint (no public internet)\")\n",
    "    print()\n",
    "    \n",
    "    # Observability 설정 검증\n",
    "    print(\"🔍 Verifying observability configuration...\")\n",
    "    \n",
    "    runtime_details = agentcore_control.get_agent_runtime(agentRuntimeId=runtime_id)\n",
    "    \n",
    "    obs_config = runtime_details.get('observabilityConfiguration')\n",
    "    if obs_config and obs_config.get('cloudWatch', {}).get('enabled'):\n",
    "        log_group = obs_config['cloudWatch'].get('logGroup', 'N/A')\n",
    "        print(\"  ✅ Observability: ENABLED\")\n",
    "        print(f\"     CloudWatch Log Group: {log_group}\")\n",
    "        print(f\"     You can now debug health check issues via CloudWatch logs!\")\n",
    "    else:\n",
    "        print(\"  ⚠️  Observability: NOT ENABLED\")\n",
    "        print(\"     WARNING: Cannot debug health check issues without logs!\")\n",
    "    \n",
    "    print()\n",
    "    print(\"=\" * 60)\n",
    "    print(\"🎯 Next Steps:\")\n",
    "    print(\"=\" * 60)\n",
    "    print(\"1. Wait 1-2 minutes for container to fully start\")\n",
    "    print(\"2. Check CloudWatch logs to see container startup\")\n",
    "    print(\"3. Test Runtime invocation in next cell\")\n",
    "    print(\"4. If health check fails, check logs for the reason\")\n",
    "    print(\"=\" * 60)\n",
    "else:\n",
    "    print(f\"❌ Runtime status: {status}\")\n",
    "    print(\"   Please check CloudWatch logs for details\")\n",
    "    print(f\"   Runtime ID: {runtime_id}\")\n",
    "\n",
    "print()\n",
    "print(f\"Final Status: {status}\")"
   ]
  },
  {
   "cell_type": "markdown",
   "metadata": {},
   "source": [
    "---\n",
    "\n",
    "# 2) 배포한 에이전트 Health Check\n"
   ]
  },
  {
   "cell_type": "markdown",
   "metadata": {},
   "source": [
    "## 에이전트 호출"
   ]
  },
  {
   "cell_type": "code",
   "execution_count": 29,
   "metadata": {},
   "outputs": [
    {
     "name": "stdout",
     "output_type": "stream",
     "text": [
      "🧪 Testing VPC Runtime health...\n",
      "   Runtime ID: bedrock_manus_runtime_vpc_1760773105-PtBWr17D4z\n",
      "\n",
      "✅ Health check PASSED!\n",
      "   Runtime is responding correctly\n"
     ]
    }
   ],
   "source": [
    "# Runtime 호출 테스트\n",
    "import boto3\n",
    "import json\n",
    "\n",
    "agentcore_client = boto3.client('bedrock-agentcore', region_name=region)\n",
    "\n",
    "print(\"🧪 Testing VPC Runtime health...\")\n",
    "print(f\"   Runtime ID: {runtime_id}\")\n",
    "print()\n",
    "\n",
    "try:\n",
    "    response = agentcore_client.invoke_agent_runtime(\n",
    "        agentRuntimeArn=launch_result.agent_arn,\n",
    "        qualifier=\"DEFAULT\",\n",
    "        payload=json.dumps({\"prompt\": \"Hello, test message\"})\n",
    "    )\n",
    "\n",
    "    print(\"✅ Health check PASSED!\")\n",
    "    print(\"   Runtime is responding correctly\")\n",
    "\n",
    "except Exception as e:\n",
    "    print(\"❌ Health check FAILED!\")\n",
    "    print(f\"   Error: {str(e)}\")\n",
    "    print()\n",
    "    print(\"⚠️  This is the same issue as previous VPC Runtimes\")\n",
    "    print(\"   Without observability, we cannot see container logs\")"
   ]
  },
  {
   "cell_type": "code",
   "execution_count": null,
   "metadata": {},
   "outputs": [],
   "source": []
  }
 ],
 "metadata": {
  "kernelspec": {
   "display_name": ".venv",
   "language": "python",
   "name": "python3"
  },
  "language_info": {
   "codemirror_mode": {
    "name": "ipython",
    "version": 3
   },
   "file_extension": ".py",
   "mimetype": "text/x-python",
   "name": "python",
   "nbconvert_exporter": "python",
   "pygments_lexer": "ipython3",
   "version": "3.12.11"
  }
 },
 "nbformat": 4,
 "nbformat_minor": 4
}
