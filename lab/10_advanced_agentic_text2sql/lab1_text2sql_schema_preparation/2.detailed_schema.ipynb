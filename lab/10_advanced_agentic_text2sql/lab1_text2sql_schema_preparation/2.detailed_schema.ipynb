{
 "cells": [
  {
   "cell_type": "markdown",
   "id": "cde141b9-c4c6-44b0-b939-2a8dca3b27fb",
   "metadata": {},
   "source": [
    "# Lab. 3-1 Schema Preparation-2\n",
    "\n",
    "일반적인 Schema Linking 과정이 테이블 선택 -> 컬럼 선택으로 나눠 진행되는데, 테이블 선택이 잘못되면 후속 과정은 무의미하기 때문에 각 테이블에 대한 충분한 설명을 갖추는 것이 중요합니다.\n",
    "\n",
    "이 노트북에서는 아래의 table_name, table_desc, columns, col_name, col_desc, table_summary, table_summary_v 를\n",
    "OpenSearch 의 schema_descriptions 인덱스에 적재하는 일을 합니다.\n",
    "\n",
    "---\n",
    "```\n",
    "\n",
    "table_doc = {\n",
    "    \"table_name\": Customer,\n",
    "    \"table_desc\": 고객 세부 정보를 포함하고 지원 담당자에게 연결합니다,\n",
    "    \"columns\": [\n",
    "    {\n",
    "      \"col_name\": \"CustomerId\",\n",
    "      \"col_desc\": \"기본 키, 고유한 고객 식별자입니다.\"\n",
    "    },\n",
    "    {\n",
    "      \"col_name\": \"FirstName\",\n",
    "      \"col_desc\": \"고객의 이름입니다.\"\n",
    "    },\n",
    "    ...\n",
    "    \"table_summary\": 이 테이블은 고객의 세부 정보를 포함하고 있으며, 지원 담당자와 연결됩니다. 다음과 같은 정보를 포함하고 있습니다:\n",
    "        - 고유한 고객 식별자(CustomerId)\n",
    "        - 고객의 이름(FirstName, LastName) \n",
    "        - 고객의 회사 정보(Company)\n",
    "        - 고객의 주소 정보(Address, City, State, Country, PostalCode)\n",
    "        - 고객의 연락처 정보(Phone, Fax, Email)\n",
    "        - 고객을 지원하는 직원 정보(SupportRepId)\n",
    "        이 테이블을 활용하여 다음과 같은 분석 및 활용이 가능합니다:\n",
    "        - 특정 국가 또는 지역 고객 데이터 추출 및 분석 (예: 캐나다, 미국, 브라질 고객 데이터 분석)\n",
    "    \"table_summary_v\": [-0.062046438455581665,0.01113771554082632,...]\n",
    "```\n",
    "\n"
   ]
  },
  {
   "cell_type": "markdown",
   "id": "d03ff89b-d3fc-4532-b1ee-c370cad3a550",
   "metadata": {},
   "source": [
    "---\n",
    "\n",
    "아래의 전체 구성도에서 다음과 같은 단계별 작업을 합니다.\n",
    "- 3.Table Summarizer --> Schema Descriptions with Table Summaries -->  Schema Descriptions with Table Summaries Embeeding --> 1) Schema Document --> Amazon OpenSearch Service 저장"
   ]
  },
  {
   "cell_type": "markdown",
   "id": "2f1bdcc7-73b2-42fc-be55-8a5872fe2aa8",
   "metadata": {},
   "source": [
    "![Intro](../images/text2sql/schema-prep-1.png)"
   ]
  },
  {
   "cell_type": "markdown",
   "id": "11fa1a10-2fa1-4383-8838-3186b39815e8",
   "metadata": {},
   "source": [
    "## 1. OpenSearch 환경 설정"
   ]
  },
  {
   "cell_type": "code",
   "execution_count": 1,
   "id": "52c70963-24c8-4a71-8529-37ed362b5f58",
   "metadata": {
    "tags": []
   },
   "outputs": [
    {
     "name": "stdout",
     "output_type": "stream",
     "text": [
      "opensearch_domain_endpoint: \n",
      " https://search-text2sql-kh-ujitj6xavl2cfvpkafvolvjjlm.us-east-1.es.amazonaws.com\n"
     ]
    }
   ],
   "source": [
    "import sys\n",
    "from libs.ssm import parameter_store\n",
    "\n",
    "pm = parameter_store('us-east-1')\n",
    "# pm = parameter_store('us-west-2')\n",
    "domain_endpoint = pm.get_params(key=\"chatbot-opensearch_domain_endpoint\", enc=False)\n",
    "opensearch_domain_endpoint = f\"https://{domain_endpoint}\"\n",
    "opensearch_user_id = pm.get_params(key=\"chatbot-opensearch_user_id\", enc=False)\n",
    "opensearch_user_password = pm.get_params(key=\"chatbot-opensearch_user_password\", enc=True)\n",
    "print(\"opensearch_domain_endpoint: \\n\", opensearch_domain_endpoint)"
   ]
  },
  {
   "cell_type": "markdown",
   "id": "c0ed1666-159c-42f4-9664-84161e1fdbd9",
   "metadata": {},
   "source": [
    "## 2. Schema Description 및 Example Queries 로드"
   ]
  },
  {
   "cell_type": "code",
   "execution_count": 2,
   "id": "f6749a59-1105-49ce-9601-1bdb91d7fe50",
   "metadata": {
    "tags": []
   },
   "outputs": [],
   "source": [
    "import json \n",
    "SCHEMA_FILE_PATH = \"database/chinook_schema_kr.json\"\n",
    "SAMPLE_QUERY_FILE_PATH = \"database/example_queries_temp.jsonl\"\n",
    "\n",
    "def load_schema(file_path):\n",
    "    with open(file_path, 'r', encoding='utf-8') as file:\n",
    "        schema = json.load(file)\n",
    "    return schema\n",
    "\n",
    "def load_queries(file_path):\n",
    "    with open(file_path, 'r', encoding='utf-8') as file:\n",
    "        queries = file.readlines()\n",
    "    return queries\n",
    "\n",
    "schema = load_schema(SCHEMA_FILE_PATH)\n",
    "queries = load_queries(SAMPLE_QUERY_FILE_PATH)"
   ]
  },
  {
   "cell_type": "markdown",
   "id": "12e11f3a-f645-4d8f-ac86-5e45a9fabe73",
   "metadata": {},
   "source": [
    "### 2.1. Schema 로드"
   ]
  },
  {
   "cell_type": "code",
   "execution_count": 3,
   "id": "82da3efc-883a-4df3-bb02-239dc13bd2ca",
   "metadata": {
    "scrolled": true
   },
   "outputs": [
    {
     "name": "stdout",
     "output_type": "stream",
     "text": [
      "[\n",
      "    {\n",
      "        \"Album\": {\n",
      "            \"table_desc\": \"고유 ID, 제목 및 아티스트 ID를 통한 아티스트 링크가 있는 앨범 데이터를 저장합니다.\",\n",
      "            \"cols\": [\n",
      "                {\n",
      "                    \"col\": \"AlbumId\",\n",
      "                    \"col_desc\": \"기본 키, 앨범의 고유 식별자입니다.\"\n",
      "                },\n",
      "                {\n",
      "                    \"col\": \"Title\",\n",
      "                    \"col_desc\": \"앨범의 제목입니다.\"\n",
      "                },\n",
      "                {\n",
      "                    \"col\": \"ArtistId\",\n",
      "                    \"col_desc\": \"앨범의 아티스트를 참조하는 외래 키입니다.\"\n",
      "                }\n",
      "            ]\n",
      "        },\n",
      "        \"Artist\": {\n",
      "            \"table_desc\": \"ID와 이름이 있는 아티스트 정보를 보유합니다.\",\n",
      "            \"cols\": [\n",
      "                {\n",
      "                    \"col\": \"ArtistId\",\n",
      "                    \"col_desc\": \"기본 키, 아티스트의 고유 식별자입니다.\"\n",
      "                },\n",
      "                {\n",
      "                    \"col\": \"Name\",\n",
      "                    \"col_desc\": \"아티스트의 이름입니다.\"\n",
      "                }\n",
      "            ]\n",
      "        },\n",
      "        \"Customer\": {\n",
      "            \"table_desc\": \"고객 세부 정보를 포함하고 지원 담당자에게 연결합니다.\",\n",
      "            \"cols\": [\n",
      "                {\n",
      "                    \"col\": \"CustomerId\",\n",
      "                    \"col_desc\": \"기본 키, 고유한 고객 식별자입니다.\"\n",
      "                },\n",
      "                {\n",
      "                    \"col\": \"FirstName\",\n",
      "                    \"col_desc\": \"고객의 이름입니다.\"\n",
      "                },\n",
      "                {\n",
      "                    \"col\": \"LastName\",\n",
      "                    \"col_desc\": \"고객의 성입니다.\"\n",
      "                },\n",
      "                {\n",
      "                    \"col\": \"Company\",\n",
      "                    \"col_desc\": \"고객의 회사입니다.\"\n",
      "                },\n",
      "                {\n",
      "                    \"col\": \"Address\",\n",
      "                    \"col_desc\": \"고객의 주소입니다.\"\n",
      "                },\n",
      "                {\n",
      "                    \"col\": \"City\",\n",
      "                    \"col_desc\": \"고객의 도시입니다.\"\n",
      "                },\n",
      "                {\n",
      "                    \"col\": \"State\",\n",
      "                    \"col_desc\": \"고객의 주/도입니다.\"\n",
      "                },\n",
      "                {\n",
      "                    \"col\": \"Country\",\n",
      "                    \"col_desc\": \"고객의 국가입니다.\"\n",
      "                },\n",
      "                {\n",
      "                    \"col\": \"PostalCode\",\n",
      "                    \"col_desc\": \"고객의 우편번호입니다.\"\n",
      "                },\n",
      "                {\n",
      "                    \"col\": \"Phone\",\n",
      "                    \"col_desc\": \"고객의 전화번호입니다.\"\n",
      "                },\n",
      "                {\n",
      "                    \"col\": \"Fax\",\n",
      "                    \"col_desc\": \"고객의 팩스번호입니다.\"\n",
      "                },\n",
      "                {\n",
      "                    \"col\": \"Email\",\n",
      "                    \"col_desc\": \"고객의 이메일 주소입니다.\"\n",
      "                },\n",
      "                {\n",
      "                    \"col\": \"SupportRepId\",\n",
      "                    \"col_desc\": \"이 고객을 지원하는 직원을 참조하는 외래 키입니다.\"\n",
      "                }\n",
      "            ]\n",
      "        },\n",
      "        \"Employee\": {\n",
      "            \"table_desc\": \"감독 체계를 포함한 직원 세부 정보를 저장합니다.\",\n",
      "            \"cols\": [\n",
      "                {\n",
      "                    \"col\": \"EmployeeId\",\n",
      "                    \"col_desc\": \"기본 키, 직원의 고유 식별자입니다.\"\n",
      "                },\n",
      "                {\n",
      "                    \"col\": \"LastName\",\n",
      "                    \"col_desc\": \"직원의 성입니다.\"\n",
      "                },\n",
      "                {\n",
      "                    \"col\": \"FirstName\",\n",
      "                    \"col_desc\": \"직원의 이름입니다.\"\n",
      "                },\n",
      "                {\n",
      "                    \"col\": \"Title\",\n",
      "                    \"col_desc\": \"직원의 직책입니다.\"\n",
      "                },\n",
      "                {\n",
      "                    \"col\": \"ReportsTo\",\n",
      "                    \"col_desc\": \"직원의 상사를 참조하는 외래 키입니다.\"\n",
      "                },\n",
      "                {\n",
      "                    \"col\": \"BirthDate\",\n",
      "                    \"col_desc\": \"직원의 생년월일입니다.\"\n",
      "                },\n",
      "                {\n",
      "                    \"col\": \"HireDate\",\n",
      "                    \"col_desc\": \"직원의 채용일입니다.\"\n",
      "                },\n",
      "                {\n",
      "                    \"col\": \"Address\",\n",
      "                    \"col_desc\": \"직원의 주소입니다.\"\n",
      "                },\n",
      "                {\n",
      "                    \"col\": \"City\",\n",
      "                    \"col_desc\": \"직원의 도시입니다.\"\n",
      "                },\n",
      "                {\n",
      "                    \"col\": \"State\",\n",
      "                    \"col_desc\": \"직원의 주/도입니다.\"\n",
      "                },\n",
      "                {\n",
      "                    \"col\": \"Country\",\n",
      "                    \"col_desc\": \"직원의 국가입니다.\"\n",
      "                },\n",
      "                {\n",
      "                    \"col\": \"PostalCode\",\n",
      "                    \"col_desc\": \"직원의 우편번호입니다.\"\n",
      "                },\n",
      "                {\n",
      "                    \"col\": \"Phone\",\n",
      "                    \"col_desc\": \"직원의 전화번호입니다.\"\n",
      "                },\n",
      "                {\n",
      "                    \"col\": \"Fax\",\n",
      "                    \"col_desc\": \"직원의 팩스번호입니다.\"\n",
      "                },\n",
      "                {\n",
      "                    \"col\": \"Email\",\n",
      "                    \"col_desc\": \"직원의 이메일 주소입니다.\"\n",
      "                }\n",
      "            ]\n",
      "        },\n",
      "        \"Genre\": {\n",
      "            \"table_desc\": \"고유 식별자와 이름이 있는 음악 장르를 카탈로그화합니다.\",\n",
      "            \"cols\": [\n",
      "                {\n",
      "                    \"col\": \"GenreId\",\n",
      "                    \"col_desc\": \"기본 키, 장르의 고유 식별자입니다.\"\n",
      "                },\n",
      "                {\n",
      "                    \"col\": \"Name\",\n",
      "                    \"col_desc\": \"장르의 이름입니다.\"\n",
      "                }\n",
      "            ]\n",
      "        },\n",
      "        \"Invoice\": {\n",
      "            \"table_desc\": \"고객과 연결된 거래 세부 정보를 기록합니다.\",\n",
      "            \"cols\": [\n",
      "                {\n",
      "                    \"col\": \"InvoiceId\",\n",
      "                    \"col_desc\": \"기본 키, 인보이스의 고유 식별자입니다.\"\n",
      "                },\n",
      "                {\n",
      "                    \"col\": \"CustomerId\",\n",
      "                    \"col_desc\": \"이 인보이스와 관련된 고객을 참조하는 외래 키입니다.\"\n",
      "                },\n",
      "                {\n",
      "                    \"col\": \"InvoiceDate\",\n",
      "                    \"col_desc\": \"인보이스가 발행된 날짜입니다.\"\n",
      "                },\n",
      "                {\n",
      "                    \"col\": \"BillingAddress\",\n",
      "                    \"col_desc\": \"인보이스의 청구 주소입니다.\"\n",
      "                },\n",
      "                {\n",
      "                    \"col\": \"BillingCity\",\n",
      "                    \"col_desc\": \"인보이스의 청구 도시입니다.\"\n",
      "                },\n",
      "                {\n",
      "                    \"col\": \"BillingState\",\n",
      "                    \"col_desc\": \"인보이스의 청구 주/도입니다.\"\n",
      "                },\n",
      "                {\n",
      "                    \"col\": \"BillingCountry\",\n",
      "                    \"col_desc\": \"인보이스의 청구 국가입니다.\"\n",
      "                },\n",
      "                {\n",
      "                    \"col\": \"BillingPostalCode\",\n",
      "                    \"col_desc\": \"인보이스의 청구 우편번호입니다.\"\n",
      "                },\n",
      "                {\n",
      "                    \"col\": \"Total\",\n",
      "                    \"col_desc\": \"인보이스의 총 금액입니다.\"\n",
      "                }\n",
      "            ]\n",
      "        },\n",
      "        \"InvoiceLine\": {\n",
      "            \"table_desc\": \"인보이스의 각 품목 세부 정보를 트랙 및 인보이스와 연결합니다.\",\n",
      "            \"cols\": [\n",
      "                {\n",
      "                    \"col\": \"InvoiceLineId\",\n",
      "                    \"col_desc\": \"기본 키, 인보이스 라인의 고유 식별자입니다.\"\n",
      "                },\n",
      "                {\n",
      "                    \"col\": \"InvoiceId\",\n",
      "                    \"col_desc\": \"관련 인보이스를 참조하는 외래 키입니다.\"\n",
      "                },\n",
      "                {\n",
      "                    \"col\": \"TrackId\",\n",
      "                    \"col_desc\": \"이 인보이스 라인에서 판매된 트랙을 참조하는 외래 키입니다.\"\n",
      "                },\n",
      "                {\n",
      "                    \"col\": \"UnitPrice\",\n",
      "                    \"col_desc\": \"트랙의 단가입니다.\"\n",
      "                },\n",
      "                {\n",
      "                    \"col\": \"Quantity\",\n",
      "                    \"col_desc\": \"이 인보이스 라인에서 판매된 트랙의 수량입니다.\"\n",
      "                }\n",
      "            ]\n",
      "        },\n",
      "        \"MediaType\": {\n",
      "            \"table_desc\": \"트랙의 미디어 유형을 정의합니다.\",\n",
      "            \"cols\": [\n",
      "                {\n",
      "                    \"col\": \"MediaTypeId\",\n",
      "                    \"col_desc\": \"기본 키, 미디어 타입의 고유 식별자입니다.\"\n",
      "                },\n",
      "                {\n",
      "                    \"col\": \"Name\",\n",
      "                    \"col_desc\": \"미디어 타입의 이름입니다.\"\n",
      "                }\n",
      "            ]\n",
      "        },\n",
      "        \"Playlist\": {\n",
      "            \"table_desc\": \"트랙을 플레이리스트로 구성합니다.\",\n",
      "            \"cols\": [\n",
      "                {\n",
      "                    \"col\": \"PlaylistId\",\n",
      "                    \"col_desc\": \"기본 키, 플레이리스트의 고유 식별자입니다.\"\n",
      "                },\n",
      "                {\n",
      "                    \"col\": \"Name\",\n",
      "                    \"col_desc\": \"플레이리스트의 이름입니다.\"\n",
      "                }\n",
      "            ]\n",
      "        },\n",
      "        \"PlaylistTrack\": {\n",
      "            \"table_desc\": \"트랙을 플레이리스트에 연결합니다.\",\n",
      "            \"cols\": [\n",
      "                {\n",
      "                    \"col\": \"PlaylistId\",\n",
      "                    \"col_desc\": \"플레이리스트를 식별하는 외래 키입니다.\"\n",
      "                },\n",
      "                {\n",
      "                    \"col\": \"TrackId\",\n",
      "                    \"col_desc\": \"플레이리스트의 트랙을 식별하는 외래 키입니다.\"\n",
      "                }\n",
      "            ]\n",
      "        },\n",
      "        \"Track\": {\n",
      "            \"table_desc\": \"앨범, 장르 및 미디어 타입과 연결된 음악 트랙에 대한 자세한 정보를 저장합니다.\",\n",
      "            \"cols\": [\n",
      "                {\n",
      "                    \"col\": \"TrackId\",\n",
      "                    \"col_desc\": \"기본 키, 트랙의 고유 식별자입니다.\"\n",
      "                },\n",
      "                {\n",
      "                    \"col\": \"Name\",\n",
      "                    \"col_desc\": \"트랙의 이름입니다.\"\n",
      "                },\n",
      "                {\n",
      "                    \"col\": \"AlbumId\",\n",
      "                    \"col_desc\": \"이 트랙이 포함된 앨범을 참조하는 외래 키입니다.\"\n",
      "                },\n",
      "                {\n",
      "                    \"col\": \"MediaTypeId\",\n",
      "                    \"col_desc\": \"이 트랙의 미디어 타입을 참조하는 외래 키입니다.\"\n",
      "                },\n",
      "                {\n",
      "                    \"col\": \"GenreId\",\n",
      "                    \"col_desc\": \"이 트랙의 장르를 참조하는 선택적 외래 키입니다.\"\n",
      "                },\n",
      "                {\n",
      "                    \"col\": \"Composer\",\n",
      "                    \"col_desc\": \"트랙의 작곡가입니다.\"\n",
      "                },\n",
      "                {\n",
      "                    \"col\": \"Milliseconds\",\n",
      "                    \"col_desc\": \"밀리초 단위의 트랙 지속 시간입니다.\"\n",
      "                },\n",
      "                {\n",
      "                    \"col\": \"Bytes\",\n",
      "                    \"col_desc\": \"바이트 단위의 트랙 파일 크기입니다.\"\n",
      "                },\n",
      "                {\n",
      "                    \"col\": \"UnitPrice\",\n",
      "                    \"col_desc\": \"이 트랙의 단가입니다.\"\n",
      "                }\n",
      "            ]\n",
      "        }\n",
      "    }\n",
      "]\n"
     ]
    }
   ],
   "source": [
    "def print_pretty_json(data):\n",
    "    print(json.dumps(data, indent=4, ensure_ascii=False))\n",
    "\n",
    "print_pretty_json(schema)"
   ]
  },
  {
   "cell_type": "markdown",
   "id": "89bb2c3d-6582-47db-95d5-619fea3f49ac",
   "metadata": {},
   "source": [
    "### 2.2. 자연어 질문 & SQL 로드"
   ]
  },
  {
   "cell_type": "code",
   "execution_count": 4,
   "id": "f158654d-25ac-4fe0-a1f9-a81e6ddbab88",
   "metadata": {},
   "outputs": [
    {
     "name": "stdout",
     "output_type": "stream",
     "text": [
      "{\n",
      "  \"input\": \"모든 아티스트의 ID와 이름 정보 조회. 신규 아티스트 데이터베이스 구축, 아티스트 목록 생성, 아티스트 프로필 관리 등의 업무에 활용될 수 있습니다.\",\n",
      "  \"query\": \"SELECT * FROM Artist\"\n",
      "}\n",
      "--------------------------------------------------\n",
      "{\n",
      "  \"input\": \"아티스트 이름이 'AC/DC'인 아티스트의 모든 앨범 정보 요청\\n\\n이 쿼리는 특정 아티스트의 모든 앨범 정보를 검색하는 데 사용됩니다. 아티스트 이름으로 해당 아티스트의 ID를 찾은 후, 그 ID를 사용하여 Album 테이블에서 관련 앨범 레코드를 모두 가져옵니다. 음악 스트리밍 서비스나 온라인 음반 판매 플랫폼에서 특정 아티스트의 전체 디스코그래피를 표시하거나, 아티스트 프로필 페이지에 앨범 목록을 렌더링하는 데 활용될 수 있습니다.\",\n",
      "  \"query\": \"SELECT * FROM Album WHERE ArtistId = (SELECT ArtistId FROM Artist WHERE Name = 'AC/DC')\"\n",
      "}\n",
      "--------------------------------------------------\n",
      "{\n",
      "  \"input\": \"록 장르에 속하는 모든 트랙 정보 조회. 장르 이름을 기준으로 해당 장르 ID를 찾아 이를 활용해 Track 테이블에서 일치하는 GenreId를 가진 모든 레코드를 반환합니다. 사용자가 특정 장르의 음악을 탐색하거나 재생 목록을 만들고자 할 때 유용한 쿼리입니다. 장르별 트랙 정보를 효율적으로 조회할 수 있어 음악 스트리밍 서비스나 음원 관리 시스템에서 활용 가능합니다.\",\n",
      "  \"query\": \"SELECT * FROM Track WHERE GenreId = (SELECT GenreId FROM Genre WHERE Name = 'Rock')\"\n",
      "}\n",
      "--------------------------------------------------\n"
     ]
    }
   ],
   "source": [
    "import json\n",
    "def print_pretty_json_in_list(data, n_sample):\n",
    "    # 각 JSON 문자열을 파싱하고 이쁘게 출력\n",
    "    for i, item in enumerate(data):\n",
    "        # 문자열을 JSON 객체로 파싱\n",
    "        parsed = json.loads(item)\n",
    "        if i < n_sample:\n",
    "            # indent=2로 설정하여 이쁘게 출력\n",
    "            pretty_json = json.dumps(parsed, indent=2, ensure_ascii=False)\n",
    "            print(pretty_json)\n",
    "            print(\"-\" * 50)  # 구분선 출력\n",
    "\n",
    "print_pretty_json_in_list(queries, 3)        "
   ]
  },
  {
   "cell_type": "markdown",
   "id": "048a650d-2612-440c-835a-ebd1dbab66a4",
   "metadata": {},
   "source": [
    "## 3. 테이블 요약 문서 생성\n",
    "\n",
    "### 3.1. 요약 프롬프트 생성\n",
    "- 다양한 정보들을 테이블 요약 문서 생성에 활용합니다. \n",
    "- 기본 Schema Description 문서와 Sample Query 등을 모두 활용해서 테이블 요약을 생성합니다. \n",
    "- 아래는 이 정보를 반영하기 위한 LLM 프롬프트 템플릿입니다."
   ]
  },
  {
   "cell_type": "code",
   "execution_count": 5,
   "id": "abd9b880-aba2-4708-8f83-1287771a3aee",
   "metadata": {
    "tags": []
   },
   "outputs": [],
   "source": [
    "from langchain_aws import ChatBedrock\n",
    "\n",
    "SYS_PROMPT = \"\"\"\n",
    "You are a data analyst that can help summarize SQL tables.\n",
    "Summarize the provided table by the given context.\n",
    "\n",
    "<instruction>\n",
    "- You shall write the summary based only on the provided information, and make it as detailed as possible.\n",
    "- Note that above sampled queries are only small sample of queries and thus not all possible use of tables are represented, and only some columns in the table are used.\n",
    "- Do not use any adjective to describe the table. For example, the importance of the table, its comprehensiveness or if it is crucial, or who may be using it. For example, you can say that a table contains certain types of data, but you cannot say that the table contains a 'wealth' of data, or that it is 'comprehensive'.\n",
    "- Do not mention about the sampled query. Only talk objectively about the type of data the table contains and its possible utilities.\n",
    "- Please also include some potential usecases of the table, e.g. what kind of questions can be answered by the table, what kind of anlaysis can be done by the table, etc.\n",
    "- Please provide the output in Korean.\n",
    "</instruction>\n",
    "\"\"\"\n",
    "\n",
    "PROMPT_TEMPLATE = \"\"\"\n",
    "<table schema>\n",
    "{table_schema}\n",
    "</table schema>\n",
    "\n",
    "<sample queries>\n",
    "{sample_queries}\n",
    "</sample queries>\n",
    "\"\"\""
   ]
  },
  {
   "cell_type": "markdown",
   "id": "c3625720-a99c-4956-ae6c-b033eaffe499",
   "metadata": {},
   "source": [
    "### 3.2. LangChain Bedrock 그리고 서치 함수등 정의"
   ]
  },
  {
   "cell_type": "code",
   "execution_count": 6,
   "id": "5ac5890b-9979-4d39-a658-001ad37909de",
   "metadata": {},
   "outputs": [],
   "source": [
    "model_kwargs =  { \n",
    "    \"temperature\": 0.0,\n",
    "    \"top_k\": 250,\n",
    "    \"top_p\": 1,\n",
    "    \"system\": SYS_PROMPT\n",
    "}\n",
    "\n",
    "chat_model = ChatBedrock(\n",
    "    model_id=\"us.anthropic.claude-3-sonnet-20240229-v1:0\",\n",
    "    region_name='us-east-1',\n",
    "    # region_name='us-west-2',\n",
    "    model_kwargs=model_kwargs\n",
    ")"
   ]
  },
  {
   "cell_type": "code",
   "execution_count": 7,
   "id": "bb10ee72-7793-4985-a4ee-aeda73e1d714",
   "metadata": {
    "tags": []
   },
   "outputs": [],
   "source": [
    "def search_table_queries(queries, table_name):  # 테이블이 어떤 쿼리에 사용되었는지 검색하여 추출하는 함수입니다.\n",
    "    table_name_lower = table_name.lower()\n",
    "    matched_queries = []\n",
    "\n",
    "    for line in queries:\n",
    "        try:\n",
    "            query_data = json.loads(line)\n",
    "            if table_name_lower in query_data['query'].lower():\n",
    "                matched_queries.append(query_data)\n",
    "        except json.JSONDecodeError:\n",
    "            print(f\"Invalid JSON line: {line}\")\n",
    "    \n",
    "    return matched_queries\n",
    "    \n",
    "import json\n",
    "from pprint import pprint\n",
    "\n",
    "def pretty_print_queries(data, n_sample):\n",
    "    for idx, query in enumerate(data, 1):\n",
    "        if idx < n_sample:\n",
    "            print(f\"\\n[Query {idx}]\")\n",
    "            print(json.dumps(query, indent=2, ensure_ascii=False))\n",
    "            print(\"-\" * 80)    "
   ]
  },
  {
   "cell_type": "markdown",
   "id": "8583e3f3-f34a-4854-a580-27644c92f25e",
   "metadata": {},
   "source": [
    "### 3.3. 전체 \"자연어-SQL\" 로 부터 `Customer`라는 단어가 있는 \"자연어-SQL\" 추출 "
   ]
  },
  {
   "cell_type": "code",
   "execution_count": 8,
   "id": "60328f12-cec5-4f2b-ab5e-f225df4e1efb",
   "metadata": {},
   "outputs": [
    {
     "name": "stdout",
     "output_type": "stream",
     "text": [
      "## table_name:  Customer\n",
      "## matched_queries: \n",
      "\n",
      "[Query 1]\n",
      "{\n",
      "  \"input\": \"캐나다에 거주하는 고객들의 전체 세부 정보 조회. 캐나다 시장 분석 및 맞춤형 마케팅 전략 수립을 위해 해당 국가 고객 데이터가 필요할 수 있습니다.\",\n",
      "  \"query\": \"SELECT * FROM Customer WHERE Country = 'Canada'\"\n",
      "}\n",
      "--------------------------------------------------------------------------------\n",
      "\n",
      "[Query 2]\n",
      "{\n",
      "  \"input\": \"고객별 총 구매 금액을 내림차순으로 정렬하여 상위 5명의 고객 ID와 총 구매 금액 조회. 고객 관계 관리 및 마케팅 전략 수립을 위해 최대 지출 고객 파악이 필요할 수 있음.\",\n",
      "  \"query\": \"SELECT CustomerId, SUM(Total) AS TotalPurchase FROM Invoice GROUP BY CustomerId ORDER BY TotalPurchase DESC LIMIT 5\"\n",
      "}\n",
      "--------------------------------------------------------------------------------\n"
     ]
    }
   ],
   "source": [
    "from langchain_core.prompts.chat import ChatPromptTemplate\n",
    "from langchain_core.output_parsers import StrOutputParser\n",
    "\n",
    "table_name = 'Customer'\n",
    "\n",
    "matched_queries = search_table_queries(queries, table_name)\n",
    "prompt = ChatPromptTemplate.from_template(PROMPT_TEMPLATE)\n",
    "print(\"## table_name: \", table_name)\n",
    "print(\"## matched_queries: \")\n",
    "pretty_print_queries(matched_queries, 3)"
   ]
  },
  {
   "cell_type": "markdown",
   "id": "c28d725d-dcda-4be5-8ffe-130ad299bb7c",
   "metadata": {},
   "source": [
    "### 3.4. 변수인 matched_queries 와 테이블 이름을 입력한 프롬프트 확인"
   ]
  },
  {
   "cell_type": "code",
   "execution_count": 9,
   "id": "b3e377fc-8258-4125-9511-900e9056cfa5",
   "metadata": {
    "tags": []
   },
   "outputs": [
    {
     "name": "stdout",
     "output_type": "stream",
     "text": [
      "\n",
      "You are a data analyst that can help summarize SQL tables.\n",
      "Summarize the provided table by the given context.\n",
      "\n",
      "<instruction>\n",
      "- You shall write the summary based only on the provided information, and make it as detailed as possible.\n",
      "- Note that above sampled queries are only small sample of queries and thus not all possible use of tables are represented, and only some columns in the table are used.\n",
      "- Do not use any adjective to describe the table. For example, the importance of the table, its comprehensiveness or if it is crucial, or who may be using it. For example, you can say that a table contains certain types of data, but you cannot say that the table contains a 'wealth' of data, or that it is 'comprehensive'.\n",
      "- Do not mention about the sampled query. Only talk objectively about the type of data the table contains and its possible utilities.\n",
      "- Please also include some potential usecases of the table, e.g. what kind of questions can be answered by the table, what kind of anlaysis can be done by the table, etc.\n",
      "- Please provide the output in Korean.\n",
      "</instruction>\n",
      "\n",
      "Human: \n",
      "<table schema>\n",
      "{'table_desc': '고객 세부 정보를 포함하고 지원 담당자에게 연결합니다.', 'cols': [{'col': 'CustomerId', 'col_desc': '기본 키, 고유한 고객 식별자입니다.'}, {'col': 'FirstName', 'col_desc': '고객의 이름입니다.'}, {'col': 'LastName', 'col_desc': '고객의 성입니다.'}, {'col': 'Company', 'col_desc': '고객의 회사입니다.'}, {'col': 'Address', 'col_desc': '고객의 주소입니다.'}, {'col': 'City', 'col_desc': '고객의 도시입니다.'}, {'col': 'State', 'col_desc': '고객의 주/도입니다.'}, {'col': 'Country', 'col_desc': '고객의 국가입니다.'}, {'col': 'PostalCode', 'col_desc': '고객의 우편번호입니다.'}, {'col': 'Phone', 'col_desc': '고객의 전화번호입니다.'}, {'col': 'Fax', 'col_desc': '고객의 팩스번호입니다.'}, {'col': 'Email', 'col_desc': '고객의 이메일 주소입니다.'}, {'col': 'SupportRepId', 'col_desc': '이 고객을 지원하는 직원을 참조하는 외래 키입니다.'}]}\n",
      "</table schema>\n",
      "\n",
      "<sample queries>\n",
      "[{'input': '캐나다에 거주하는 고객들의 전체 세부 정보 조회. 캐나다 시장 분석 및 맞춤형 마케팅 전략 수립을 위해 해당 국가 고객 데이터가 필요할 수 있습니다.', 'query': \"SELECT * FROM Customer WHERE Country = 'Canada'\"}, {'input': '고객별 총 구매 금액을 내림차순으로 정렬하여 상위 5명의 고객 ID와 총 구매 금액 조회. 고객 관계 관리 및 마케팅 전략 수립을 위해 최대 지출 고객 파악이 필요할 수 있음.', 'query': 'SELECT CustomerId, SUM(Total) AS TotalPurchase FROM Invoice GROUP BY CustomerId ORDER BY TotalPurchase DESC LIMIT 5'}, {'input': '미국에 거주하는 고객들의 전체 세부 정보 조회. 고객 관리 및 마케팅 활동을 위해 특정 국가 고객 데이터를 필터링할 필요가 있습니다.', 'query': \"SELECT * FROM Customer WHERE Country = 'USA'\"}, {'input': '브라질에 거주하는 고객들의 전체 세부 정보 조회. 브라질 시장 진출 및 현지 마케팅 전략 수립을 위해 해당 국가 고객 데이터가 필요할 수 있습니다. 또한 브라질 고객 대상 맞춤형 서비스 제공 및 제품 개발을 위한 기초 자료로 활용될 수 있습니다.', 'query': \"SELECT * FROM Customer WHERE Country = 'Brazil'\"}, {'input': '회사 정보가 있는 모든 고객 세부 정보 조회. 회사와 비즈니스 관계를 유지하고 관리하기 위해 회사 정보가 기록된 고객 데이터가 필요할 것입니다. 영업 및 마케팅 활동에 활용하거나 회사 고객 관리를 위한 목적으로 사용될 수 있습니다.', 'query': 'SELECT * FROM Customer WHERE Company IS NOT NULL'}, {'input': '지난 3개월 동안 가장 많은 매출을 올린 상위 5명의 지원 담당 직원과 그들이 담당한 고객 수 조회', 'query': \"SELECT \\n    e.EmployeeId,\\n    e.FirstName || ' ' || e.LastName AS EmployeeName,\\n    SUM(i.Total) AS TotalSales,\\n    COUNT(DISTINCT c.CustomerId) AS CustomerCount\\nFROM Employee e\\nJOIN Customer c ON e.EmployeeId = c.SupportRepId\\nJOIN Invoice i ON c.CustomerId = i.CustomerId\\nWHERE i.InvoiceDate >= DATE('now', '-3 month')\\nGROUP BY e.EmployeeId, e.FirstName, e.LastName\\nORDER BY TotalSales DESC\\nLIMIT 5\"}]\n",
      "</sample queries>\n",
      "\n"
     ]
    }
   ],
   "source": [
    "print(SYS_PROMPT)\n",
    "print(prompt.format(sample_queries=matched_queries, table_schema=schema[0]['Customer']))"
   ]
  },
  {
   "cell_type": "markdown",
   "id": "b25e4c34-018e-42f4-a2fe-1b9d6c412210",
   "metadata": {},
   "source": [
    "### 3.5. LLM 호출하여 테이블 요약 정보 얻기"
   ]
  },
  {
   "cell_type": "code",
   "execution_count": 10,
   "id": "3719069d-dc8c-4de1-b289-746c83fb619c",
   "metadata": {
    "tags": []
   },
   "outputs": [
    {
     "name": "stdout",
     "output_type": "stream",
     "text": [
      "이 테이블은 고객의 세부 정보와 지원 담당자 정보를 포함하고 있습니다. 고객 ID, 이름, 회사명, 주소, 도시, 주/도, 국가, 우편번호, 전화번호, 팩스번호, 이메일 주소 등의 고객 정보와 함께 해당 고객을 지원하는 직원의 ID가 포함되어 있습니다.\n",
      "\n",
      "이 테이블을 활용하여 다음과 같은 분석 및 활용이 가능합니다:\n",
      "\n",
      "- 특정 국가나 지역에 거주하는 고객 데이터를 필터링하여 해당 시장 분석 및 맞춤형 마케팅 전략 수립\n",
      "- 고객별 총 구매 금액을 계산하여 최대 지출 고객 파악 및 고객 관계 관리 전략 수립\n",
      "- 회사 고객 데이터를 별도로 추출하여 기업 고객 관리 및 영업/마케팅 활동 지원\n",
      "- 지원 담당 직원별 담당 고객 수 및 매출 실적 분석을 통한 성과 평가 및 인력 운영 최적화\n",
      "- 고객의 연락처 정보를 활용한 개인 맞춤형 마케팅 및 고객 서비스 제공\n",
      "\n",
      "이 테이블은 고객 데이터와 지원 담당자 정보를 통합적으로 관리하여 고객 관계 관리, 마케팅, 영업 활동, 직원 성과 평가 등 다양한 비즈니스 활동을 지원할 수 있습니다.\n"
     ]
    }
   ],
   "source": [
    "chain = prompt | chat_model | StrOutputParser()\n",
    "\n",
    "table_summary = chain.invoke({\"table_schema\": schema[0]['Customer'], \"sample_queries\": matched_queries})\n",
    "print(table_summary)"
   ]
  },
  {
   "cell_type": "markdown",
   "id": "791209ed-8583-4a60-8e4d-1593733bc3d0",
   "metadata": {},
   "source": [
    "### 3.6. 테이블 요약 생성을 모든 테이블에 대해 수행\n",
    "- Schema Description 내에 모든 테이블 수행\n",
    "- 약 1~2분 소요됩니다"
   ]
  },
  {
   "cell_type": "code",
   "execution_count": 11,
   "id": "d72ab1fd-3a57-4aca-9070-e7f0530e5608",
   "metadata": {
    "tags": []
   },
   "outputs": [
    {
     "name": "stdout",
     "output_type": "stream",
     "text": [
      "CPU times: user 57.3 ms, sys: 5.85 ms, total: 63.1 ms\n",
      "Wall time: 1min 49s\n"
     ]
    }
   ],
   "source": [
    "%%time \n",
    "\n",
    "import os\n",
    "\n",
    "OUTPUT_FILE_PATH1 = \"database/chinook_detailed_schema_temp.json\"\n",
    "\n",
    "with open(OUTPUT_FILE_PATH1, 'w', encoding='utf-8') as output_file:\n",
    "    output_file.write('[\\n')\n",
    "\n",
    "def summarize_table(table_name, table_data, queries, chain):\n",
    "    table_summary = chain.invoke({\"table_schema\": table_data, \"sample_queries\": queries})\n",
    "    table_data['table_summary'] = table_summary \n",
    "    summary_output = {table_name: table_data}\n",
    "    return summary_output\n",
    "    \n",
    "for table_info in schema:\n",
    "    for table_name, table_data in table_info.items():\n",
    "        globals()[table_name] = table_data\n",
    "        matched_queries = search_table_queries(queries, table_name)\n",
    "        prompt = ChatPromptTemplate.from_template(PROMPT_TEMPLATE)\n",
    "        chain = prompt | chat_model | StrOutputParser()\n",
    "\n",
    "        table_summary = summarize_table(table_name, table_data, matched_queries, chain)\n",
    "        \n",
    "        with open(OUTPUT_FILE_PATH1, 'a', encoding='utf-8') as output_file:\n",
    "            output_file.write(json.dumps(table_summary, ensure_ascii=False, indent=4) + ',\\n')\n",
    "\n",
    "with open(OUTPUT_FILE_PATH1, 'rb+') as output_file:\n",
    "    output_file.seek(-2, os.SEEK_END) \n",
    "    output_file.truncate() \n",
    "    output_file.write(b'\\n]')"
   ]
  },
  {
   "cell_type": "markdown",
   "id": "556af33c-7a19-4df4-b3fa-d7fa38836eb7",
   "metadata": {},
   "source": [
    "이제 `database/chinook_detailed_schema_temp.json` 파일을 열어보면, table_summary가 스키마 문서에 추가되어 있습니다.\n",
    "\n",
    "위와 같이, 1) 테이블에 어떤 컬럼들이 있는지, 2) 어떤 용도로 활용되는지에 대한 자세한 정보를 LLM에 전달하는 것은 올바른 테이블 선택에 도움이 됩니다.\n",
    "\n",
    "하지만, 테이블 요약이 너무 길어졌을 때 모든 테이블의 요약 정보를 LLM에 전달할 수 없으므로, 테이블 요약 정보 역시 벡터 유사도 검색으로 탐색하는 것이 좋습니다."
   ]
  },
  {
   "cell_type": "markdown",
   "id": "fc567324-1948-4c8d-ad41-d48a07473a8a",
   "metadata": {},
   "source": [
    "## 4. OpenSearch: 테이블 요약 문서를 벡터 임베딩으로 변환하여 OpenSearch에 저장"
   ]
  },
  {
   "cell_type": "markdown",
   "id": "5a2c96ef-99ea-4780-9525-5df5e050c004",
   "metadata": {},
   "source": [
    "### 4.1. schema_descriptions 이름의 인덱스 생성\n",
    "- schema_descriptions 인덱스가 존재하면 지우고, 다시 생성 함"
   ]
  },
  {
   "cell_type": "code",
   "execution_count": 12,
   "id": "95fbb15a-f521-482e-b5df-6a8cd8d4ed4b",
   "metadata": {
    "tags": []
   },
   "outputs": [
    {
     "name": "stdout",
     "output_type": "stream",
     "text": [
      "Existing index has been deleted. Create new one.\n"
     ]
    }
   ],
   "source": [
    "import yaml\n",
    "from opensearchpy import OpenSearch, RequestsHttpConnection\n",
    "INDEX_NAME = \"schema_descriptions\"\n",
    "\n",
    "def load_opensearch_config():\n",
    "    with open(\"./libs/opensearch_fix.yml\", 'r', encoding='utf-8') as file:\n",
    "        return yaml.safe_load(file)\n",
    "\n",
    "def init_opensearch(config):\n",
    "    mapping = {\"settings\": config['settings'], \"mappings\": config['mappings-detailed-schema']}\n",
    "    endpoint = opensearch_domain_endpoint\n",
    "    http_auth = (opensearch_user_id, opensearch_user_password)\n",
    "\n",
    "    os_client = OpenSearch(\n",
    "            hosts=[{'host': endpoint.replace(\"https://\", \"\"),'port': 443}],\n",
    "            http_auth=http_auth, \n",
    "            use_ssl=True,\n",
    "            verify_certs=True,\n",
    "            timeout=300,\n",
    "            connection_class=RequestsHttpConnection\n",
    "    )\n",
    "\n",
    "    create_os_index(os_client, mapping)\n",
    "    return os_client\n",
    "\n",
    "def create_os_index(os_client, mapping):\n",
    "    exists = os_client.indices.exists(INDEX_NAME)\n",
    "\n",
    "    if exists:\n",
    "        os_client.indices.delete(index=INDEX_NAME)\n",
    "        print(\"Existing index has been deleted. Create new one.\")\n",
    "    else:\n",
    "        print(\"Index does not exist, Create one.\")\n",
    "\n",
    "    os_client.indices.create(INDEX_NAME, body=mapping)\n",
    "\n",
    "config = load_opensearch_config()\n",
    "os_client = init_opensearch(config)"
   ]
  },
  {
   "cell_type": "markdown",
   "id": "7fea2db1-648b-4fd5-9186-9fc8abc6a20e",
   "metadata": {},
   "source": [
    "### 4.2. table_summary 의 table_summary_v 임베딩 값 구하기"
   ]
  },
  {
   "cell_type": "code",
   "execution_count": 13,
   "id": "827bcc97-974a-4fa2-b643-ca6f7519e968",
   "metadata": {
    "tags": []
   },
   "outputs": [],
   "source": [
    "from langchain_aws import BedrockEmbeddings\n",
    "\n",
    "emb_model = BedrockEmbeddings(model_id=\"amazon.titan-embed-text-v2:0\", region_name='us-west-2', model_kwargs={\"dimensions\":1024}) \n",
    "OUTPUT_FILE_PATH2 = \"database/chinook_detailed_schema.json\"\n",
    "\n",
    "def embedding_summary(emb_model):\n",
    "    with open(OUTPUT_FILE_PATH1, 'r', encoding='utf-8') as input_file:\n",
    "        data_list = json.load(input_file)\n",
    "\n",
    "    for data in data_list:\n",
    "        table_name = list(data.keys())[0]\n",
    "        table_summary = data[table_name][\"table_summary\"]\n",
    "        data[table_name][\"table_summary_v\"] = emb_model.embed_query(table_summary)\n",
    "    \n",
    "    with open(OUTPUT_FILE_PATH2, 'w', encoding='utf-8') as output_file:\n",
    "        json.dump(data_list, output_file, ensure_ascii=False, indent=4)\n",
    "\n",
    "embedding_summary(emb_model)"
   ]
  },
  {
   "cell_type": "markdown",
   "id": "3cda2f81-7c57-4333-a095-3304ad1dabe9",
   "metadata": {},
   "source": [
    "### 4.4. 변환된 table_summary_v 벡터 임베딩 확인 \n",
    "- 이제 `database/chinook_detailed_schema_temp.json` 파일을 열어보면, table_summary 및 이에 대한 임베딩이 스키마 문서에 추가되어 있습니다."
   ]
  },
  {
   "cell_type": "markdown",
   "id": "9968a65e-91af-485d-94d3-588c981e26c4",
   "metadata": {},
   "source": [
    "### 4.5. 오픈 서치에 Bulk Insert"
   ]
  },
  {
   "cell_type": "code",
   "execution_count": 14,
   "id": "021ea3a0-7f48-441c-9d73-faa6f3fd472b",
   "metadata": {
    "tags": []
   },
   "outputs": [
    {
     "name": "stdout",
     "output_type": "stream",
     "text": [
      "Bulk-inserted all items successfully.\n"
     ]
    }
   ],
   "source": [
    "def load_detailed_schema_descriptions(os_client):\n",
    "\n",
    "    with open(OUTPUT_FILE_PATH2, 'r') as file:\n",
    "        schema_data = json.load(file)\n",
    "\n",
    "    bulk_data = []\n",
    "    for table in schema_data:\n",
    "        for table_name, table_info in table.items():\n",
    "            table_doc = {\n",
    "                \"table_name\": table_name,\n",
    "                \"table_desc\": table_info[\"table_desc\"],\n",
    "                \"columns\": [{\"col_name\": col[\"col\"], \"col_desc\": col[\"col_desc\"]} for col in table_info[\"cols\"]],\n",
    "                \"table_summary\": table_info[\"table_summary\"],\n",
    "                \"table_summary_v\": table_info[\"table_summary_v\"]\n",
    "            }\n",
    "            bulk_data.append({\"index\": {\"_index\": INDEX_NAME, \"_id\": table_name}})\n",
    "            bulk_data.append(table_doc)\n",
    "    \n",
    "    bulk_data_str = '\\n'.join(json.dumps(item) for item in bulk_data) + '\\n'\n",
    "\n",
    "    response = os_client.bulk(body=bulk_data_str)\n",
    "    if response[\"errors\"]:\n",
    "        print(\"There were errors during bulk indexing:\")\n",
    "        for item in response[\"items\"]:\n",
    "            if 'index' in item and item['index']['status'] >= 400:\n",
    "                print(f\"Error: {item['index']['error']['reason']}\")\n",
    "    else:\n",
    "        print(\"Bulk-inserted all items successfully.\")\n",
    "\n",
    "    return response\n",
    "\n",
    "response = load_detailed_schema_descriptions(os_client)"
   ]
  },
  {
   "cell_type": "markdown",
   "id": "474bbfe1-33d4-49f4-9454-e8fcc2dbcb02",
   "metadata": {},
   "source": [
    "### 4.6. 오픈 서치 저장 결과 확인"
   ]
  },
  {
   "cell_type": "code",
   "execution_count": 15,
   "id": "1a11dd28-1f06-4b30-82b6-62feb3ca6a6b",
   "metadata": {},
   "outputs": [
    {
     "name": "stdout",
     "output_type": "stream",
     "text": [
      "{'index': {'_index': 'schema_descriptions', '_id': 'Album', '_version': 1, 'result': 'created', '_shards': {'total': 2, 'successful': 1, 'failed': 0}, '_seq_no': 0, '_primary_term': 1, 'status': 201}}\n",
      "{'index': {'_index': 'schema_descriptions', '_id': 'Artist', '_version': 1, 'result': 'created', '_shards': {'total': 2, 'successful': 1, 'failed': 0}, '_seq_no': 0, '_primary_term': 1, 'status': 201}}\n",
      "{'index': {'_index': 'schema_descriptions', '_id': 'Customer', '_version': 1, 'result': 'created', '_shards': {'total': 2, 'successful': 1, 'failed': 0}, '_seq_no': 1, '_primary_term': 1, 'status': 201}}\n"
     ]
    }
   ],
   "source": [
    "top_3_items = response['items'][:3]\n",
    "for item in top_3_items:\n",
    "    print(item)"
   ]
  },
  {
   "cell_type": "code",
   "execution_count": 17,
   "id": "e3f3402e-72b4-4ea6-8e51-ae0fd83ceacc",
   "metadata": {},
   "outputs": [
    {
     "name": "stdout",
     "output_type": "stream",
     "text": [
      "인덱스 'schema_descriptions'에 총 11개의 레코드가 있습니다.\n"
     ]
    }
   ],
   "source": [
    "# 인덱스의 전체 레코드 수 확인\n",
    "def count_all_records(os_client, index_name):\n",
    "    try:\n",
    "        # count API 사용하여 인덱스의 총 문서 수 확인\n",
    "        count_response = os_client.count(index=index_name)\n",
    "        total_records = count_response['count']\n",
    "        print(f\"인덱스 '{index_name}'에 총 {total_records}개의 레코드가 있습니다.\")\n",
    "        return total_records\n",
    "    except Exception as e:\n",
    "        print(f\"레코드 수 확인 중 오류 발생: {str(e)}\")\n",
    "        return None\n",
    "\n",
    "# 사용 예시\n",
    "index_name = \"schema_descriptions\"  # 실제 인덱스 이름으로 변경하세요\n",
    "total_count = count_all_records(os_client, index_name)"
   ]
  },
  {
   "cell_type": "markdown",
   "id": "81f23c91-6012-43e6-80d2-b82f3d86f148",
   "metadata": {},
   "source": [
    "#### Customer Table 의 테이블/컬럼 설명, 테이블 요약 정보, 테이블 요약 정보의 Vector 값 "
   ]
  },
  {
   "cell_type": "markdown",
   "id": "0a9426c4-3f27-4176-a61c-d56ee187b282",
   "metadata": {},
   "source": [
    "![schema_desc.png](img/schema_desc.png)"
   ]
  },
  {
   "cell_type": "code",
   "execution_count": null,
   "id": "19b89251-032e-409d-ade4-f10adcc1eb2f",
   "metadata": {},
   "outputs": [],
   "source": []
  }
 ],
 "metadata": {
  "kernelspec": {
   "display_name": "text2sql",
   "language": "python",
   "name": "text2sql"
  },
  "language_info": {
   "codemirror_mode": {
    "name": "ipython",
    "version": 3
   },
   "file_extension": ".py",
   "mimetype": "text/x-python",
   "name": "python",
   "nbconvert_exporter": "python",
   "pygments_lexer": "ipython3",
   "version": "3.10.14"
  }
 },
 "nbformat": 4,
 "nbformat_minor": 5
}
