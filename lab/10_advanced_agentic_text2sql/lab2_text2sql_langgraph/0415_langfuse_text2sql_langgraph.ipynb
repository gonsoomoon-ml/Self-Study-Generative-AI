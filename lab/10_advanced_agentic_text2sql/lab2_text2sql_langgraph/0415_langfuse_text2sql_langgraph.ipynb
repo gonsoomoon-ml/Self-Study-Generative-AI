{
 "cells": [
  {
   "cell_type": "markdown",
   "metadata": {},
   "source": [
    "# LangGraph + Text2SQL"
   ]
  },
  {
   "cell_type": "markdown",
   "metadata": {},
   "source": [
    "## 1. 환경 설정"
   ]
  },
  {
   "cell_type": "code",
   "execution_count": 1,
   "metadata": {
    "tags": []
   },
   "outputs": [
    {
     "name": "stdout",
     "output_type": "stream",
     "text": [
      "python path: /home/sagemaker-user/Self-Study-Generative-AI/lab/10_advanced_agentic_text2sql is added\n",
      "sys.path:  ['/home/sagemaker-user/Self-Study-Generative-AI/lab/10_advanced_agentic_text2sql/lab2_text2sql_langgraph', '/home/sagemaker-user/.conda/envs/text2sql/lib/python310.zip', '/home/sagemaker-user/.conda/envs/text2sql/lib/python3.10', '/home/sagemaker-user/.conda/envs/text2sql/lib/python3.10/lib-dynload', '', '/home/sagemaker-user/.conda/envs/text2sql/lib/python3.10/site-packages', '/home/sagemaker-user/Self-Study-Generative-AI/lab/10_advanced_agentic_text2sql']\n"
     ]
    }
   ],
   "source": [
    "%load_ext autoreload\n",
    "%autoreload 2\n",
    "\n",
    "import sys, os\n",
    "\n",
    "def add_python_path(module_path):\n",
    "    if os.path.abspath(module_path) not in sys.path:\n",
    "        sys.path.append(os.path.abspath(module_path))\n",
    "        print(f\"python path: {os.path.abspath(module_path)} is added\")\n",
    "    else:\n",
    "        print(f\"python path: {os.path.abspath(module_path)} already exists\")\n",
    "    print(\"sys.path: \", sys.path)\n",
    "\n",
    "\n",
    "module_path = \"..\"\n",
    "add_python_path(module_path)\n",
    "\n"
   ]
  },
  {
   "cell_type": "markdown",
   "metadata": {},
   "source": [
    "### 라이브러리 불러오기"
   ]
  },
  {
   "cell_type": "code",
   "execution_count": 2,
   "metadata": {},
   "outputs": [],
   "source": [
    "from src.local_utils  import ( \n",
    "    converse_with_bedrock,\n",
    "    init_boto3_client,\n",
    "    init_search_resources,\n",
    "    get_column_description,\n",
    "    search_by_keywords,\n",
    "    create_prompt,\n",
    "    NodeTester,\n",
    "    csv_list_response_format,\n",
    "    json_response_format,\n",
    "    # wrapped_bedrock_converse\n",
    "    converse_with_bedrock_langfuse,\n",
    ")\n",
    "\n",
    "import boto3\n",
    "import json\n",
    "import copy\n",
    "from botocore.config import Config\n",
    "\n",
    "from langchain_aws import BedrockEmbeddings\n",
    "from langchain_community.utilities import SQLDatabase\n",
    "from sqlalchemy import create_engine\n",
    "from src.opensearch import OpenSearchHybridRetriever, OpenSearchClient\n",
    "from textwrap import dedent\n",
    "from langfuse.decorators import observe\n",
    "\n"
   ]
  },
  {
   "cell_type": "markdown",
   "metadata": {},
   "source": [
    "### LLM 모델 설정"
   ]
  },
  {
   "cell_type": "code",
   "execution_count": 3,
   "metadata": {},
   "outputs": [],
   "source": [
    "# llm_model = \"us.amazon.nova-pro-v1:0\"\n",
    "# llm_model = \"us.anthropic.claude-3-7-sonnet-20250219-v1:0\"\n",
    "# llm_model = \"us.anthropic.claude-3-5-sonnet-20240620-v1:0\"\n",
    "# llm_model = \"us.anthropic.claude-3-5-haiku-20241022-v1:0\"\n",
    "# llm_model = \"us.anthropic.claude-3-sonnet-20240229-v1:0\"\n",
    "llm_model = \"anthropic.claude-3-sonnet-20240229-v1:0\""
   ]
  },
  {
   "cell_type": "markdown",
   "metadata": {},
   "source": [
    "### Langfuse 설정"
   ]
  },
  {
   "cell_type": "code",
   "execution_count": 4,
   "metadata": {},
   "outputs": [
    {
     "name": "stdout",
     "output_type": "stream",
     "text": [
      "Langfuse 인증 테스트: True\n"
     ]
    }
   ],
   "source": [
    "from dotenv import load_dotenv\n",
    "import os\n",
    "\n",
    "# .env 파일에서 환경 변수 로드\n",
    "load_dotenv(\"../.env\")\n",
    "\n",
    "from langfuse.callback import CallbackHandler\n",
    "import os\n",
    "\n",
    "langfuse_handler = CallbackHandler(\n",
    "    public_key=os.environ.get('LANGFUSE_PUBLIC_KEY'),\n",
    "    secret_key=os.environ.get('LANGFUSE_SECRET_KEY'),\n",
    "    host=os.environ.get('LANGFUSE_HOST'),\n",
    ")\n",
    "\n",
    "# connection test\n",
    "print(\"Langfuse 인증 테스트:\", langfuse_handler.auth_check())\n",
    "\n",
    "\n",
    "from langfuse.callback import CallbackHandler\n",
    "import os\n",
    "\n",
    "langfuse_handler = CallbackHandler(\n",
    "    public_key=os.environ.get('LANGFUSE_PUBLIC_KEY'),\n",
    "    secret_key=os.environ.get('LANGFUSE_SECRET_KEY'),\n",
    "    host=os.environ.get('LANGFUSE_HOST'),\n",
    ")"
   ]
  },
  {
   "cell_type": "code",
   "execution_count": 5,
   "metadata": {},
   "outputs": [],
   "source": [
    "# from langfuse.decorators import observe\n",
    "\n",
    "# claude_model_id = \"us.anthropic.claude-3-7-sonnet-20250219-v1:0\"\n",
    "# # Converesation according to AWS spec including prompting + history\n",
    "# user_message = \"\"\"당신은 SmartFinance Advisors 회사가 만든 Alex라는 AI 개인 재무 어드바이저 역할을 수행하게 됩니다. 당신의 목표는 사용자에게 재무 조언과 지침을 제공하는 것입니다. 당신은 SmartFinance Advisors 사이트에 있는 사용자들에게 답변할 것이며, 만약 당신이 Alex의 캐릭터로 응답하지 않으면 사용자들이 혼란스러워할 수 있습니다.\n",
    "# 다음은 질문 이전의 대화 내역(사용자와 당신 사이)입니다. 대화 내역이 없다면 비어있을 수 있습니다:\n",
    "# <history>\n",
    "# User: 안녕하세요 Alex, 당신의 조언이 정말 기대돼요!\n",
    "# Alex: 안녕하세요! 저는 SmartFinance Advisors의 AI 개인 재무 어드바이저 Alex입니다. 오늘 어떤 재무 목표에 도움이 필요하신가요?\n",
    "# </history>\n",
    "# 다음은 상호작용에 있어 중요한 규칙들입니다:\n",
    "\n",
    "# 항상 SmartFinance Advisors의 AI인 Alex의 캐릭터를 유지하세요.\n",
    "# 응답 방법이 확실하지 않다면 \"죄송합니다, 잘 이해하지 못했습니다. 질문을 다시 말씀해 주시겠어요?\"라고 말하세요.\n",
    "# \"\"\"\n",
    " \n",
    "# system_messages = \"당신은 Finance 전문가 입니다.\" \n",
    "# system_prompts = [\n",
    "#     {\"text\": system_messages}\n",
    "# ]\n",
    "# conversation = [\n",
    "#     {\n",
    "#         \"role\": \"user\",\n",
    "#         \"content\": [{\"text\": user_message}],\n",
    "#     }\n",
    "# ]\n",
    " \n",
    "# @observe()\n",
    "# def examples_bedrock_converse_api():\n",
    "#   responses = {}\n",
    " \n",
    "#   responses[\"anthropic\"] = wrapped_bedrock_converse(\n",
    "#     modelId=claude_model_id,\n",
    "#     messages=conversation,\n",
    "#     system=system_prompts,\n",
    "#     inferenceConfig={\"maxTokens\":4096,\"temperature\": 0.0, \"topP\": 0.1},\n",
    "#     additionalModelRequestFields={\"top_k\":1}\n",
    "#   )\n",
    " \n",
    "#   return responses\n",
    " \n",
    "# res = examples_bedrock_converse_api()\n",
    " \n",
    "# for key, value in res.items():\n",
    "#     print(f\"{key.title()}\\n{value}\\n\")"
   ]
  },
  {
   "cell_type": "markdown",
   "metadata": {},
   "source": [
    "### DB Engine 및 오브젝트 정의"
   ]
  },
  {
   "cell_type": "code",
   "execution_count": 6,
   "metadata": {},
   "outputs": [
    {
     "name": "stdout",
     "output_type": "stream",
     "text": [
      "현재 리전: us-east-1\n"
     ]
    }
   ],
   "source": [
    "engine = create_engine(\"sqlite:///Chinook.db\")\n",
    "db = SQLDatabase(engine)\n",
    "DIALECT = \"sqlite\"\n",
    "\n",
    "session = boto3.session.Session()\n",
    "region_name = session.region_name\n",
    "print(f\"현재 리전: {region_name}\")\n",
    "\n",
    "boto3_client = init_boto3_client(region_name)\n",
    "sql_search_client, table_search_client, sql_retriever, table_retriever = init_search_resources(region_name)\n",
    "\n"
   ]
  },
  {
   "cell_type": "markdown",
   "metadata": {},
   "source": [
    "## 2. 검색 기능 테스트"
   ]
  },
  {
   "cell_type": "code",
   "execution_count": 7,
   "metadata": {
    "tags": []
   },
   "outputs": [
    {
     "name": "stdout",
     "output_type": "stream",
     "text": [
      "샘플 쿼리 검색 결과:  {\n",
      "    \"input\": \"고객별 총 구매액 상위 5명의 고객 ID와 총 구매액 조회\\n\\n상세 목적 및 동기:\\n- 고객 구매 패턴 분석을 통해 주요 고객 파악 및 마케팅 전략 수립\\n- 최상위 고객에 대한 특별 혜택 제공 또는 맞춤형 프로모션 진행\\n- 고객 충성도 제고 및 재구매 유도를 위한 전략 수립\\n- 매출 기여도가 높은 고객 관리 강화\",\n",
      "    \"query\": \"SELECT CustomerId, SUM(Total) AS TotalPurchase FROM Invoice GROUP BY CustomerId ORDER BY TotalPurchase DESC LIMIT 5\"\n",
      "}\n",
      "테이블 검색 결과:  {\n",
      "    \"table_name\": \"Invoice\",\n",
      "    \"table_summary\": \"이 테이블은 고객 거래 내역과 관련된 세부 정보를 포함하고 있습니다. 각 송장에 대해 고유 식별자, 관련 고객 ID, 송장 날짜, 청구 주소, 도시, 주, 국가, 우편번호 및 총 금액이 기록됩니다. \\n\\n이 테이블을 활용하여 다음과 같은 분석이 가능합니다:\\n\\n- 전체 거래 건수 및 총 매출 규모 파악\\n- 고객별 구매 패턴 및 총 구매액 분석\\n- 지역별 매출 현황 분석 (청구지 주소 기준)\\n- 기간별 매출 추이 분석\\n- 주요 고객 파악 및 고객 관계 관리 전략 수립\\n- 재고 관리 및 수요 예측\\n- 마케팅 및 프로모션 전략 수립\\n- 영업 실적 평가 및 성과 분석\\n\\n이 테이블은 회사의 매출, 고객 관계, 재고 관리, 마케팅 등 다양한 비즈니스 의사결정에 기초 데이터로 활용될 수 있습니다. 고객 구매 패턴, 지역별 수요, 시간별 추이 등을 파악하여 회사의 전략을 수립하고 운영 효율성을 높이는 데 도움이 될 것입니다.\"\n",
      "}\n"
     ]
    }
   ],
   "source": [
    "# 검색 키워드 예시\n",
    "# keyword = \"사람들이 좋아하는 장르\"\n",
    "keyword = \"2022년 매출 상위 10개 국가는?\"\n",
    "\n",
    "sql_search_result = sql_retriever.invoke(keyword, ensemble=[0.60, 0.40])\n",
    "# sql_search_result = sql_retriever.invoke(keyword, ensemble=[0.51, 0.49])\n",
    "table_search_result = table_retriever.invoke(keyword, ensemble=[0.60, 0.40])\n",
    "\n",
    "if sql_search_result:\n",
    "    page_content = json.loads(sql_search_result[0].page_content)\n",
    "    print(\"샘플 쿼리 검색 결과: \", json.dumps(page_content, indent=4, ensure_ascii=False))\n",
    "\n",
    "if table_search_result:\n",
    "    page_content = json.loads(table_search_result[0].page_content)\n",
    "    print(\"테이블 검색 결과: \", json.dumps(page_content, indent=4, ensure_ascii=False))"
   ]
  },
  {
   "cell_type": "code",
   "execution_count": 8,
   "metadata": {},
   "outputs": [],
   "source": [
    "# for result in sql_search_result:\n",
    "#     page_content = json.loads(result.page_content)\n",
    "#     print(\"샘플 쿼리 검색 결과: \", json.dumps(page_content, indent=4, ensure_ascii=False))\n"
   ]
  },
  {
   "cell_type": "markdown",
   "metadata": {},
   "source": [
    "## 3. LangGraph "
   ]
  },
  {
   "cell_type": "markdown",
   "metadata": {},
   "source": [
    "### 그래프 상태 설정"
   ]
  },
  {
   "cell_type": "code",
   "execution_count": 9,
   "metadata": {
    "tags": []
   },
   "outputs": [],
   "source": [
    "from typing import TypedDict\n",
    "\n",
    "class GraphState(TypedDict):\n",
    "    question: str  \n",
    "    intent: str\n",
    "    sample_queries: list\n",
    "    readiness: str\n",
    "    tables_summaries: list\n",
    "    table_names: list\n",
    "    table_details: list\n",
    "    query_state: dict\n",
    "    next_action: str\n",
    "    answer: str\n",
    "    dialect: str\n"
   ]
  },
  {
   "cell_type": "markdown",
   "metadata": {},
   "source": [
    "## 서브그래프1 - 스키마링킹 정의"
   ]
  },
  {
   "cell_type": "markdown",
   "metadata": {
    "tags": []
   },
   "source": [
    "###  analyze_intent 함수 정의\n",
    "\n",
    "    \n"
   ]
  },
  {
   "cell_type": "code",
   "execution_count": 10,
   "metadata": {},
   "outputs": [],
   "source": [
    "# @observe(name=\"Analyze Intent Node\")\n",
    "def analyze_intent(state: GraphState) -> GraphState:\n",
    "    question = state[\"question\"]\n",
    "    sys_prompt_template = dedent(\"\"\"당신은 사용자 질문의 의도를 파악하는 비서입니다. \n",
    "                                    당신의 임무는 사용자 질문을 하나로 분류하는 것입니다.\"\"\")\n",
    "    usr_prompt_template = dedent(\"\"\"사용자 질문을 해결하기 위해 데이터베이스 조회가 필요하면 `database` 그 밖의 경우는 `general`로만 응답하세요.\n",
    "                                    추가 설명이나 이유를 포함하지 마세요. 단어 하나만 정확히 응답하세요.\n",
    "                                    서두는 생략하세요.\n",
    "                                    \\n\\n #질문: {question}\"\"\")\n",
    "    sys_prompt, usr_prompt = create_prompt(sys_prompt_template, usr_prompt_template, question=question)\n",
    "    intent = converse_with_bedrock(sys_prompt, usr_prompt)\n",
    "    # intent = converse_with_bedrock_langfuse(sys_prompt, usr_prompt, model_id=llm_model)\n",
    "\n",
    "    return GraphState(intent=intent)"
   ]
  },
  {
   "cell_type": "markdown",
   "metadata": {},
   "source": [
    "#### 함수 로직 확인\n",
    "\n"
   ]
  },
  {
   "cell_type": "code",
   "execution_count": 11,
   "metadata": {},
   "outputs": [
    {
     "name": "stdout",
     "output_type": "stream",
     "text": [
      "## Test Result:\n",
      "{\n",
      "  \"intent\": \"database\"\n",
      "}\n"
     ]
    }
   ],
   "source": [
    "node_tester = NodeTester()\n",
    "test_state = {\n",
    "    \"question\": \"2022년 매출 상위 10개 국가는?\",\n",
    "}\n",
    "result_state = node_tester.test(analyze_intent, test_state)"
   ]
  },
  {
   "cell_type": "markdown",
   "metadata": {},
   "source": [
    "### get_sample_queries 함수 정의"
   ]
  },
  {
   "cell_type": "code",
   "execution_count": 12,
   "metadata": {},
   "outputs": [],
   "source": [
    "from textwrap import dedent\n",
    "\n",
    "# @observe(name=\"get_sample_queries Node\")\n",
    "def get_sample_queries(state: GraphState) -> GraphState:\n",
    "    question = state[\"question\"]\n",
    "    samples = sql_retriever.invoke(question, ensemble=[0.80, 0.20])\n",
    "    page_contents = [doc.page_content for doc in samples if doc is not None]\n",
    "    sample_inputs = [json.loads(content)['input'] for content in page_contents]\n",
    "\n",
    "    sys_prompt_template = dedent(\"\"\"당신은 사용자 질문에 대한 SQL 쿼리를 작성하는 유능한 데이터베이스 엔지니어입니다. \n",
    "                          당신의 임무는 질문에 부합한 SQL 쿼리 작성에 유용한 샘플 쿼리를 선택하는 것입니다. \n",
    "                          당신이 선택하는 샘플 쿼리는 쿼리 재활용, 스키마 참조 등에 사용될 수 있습니다.\"\"\")\n",
    "    usr_prompt_template = dedent(\"\"\"질문에 부합한 SQL 쿼리 작성을 위해 유용한 샘플 쿼리를 선택하여 중요도 순서로 정렬하여 응답하세요. \n",
    "                                    샘플 쿼리의 인덱스 번호(0부터 시작)만 응답하세요. 관련된 샘플이 없으면 빈 목록(\"\")으로 응답하세요. \\n\\n \n",
    "                                    #질문: {question}\\n\\n #샘플 쿼리:\\n {sample_inputs}\\n\\n #형식: {csv_list_response_format}\"\"\")\n",
    "    sys_prompt, usr_prompt = create_prompt(sys_prompt_template, usr_prompt_template, question=question, sample_inputs=sample_inputs, csv_list_response_format=csv_list_response_format)\n",
    "    sample_ids = converse_with_bedrock(sys_prompt, usr_prompt)\n",
    "    # sample_ids = converse_with_bedrock_langfuse(sys_prompt, usr_prompt, model_id=llm_model)\n",
    "    try:\n",
    "        if sample_ids == '\"\"' or sample_ids.strip() == \"\":\n",
    "            return GraphState(sample_queries=[])\n",
    "        else:\n",
    "            sample_ids_list = [int(id.strip()) for id in sample_ids.split(',') if id.strip().isdigit()]\n",
    "            sample_queries = [json.loads(page_contents[id]) for id in sample_ids_list] if sample_ids_list else []\n",
    "            return GraphState(sample_queries=sample_queries)\n",
    "    except:\n",
    "        return GraphState(sample_queries=[])\n"
   ]
  },
  {
   "cell_type": "markdown",
   "metadata": {},
   "source": [
    "#### 함수 로직 확인"
   ]
  },
  {
   "cell_type": "code",
   "execution_count": 13,
   "metadata": {},
   "outputs": [],
   "source": [
    "# def test_node(node_tester, node_function, test_state,result_state ):\n",
    "#     # test_state와 result_state를 합쳐서 test_state2 생성\n",
    "#     test_state = {**test_state, **result_state}\n",
    "#     print(\"## test_state: \")\n",
    "#     print(json.dumps(test_state, indent=2, ensure_ascii=False))\n",
    "\n",
    "#     result_state = node_tester.test(node_function, test_state)\n",
    "#     return result_state, test_state\n",
    "\n",
    "# result_state, test_state = test_node(node_tester=node_tester, \n",
    "#                             node_function=get_sample_queries, \n",
    "#                             test_state=test_state,\n",
    "#                             result_state=result_state )"
   ]
  },
  {
   "cell_type": "markdown",
   "metadata": {},
   "source": [
    "### check_readiness 함수 정의"
   ]
  },
  {
   "cell_type": "code",
   "execution_count": 14,
   "metadata": {},
   "outputs": [],
   "source": [
    "def check_readiness(state: GraphState) -> GraphState:\n",
    "    question = state[\"question\"]\n",
    "    sample_queries = state[\"sample_queries\"]\n",
    "    \n",
    "    if \"table_details\" in state:\n",
    "        table_details = state[\"table_details\"]\n",
    "    else:\n",
    "        table_details = []\n",
    "\n",
    "    sys_prompt_template = dedent(\"\"\"당신은 사용자 질문에 대한 SQL 쿼리를 작성하는 유능한 데이터베이스 엔지니어입니다. \n",
    "                                    당신의 임무는 주어진 DB 정보를 바탕으로, 사용자 질문에 대한 SQL 쿼리 작성이 가능한지 판단하는 것입니다.\"\"\")\n",
    "    usr_prompt_template = dedent(\"\"\"질문에 대한 SQL 쿼리를 생성하기에 충분한 정보가 제공되었는지 판단합니다. \n",
    "                                정보가 충분하면 `Ready`, 정보가 부족하면 `Not Ready`로만  응답하세요. 중요한 건 서두 및 추가 설명은 생략 하세요.\\n\\n \n",
    "                                #질문: {question}\\n\\n \n",
    "                                #샘플 쿼리:\\n {sample_queries}\\n\\n \n",
    "                                #사용 가능한 테이블:\\n {table_details}\"\"\")\n",
    "    sys_prompt, usr_prompt = create_prompt(sys_prompt_template, usr_prompt_template, question=question, sample_queries=sample_queries, table_details=table_details)\n",
    "    # print(\"usr_prompt: \", json.dumps(usr_prompt, indent=2, ensure_ascii=False))\n",
    "    readiness = converse_with_bedrock(sys_prompt, usr_prompt)\n",
    "    # readiness = converse_with_bedrock_langfuse(sys_prompt, usr_prompt, model_id=llm_model)    \n",
    "    \n",
    "    return GraphState(readiness=readiness)\n"
   ]
  },
  {
   "cell_type": "code",
   "execution_count": 15,
   "metadata": {},
   "outputs": [],
   "source": [
    "# result_state, test_state = test_node(node_tester=node_tester, \n",
    "#                             node_function=check_readiness, \n",
    "#                             test_state=test_state,\n",
    "#                             result_state=result_state )\n"
   ]
  },
  {
   "cell_type": "markdown",
   "metadata": {},
   "source": [
    "### get_relevant_tables 함수 정의"
   ]
  },
  {
   "cell_type": "code",
   "execution_count": 16,
   "metadata": {},
   "outputs": [],
   "source": [
    "def get_relevant_tables(state: GraphState) -> GraphState:\n",
    "    question = state[\"question\"]\n",
    "    tables = table_retriever.invoke(question, ensemble=[0.40, 0.60])\n",
    "    page_contents = [doc.page_content for doc in tables if doc is not None]\n",
    "    table_inputs = [json.loads(content)['table_summary'] for content in page_contents]\n",
    "\n",
    "    sys_prompt_template = dedent(\"\"\"당신은 사용자 요청에 맞는 SQL 쿼리를 작성하는 유능한 데이터베이스 엔지니어입니다. \n",
    "                                당신의 임무는 SQL 쿼리 작성에 필요한 테이블을 선택하는 것입니다.\"\"\")\n",
    "    usr_prompt_template = dedent(\"\"\"사용자 요청에 맞는 SQL 쿼리를 생성하기 위해 필요한 테이블을 선택하여, \n",
    "                                이를 중요도 순서로 정렬한 후 인덱스 번호(0부터 시작)로 응답하세요. 사용자 요청에 관련된 테이블이 없으면 빈 목록(\"\")으로 응답하세요.\\n\\n \n",
    "                                #질문: {question}\\n\\n \n",
    "                                #테이블 정보:\\n {table_inputs}\\n\\n \n",
    "                                #형식: {csv_list_response_format}\"\"\")\n",
    "    sys_prompt, usr_prompt = create_prompt(sys_prompt_template, usr_prompt_template, question=question, table_inputs=table_inputs, csv_list_response_format=csv_list_response_format)\n",
    "    table_ids = converse_with_bedrock(sys_prompt, usr_prompt)\n",
    "    # table_ids = converse_with_bedrock_langfuse(sys_prompt, usr_prompt, model_id=llm_model)        \n",
    "    try:\n",
    "        if table_ids == '\"\"' or table_ids.strip() == \"\":\n",
    "            return GraphState(tables=[], table_names=[])\n",
    "        else:\n",
    "            table_ids_list = [int(id.strip()) for id in table_ids.split(',') if id.strip().isdigit()]\n",
    "            tables = [json.loads(page_contents[id]) for id in table_ids_list] if table_ids_list else []\n",
    "            table_names = [table['table_name'] for table in tables]\n",
    "            return GraphState(tables=tables, table_names=table_names)\n",
    "    except:\n",
    "        return GraphState(tables=[], table_names=[])\n"
   ]
  },
  {
   "cell_type": "code",
   "execution_count": 17,
   "metadata": {},
   "outputs": [],
   "source": [
    "# result_state, test_state = test_node(node_tester=node_tester, \n",
    "#                             node_function=get_relevant_tables, \n",
    "#                             test_state=test_state,\n",
    "#                             result_state=result_state )\n"
   ]
  },
  {
   "cell_type": "markdown",
   "metadata": {},
   "source": [
    "### describe_schema 함수 정의"
   ]
  },
  {
   "cell_type": "code",
   "execution_count": 18,
   "metadata": {},
   "outputs": [],
   "source": [
    "def describe_schema(state: GraphState) -> GraphState:\n",
    "    table_names = state[\"table_names\"]\n",
    "    table_details = []\n",
    "    data = db.get_table_info_no_throw(table_names)\n",
    "    \n",
    "    if not isinstance(data, list):\n",
    "        data = [data]\n",
    "    \n",
    "    for item in data:\n",
    "        if isinstance(item, str):\n",
    "            items = item.split('CREATE TABLE')\n",
    "        else:\n",
    "            items = [item]\n",
    "        \n",
    "        for i in range(1, len(items)):\n",
    "            sub_item = 'CREATE TABLE' + items[i]\n",
    "            for table_name in table_names:\n",
    "                if f'CREATE TABLE \"{table_name}\"' in sub_item:\n",
    "                    \n",
    "                    parts = sub_item.split('/*', 1)\n",
    "                    sql_statement = parts[0].strip()\n",
    "                    \n",
    "                    sample_data = \"No sample data available\"\n",
    "                    if len(parts) > 1:\n",
    "                        sample_part = parts[1].split('*/', 1)[0] \n",
    "                        sample_lines = sample_part.strip().split('\\n')\n",
    "                        if len(sample_lines) > 1:\n",
    "                            sample_data = '\\n'.join(sample_lines)\n",
    "                    \n",
    "                    table_desc = get_column_description(table_name) if table_search_client else {}        \n",
    "                    table_detail = {\n",
    "                        \"table\": table_name,\n",
    "                        \"cols\": table_desc if table_desc else {},\n",
    "                        \"create_table_sql\": sql_statement,\n",
    "                        \"sample_data\": sample_data\n",
    "                    }\n",
    "                    \n",
    "                    if not table_detail[\"cols\"]:\n",
    "                        print(f\"No columns found for table {table_name}\")\n",
    "                    table_details.append(table_detail)\n",
    "                    \n",
    "    return GraphState(table_details=table_details)\n"
   ]
  },
  {
   "cell_type": "code",
   "execution_count": 19,
   "metadata": {},
   "outputs": [],
   "source": [
    "# result_state, test_state = test_node(node_tester=node_tester, \n",
    "#                             node_function=describe_schema, \n",
    "#                             test_state=test_state,\n",
    "#                             result_state=result_state )\n"
   ]
  },
  {
   "cell_type": "code",
   "execution_count": 20,
   "metadata": {},
   "outputs": [],
   "source": [
    "\n",
    "\n",
    "def next_step_by_intent(state: GraphState) -> GraphState:\n",
    "    return state[\"intent\"]\n",
    "\n",
    "def next_step_by_readiness(state: GraphState) -> GraphState:\n",
    "    return state[\"readiness\"]\n",
    "\n"
   ]
  },
  {
   "cell_type": "markdown",
   "metadata": {},
   "source": [
    "## 서브그래프2 - 쿼리 생성/검증/실행/재시도"
   ]
  },
  {
   "cell_type": "markdown",
   "metadata": {},
   "source": [
    "### generate_query 함수 정의"
   ]
  },
  {
   "cell_type": "code",
   "execution_count": 21,
   "metadata": {},
   "outputs": [],
   "source": [
    "### Query Generation & Execution - SubGraph2\n",
    "\n",
    "initial_query_state = {\n",
    "    \"status\": \"success\",\n",
    "    \"query\": \"\",\n",
    "    \"result\": \"\",\n",
    "    \"error\": {\n",
    "        \"code\": \"\",\n",
    "        \"message\": \"\",\n",
    "        \"failed_step\": \"\",\n",
    "        \"hint\": \"\"\n",
    "    }\n",
    "}\n",
    "\n",
    "\n",
    "dialect = DIALECT\n",
    "def generate_query(state: GraphState) -> GraphState:\n",
    "    new_query_state = copy.deepcopy(initial_query_state)\n",
    "    question = state[\"question\"]\n",
    "    sample_queries = state[\"sample_queries\"]\n",
    "    table_details = state[\"table_details\"]\n",
    "\n",
    "    query_state = state.get(\"query_state\", {}) or {}\n",
    "    error_info = query_state.get(\"error\", {}) or {}\n",
    "    hint = error_info.get(\"hint\", \"None\")\n",
    "    \n",
    "    sys_prompt_template = dedent(\"\"\"당신은 사용자 질문에 대한 {dialect} SQL 쿼리를 작성하는 유능한 데이터베이스 엔지니어입니다. \n",
    "                                당신의 임무는 주어진 DB 정보를 바탕으로, 사용자 질문에 부합하는 정확한 SQL 쿼리를 작성하는 것입니다.\"\"\")\n",
    "    usr_prompt_template = dedent(\"\"\"다음 주어진 샘플 쿼리 및 스키마 정보, 과거 실패 이력을 바탕으로 DB dialect에 맞는 쿼리를 작성합니다. \n",
    "                                서두는 생략하고 생성된 SQL 쿼리 구문만 제공하세요. \\n\\n \n",
    "                                #질문: {question}\\n\\n \n",
    "                                #샘플 쿼리:\\n {sample_queries}\\n\\n \n",
    "                                #사용 가능한 테이블:\\n {table_details}\\n\\n, \n",
    "                                #추가 정보 (과거 실패 이력, 추가 획득한 정보 등):\\n {hint}\"\"\")\n",
    "    sys_prompt, usr_prompt = create_prompt(sys_prompt_template, usr_prompt_template, question=question, dialect=dialect, sample_queries=sample_queries, table_details=table_details, hint=hint)\n",
    "    generated_query = converse_with_bedrock(sys_prompt, usr_prompt)\n",
    "    # generated_query = converse_with_bedrock_langfuse(sys_prompt, usr_prompt, model_id=llm_model)        \n",
    "\n",
    "    new_query_state[\"query\"] = generated_query\n",
    "\n",
    "    return GraphState(query_state=new_query_state)\n"
   ]
  },
  {
   "cell_type": "code",
   "execution_count": 22,
   "metadata": {},
   "outputs": [],
   "source": [
    "# result_state2, test_state2 = test_node(node_tester=node_tester, \n",
    "#                             node_function=generate_query, \n",
    "#                             test_state=test_state,\n",
    "#                             result_state=result_state )\n"
   ]
  },
  {
   "cell_type": "markdown",
   "metadata": {},
   "source": [
    "### validate_query 함수 정의"
   ]
  },
  {
   "cell_type": "code",
   "execution_count": 23,
   "metadata": {},
   "outputs": [],
   "source": [
    "def validate_query(state: GraphState) -> GraphState:\n",
    "    dialect = DIALECT\n",
    "    question = state[\"question\"]\n",
    "    query_state = copy.deepcopy(state[\"query_state\"])\n",
    "    query = query_state[\"query\"]\n",
    "    \n",
    "    explain_statements = {\n",
    "        'mysql': \"EXPLAIN {query}\",\n",
    "        'mariadb': \"EXPLAIN {query}\",\n",
    "        'sqlite': \"EXPLAIN QUERY PLAN {query}\",\n",
    "        'oracle': \"EXPLAIN PLAN FOR\\n{query}\\n\\nSELECT * FROM TABLE(DBMS_XPLAN.DISPLAY);\",\n",
    "        'postgresql': \"EXPLAIN ANALYZE {query}\",\n",
    "        'postgres': \"EXPLAIN ANALYZE {query}\",\n",
    "        'presto': \"EXPLAIN ANALYZE {query}\",\n",
    "        'sqlserver': \"SET STATISTICS PROFILE ON; {query}; SET STATISTICS PROFILE OFF;\"\n",
    "    }\n",
    "    \n",
    "    if dialect.lower() not in explain_statements:\n",
    "        query_plan = \" \"\n",
    "    else:\n",
    "        try:\n",
    "            explain_query = explain_statements[dialect.lower()].format(query=query)\n",
    "            query_plan = db.run(explain_query)\n",
    "        except Exception as e:\n",
    "            query_state[\"status\"] = \"error\"\n",
    "            query_state[\"error\"][\"code\"] = \"E01\"\n",
    "            query_state[\"error\"][\"message\"] = f\"An error occurred while executing the EXPLAIN query: {str(e)}\"\n",
    "            query_state[\"error\"][\"failed_step\"] = \"validation\"\n",
    "            query_state[\"query\"] = query\n",
    "            return GraphState(query_state=query_state)\n",
    "\n",
    "    sys_prompt_template = dedent(\"\"\"당신은 사용자 질문에 대한 기존 {dialect} SQL 쿼리를 검토하고, \n",
    "                                필요 시 최적화하는 데이터베이스 전문가입니다. \n",
    "                                당신의 임무는 주어진 SQL 쿼리 및 추가 정보를 바탕으로 쿼리의 정합성, \n",
    "                                최적화 가능성을 검토하고, 이에 입각한 최종 쿼리를 제공하는 것입니다. \"\"\")\n",
    "    usr_prompt_template = dedent(\"\"\"사용자의 질문에 맞춰 쿼리에 alias를 추가해주세요. \n",
    "                                기존 SQL 쿼리에서 사용되지 않았던 테이블, 컬럼을 추가하는 것은 허용되지 않습니다. \n",
    "                                서두는 생략하고 생성된 SQL 쿼리 구문만 제공하세요. \\n\\n \n",
    "                                #질문: {question}\\n\\n \n",
    "                                #기존 쿼리:\\n {query}\\n\\n \n",
    "                                #쿼리 플랜:\\n {query_plan}\"\"\")\n",
    "    sys_prompt, usr_prompt = create_prompt(sys_prompt_template, usr_prompt_template, question=question, dialect=dialect, query=query, query_plan=query_plan)\n",
    "    validated_query = converse_with_bedrock(sys_prompt, usr_prompt)\n",
    "    # validated_query = converse_with_bedrock_langfuse(sys_prompt, usr_prompt, model_id=llm_model)            \n",
    "    query_state[\"query\"] = validated_query\n",
    "\n",
    "    return GraphState(query_state=query_state)"
   ]
  },
  {
   "cell_type": "code",
   "execution_count": 24,
   "metadata": {},
   "outputs": [],
   "source": [
    "# result_state2, test_state2 = test_node(node_tester=node_tester, \n",
    "#                             node_function=validate_query, \n",
    "#                             test_state=test_state2,\n",
    "#                             result_state=result_state2 )"
   ]
  },
  {
   "cell_type": "markdown",
   "metadata": {},
   "source": [
    "### execute_query 함수 정의"
   ]
  },
  {
   "cell_type": "code",
   "execution_count": 25,
   "metadata": {},
   "outputs": [],
   "source": [
    "def execute_query(state: GraphState) -> GraphState:\n",
    "    query_state = copy.deepcopy(state[\"query_state\"])\n",
    "    query = query_state[\"query\"]\n",
    "    try:\n",
    "        query_state[\"result\"] = db.run(query)\n",
    "    except Exception as e:\n",
    "        query_state[\"status\"] = \"error\"\n",
    "        query_state[\"error\"][\"code\"] = \"E02\"\n",
    "        query_state[\"error\"][\"message\"] = f\"An error occurred while executing the validated query: {str(e)}\"\n",
    "        query_state[\"error\"][\"failed_step\"] = \"execution\"\n",
    "        return GraphState(query_state=query_state)\n",
    "    return GraphState(query_state=query_state)"
   ]
  },
  {
   "cell_type": "code",
   "execution_count": 26,
   "metadata": {},
   "outputs": [],
   "source": [
    "# result_state2, test_state2 = test_node(node_tester=node_tester, \n",
    "#                             node_function=execute_query, \n",
    "#                             test_state=test_state2,\n",
    "#                             result_state=result_state2 )"
   ]
  },
  {
   "cell_type": "markdown",
   "metadata": {},
   "source": [
    "### handle_failure 함수 정의"
   ]
  },
  {
   "cell_type": "code",
   "execution_count": 27,
   "metadata": {},
   "outputs": [],
   "source": [
    "def handle_failure(state: GraphState) -> GraphState:\n",
    "    query_state = copy.deepcopy(state[\"query_state\"])\n",
    "    query = query_state['query']\n",
    "    message = query_state['error']['message']\n",
    "    sys_prompt_template = dedent(\"\"\"당신은 SQL 쿼리의 실패를 처리하는 유능한 데이터베이스 엔지니어입니다. \n",
    "                                당신의 임무는 주어진 SQL 쿼리의 실패 원인을 파악하여, 문제 해결을 위한 다음 작업을 결정하는 것입니다.\"\"\")\n",
    "    usr_prompt_template = dedent(\"\"\"주어진 SQL 쿼리의 실패 메시지를 바탕으로 다음 중 하나의 원인(`failure_type`)과 해결을 위한 실마리(`hint`)를 함께 제공합니다.\\n \n",
    "                                다음은 failure_type의 선택 예시입니다.\\n\n",
    "                                부정확한 쿼리 구문 작성: `syntax_check`\\n\n",
    "                                스키마 불일치: `schema_check`\\n\n",
    "                                DB 외부요인(권한, 연결 문제 등): `stop`\\n\n",
    "                                DB의 일시적 오동작(쿼리 재실행 필요): `retry`\\n\\n\n",
    "                                #실패 쿼리: {query}\\n\\n\n",
    "                                #실패 메시지: {message}\\n\\n#형식: {json_response_format}\"\"\")\n",
    "    sys_prompt, usr_prompt = create_prompt(sys_prompt_template, usr_prompt_template, query=query, message=message, json_response_format=json_response_format)\n",
    "    # result = converse_with_bedrock(sys_prompt, usr_prompt)\n",
    "    result = converse_with_bedrock_langfuse(sys_prompt, usr_prompt, model_id=llm_model)            \n",
    "    json_result = json.loads(result)\n",
    "\n",
    "    query_state[\"hint\"] = json_result[\"hint\"]\n",
    "    return GraphState(next_action=json_result[\"failure_type\"], query_state=query_state)\n"
   ]
  },
  {
   "cell_type": "code",
   "execution_count": 28,
   "metadata": {},
   "outputs": [],
   "source": [
    "# result_state2, test_state2 = test_node(node_tester=node_tester, \n",
    "#                             node_function=handle_failure, \n",
    "#                             test_state=test_state2,\n",
    "#                             result_state=result_state2 )"
   ]
  },
  {
   "cell_type": "markdown",
   "metadata": {},
   "source": [
    "### get_relevant_columns 함수 정의"
   ]
  },
  {
   "cell_type": "code",
   "execution_count": 29,
   "metadata": {
    "tags": []
   },
   "outputs": [],
   "source": [
    "\n",
    "def get_relevant_columns(state: GraphState) -> GraphState:\n",
    "    query_state = copy.deepcopy(state[\"query_state\"])\n",
    "    question = state[\"question\"]\n",
    "    query = query_state[\"query\"]\n",
    "    message = query_state['error']['message']\n",
    "    sys_prompt_template = dedent(\"\"\"당신은 SQL 쿼리의 실패를 처리하는 유능한 데이터베이스 엔지니어입니다. \n",
    "                                당신의 임무는 앞서 발생한 쿼리 실패를 해결하기 위해 스키마를 재탐색 하는 것입니다.\"\"\")\n",
    "    usr_prompt_template = dedent(\"\"\"사용자 질문과 주어진 실패 메시지를 바탕으로 쿼리 재탐색에 적절한 키워드를 제공하세요. \n",
    "                                서두는 생략하고 키워드만 형식에 맞춰 응답하세요. \\n\\n \n",
    "                                #사용자 질문: {question}\\n\\n\n",
    "                                #이전 실패 쿼리: {query}\\n\\n\n",
    "                                메시지: {message}\\n\\n\n",
    "                                #형식: {csv_list_response_format}\"\"\")\n",
    "    sys_prompt, usr_prompt = create_prompt(sys_prompt_template, usr_prompt_template, question=question, query=query, message=message, csv_list_response_format=csv_list_response_format)\n",
    "    # keywords = converse_with_bedrock(sys_prompt, usr_prompt)\n",
    "    keywords = converse_with_bedrock_langfuse(sys_prompt, usr_prompt, model_id=llm_model)            \n",
    "    return keywords\n",
    "\n",
    "def next_step_by_query_state(state:GraphState) -> GraphState:\n",
    "    return state[\"query_state\"][\"status\"]\n",
    "\n",
    "def next_step_by_next_action(state:GraphState) -> GraphState:\n",
    "    return state[\"next_action\"]\n"
   ]
  },
  {
   "cell_type": "code",
   "execution_count": 30,
   "metadata": {},
   "outputs": [],
   "source": [
    "# result_state2, test_state2 = test_node(node_tester=node_tester, \n",
    "#                             node_function=get_relevant_columns, \n",
    "#                             test_state=test_state2,\n",
    "#                             result_state=result_state2 )"
   ]
  },
  {
   "cell_type": "markdown",
   "metadata": {},
   "source": [
    "### get_general_answer 함수 정의"
   ]
  },
  {
   "cell_type": "code",
   "execution_count": 31,
   "metadata": {},
   "outputs": [],
   "source": [
    "def get_general_answer(state: GraphState) -> GraphState:\n",
    "    question = state[\"question\"]\n",
    "    sys_prompt_template = dedent(\"\"\"당신은 사용자의 일반적인 질문에 답변하는 유능한 비서입니다. \n",
    "                                    잘 모르는 주제에 대한 질문에 대해서는 모른다고 답변하세요.\"\"\")\n",
    "    usr_prompt_template = \"#질문: {question}\"\n",
    "    sys_prompt, usr_prompt = create_prompt(sys_prompt_template, usr_prompt_template, question=question)\n",
    "    answer = converse_with_bedrock(sys_prompt, usr_prompt)\n",
    "    # answer = converse_with_bedrock_langfuse(sys_prompt, usr_prompt, model_id=llm_model)            \n",
    "\n",
    "    return GraphState(answer=answer)\n"
   ]
  },
  {
   "cell_type": "code",
   "execution_count": 32,
   "metadata": {},
   "outputs": [],
   "source": [
    "# result_state2, test_state2 = test_node(node_tester=node_tester, \n",
    "#                             node_function=get_general_answer, \n",
    "#                             test_state=test_state2,\n",
    "#                             result_state=result_state2 )"
   ]
  },
  {
   "cell_type": "markdown",
   "metadata": {},
   "source": [
    "### get_database_answer 함수 정의"
   ]
  },
  {
   "cell_type": "code",
   "execution_count": 33,
   "metadata": {
    "tags": []
   },
   "outputs": [],
   "source": [
    "\n",
    "def get_database_answer(state: GraphState) -> GraphState:\n",
    "    question = state[\"question\"]\n",
    "    query_state = state[\"query_state\"]\n",
    "    query = query_state[\"query\"]\n",
    "    data = query_state[\"result\"]\n",
    "    failed_step = query_state[\"error\"][\"failed_step\"]\n",
    "    message = query_state[\"error\"][\"message\"]\n",
    "    sys_prompt_template = dedent(\"\"\"당신은 데이터베이스의 정보를 바탕으로 사용자의 질문에 답변하는 \n",
    "                                    유능한 비서입니다. 당신의 임무는 주어진 참고정보를 참고하여, \n",
    "                                    사용자의 질문에 성실히 답변하는 것입니다.\"\"\")\n",
    "    if query_state[\"status\"] == \"success\":\n",
    "        usr_prompt_template = dedent(\"\"\"답변에는 사용된 쿼리, 데이터프레임(Markdown Table), \n",
    "                                    질문에 대한 간단한 답변을 포함해야 합니다. \\n\\n\n",
    "                                    #질문: {question}\\n\\n\n",
    "                                    #사용된 쿼리: {query}\\n\\n\n",
    "                                    #데이터: {data}\\n\\n\"\"\")\n",
    "        sys_prompt, usr_prompt = create_prompt(sys_prompt_template, usr_prompt_template, question=question, query=query, data=data)\n",
    "    else:\n",
    "        usr_prompt_template = dedent(\"\"\"다음에는 사용자 질문에 대한 쿼리 수행에 실패한 기록이 주어집니다. \n",
    "                                        이를 바탕으로 요청 처리에 실패한 이유를 설명하세요.\\n\\n\n",
    "                                        #질문: {question}\\n\\n\n",
    "                                        #사용된 쿼리: {query}\\n\\n\n",
    "                                        #실패 단계: {failed_step}\\n\\n\n",
    "                                        #에러메시지: {message}\\n\\n\"\"\")\n",
    "        sys_prompt, usr_prompt = create_prompt(sys_prompt_template, usr_prompt_template, question=question, query=query, failed_step=failed_step, message=message)\n",
    "    \n",
    "    answer = converse_with_bedrock(sys_prompt, usr_prompt)\n",
    "    # answer = converse_with_bedrock_langfuse(sys_prompt, usr_prompt, model_id=llm_model)            \n",
    "    return GraphState(answer=answer)\n"
   ]
  },
  {
   "cell_type": "code",
   "execution_count": 34,
   "metadata": {},
   "outputs": [],
   "source": [
    "# result_state2, test_state2 = test_node(node_tester=node_tester, \n",
    "#                             node_function=get_database_answer, \n",
    "#                             test_state=test_state2,\n",
    "#                             result_state=result_state2 )"
   ]
  },
  {
   "cell_type": "markdown",
   "metadata": {},
   "source": [
    "### LangGraph 워크플로 그래프 생성 "
   ]
  },
  {
   "cell_type": "code",
   "execution_count": 35,
   "metadata": {
    "tags": []
   },
   "outputs": [],
   "source": [
    "from langgraph.graph import END, StateGraph\n",
    "from langgraph.checkpoint.memory import MemorySaver\n",
    "\n",
    "workflow = StateGraph(GraphState)\n",
    "\n",
    "# Global Nodes\n",
    "workflow.add_node(\"analyze_intent\", analyze_intent)\n",
    "workflow.add_node(\"get_general_answer\", get_general_answer)\n",
    "workflow.add_node(\"get_database_answer\", get_database_answer)\n",
    "workflow.set_entry_point(\"analyze_intent\")\n",
    "\n",
    "# SubGraph1 Nodes - Schema Linking\n",
    "workflow.add_node(\"get_sample_queries\", get_sample_queries)\n",
    "workflow.add_node(\"check_readiness\", check_readiness)\n",
    "workflow.add_node(\"get_relevant_tables\", get_relevant_tables)\n",
    "workflow.add_node(\"describe_schema\", describe_schema)\n",
    "\n",
    "# SubGraph2 Nodes - Query Generation & Execution\n",
    "workflow.add_node(\"generate_query\", generate_query)\n",
    "workflow.add_node(\"validate_query\", validate_query)\n",
    "workflow.add_node(\"execute_query\", execute_query)\n",
    "workflow.add_node(\"handle_failure\", handle_failure)\n",
    "workflow.add_node(\"get_relevant_columns\", get_relevant_columns)\n",
    "\n",
    "# Edge from Entry to SubGraph1\n",
    "workflow.add_conditional_edges(\n",
    "    \"analyze_intent\",\n",
    "    next_step_by_intent,\n",
    "    {\n",
    "        \"database\": \"get_sample_queries\",\n",
    "        \"general\": \"get_general_answer\",\n",
    "    }\n",
    ")\n",
    "\n",
    "# Edges in SubGraph1\n",
    "workflow.add_edge(\"get_sample_queries\", \"check_readiness\")\n",
    "workflow.add_conditional_edges(\n",
    "    \"check_readiness\"    ,\n",
    "    next_step_by_readiness,\n",
    "    {\n",
    "        \"Ready\": \"generate_query\",\n",
    "        \"Not Ready\": \"get_relevant_tables\"\n",
    "    }\n",
    ")\n",
    "workflow.add_edge(\"get_relevant_tables\", \"describe_schema\")\n",
    "workflow.add_edge(\"describe_schema\", \"check_readiness\")\n",
    "\n",
    "# Edges in SubGraph2\n",
    "workflow.add_edge(\"generate_query\", \"validate_query\")\n",
    "workflow.add_conditional_edges(\n",
    "    \"validate_query\"    ,\n",
    "    next_step_by_query_state,\n",
    "    {\n",
    "        \"success\": \"execute_query\",\n",
    "        \"error\": \"handle_failure\"\n",
    "    }\n",
    ")\n",
    "workflow.add_conditional_edges(\n",
    "    \"execute_query\"    ,\n",
    "    next_step_by_query_state,\n",
    "    {\n",
    "        \"success\": \"get_database_answer\",\n",
    "        \"error\": \"handle_failure\"\n",
    "    }\n",
    ")\n",
    "workflow.add_conditional_edges(\n",
    "    \"handle_failure\"    ,\n",
    "    next_step_by_next_action,\n",
    "    {\n",
    "        \"schema_check\": \"get_relevant_columns\",\n",
    "        \"syntax_check\": \"generate_query\",\n",
    "        \"retry\": \"validate_query\",\n",
    "        \"stop\": \"get_database_answer\"\n",
    "    }\n",
    ")\n",
    "workflow.add_edge(\"get_relevant_columns\", \"generate_query\")\n",
    "\n",
    "# Edges to END\n",
    "workflow.add_edge(\"get_general_answer\", END)\n",
    "workflow.add_edge(\"get_database_answer\", END)\n",
    "\n",
    "memory = MemorySaver()\n",
    "app = workflow.compile(checkpointer=memory)"
   ]
  },
  {
   "cell_type": "markdown",
   "metadata": {},
   "source": [
    "### LangGraph 워크플로 그래프 시각화"
   ]
  },
  {
   "cell_type": "code",
   "execution_count": 36,
   "metadata": {
    "tags": []
   },
   "outputs": [],
   "source": [
    "# from IPython.display import Image, display\n",
    "\n",
    "# try:\n",
    "#     display(\n",
    "#         Image(app.get_graph(xray=True).draw_mermaid_png())\n",
    "#     )  # 실행 가능한 객체의 그래프를 mermaid 형식의 PNG로 그려서 표시합니다. \n",
    "#        # xray=True는 추가적인 세부 정보를 포함합니다.\n",
    "# except:\n",
    "#     # 이 부분은 추가적인 의존성이 필요하며 선택적으로 실행됩니다.\n",
    "#     print(\"Exception occurred\")\n",
    "#     pass"
   ]
  },
  {
   "cell_type": "markdown",
   "metadata": {},
   "source": [
    "### LangGraph 워크플로 End-to-End 테스트 (draft)"
   ]
  },
  {
   "cell_type": "code",
   "execution_count": 37,
   "metadata": {
    "tags": []
   },
   "outputs": [
    {
     "name": "stdout",
     "output_type": "stream",
     "text": [
      "\n",
      "🔹 [NODE] analyze_intent\n",
      "================================================================================\n",
      "📌 intent:\n",
      "'database'\n",
      "================================================================================\n",
      "\n",
      "🔹 [NODE] get_sample_queries\n",
      "================================================================================\n",
      "📌 sample_queries:\n",
      "[{'input': '캐나다에 거주하는 고객 정보 조회. 국가별 고객 데이터 분석 및 마케팅 전략 수립을 위한 데이터 추출이 목적일 수 있습니다. 캐나다 시장 진출 계획 수립 시 현지 고객 기반을 파악하고 타겟 고객층을 정의하는 데 활용될 수 있습니다.',\n",
      "  'query': \"SELECT * FROM Customer WHERE Country = 'Canada'\"},\n",
      " {'input': '고객별 총 구매액 상위 5명의 고객 ID와 총 구매액 조회\\n\\n상세 목적 및 동기:\\n- 고객 구매 패턴 분석을 통해 주요 고객 파악 및 마케팅 전략 수립\\n- 최상위 고객에 대한 특별 혜택 제공 또는 맞춤형 프로모션 진행\\n- 고객 충성도 제고 및 재구매 유도를 위한 전략 수립\\n- 매출 기여도가 높은 고객 관리 강화',\n",
      "  'query': 'SELECT CustomerId, SUM(Total) AS TotalPurchase FROM Invoice GROUP BY CustomerId ORDER BY TotalPurchase DESC LIMIT 5'},\n",
      " {'input': '전체 트랙의 총 재생시간 확인 요청. 음원 서비스 운영을 위해 전체 콘텐츠의 총 길이를 파악하여 스토리지 용량 산정 및 스트리밍 대역폭 예측에 활용할 수 있음.', 'query': 'SELECT SUM(Milliseconds) FROM Track'},\n",
      " {'input': \"앨범 데이터에서 아티스트 이름이 'AC/DC'인 아티스트의 앨범 정보 조회. 아티스트 테이블에서 'AC/DC'라는 이름을 가진 아티스트의 ArtistId를 찾아 Album 테이블에서 해당 ArtistId와 연결된 모든 앨범 정보를 가져오는 요청. 아티스트 이름으로 특정 아티스트의 앨범 목록을 확인하고자 하는 목적으로 보임.\",\n",
      "  'query': \"SELECT * FROM Album WHERE ArtistId = (SELECT ArtistId FROM Artist WHERE Name = 'AC/DC')\"}]\n",
      "================================================================================\n",
      "\n",
      "🔹 [NODE] check_readiness\n",
      "================================================================================\n",
      "📌 readiness:\n",
      "'Not Ready'\n",
      "================================================================================\n",
      "\n",
      "🔹 [NODE] get_relevant_tables\n",
      "================================================================================\n",
      "📌 table_names:\n",
      "['Invoice', 'Customer']\n",
      "================================================================================\n",
      "\n",
      "🔹 [NODE] describe_schema\n",
      "================================================================================\n",
      "📌 table_details:\n",
      "[{'cols': {'Address': 'Address of the customer.',\n",
      "           'City': 'City of the customer.',\n",
      "           'Company': 'Company of the customer.',\n",
      "           'Country': 'Country of the customer.',\n",
      "           'CustomerId': 'Primary key, unique customer identifier.',\n",
      "           'Email': 'Email address of the customer.',\n",
      "           'Fax': 'Fax number of the customer.',\n",
      "           'FirstName': 'First name of the customer.',\n",
      "           'LastName': 'Last name of the customer.',\n",
      "           'Phone': 'Phone number of the customer.',\n",
      "           'PostalCode': 'Postal code of the customer.',\n",
      "           'State': 'State of the customer.',\n",
      "           'SupportRepId': 'Foreign key that references the employee who supports this customer.'},\n",
      "  'create_table_sql': 'CREATE TABLE \"Customer\" (\\n'\n",
      "                      '\\t\"CustomerId\" INTEGER NOT NULL, \\n'\n",
      "                      '\\t\"FirstName\" NVARCHAR(40) NOT NULL, \\n'\n",
      "                      '\\t\"LastName\" NVARCHAR(20) NOT NULL, \\n'\n",
      "                      '\\t\"Company\" NVARCHAR(80), \\n'\n",
      "                      '\\t\"Address\" NVARCHAR(70), \\n'\n",
      "                      '\\t\"City\" NVARCHAR(40), \\n'\n",
      "                      '\\t\"State\" NVARCHAR(40), \\n'\n",
      "                      '\\t\"Country\" NVARCHAR(40), \\n'\n",
      "                      '\\t\"PostalCode\" NVARCHAR(10), \\n'\n",
      "                      '\\t\"Phone\" NVARCHAR(24), \\n'\n",
      "                      '\\t\"Fax\" NVARCHAR(24), \\n'\n",
      "                      '\\t\"Email\" NVARCHAR(60) NOT NULL, \\n'\n",
      "                      '\\t\"SupportRepId\" INTEGER, \\n'\n",
      "                      '\\tPRIMARY KEY (\"CustomerId\"), \\n'\n",
      "                      '\\tFOREIGN KEY(\"SupportRepId\") REFERENCES \"Employee\" (\"EmployeeId\")\\n'\n",
      "                      ')',\n",
      "  'sample_data': '3 rows from Customer table:\\n'\n",
      "                 'CustomerId\\tFirstName\\tLastName\\tCompany\\tAddress\\tCity\\tState\\tCountry\\tPostalCode\\tPhone\\tFax\\tEmail\\tSupportRepId\\n'\n",
      "                 '1\\tLuís\\tGonçalves\\tEmbraer - Empresa Brasileira de Aeronáutica S.A.\\tAv. Brigadeiro Faria Lima, 2170\\tSão José dos Campos\\tSP\\tBrazil\\t12227-000\\t+55 (12) 3923-5555\\t+55 (12) '\n",
      "                 '3923-5566\\tluisg@embraer.com.br\\t3\\n'\n",
      "                 '2\\tLeonie\\tKöhler\\tNone\\tTheodor-Heuss-Straße 34\\tStuttgart\\tNone\\tGermany\\t70174\\t+49 0711 2842222\\tNone\\tleonekohler@surfeu.de\\t5\\n'\n",
      "                 '3\\tFrançois\\tTremblay\\tNone\\t1498 rue Bélanger\\tMontréal\\tQC\\tCanada\\tH2G 1A7\\t+1 (514) 721-4711\\tNone\\tftremblay@gmail.com\\t3',\n",
      "  'table': 'Customer'},\n",
      " {'cols': {'BillingAddress': 'Billing address on the invoice.',\n",
      "           'BillingCity': 'Billing city on the invoice.',\n",
      "           'BillingCountry': 'Billing country on the invoice.',\n",
      "           'BillingPostalCode': 'Billing postal code on the invoice.',\n",
      "           'BillingState': 'Billing state on the invoice.',\n",
      "           'CustomerId': 'Foreign key that references the customer associated with this invoice.',\n",
      "           'InvoiceDate': 'Date when the invoice was issued.',\n",
      "           'InvoiceId': 'Primary key, unique identifier for the invoice.',\n",
      "           'Total': 'Total amount of the invoice.'},\n",
      "  'create_table_sql': 'CREATE TABLE \"Invoice\" (\\n'\n",
      "                      '\\t\"InvoiceId\" INTEGER NOT NULL, \\n'\n",
      "                      '\\t\"CustomerId\" INTEGER NOT NULL, \\n'\n",
      "                      '\\t\"InvoiceDate\" DATETIME NOT NULL, \\n'\n",
      "                      '\\t\"BillingAddress\" NVARCHAR(70), \\n'\n",
      "                      '\\t\"BillingCity\" NVARCHAR(40), \\n'\n",
      "                      '\\t\"BillingState\" NVARCHAR(40), \\n'\n",
      "                      '\\t\"BillingCountry\" NVARCHAR(40), \\n'\n",
      "                      '\\t\"BillingPostalCode\" NVARCHAR(10), \\n'\n",
      "                      '\\t\"Total\" NUMERIC(10, 2) NOT NULL, \\n'\n",
      "                      '\\tPRIMARY KEY (\"InvoiceId\"), \\n'\n",
      "                      '\\tFOREIGN KEY(\"CustomerId\") REFERENCES \"Customer\" (\"CustomerId\")\\n'\n",
      "                      ')',\n",
      "  'sample_data': '3 rows from Invoice table:\\n'\n",
      "                 'InvoiceId\\tCustomerId\\tInvoiceDate\\tBillingAddress\\tBillingCity\\tBillingState\\tBillingCountry\\tBillingPostalCode\\tTotal\\n'\n",
      "                 '1\\t2\\t2021-01-01 00:00:00\\tTheodor-Heuss-Straße 34\\tStuttgart\\tNone\\tGermany\\t70174\\t1.98\\n'\n",
      "                 '2\\t4\\t2021-01-02 00:00:00\\tUllevålsveien 14\\tOslo\\tNone\\tNorway\\t0171\\t3.96\\n'\n",
      "                 '3\\t8\\t2021-01-03 00:00:00\\tGrétrystraat 63\\tBrussels\\tNone\\tBelgium\\t1000\\t5.94',\n",
      "  'table': 'Invoice'}]\n",
      "================================================================================\n",
      "\n",
      "🔹 [NODE] check_readiness\n",
      "================================================================================\n",
      "📌 readiness:\n",
      "'Ready'\n",
      "================================================================================\n",
      "\n",
      "🔹 [NODE] generate_query\n",
      "================================================================================\n",
      "📌 query_state:\n",
      "{'error': {'code': '', 'failed_step': '', 'hint': '', 'message': ''},\n",
      " 'query': 'SELECT Country, SUM(Total) AS TotalSales\\n'\n",
      "          'FROM Invoice i\\n'\n",
      "          'JOIN Customer c ON i.CustomerId = c.CustomerId\\n'\n",
      "          \"WHERE i.InvoiceDate BETWEEN '2022-01-01' AND '2022-12-31'\\n\"\n",
      "          'GROUP BY Country\\n'\n",
      "          'ORDER BY TotalSales DESC\\n'\n",
      "          'LIMIT 10;',\n",
      " 'result': '',\n",
      " 'status': 'success'}\n",
      "================================================================================\n",
      "\n",
      "🔹 [NODE] validate_query\n",
      "================================================================================\n",
      "📌 query_state:\n",
      "{'error': {'code': '', 'failed_step': '', 'hint': '', 'message': ''},\n",
      " 'query': 'SELECT c.Country, SUM(i.Total) AS TotalSales\\n'\n",
      "          'FROM Invoice i\\n'\n",
      "          'JOIN Customer c ON i.CustomerId = c.CustomerId\\n'\n",
      "          \"WHERE i.InvoiceDate BETWEEN '2022-01-01' AND '2022-12-31'\\n\"\n",
      "          'GROUP BY c.Country\\n'\n",
      "          'ORDER BY TotalSales DESC\\n'\n",
      "          'LIMIT 10;',\n",
      " 'result': '',\n",
      " 'status': 'success'}\n",
      "================================================================================\n",
      "\n",
      "🔹 [NODE] execute_query\n",
      "================================================================================\n",
      "📌 query_state:\n",
      "{'error': {'code': '', 'failed_step': '', 'hint': '', 'message': ''},\n",
      " 'query': 'SELECT c.Country, SUM(i.Total) AS TotalSales\\n'\n",
      "          'FROM Invoice i\\n'\n",
      "          'JOIN Customer c ON i.CustomerId = c.CustomerId\\n'\n",
      "          \"WHERE i.InvoiceDate BETWEEN '2022-01-01' AND '2022-12-31'\\n\"\n",
      "          'GROUP BY c.Country\\n'\n",
      "          'ORDER BY TotalSales DESC\\n'\n",
      "          'LIMIT 10;',\n",
      " 'result': \"[('USA', 102.98), ('Canada', 76.26), ('Brazil', 41.6), ('France', 39.6), ('Hungary', 32.75), ('United Kingdom', 30.689999999999998), ('Austria', 27.77), ('Germany', 25.74), ('Chile', \"\n",
      "           \"17.91), ('India', 17.83)]\",\n",
      " 'status': 'success'}\n",
      "================================================================================\n",
      "\n",
      "🔹 [NODE] get_database_answer\n",
      "================================================================================\n",
      "📌 answer:\n",
      "('### 2022년 매출 상위 10개 국가\\n'\n",
      " '\\n'\n",
      " '#### 사용된 쿼리\\n'\n",
      " '```sql\\n'\n",
      " 'SELECT c.Country, SUM(i.Total) AS TotalSales\\n'\n",
      " 'FROM Invoice i\\n'\n",
      " 'JOIN Customer c ON i.CustomerId = c.CustomerId\\n'\n",
      " \"WHERE i.InvoiceDate BETWEEN '2022-01-01' AND '2022-12-31'\\n\"\n",
      " 'GROUP BY c.Country\\n'\n",
      " 'ORDER BY TotalSales DESC\\n'\n",
      " 'LIMIT 10;\\n'\n",
      " '```\\n'\n",
      " '\\n'\n",
      " '#### 데이터 (Markdown Table)\\n'\n",
      " '\\n'\n",
      " '| Country | TotalSales |\\n'\n",
      " '|---------|------------|\\n'\n",
      " '| USA     | 102.98     |\\n'\n",
      " '| Canada  | 76.26      |\\n'\n",
      " '| Brazil  | 41.6       |\\n'\n",
      " '| France  | 39.6       |\\n'\n",
      " '| Hungary | 32.75      |\\n'\n",
      " '| United Kingdom | 30.69 |\\n'\n",
      " '| Austria | 27.77      |\\n'\n",
      " '| Germany | 25.74      |\\n'\n",
      " '| Chile   | 17.91      |\\n'\n",
      " '| India   | 17.83      |\\n'\n",
      " '\\n'\n",
      " '#### 간단한 답변\\n'\n",
      " '2022년 매출 상위 10개 국가는 USA, Canada, Brazil, France, Hungary, United Kingdom, Austria, Germany, Chile, India 순입니다. 미국이 102.98의 매출로 가장 높았고, 인도가 17.83의 매출로 10위권 내에 들었습니다.')\n",
      "================================================================================\n"
     ]
    }
   ],
   "source": [
    "import pprint\n",
    "from langgraph.errors import GraphRecursionError\n",
    "from langchain_core.runnables import RunnableConfig\n",
    "\n",
    "config = RunnableConfig(\n",
    "            recursion_limit=100, \n",
    "            configurable={\"thread_id\": \"TODO\"},\n",
    "            callbacks=[langfuse_handler]  # 여기에 Langfuse 핸들러 추가}\n",
    "        )\n",
    "inputs = GraphState(question=\"2022년 매출 상위 10개 국가는?\")\n",
    "\n",
    "pp = pprint.PrettyPrinter(width=200, compact=True)\n",
    "\n",
    "try:\n",
    "    for output in app.stream(inputs, config=config):\n",
    "        for key, value in output.items():\n",
    "            print(f\"\\n🔹 [NODE] {key}\")\n",
    "            print(\"=\" * 80)\n",
    "            for k, v in value.items():\n",
    "                print(f\"📌 {k}:\")\n",
    "                pp.pprint(v)\n",
    "            print(\"=\" * 80)\n",
    "except GraphRecursionError as e:\n",
    "    print(f\"⚠️ Recursion limit reached: {e}\")"
   ]
  },
  {
   "cell_type": "code",
   "execution_count": null,
   "metadata": {},
   "outputs": [],
   "source": []
  }
 ],
 "metadata": {
  "kernelspec": {
   "display_name": "Python 3 (ipykernel)",
   "language": "python",
   "name": "python3"
  },
  "language_info": {
   "codemirror_mode": {
    "name": "ipython",
    "version": 3
   },
   "file_extension": ".py",
   "mimetype": "text/x-python",
   "name": "python",
   "nbconvert_exporter": "python",
   "pygments_lexer": "ipython3",
   "version": "3.11.11"
  }
 },
 "nbformat": 4,
 "nbformat_minor": 4
}
