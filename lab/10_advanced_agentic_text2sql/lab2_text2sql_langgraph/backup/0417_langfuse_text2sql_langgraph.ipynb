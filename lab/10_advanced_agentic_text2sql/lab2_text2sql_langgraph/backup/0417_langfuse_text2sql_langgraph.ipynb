{
 "cells": [
  {
   "cell_type": "markdown",
   "metadata": {},
   "source": [
    "# LangGraph + Text2SQL"
   ]
  },
  {
   "cell_type": "markdown",
   "metadata": {},
   "source": [
    "## 1. 환경 설정"
   ]
  },
  {
   "cell_type": "code",
   "execution_count": 349,
   "metadata": {
    "tags": []
   },
   "outputs": [
    {
     "name": "stdout",
     "output_type": "stream",
     "text": [
      "The autoreload extension is already loaded. To reload it, use:\n",
      "  %reload_ext autoreload\n",
      "python path: /home/sagemaker-user/Self-Study-Generative-AI/lab/10_advanced_agentic_text2sql already exists\n",
      "sys.path:  ['/home/sagemaker-user/Self-Study-Generative-AI/lab/10_advanced_agentic_text2sql/lab2_text2sql_langgraph', '/home/sagemaker-user/.conda/envs/text2sql/lib/python310.zip', '/home/sagemaker-user/.conda/envs/text2sql/lib/python3.10', '/home/sagemaker-user/.conda/envs/text2sql/lib/python3.10/lib-dynload', '', '/home/sagemaker-user/.conda/envs/text2sql/lib/python3.10/site-packages', '/home/sagemaker-user/Self-Study-Generative-AI/lab/10_advanced_agentic_text2sql']\n"
     ]
    }
   ],
   "source": [
    "%load_ext autoreload\n",
    "%autoreload 2\n",
    "\n",
    "import sys, os\n",
    "\n",
    "def add_python_path(module_path):\n",
    "    if os.path.abspath(module_path) not in sys.path:\n",
    "        sys.path.append(os.path.abspath(module_path))\n",
    "        print(f\"python path: {os.path.abspath(module_path)} is added\")\n",
    "    else:\n",
    "        print(f\"python path: {os.path.abspath(module_path)} already exists\")\n",
    "    print(\"sys.path: \", sys.path)\n",
    "\n",
    "\n",
    "module_path = \"..\"\n",
    "add_python_path(module_path)\n",
    "\n"
   ]
  },
  {
   "cell_type": "markdown",
   "metadata": {},
   "source": [
    "### 라이브러리 불러오기"
   ]
  },
  {
   "cell_type": "code",
   "execution_count": 350,
   "metadata": {},
   "outputs": [],
   "source": [
    "from src.local_utils  import ( \n",
    "    converse_with_bedrock,\n",
    "    init_boto3_client,\n",
    "    init_search_resources,\n",
    "    get_column_description,\n",
    "    search_by_keywords,\n",
    "    create_prompt,\n",
    "    NodeTester,\n",
    "    csv_list_response_format,\n",
    "    json_response_format,\n",
    "    # wrapped_bedrock_converse\n",
    "    converse_with_bedrock_langfuse,\n",
    ")\n",
    "\n",
    "import boto3\n",
    "import json\n",
    "import copy\n",
    "from botocore.config import Config\n",
    "\n",
    "from langchain_aws import BedrockEmbeddings\n",
    "from langchain_community.utilities import SQLDatabase\n",
    "from sqlalchemy import create_engine\n",
    "from src.opensearch import OpenSearchHybridRetriever, OpenSearchClient\n",
    "from textwrap import dedent\n",
    "from langfuse.decorators import observe\n",
    "\n"
   ]
  },
  {
   "cell_type": "markdown",
   "metadata": {},
   "source": [
    "### LLM 모델 설정"
   ]
  },
  {
   "cell_type": "code",
   "execution_count": 351,
   "metadata": {},
   "outputs": [],
   "source": [
    "# llm_model = \"us.amazon.nova-pro-v1:0\"\n",
    "llm_model = \"us.anthropic.claude-3-7-sonnet-20250219-v1:0\"\n",
    "# llm_model = \"us.anthropic.claude-3-5-sonnet-20240620-v1:0\"\n",
    "# llm_model = \"us.anthropic.claude-3-5-haiku-20241022-v1:0\"\n",
    "# llm_model = \"us.anthropic.claude-3-sonnet-20240229-v1:0\"\n",
    "# llm_model = \"anthropic.claude-3-sonnet-20240229-v1:0\""
   ]
  },
  {
   "cell_type": "markdown",
   "metadata": {},
   "source": [
    "### Langfuse 설정"
   ]
  },
  {
   "cell_type": "code",
   "execution_count": 352,
   "metadata": {},
   "outputs": [
    {
     "name": "stdout",
     "output_type": "stream",
     "text": [
      "Langfuse 인증 테스트: True\n"
     ]
    }
   ],
   "source": [
    "from dotenv import load_dotenv\n",
    "import os\n",
    "\n",
    "# .env 파일에서 환경 변수 로드\n",
    "load_dotenv(\"../.env\")\n",
    "\n",
    "from langfuse.callback import CallbackHandler\n",
    "import os\n",
    "\n",
    "langfuse_handler = CallbackHandler(\n",
    "    public_key=os.environ.get('LANGFUSE_PUBLIC_KEY'),\n",
    "    secret_key=os.environ.get('LANGFUSE_SECRET_KEY'),\n",
    "    host=os.environ.get('LANGFUSE_HOST'),\n",
    ")\n",
    "\n",
    "# connection test\n",
    "print(\"Langfuse 인증 테스트:\", langfuse_handler.auth_check())\n",
    "\n",
    "\n",
    "from langfuse.callback import CallbackHandler\n",
    "import os\n",
    "\n",
    "langfuse_handler = CallbackHandler(\n",
    "    public_key=os.environ.get('LANGFUSE_PUBLIC_KEY'),\n",
    "    secret_key=os.environ.get('LANGFUSE_SECRET_KEY'),\n",
    "    host=os.environ.get('LANGFUSE_HOST'),\n",
    ")"
   ]
  },
  {
   "cell_type": "markdown",
   "metadata": {},
   "source": [
    "### DB Engine 및 오브젝트 정의"
   ]
  },
  {
   "cell_type": "code",
   "execution_count": 353,
   "metadata": {},
   "outputs": [
    {
     "name": "stdout",
     "output_type": "stream",
     "text": [
      "현재 리전: us-east-1\n"
     ]
    }
   ],
   "source": [
    "engine = create_engine(\"sqlite:///Chinook.db\")\n",
    "db = SQLDatabase(engine)\n",
    "DIALECT = \"sqlite\"\n",
    "\n",
    "session = boto3.session.Session()\n",
    "region_name = session.region_name\n",
    "print(f\"현재 리전: {region_name}\")\n",
    "\n",
    "boto3_client = init_boto3_client(region_name)\n",
    "sql_search_client, table_search_client, sql_retriever, table_retriever = init_search_resources(region_name, k=5)\n",
    "\n"
   ]
  },
  {
   "cell_type": "markdown",
   "metadata": {},
   "source": [
    "## 2. 검색 기능 테스트"
   ]
  },
  {
   "cell_type": "code",
   "execution_count": 354,
   "metadata": {
    "tags": []
   },
   "outputs": [
    {
     "name": "stdout",
     "output_type": "stream",
     "text": [
      "샘플 쿼리 검색 결과:  {\n",
      "    \"input\": \"총 금액이 10을 초과하는 인보이스 내역 조회. 고객의 높은 가치 거래 파악 및 우대 정책 수립, 매출 분석, 재고 관리 등의 목적으로 활용 가능합니다.\",\n",
      "    \"query\": \"SELECT * FROM Invoice WHERE Total > 10\"\n",
      "}\n",
      "테이블 검색 결과:  {\n",
      "    \"table_name\": \"Invoice\",\n",
      "    \"table_summary\": \"이 테이블은 고객과 관련된 거래 내역을 기록하고 있습니다. 각 거래에 대해 인보이스 ID, 고객 ID, 인보이스 날짜, 청구 주소, 청구 도시, 청구 주/도, 청구 국가, 청구 우편번호 및 총 금액 등의 정보를 포함하고 있습니다.\\n\\n이 테이블을 활용하여 다음과 같은 분석이 가능합니다:\\n\\n- 전체 거래 건수 및 총 매출 규모 파악\\n- 고객별 총 구매 금액 분석 및 상위 고객 식별 \\n- 고가 거래 내역 추출 및 분석\\n- 대량 주문 내역 추출 및 분석\\n- 시간별, 지역별 매출 동향 분석\\n- 고객 세그멘테이션 및 타겟 마케팅 전략 수립\\n- 재고 관리 및 운영 계획 수립\\n- 영업 실적 평가 및 성과 분석\\n\\n이 테이블의 데이터를 활용하면 회사의 매출 현황, 고객 행동 패턴, 운영 효율성 등을 종합적으로 파악할 수 있어 비즈니스 의사결정에 핵심 인사이트를 제공할 수 있습니다.\"\n",
      "}\n"
     ]
    }
   ],
   "source": [
    "# 검색 키워드 예시\n",
    "# keyword = \"사람들이 좋아하는 장르\"\n",
    "keyword = \"2022년 매출 상위 10개 국가는?\"\n",
    "\n",
    "sql_search_result = sql_retriever.invoke(keyword, ensemble=[0.60, 0.40])\n",
    "# sql_search_result = sql_retriever.invoke(keyword, ensemble=[0.51, 0.49])\n",
    "table_search_result = table_retriever.invoke(keyword, ensemble=[0.60, 0.40])\n",
    "\n",
    "if sql_search_result:\n",
    "    page_content = json.loads(sql_search_result[0].page_content)\n",
    "    print(\"샘플 쿼리 검색 결과: \", json.dumps(page_content, indent=4, ensure_ascii=False))\n",
    "\n",
    "if table_search_result:\n",
    "    page_content = json.loads(table_search_result[0].page_content)\n",
    "    print(\"테이블 검색 결과: \", json.dumps(page_content, indent=4, ensure_ascii=False))"
   ]
  },
  {
   "cell_type": "code",
   "execution_count": 355,
   "metadata": {},
   "outputs": [
    {
     "name": "stdout",
     "output_type": "stream",
     "text": [
      "샘플 쿼리 검색 결과:  {\n",
      "    \"input\": \"총 금액이 10을 초과하는 인보이스 내역 조회. 고객의 높은 가치 거래 파악 및 우대 정책 수립, 매출 분석, 재고 관리 등의 목적으로 활용 가능합니다.\",\n",
      "    \"query\": \"SELECT * FROM Invoice WHERE Total > 10\"\n",
      "}\n",
      "샘플 쿼리 검색 결과:  {\n",
      "    \"input\": \"수량이 1개를 초과하는 인보이스 라인 항목 조회. 대량 주문 처리, 재고 관리, 판매 동향 분석 등의 목적으로 활용 가능합니다.\",\n",
      "    \"query\": \"SELECT * FROM InvoiceLine WHERE Quantity > 1\"\n",
      "}\n",
      "샘플 쿼리 검색 결과:  {\n",
      "    \"input\": \"미국에 거주하는 고객들의 전체 세부 정보 조회. 고객 관리 및 마케팅 활동을 위해 특정 국가 고객 데이터를 추출하는 작업.\",\n",
      "    \"query\": \"SELECT * FROM Customer WHERE Country = 'USA'\"\n",
      "}\n",
      "샘플 쿼리 검색 결과:  {\n",
      "    \"input\": \"고객별 총 구매 금액을 내림차순으로 정렬하여 상위 5명의 고객 ID와 총 구매 금액 조회. 고객 관계 관리 및 마케팅 전략 수립을 위해 최대 지출 고객 파악이 필요할 수 있음.\",\n",
      "    \"query\": \"SELECT CustomerId, SUM(Total) AS TotalPurchase FROM Invoice GROUP BY CustomerId ORDER BY TotalPurchase DESC LIMIT 5\"\n",
      "}\n",
      "샘플 쿼리 검색 결과:  {\n",
      "    \"input\": \"전체 송장 건수 확인. 회사의 총 거래 규모와 고객 수를 파악하기 위한 기초 데이터로 활용 가능합니다. 매출 추이 분석, 영업 실적 평가, 재고 관리 계획 수립 등 다양한 비즈니스 의사결정에 필요한 핵심 지표입니다.\",\n",
      "    \"query\": \"SELECT COUNT(*) FROM Invoice\"\n",
      "}\n"
     ]
    }
   ],
   "source": [
    "for result in sql_search_result:\n",
    "    page_content = json.loads(result.page_content)\n",
    "    print(\"샘플 쿼리 검색 결과: \", json.dumps(page_content, indent=4, ensure_ascii=False))\n"
   ]
  },
  {
   "cell_type": "markdown",
   "metadata": {},
   "source": [
    "## 3. LangGraph "
   ]
  },
  {
   "cell_type": "markdown",
   "metadata": {},
   "source": [
    "### 그래프 상태 설정"
   ]
  },
  {
   "cell_type": "code",
   "execution_count": 356,
   "metadata": {
    "tags": []
   },
   "outputs": [],
   "source": [
    "from typing import TypedDict\n",
    "\n",
    "class GraphState(TypedDict):\n",
    "    question: str  \n",
    "    intent: str\n",
    "    sample_queries: list\n",
    "    readiness: str\n",
    "    tables_summaries: list\n",
    "    table_names: list\n",
    "    table_details: list\n",
    "    query_state: dict\n",
    "    next_action: str\n",
    "    answer: str\n",
    "    dialect: str\n"
   ]
  },
  {
   "cell_type": "markdown",
   "metadata": {},
   "source": [
    "## 서브그래프1 - 스키마링킹 정의"
   ]
  },
  {
   "cell_type": "markdown",
   "metadata": {
    "tags": []
   },
   "source": [
    "###  analyze_intent 함수 정의\n",
    "\n",
    "    \n"
   ]
  },
  {
   "cell_type": "code",
   "execution_count": 357,
   "metadata": {},
   "outputs": [],
   "source": [
    "# @observe(name=\"Analyze Intent Node\")\n",
    "def analyze_intent(state: GraphState) -> GraphState:\n",
    "    question = state[\"question\"]\n",
    "    sys_prompt_template = dedent(\"\"\"당신은 사용자 질문의 의도를 파악하는 비서입니다. \n",
    "                                    당신의 임무는 사용자 질문을 하나로 분류하는 것입니다.\"\"\")\n",
    "    usr_prompt_template = dedent(\"\"\"사용자 질문을 해결하기 위해 데이터베이스 조회가 필요하면 `database` 그 밖의 경우는 `general`로만 응답하세요.\n",
    "                                    추가 설명이나 이유를 포함하지 마세요. 단어 하나만 정확히 응답하세요.\n",
    "                                    서두는 생략하세요.\n",
    "                                    \\n\\n #질문: {question}\"\"\")\n",
    "    sys_prompt, usr_prompt = create_prompt(sys_prompt_template, usr_prompt_template, question=question)\n",
    "    # intent = converse_with_bedrock(sys_prompt, usr_prompt)\n",
    "    intent = converse_with_bedrock_langfuse(sys_prompt, usr_prompt, model_id=llm_model, function_name=\"analyze_intent\")\n",
    "\n",
    "    return GraphState(intent=intent)"
   ]
  },
  {
   "cell_type": "markdown",
   "metadata": {},
   "source": [
    "#### 함수 로직 확인\n",
    "\n"
   ]
  },
  {
   "cell_type": "code",
   "execution_count": 358,
   "metadata": {},
   "outputs": [],
   "source": [
    "# node_tester = NodeTester()\n",
    "# test_state = {\n",
    "#     \"question\": \"2022년 매출 상위 10개 국가는?\",\n",
    "# }\n",
    "# result_state = node_tester.test(analyze_intent, test_state)"
   ]
  },
  {
   "cell_type": "markdown",
   "metadata": {},
   "source": [
    "### get_sample_queries 함수 정의"
   ]
  },
  {
   "cell_type": "code",
   "execution_count": 359,
   "metadata": {},
   "outputs": [],
   "source": [
    "from textwrap import dedent\n",
    "\n",
    "@observe(name=\"get_sample_queries Node\")\n",
    "def get_sample_queries(state: GraphState) -> GraphState:\n",
    "    question = state[\"question\"]\n",
    "    samples = sql_retriever.invoke(question, ensemble=[0.80, 0.20])\n",
    "    page_contents = [doc.page_content for doc in samples if doc is not None]\n",
    "    sample_inputs = [json.loads(content)['input'] for content in page_contents]\n",
    "\n",
    "    sys_prompt_template = dedent(\"\"\"당신은 사용자 질문에 대한 SQL 쿼리를 작성하는 유능한 데이터베이스 엔지니어입니다. \n",
    "                          당신의 임무는 질문에 부합한 SQL 쿼리 작성에 유용한 샘플 쿼리를 선택하는 것입니다. \n",
    "                          당신이 선택하는 샘플 쿼리는 쿼리 재활용, 스키마 참조 등에 사용될 수 있습니다.\"\"\")\n",
    "    usr_prompt_template = dedent(\"\"\"질문에 부합한 SQL 쿼리 작성을 위해 유용한 샘플 쿼리를 선택하여 중요도 순서로 정렬하여 응답하세요. \n",
    "                                    샘플 쿼리의 인덱스 번호(0부터 시작)만 응답하세요. 관련된 샘플이 없으면 빈 목록(\"\")으로 응답하세요. \\n\\n \n",
    "                                    #질문: {question}\\n\\n #샘플 쿼리:\\n {sample_inputs}\\n\\n #형식: {csv_list_response_format}\"\"\")\n",
    "    sys_prompt, usr_prompt = create_prompt(sys_prompt_template, usr_prompt_template, question=question, sample_inputs=sample_inputs, csv_list_response_format=csv_list_response_format)\n",
    "    # sample_ids = converse_with_bedrock(sys_prompt, usr_prompt)\n",
    "    sample_ids = converse_with_bedrock_langfuse(sys_prompt, usr_prompt, model_id=llm_model, function_name=\"get_sample_queries\")\n",
    "    try:\n",
    "        if sample_ids == '\"\"' or sample_ids.strip() == \"\":\n",
    "            return GraphState(sample_queries=[])\n",
    "        else:\n",
    "            sample_ids_list = [int(id.strip()) for id in sample_ids.split(',') if id.strip().isdigit()]\n",
    "            sample_queries = [json.loads(page_contents[id]) for id in sample_ids_list] if sample_ids_list else []\n",
    "            return GraphState(sample_queries=sample_queries)\n",
    "    except:\n",
    "        return GraphState(sample_queries=[])\n"
   ]
  },
  {
   "cell_type": "markdown",
   "metadata": {},
   "source": [
    "#### 함수 로직 확인"
   ]
  },
  {
   "cell_type": "code",
   "execution_count": 360,
   "metadata": {},
   "outputs": [],
   "source": [
    "# def test_node(node_tester, node_function, test_state,result_state ):\n",
    "#     # test_state와 result_state를 합쳐서 test_state2 생성\n",
    "#     test_state = {**test_state, **result_state}\n",
    "#     print(\"## test_state: \")\n",
    "#     print(json.dumps(test_state, indent=2, ensure_ascii=False))\n",
    "\n",
    "#     result_state = node_tester.test(node_function, test_state)\n",
    "#     return result_state, test_state\n",
    "\n",
    "# result_state, test_state = test_node(node_tester=node_tester, \n",
    "#                             node_function=get_sample_queries, \n",
    "#                             test_state=test_state,\n",
    "#                             result_state=result_state )"
   ]
  },
  {
   "cell_type": "markdown",
   "metadata": {},
   "source": [
    "### check_readiness 함수 정의"
   ]
  },
  {
   "cell_type": "code",
   "execution_count": 361,
   "metadata": {},
   "outputs": [],
   "source": [
    "def check_readiness(state: GraphState) -> GraphState:\n",
    "    question = state[\"question\"]\n",
    "    sample_queries = state[\"sample_queries\"]\n",
    "    \n",
    "    if \"table_details\" in state:\n",
    "        table_details = state[\"table_details\"]\n",
    "    else:\n",
    "        table_details = []\n",
    "\n",
    "    sys_prompt_template = dedent(\"\"\"당신은 사용자 질문에 대한 SQL 쿼리를 작성하는 유능한 데이터베이스 엔지니어입니다. \n",
    "                                    당신의 임무는 주어진 DB 정보를 바탕으로, 사용자 질문에 대한 SQL 쿼리 작성이 가능한지 판단하는 것입니다.\"\"\")\n",
    "    usr_prompt_template = dedent(\"\"\"질문에 대한 SQL 쿼리를 생성하기에 충분한 정보가 제공되었는지 판단합니다. \n",
    "                                정보가 충분하면 `Ready`, 정보가 부족하면 `Not Ready`로만  응답하세요. 중요한 건 서두 및 추가 설명은 생략 하세요.\\n\\n \n",
    "                                #질문: {question}\\n\\n \n",
    "                                #샘플 쿼리:\\n {sample_queries}\\n\\n \n",
    "                                #사용 가능한 테이블:\\n {table_details}\"\"\")\n",
    "    sys_prompt, usr_prompt = create_prompt(sys_prompt_template, usr_prompt_template, question=question, sample_queries=sample_queries, table_details=table_details)\n",
    "    # print(\"usr_prompt: \", json.dumps(usr_prompt, indent=2, ensure_ascii=False))\n",
    "    # readiness = converse_with_bedrock(sys_prompt, usr_prompt)\n",
    "    readiness = converse_with_bedrock_langfuse(sys_prompt, usr_prompt, model_id=llm_model, function_name=\"check_readiness\")    \n",
    "    \n",
    "    return GraphState(readiness=readiness)\n"
   ]
  },
  {
   "cell_type": "code",
   "execution_count": 362,
   "metadata": {},
   "outputs": [],
   "source": [
    "# result_state, test_state = test_node(node_tester=node_tester, \n",
    "#                             node_function=check_readiness, \n",
    "#                             test_state=test_state,\n",
    "#                             result_state=result_state )\n"
   ]
  },
  {
   "cell_type": "markdown",
   "metadata": {},
   "source": [
    "### get_relevant_tables 함수 정의"
   ]
  },
  {
   "cell_type": "code",
   "execution_count": 363,
   "metadata": {},
   "outputs": [],
   "source": [
    "def get_relevant_tables(state: GraphState) -> GraphState:\n",
    "    question = state[\"question\"]\n",
    "    tables = table_retriever.invoke(question, ensemble=[0.40, 0.60])\n",
    "    page_contents = [doc.page_content for doc in tables if doc is not None]\n",
    "    table_inputs = [json.loads(content)['table_summary'] for content in page_contents]\n",
    "\n",
    "    sys_prompt_template = dedent(\"\"\"당신은 사용자 요청에 맞는 SQL 쿼리를 작성하는 유능한 데이터베이스 엔지니어입니다. \n",
    "                                당신의 임무는 SQL 쿼리 작성에 필요한 테이블을 선택하는 것입니다.\"\"\")\n",
    "    usr_prompt_template = dedent(\"\"\"사용자 요청에 맞는 SQL 쿼리를 생성하기 위해 필요한 테이블을 선택하여, \n",
    "                                이를 중요도 순서로 정렬한 후 인덱스 번호(0부터 시작)로 응답하세요. 사용자 요청에 관련된 테이블이 없으면 빈 목록(\"\")으로 응답하세요.\\n\\n \n",
    "                                #질문: {question}\\n\\n \n",
    "                                #테이블 정보:\\n {table_inputs}\\n\\n \n",
    "                                #형식: {csv_list_response_format}\"\"\")\n",
    "    sys_prompt, usr_prompt = create_prompt(sys_prompt_template, usr_prompt_template, question=question, table_inputs=table_inputs, csv_list_response_format=csv_list_response_format)\n",
    "    # table_ids = converse_with_bedrock(sys_prompt, usr_prompt)\n",
    "    table_ids = converse_with_bedrock_langfuse(sys_prompt, usr_prompt, model_id=llm_model,function_name=\"get_relevant_tables\")        \n",
    "    try:\n",
    "        if table_ids == '\"\"' or table_ids.strip() == \"\":\n",
    "            return GraphState(tables=[], table_names=[])\n",
    "        else:\n",
    "            table_ids_list = [int(id.strip()) for id in table_ids.split(',') if id.strip().isdigit()]\n",
    "            tables = [json.loads(page_contents[id]) for id in table_ids_list] if table_ids_list else []\n",
    "            table_names = [table['table_name'] for table in tables]\n",
    "            return GraphState(tables=tables, table_names=table_names)\n",
    "    except:\n",
    "        return GraphState(tables=[], table_names=[])\n"
   ]
  },
  {
   "cell_type": "code",
   "execution_count": 364,
   "metadata": {},
   "outputs": [
    {
     "name": "stdout",
     "output_type": "stream",
     "text": [
      "## test_state: \n",
      "{\n",
      "  \"question\": \"2022년 매출 상위 10개 국가는?\",\n",
      "  \"intent\": \"database\",\n",
      "  \"sample_queries\": [\n",
      "    {\n",
      "      \"input\": \"고객별 총 구매 금액을 내림차순으로 정렬하여 상위 5명의 고객 ID와 총 구매 금액 조회. 고객 관계 관리 및 마케팅 전략 수립을 위해 최대 지출 고객 파악이 필요할 수 있음.\",\n",
      "      \"query\": \"SELECT CustomerId, SUM(Total) AS TotalPurchase FROM Invoice GROUP BY CustomerId ORDER BY TotalPurchase DESC LIMIT 5\"\n",
      "    }\n",
      "  ],\n",
      "  \"readiness\": \"Not Ready\",\n",
      "  \"tables\": [\n",
      "    {\n",
      "      \"table_name\": \"Invoice\",\n",
      "      \"table_summary\": \"이 테이블은 고객과 관련된 거래 내역을 기록하고 있습니다. 각 거래에 대해 인보이스 ID, 고객 ID, 인보이스 날짜, 청구 주소, 청구 도시, 청구 주/도, 청구 국가, 청구 우편번호 및 총 금액 등의 정보를 포함하고 있습니다.\\n\\n이 테이블을 활용하여 다음과 같은 분석이 가능합니다:\\n\\n- 전체 거래 건수 및 총 매출 규모 파악\\n- 고객별 총 구매 금액 분석 및 상위 고객 식별 \\n- 고가 거래 내역 추출 및 분석\\n- 대량 주문 내역 추출 및 분석\\n- 시간별, 지역별 매출 동향 분석\\n- 고객 세그멘테이션 및 타겟 마케팅 전략 수립\\n- 재고 관리 및 운영 계획 수립\\n- 영업 실적 평가 및 성과 분석\\n\\n이 테이블의 데이터를 활용하면 회사의 매출 현황, 고객 행동 패턴, 운영 효율성 등을 종합적으로 파악할 수 있어 비즈니스 의사결정에 핵심 인사이트를 제공할 수 있습니다.\"\n",
      "    }\n",
      "  ],\n",
      "  \"table_names\": [\n",
      "    \"Invoice\"\n",
      "  ],\n",
      "  \"table_details\": [\n",
      "    {\n",
      "      \"table\": \"Invoice\",\n",
      "      \"cols\": {\n",
      "        \"InvoiceId\": \"기본 키, 인보이스의 고유 식별자입니다.\",\n",
      "        \"CustomerId\": \"이 인보이스와 관련된 고객을 참조하는 외래 키입니다.\",\n",
      "        \"InvoiceDate\": \"인보이스가 발행된 날짜입니다.\",\n",
      "        \"BillingAddress\": \"인보이스의 청구 주소입니다.\",\n",
      "        \"BillingCity\": \"인보이스의 청구 도시입니다.\",\n",
      "        \"BillingState\": \"인보이스의 청구 주/도입니다.\",\n",
      "        \"BillingCountry\": \"인보이스의 청구 국가입니다.\",\n",
      "        \"BillingPostalCode\": \"인보이스의 청구 우편번호입니다.\",\n",
      "        \"Total\": \"인보이스의 총 금액입니다.\"\n",
      "      },\n",
      "      \"create_table_sql\": \"CREATE TABLE \\\"Invoice\\\" (\\n\\t\\\"InvoiceId\\\" INTEGER NOT NULL, \\n\\t\\\"CustomerId\\\" INTEGER NOT NULL, \\n\\t\\\"InvoiceDate\\\" DATETIME NOT NULL, \\n\\t\\\"BillingAddress\\\" NVARCHAR(70), \\n\\t\\\"BillingCity\\\" NVARCHAR(40), \\n\\t\\\"BillingState\\\" NVARCHAR(40), \\n\\t\\\"BillingCountry\\\" NVARCHAR(40), \\n\\t\\\"BillingPostalCode\\\" NVARCHAR(10), \\n\\t\\\"Total\\\" NUMERIC(10, 2) NOT NULL, \\n\\tPRIMARY KEY (\\\"InvoiceId\\\"), \\n\\tFOREIGN KEY(\\\"CustomerId\\\") REFERENCES \\\"Customer\\\" (\\\"CustomerId\\\")\\n)\",\n",
      "      \"sample_data\": \"3 rows from Invoice table:\\nInvoiceId\\tCustomerId\\tInvoiceDate\\tBillingAddress\\tBillingCity\\tBillingState\\tBillingCountry\\tBillingPostalCode\\tTotal\\n1\\t2\\t2021-01-01 00:00:00\\tTheodor-Heuss-Straße 34\\tStuttgart\\tNone\\tGermany\\t70174\\t1.98\\n2\\t4\\t2021-01-02 00:00:00\\tUllevålsveien 14\\tOslo\\tNone\\tNorway\\t0171\\t3.96\\n3\\t8\\t2021-01-03 00:00:00\\tGrétrystraat 63\\tBrussels\\tNone\\tBelgium\\t1000\\t5.94\"\n",
      "    }\n",
      "  ]\n",
      "}\n",
      "## Test Result:\n",
      "{\n",
      "  \"tables\": [\n",
      "    {\n",
      "      \"table_name\": \"Invoice\",\n",
      "      \"table_summary\": \"이 테이블은 고객과 관련된 거래 내역을 기록하고 있습니다. 각 거래에 대해 인보이스 ID, 고객 ID, 인보이스 날짜, 청구 주소, 청구 도시, 청구 주/도, 청구 국가, 청구 우편번호 및 총 금액 등의 정보를 포함하고 있습니다.\\n\\n이 테이블을 활용하여 다음과 같은 분석이 가능합니다:\\n\\n- 전체 거래 건수 및 총 매출 규모 파악\\n- 고객별 총 구매 금액 분석 및 상위 고객 식별 \\n- 고가 거래 내역 추출 및 분석\\n- 대량 주문 내역 추출 및 분석\\n- 시간별, 지역별 매출 동향 분석\\n- 고객 세그멘테이션 및 타겟 마케팅 전략 수립\\n- 재고 관리 및 운영 계획 수립\\n- 영업 실적 평가 및 성과 분석\\n\\n이 테이블의 데이터를 활용하면 회사의 매출 현황, 고객 행동 패턴, 운영 효율성 등을 종합적으로 파악할 수 있어 비즈니스 의사결정에 핵심 인사이트를 제공할 수 있습니다.\"\n",
      "    }\n",
      "  ],\n",
      "  \"table_names\": [\n",
      "    \"Invoice\"\n",
      "  ]\n",
      "}\n"
     ]
    }
   ],
   "source": [
    "result_state, test_state = test_node(node_tester=node_tester, \n",
    "                            node_function=get_relevant_tables, \n",
    "                            test_state=test_state,\n",
    "                            result_state=result_state )\n"
   ]
  },
  {
   "cell_type": "markdown",
   "metadata": {},
   "source": [
    "### describe_schema 함수 정의"
   ]
  },
  {
   "cell_type": "code",
   "execution_count": 365,
   "metadata": {},
   "outputs": [],
   "source": [
    "def describe_schema(state: GraphState) -> GraphState:\n",
    "    table_names = state[\"table_names\"]\n",
    "    table_details = []\n",
    "    data = db.get_table_info_no_throw(table_names)\n",
    "    \n",
    "    if not isinstance(data, list):\n",
    "        data = [data]\n",
    "    \n",
    "    for item in data:\n",
    "        if isinstance(item, str):\n",
    "            items = item.split('CREATE TABLE')\n",
    "        else:\n",
    "            items = [item]\n",
    "        \n",
    "        for i in range(1, len(items)):\n",
    "            sub_item = 'CREATE TABLE' + items[i]\n",
    "            for table_name in table_names:\n",
    "                if f'CREATE TABLE \"{table_name}\"' in sub_item:\n",
    "                    \n",
    "                    parts = sub_item.split('/*', 1)\n",
    "                    sql_statement = parts[0].strip()\n",
    "                    \n",
    "                    sample_data = \"No sample data available\"\n",
    "                    if len(parts) > 1:\n",
    "                        sample_part = parts[1].split('*/', 1)[0] \n",
    "                        sample_lines = sample_part.strip().split('\\n')\n",
    "                        if len(sample_lines) > 1:\n",
    "                            sample_data = '\\n'.join(sample_lines)\n",
    "                    \n",
    "                    table_desc = get_column_description(table_name) if table_search_client else {}        \n",
    "                    table_detail = {\n",
    "                        \"table\": table_name,\n",
    "                        \"cols\": table_desc if table_desc else {},\n",
    "                        \"create_table_sql\": sql_statement,\n",
    "                        \"sample_data\": sample_data\n",
    "                    }\n",
    "                    \n",
    "                    if not table_detail[\"cols\"]:\n",
    "                        print(f\"No columns found for table {table_name}\")\n",
    "                    table_details.append(table_detail)\n",
    "                    \n",
    "    return GraphState(table_details=table_details)\n"
   ]
  },
  {
   "cell_type": "code",
   "execution_count": 366,
   "metadata": {},
   "outputs": [],
   "source": [
    "# result_state, test_state = test_node(node_tester=node_tester, \n",
    "#                             node_function=describe_schema, \n",
    "#                             test_state=test_state,\n",
    "#                             result_state=result_state )\n"
   ]
  },
  {
   "cell_type": "code",
   "execution_count": 367,
   "metadata": {},
   "outputs": [],
   "source": [
    "\n",
    "\n",
    "def next_step_by_intent(state: GraphState) -> GraphState:\n",
    "    return state[\"intent\"]\n",
    "\n",
    "def next_step_by_readiness(state: GraphState) -> GraphState:\n",
    "    return state[\"readiness\"]\n",
    "\n"
   ]
  },
  {
   "cell_type": "markdown",
   "metadata": {},
   "source": [
    "## 서브그래프2 - 쿼리 생성/검증/실행/재시도"
   ]
  },
  {
   "cell_type": "markdown",
   "metadata": {},
   "source": [
    "### generate_query 함수 정의"
   ]
  },
  {
   "cell_type": "code",
   "execution_count": 368,
   "metadata": {},
   "outputs": [],
   "source": [
    "### Query Generation & Execution - SubGraph2\n",
    "\n",
    "initial_query_state = {\n",
    "    \"status\": \"success\",\n",
    "    \"query\": \"\",\n",
    "    \"result\": \"\",\n",
    "    \"error\": {\n",
    "        \"code\": \"\",\n",
    "        \"message\": \"\",\n",
    "        \"failed_step\": \"\",\n",
    "        \"hint\": \"\"\n",
    "    }\n",
    "}\n",
    "\n",
    "\n",
    "dialect = DIALECT\n",
    "def generate_query(state: GraphState) -> GraphState:\n",
    "    new_query_state = copy.deepcopy(initial_query_state)\n",
    "    question = state[\"question\"]\n",
    "    sample_queries = state[\"sample_queries\"]\n",
    "    table_details = state[\"table_details\"]\n",
    "\n",
    "    query_state = state.get(\"query_state\", {}) or {}\n",
    "    error_info = query_state.get(\"error\", {}) or {}\n",
    "    hint = error_info.get(\"hint\", \"None\")\n",
    "    \n",
    "    sys_prompt_template = dedent(\"\"\"당신은 사용자 질문에 대한 {dialect} SQL 쿼리를 작성하는 유능한 데이터베이스 엔지니어입니다. \n",
    "                                당신의 임무는 주어진 DB 정보를 바탕으로, 사용자 질문에 부합하는 정확한 SQL 쿼리를 작성하는 것입니다.\"\"\")\n",
    "    usr_prompt_template = dedent(\"\"\"다음 주어진 샘플 쿼리 및 스키마 정보, 과거 실패 이력을 바탕으로 DB dialect에 맞는 쿼리를 작성합니다. \n",
    "                                서두는 생략하고 생성된 SQL 쿼리 구문만 제공하세요. \\n\\n \n",
    "                                #질문: {question}\\n\\n \n",
    "                                #샘플 쿼리:\\n {sample_queries}\\n\\n \n",
    "                                #사용 가능한 테이블:\\n {table_details}\\n\\n, \n",
    "                                #추가 정보 (과거 실패 이력, 추가 획득한 정보 등):\\n {hint}\"\"\")\n",
    "    sys_prompt, usr_prompt = create_prompt(sys_prompt_template, usr_prompt_template, question=question, dialect=dialect, sample_queries=sample_queries, table_details=table_details, hint=hint)\n",
    "    # generated_query = converse_with_bedrock(sys_prompt, usr_prompt)\n",
    "    generated_query = converse_with_bedrock_langfuse(sys_prompt, usr_prompt, model_id=llm_model,function_name=\"generate_query\")        \n",
    "\n",
    "    new_query_state[\"query\"] = generated_query\n",
    "\n",
    "    return GraphState(query_state=new_query_state)\n"
   ]
  },
  {
   "cell_type": "code",
   "execution_count": 369,
   "metadata": {},
   "outputs": [],
   "source": [
    "# result_state2, test_state2 = test_node(node_tester=node_tester, \n",
    "#                             node_function=generate_query, \n",
    "#                             test_state=test_state,\n",
    "#                             result_state=result_state )\n"
   ]
  },
  {
   "cell_type": "markdown",
   "metadata": {},
   "source": [
    "### validate_query 함수 정의"
   ]
  },
  {
   "cell_type": "code",
   "execution_count": 370,
   "metadata": {},
   "outputs": [],
   "source": [
    "def validate_query(state: GraphState) -> GraphState:\n",
    "    dialect = DIALECT\n",
    "    question = state[\"question\"]\n",
    "    query_state = copy.deepcopy(state[\"query_state\"])\n",
    "    query = query_state[\"query\"]\n",
    "    \n",
    "    explain_statements = {\n",
    "        'mysql': \"EXPLAIN {query}\",\n",
    "        'mariadb': \"EXPLAIN {query}\",\n",
    "        'sqlite': \"EXPLAIN QUERY PLAN {query}\",\n",
    "        'oracle': \"EXPLAIN PLAN FOR\\n{query}\\n\\nSELECT * FROM TABLE(DBMS_XPLAN.DISPLAY);\",\n",
    "        'postgresql': \"EXPLAIN ANALYZE {query}\",\n",
    "        'postgres': \"EXPLAIN ANALYZE {query}\",\n",
    "        'presto': \"EXPLAIN ANALYZE {query}\",\n",
    "        'sqlserver': \"SET STATISTICS PROFILE ON; {query}; SET STATISTICS PROFILE OFF;\"\n",
    "    }\n",
    "    \n",
    "    if dialect.lower() not in explain_statements:\n",
    "        query_plan = \" \"\n",
    "    else:\n",
    "        try:\n",
    "            explain_query = explain_statements[dialect.lower()].format(query=query)\n",
    "            query_plan = db.run(explain_query)\n",
    "        except Exception as e:\n",
    "            query_state[\"status\"] = \"error\"\n",
    "            query_state[\"error\"][\"code\"] = \"E01\"\n",
    "            query_state[\"error\"][\"message\"] = f\"An error occurred while executing the EXPLAIN query: {str(e)}\"\n",
    "            query_state[\"error\"][\"failed_step\"] = \"validation\"\n",
    "            query_state[\"query\"] = query\n",
    "            return GraphState(query_state=query_state)\n",
    "\n",
    "    sys_prompt_template = dedent(\"\"\"당신은 사용자 질문에 대한 기존 {dialect} SQL 쿼리를 검토하고, \n",
    "    필요 시 최적화하는 데이터베이스 전문가입니다. \n",
    "    당신의 임무는 주어진 SQL 쿼리 및 추가 정보를 바탕으로 쿼리의 정합성, 최적화 가능성을 검토하고, \n",
    "    이에 입각한 최종 쿼리를 제공하는 것입니다. \n",
    "    최종 출력은 JSON 형식이나 코드 블록 없이 최적화된 SQL 쿼리 문자열만 반환하세요.\n",
    "    제공하는 SQL 쿼리에는 테이블 별칭(alias)을 적절히 사용해야 합니다.\"\"\")\n",
    "\n",
    "    usr_prompt_template = dedent(\"\"\"사용자의 질문에 맞춰 쿼리에 alias를 추가해주세요. \n",
    "                                기존 SQL 쿼리에서 사용되지 않았던 테이블, 컬럼을 추가하는 것은 허용되지 않습니다. \n",
    "                                서두는 생략하고 생성된 SQL 쿼리 구문만 제공하세요. \\n\\n \n",
    "                                #질문: {question}\\n\\n \n",
    "                                #기존 쿼리:\\n {query}\\n\\n \n",
    "                                #쿼리 플랜:\\n {query_plan}\"\"\")\n",
    "    sys_prompt, usr_prompt = create_prompt(sys_prompt_template, usr_prompt_template, question=question, dialect=dialect, query=query, query_plan=query_plan)\n",
    "    # validated_query = converse_with_bedrock(sys_prompt, usr_prompt)\n",
    "    validated_query = converse_with_bedrock_langfuse(sys_prompt, usr_prompt, model_id=llm_model,function_name=\"validate_query\")        \n",
    "    query_state[\"query\"] = validated_query\n",
    "\n",
    "    return GraphState(query_state=query_state)"
   ]
  },
  {
   "cell_type": "code",
   "execution_count": 371,
   "metadata": {},
   "outputs": [],
   "source": [
    "# result_state2, test_state2 = test_node(node_tester=node_tester, \n",
    "#                             node_function=validate_query, \n",
    "#                             test_state=test_state2,\n",
    "#                             result_state=result_state2 )"
   ]
  },
  {
   "cell_type": "markdown",
   "metadata": {},
   "source": [
    "### execute_query 함수 정의"
   ]
  },
  {
   "cell_type": "code",
   "execution_count": 372,
   "metadata": {},
   "outputs": [],
   "source": [
    "def execute_query(state: GraphState) -> GraphState:\n",
    "    query_state = copy.deepcopy(state[\"query_state\"])\n",
    "    query = query_state[\"query\"]\n",
    "    try:\n",
    "        query_state[\"result\"] = db.run(query)\n",
    "    except Exception as e:\n",
    "        query_state[\"status\"] = \"error\"\n",
    "        query_state[\"error\"][\"code\"] = \"E02\"\n",
    "        query_state[\"error\"][\"message\"] = f\"An error occurred while executing the validated query: {str(e)}\"\n",
    "        query_state[\"error\"][\"failed_step\"] = \"execution\"\n",
    "        return GraphState(query_state=query_state)\n",
    "    return GraphState(query_state=query_state)"
   ]
  },
  {
   "cell_type": "code",
   "execution_count": 373,
   "metadata": {},
   "outputs": [],
   "source": [
    "# result_state2, test_state2 = test_node(node_tester=node_tester, \n",
    "#                             node_function=execute_query, \n",
    "#                             test_state=test_state2,\n",
    "#                             result_state=result_state2 )"
   ]
  },
  {
   "cell_type": "markdown",
   "metadata": {},
   "source": [
    "### handle_failure 함수 정의"
   ]
  },
  {
   "cell_type": "code",
   "execution_count": 374,
   "metadata": {},
   "outputs": [],
   "source": [
    "def handle_failure(state: GraphState) -> GraphState:\n",
    "    query_state = copy.deepcopy(state[\"query_state\"])\n",
    "    query = query_state['query']\n",
    "    message = query_state['error']['message']\n",
    "    sys_prompt_template = dedent(\"\"\"당신은 SQL 쿼리의 실패를 처리하는 유능한 데이터베이스 엔지니어입니다. \n",
    "                                당신의 임무는 주어진 SQL 쿼리의 실패 원인을 파악하여, 문제 해결을 위한 다음 작업을 결정하는 것입니다.\"\"\")\n",
    "    usr_prompt_template = dedent(\"\"\"주어진 SQL 쿼리의 실패 메시지를 바탕으로 다음 중 하나의 원인(`failure_type`)과 해결을 위한 실마리(`hint`)를 함께 제공합니다.\\n \n",
    "                                다음은 failure_type의 선택 예시입니다.\\n\n",
    "                                부정확한 쿼리 구문 작성: `syntax_check`\\n\n",
    "                                스키마 불일치: `schema_check`\\n\n",
    "                                DB 외부요인(권한, 연결 문제 등): `stop`\\n\n",
    "                                DB의 일시적 오동작(쿼리 재실행 필요): `retry`\\n\\n\n",
    "                                #실패 쿼리: {query}\\n\\n\n",
    "                                #실패 메시지: {message}\\n\\n#형식: {json_response_format}\"\"\")\n",
    "    sys_prompt, usr_prompt = create_prompt(sys_prompt_template, usr_prompt_template, query=query, message=message, json_response_format=json_response_format)\n",
    "    # result = converse_with_bedrock(sys_prompt, usr_prompt)\n",
    "    result = converse_with_bedrock_langfuse(sys_prompt, usr_prompt, model_id=llm_model,function_name=\"handle_failure\") \n",
    "    json_result = json.loads(result)\n",
    "\n",
    "    query_state[\"hint\"] = json_result[\"hint\"]\n",
    "    return GraphState(next_action=json_result[\"failure_type\"], query_state=query_state)\n"
   ]
  },
  {
   "cell_type": "code",
   "execution_count": 375,
   "metadata": {},
   "outputs": [],
   "source": [
    "# result_state2, test_state2 = test_node(node_tester=node_tester, \n",
    "#                             node_function=handle_failure, \n",
    "#                             test_state=test_state2,\n",
    "#                             result_state=result_state2 )"
   ]
  },
  {
   "cell_type": "markdown",
   "metadata": {},
   "source": [
    "### get_relevant_columns 함수 정의"
   ]
  },
  {
   "cell_type": "code",
   "execution_count": 376,
   "metadata": {
    "tags": []
   },
   "outputs": [],
   "source": [
    "\n",
    "def get_relevant_columns(state: GraphState) -> GraphState:\n",
    "    query_state = copy.deepcopy(state[\"query_state\"])\n",
    "    question = state[\"question\"]\n",
    "    query = query_state[\"query\"]\n",
    "    message = query_state['error']['message']\n",
    "    sys_prompt_template = dedent(\"\"\"당신은 SQL 쿼리의 실패를 처리하는 유능한 데이터베이스 엔지니어입니다. \n",
    "                                당신의 임무는 앞서 발생한 쿼리 실패를 해결하기 위해 스키마를 재탐색 하는 것입니다.\"\"\")\n",
    "    usr_prompt_template = dedent(\"\"\"사용자 질문과 주어진 실패 메시지를 바탕으로 쿼리 재탐색에 적절한 키워드를 제공하세요. \n",
    "                                서두는 생략하고 키워드만 형식에 맞춰 응답하세요. \\n\\n \n",
    "                                #사용자 질문: {question}\\n\\n\n",
    "                                #이전 실패 쿼리: {query}\\n\\n\n",
    "                                메시지: {message}\\n\\n\n",
    "                                #형식: {csv_list_response_format}\"\"\")\n",
    "    sys_prompt, usr_prompt = create_prompt(sys_prompt_template, usr_prompt_template, question=question, query=query, message=message, csv_list_response_format=csv_list_response_format)\n",
    "    # keywords = converse_with_bedrock(sys_prompt, usr_prompt)\n",
    "    keywords = converse_with_bedrock_langfuse(sys_prompt, usr_prompt, model_id=llm_model,function_name=\"get_relevant_columns\")            \n",
    "    return keywords\n",
    "\n",
    "def next_step_by_query_state(state:GraphState) -> GraphState:\n",
    "    return state[\"query_state\"][\"status\"]\n",
    "\n",
    "def next_step_by_next_action(state:GraphState) -> GraphState:\n",
    "    return state[\"next_action\"]\n"
   ]
  },
  {
   "cell_type": "code",
   "execution_count": 377,
   "metadata": {},
   "outputs": [],
   "source": [
    "# result_state2, test_state2 = test_node(node_tester=node_tester, \n",
    "#                             node_function=get_relevant_columns, \n",
    "#                             test_state=test_state2,\n",
    "#                             result_state=result_state2 )"
   ]
  },
  {
   "cell_type": "markdown",
   "metadata": {},
   "source": [
    "### get_general_answer 함수 정의"
   ]
  },
  {
   "cell_type": "code",
   "execution_count": 378,
   "metadata": {},
   "outputs": [],
   "source": [
    "def get_general_answer(state: GraphState) -> GraphState:\n",
    "    question = state[\"question\"]\n",
    "    sys_prompt_template = dedent(\"\"\"당신은 사용자의 일반적인 질문에 답변하는 유능한 비서입니다. \n",
    "                                    잘 모르는 주제에 대한 질문에 대해서는 모른다고 답변하세요.\"\"\")\n",
    "    usr_prompt_template = \"#질문: {question}\"\n",
    "    sys_prompt, usr_prompt = create_prompt(sys_prompt_template, usr_prompt_template, question=question)\n",
    "    # answer = converse_with_bedrock(sys_prompt, usr_prompt)\n",
    "    answer = converse_with_bedrock_langfuse(sys_prompt, usr_prompt, model_id=llm_model,function_name=\"get_general_answer\")\n",
    "\n",
    "    return GraphState(answer=answer)\n"
   ]
  },
  {
   "cell_type": "code",
   "execution_count": 379,
   "metadata": {},
   "outputs": [],
   "source": [
    "# result_state2, test_state2 = test_node(node_tester=node_tester, \n",
    "#                             node_function=get_general_answer, \n",
    "#                             test_state=test_state2,\n",
    "#                             result_state=result_state2 )"
   ]
  },
  {
   "cell_type": "markdown",
   "metadata": {},
   "source": [
    "### get_database_answer 함수 정의"
   ]
  },
  {
   "cell_type": "code",
   "execution_count": 380,
   "metadata": {
    "tags": []
   },
   "outputs": [],
   "source": [
    "\n",
    "def get_database_answer(state: GraphState) -> GraphState:\n",
    "    question = state[\"question\"]\n",
    "    query_state = state[\"query_state\"]\n",
    "    query = query_state[\"query\"]\n",
    "    data = query_state[\"result\"]\n",
    "    failed_step = query_state[\"error\"][\"failed_step\"]\n",
    "    message = query_state[\"error\"][\"message\"]\n",
    "    sys_prompt_template = dedent(\"\"\"당신은 데이터베이스의 정보를 바탕으로 사용자의 질문에 답변하는 \n",
    "                                    유능한 비서입니다. 당신의 임무는 주어진 참고정보를 참고하여, \n",
    "                                    사용자의 질문에 성실히 답변하는 것입니다.\"\"\")\n",
    "    if query_state[\"status\"] == \"success\":\n",
    "        usr_prompt_template = dedent(\"\"\"답변에는 사용된 쿼리, 데이터프레임(Markdown Table), \n",
    "                                    질문에 대한 간단한 답변을 포함해야 합니다. \\n\\n\n",
    "                                    #질문: {question}\\n\\n\n",
    "                                    #사용된 쿼리: {query}\\n\\n\n",
    "                                    #데이터: {data}\\n\\n\"\"\")\n",
    "        sys_prompt, usr_prompt = create_prompt(sys_prompt_template, usr_prompt_template, question=question, query=query, data=data)\n",
    "    else:\n",
    "        usr_prompt_template = dedent(\"\"\"다음에는 사용자 질문에 대한 쿼리 수행에 실패한 기록이 주어집니다. \n",
    "                                        이를 바탕으로 요청 처리에 실패한 이유를 설명하세요.\\n\\n\n",
    "                                        #질문: {question}\\n\\n\n",
    "                                        #사용된 쿼리: {query}\\n\\n\n",
    "                                        #실패 단계: {failed_step}\\n\\n\n",
    "                                        #에러메시지: {message}\\n\\n\"\"\")\n",
    "        sys_prompt, usr_prompt = create_prompt(sys_prompt_template, usr_prompt_template, question=question, query=query, failed_step=failed_step, message=message)\n",
    "    \n",
    "    # answer = converse_with_bedrock(sys_prompt, usr_prompt)\n",
    "    answer = converse_with_bedrock_langfuse(sys_prompt, usr_prompt, model_id=llm_model,function_name=\"get_database_answer\")\n",
    "    return GraphState(answer=answer)\n"
   ]
  },
  {
   "cell_type": "code",
   "execution_count": 381,
   "metadata": {},
   "outputs": [],
   "source": [
    "# result_state2, test_state2 = test_node(node_tester=node_tester, \n",
    "#                             node_function=get_database_answer, \n",
    "#                             test_state=test_state2,\n",
    "#                             result_state=result_state2 )"
   ]
  },
  {
   "cell_type": "markdown",
   "metadata": {},
   "source": [
    "### LangGraph 워크플로 그래프 생성 "
   ]
  },
  {
   "cell_type": "code",
   "execution_count": 382,
   "metadata": {
    "tags": []
   },
   "outputs": [],
   "source": [
    "from langgraph.graph import END, StateGraph\n",
    "from langgraph.checkpoint.memory import MemorySaver\n",
    "\n",
    "workflow = StateGraph(GraphState)\n",
    "\n",
    "# Global Nodes\n",
    "workflow.add_node(\"analyze_intent\", analyze_intent)\n",
    "workflow.add_node(\"get_general_answer\", get_general_answer)\n",
    "workflow.add_node(\"get_database_answer\", get_database_answer)\n",
    "workflow.set_entry_point(\"analyze_intent\")\n",
    "\n",
    "# SubGraph1 Nodes - Schema Linking\n",
    "workflow.add_node(\"get_sample_queries\", get_sample_queries)\n",
    "workflow.add_node(\"check_readiness\", check_readiness)\n",
    "workflow.add_node(\"get_relevant_tables\", get_relevant_tables)\n",
    "workflow.add_node(\"describe_schema\", describe_schema)\n",
    "\n",
    "# SubGraph2 Nodes - Query Generation & Execution\n",
    "workflow.add_node(\"generate_query\", generate_query)\n",
    "workflow.add_node(\"validate_query\", validate_query)\n",
    "workflow.add_node(\"execute_query\", execute_query)\n",
    "workflow.add_node(\"handle_failure\", handle_failure)\n",
    "workflow.add_node(\"get_relevant_columns\", get_relevant_columns)\n",
    "\n",
    "# Edge from Entry to SubGraph1\n",
    "workflow.add_conditional_edges(\n",
    "    \"analyze_intent\",\n",
    "    next_step_by_intent,\n",
    "    {\n",
    "        \"database\": \"get_sample_queries\",\n",
    "        \"general\": \"get_general_answer\",\n",
    "    }\n",
    ")\n",
    "\n",
    "# Edges in SubGraph1\n",
    "workflow.add_edge(\"get_sample_queries\", \"check_readiness\")\n",
    "workflow.add_conditional_edges(\n",
    "    \"check_readiness\"    ,\n",
    "    next_step_by_readiness,\n",
    "    {\n",
    "        \"Ready\": \"generate_query\",\n",
    "        \"Not Ready\": \"get_relevant_tables\"\n",
    "    }\n",
    ")\n",
    "workflow.add_edge(\"get_relevant_tables\", \"describe_schema\")\n",
    "workflow.add_edge(\"describe_schema\", \"check_readiness\")\n",
    "\n",
    "# Edges in SubGraph2\n",
    "workflow.add_edge(\"generate_query\", \"validate_query\")\n",
    "workflow.add_conditional_edges(\n",
    "    \"validate_query\"    ,\n",
    "    next_step_by_query_state,\n",
    "    {\n",
    "        \"success\": \"execute_query\",\n",
    "        \"error\": \"handle_failure\"\n",
    "    }\n",
    ")\n",
    "workflow.add_conditional_edges(\n",
    "    \"execute_query\"    ,\n",
    "    next_step_by_query_state,\n",
    "    {\n",
    "        \"success\": \"get_database_answer\",\n",
    "        \"error\": \"handle_failure\"\n",
    "    }\n",
    ")\n",
    "workflow.add_conditional_edges(\n",
    "    \"handle_failure\"    ,\n",
    "    next_step_by_next_action,\n",
    "    {\n",
    "        \"schema_check\": \"get_relevant_columns\",\n",
    "        \"syntax_check\": \"generate_query\",\n",
    "        \"retry\": \"validate_query\",\n",
    "        \"stop\": \"get_database_answer\"\n",
    "    }\n",
    ")\n",
    "workflow.add_edge(\"get_relevant_columns\", \"generate_query\")\n",
    "\n",
    "# Edges to END\n",
    "workflow.add_edge(\"get_general_answer\", END)\n",
    "workflow.add_edge(\"get_database_answer\", END)\n",
    "\n",
    "memory = MemorySaver()\n",
    "app = workflow.compile(checkpointer=memory)"
   ]
  },
  {
   "cell_type": "markdown",
   "metadata": {},
   "source": [
    "### LangGraph 워크플로 그래프 시각화"
   ]
  },
  {
   "cell_type": "code",
   "execution_count": 383,
   "metadata": {
    "tags": []
   },
   "outputs": [],
   "source": [
    "# from IPython.display import Image, display\n",
    "\n",
    "# try:\n",
    "#     display(\n",
    "#         Image(app.get_graph(xray=True).draw_mermaid_png())\n",
    "#     )  # 실행 가능한 객체의 그래프를 mermaid 형식의 PNG로 그려서 표시합니다. \n",
    "#        # xray=True는 추가적인 세부 정보를 포함합니다.\n",
    "# except:\n",
    "#     # 이 부분은 추가적인 의존성이 필요하며 선택적으로 실행됩니다.\n",
    "#     print(\"Exception occurred\")\n",
    "#     pass"
   ]
  },
  {
   "cell_type": "markdown",
   "metadata": {},
   "source": [
    "### LangGraph 워크플로 End-to-End 테스트 (draft)"
   ]
  },
  {
   "cell_type": "code",
   "execution_count": 384,
   "metadata": {
    "tags": []
   },
   "outputs": [
    {
     "name": "stdout",
     "output_type": "stream",
     "text": [
      "\n",
      "🔹 [NODE] analyze_intent\n",
      "================================================================================\n",
      "📌 intent:\n",
      "'database'\n",
      "================================================================================\n",
      "\n",
      "🔹 [NODE] get_sample_queries\n",
      "================================================================================\n",
      "📌 sample_queries:\n",
      "[{'input': '록 장르에 속하는 모든 트랙 정보 조회. 장르 이름을 기준으로 해당 장르 ID를 찾아 이를 활용해 Track 테이블에서 일치하는 GenreId를 가진 모든 레코드를 반환합니다. 사용자가 특정 장르의 음악을 탐색하거나 재생 목록을 만들고자 할 때 유용한 쿼리입니다. 장르별 트랙 분류 및 관리를 위한 기본 기능을 제공합니다.',\n",
      "  'query': \"SELECT * FROM Track WHERE GenreId = (SELECT GenreId FROM Genre WHERE Name = 'Rock')\"}]\n",
      "================================================================================\n",
      "\n",
      "🔹 [NODE] check_readiness\n",
      "================================================================================\n",
      "📌 readiness:\n",
      "'Not Ready'\n",
      "================================================================================\n",
      "\n",
      "🔹 [NODE] get_relevant_tables\n",
      "================================================================================\n",
      "📌 table_names:\n",
      "['Track', 'Genre', 'PlaylistTrack', 'Playlist']\n",
      "================================================================================\n",
      "\n",
      "🔹 [NODE] describe_schema\n",
      "================================================================================\n",
      "📌 table_details:\n",
      "[{'cols': {'GenreId': '기본 키, 장르의 고유 식별자입니다.', 'Name': '장르의 이름입니다.'},\n",
      "  'create_table_sql': 'CREATE TABLE \"Genre\" (\\n\\t\"GenreId\" INTEGER NOT NULL, \\n\\t\"Name\" NVARCHAR(120), \\n\\tPRIMARY KEY (\"GenreId\")\\n)',\n",
      "  'sample_data': '3 rows from Genre table:\\nGenreId\\tName\\n1\\tRock\\n2\\tJazz\\n3\\tMetal',\n",
      "  'table': 'Genre'},\n",
      " {'cols': {'Name': '플레이리스트의 이름입니다.', 'PlaylistId': '기본 키, 플레이리스트의 고유 식별자입니다.'},\n",
      "  'create_table_sql': 'CREATE TABLE \"Playlist\" (\\n\\t\"PlaylistId\" INTEGER NOT NULL, \\n\\t\"Name\" NVARCHAR(120), \\n\\tPRIMARY KEY (\"PlaylistId\")\\n)',\n",
      "  'sample_data': '3 rows from Playlist table:\\nPlaylistId\\tName\\n1\\tMusic\\n2\\tMovies\\n3\\tTV Shows',\n",
      "  'table': 'Playlist'},\n",
      " {'cols': {'PlaylistId': '플레이리스트를 식별하는 외래 키입니다.', 'TrackId': '플레이리스트의 트랙을 식별하는 외래 키입니다.'},\n",
      "  'create_table_sql': 'CREATE TABLE \"PlaylistTrack\" (\\n'\n",
      "                      '\\t\"PlaylistId\" INTEGER NOT NULL, \\n'\n",
      "                      '\\t\"TrackId\" INTEGER NOT NULL, \\n'\n",
      "                      '\\tPRIMARY KEY (\"PlaylistId\", \"TrackId\"), \\n'\n",
      "                      '\\tFOREIGN KEY(\"TrackId\") REFERENCES \"Track\" (\"TrackId\"), \\n'\n",
      "                      '\\tFOREIGN KEY(\"PlaylistId\") REFERENCES \"Playlist\" (\"PlaylistId\")\\n'\n",
      "                      ')',\n",
      "  'sample_data': '3 rows from PlaylistTrack table:\\nPlaylistId\\tTrackId\\n1\\t3402\\n1\\t3389\\n1\\t3390',\n",
      "  'table': 'PlaylistTrack'},\n",
      " {'cols': {'AlbumId': '이 트랙이 포함된 앨범을 참조하는 외래 키입니다.',\n",
      "           'Bytes': '바이트 단위의 트랙 파일 크기입니다.',\n",
      "           'Composer': '트랙의 작곡가입니다.',\n",
      "           'GenreId': '이 트랙의 장르를 참조하는 선택적 외래 키입니다.',\n",
      "           'MediaTypeId': '이 트랙의 미디어 타입을 참조하는 외래 키입니다.',\n",
      "           'Milliseconds': '밀리초 단위의 트랙 지속 시간입니다.',\n",
      "           'Name': '트랙의 이름입니다.',\n",
      "           'TrackId': '기본 키, 트랙의 고유 식별자입니다.',\n",
      "           'UnitPrice': '이 트랙의 단가입니다.'},\n",
      "  'create_table_sql': 'CREATE TABLE \"Track\" (\\n'\n",
      "                      '\\t\"TrackId\" INTEGER NOT NULL, \\n'\n",
      "                      '\\t\"Name\" NVARCHAR(200) NOT NULL, \\n'\n",
      "                      '\\t\"AlbumId\" INTEGER, \\n'\n",
      "                      '\\t\"MediaTypeId\" INTEGER NOT NULL, \\n'\n",
      "                      '\\t\"GenreId\" INTEGER, \\n'\n",
      "                      '\\t\"Composer\" NVARCHAR(220), \\n'\n",
      "                      '\\t\"Milliseconds\" INTEGER NOT NULL, \\n'\n",
      "                      '\\t\"Bytes\" INTEGER, \\n'\n",
      "                      '\\t\"UnitPrice\" NUMERIC(10, 2) NOT NULL, \\n'\n",
      "                      '\\tPRIMARY KEY (\"TrackId\"), \\n'\n",
      "                      '\\tFOREIGN KEY(\"MediaTypeId\") REFERENCES \"MediaType\" (\"MediaTypeId\"), \\n'\n",
      "                      '\\tFOREIGN KEY(\"GenreId\") REFERENCES \"Genre\" (\"GenreId\"), \\n'\n",
      "                      '\\tFOREIGN KEY(\"AlbumId\") REFERENCES \"Album\" (\"AlbumId\")\\n'\n",
      "                      ')',\n",
      "  'sample_data': '3 rows from Track table:\\n'\n",
      "                 'TrackId\\tName\\tAlbumId\\tMediaTypeId\\tGenreId\\tComposer\\tMilliseconds\\tBytes\\tUnitPrice\\n'\n",
      "                 '1\\tFor Those About To Rock (We Salute You)\\t1\\t1\\t1\\tAngus Young, Malcolm Young, Brian Johnson\\t343719\\t11170334\\t0.99\\n'\n",
      "                 '2\\tBalls to the Wall\\t2\\t2\\t1\\tU. Dirkschneider, W. Hoffmann, H. Frank, P. Baltes, S. Kaufmann, G. Hoffmann\\t342562\\t5510424\\t0.99\\n'\n",
      "                 '3\\tFast As a Shark\\t3\\t2\\t1\\tF. Baltes, S. Kaufman, U. Dirkscneider & W. Hoffman\\t230619\\t3990994\\t0.99',\n",
      "  'table': 'Track'}]\n",
      "================================================================================\n",
      "\n",
      "🔹 [NODE] check_readiness\n",
      "================================================================================\n",
      "📌 readiness:\n",
      "'Ready'\n",
      "================================================================================\n",
      "\n",
      "🔹 [NODE] generate_query\n",
      "================================================================================\n",
      "📌 query_state:\n",
      "{'error': {'code': '', 'failed_step': '', 'hint': '', 'message': ''},\n",
      " 'query': 'SELECT DISTINCT p.PlaylistId, p.Name\\n'\n",
      "          'FROM Playlist p\\n'\n",
      "          'JOIN PlaylistTrack pt ON p.PlaylistId = pt.PlaylistId\\n'\n",
      "          'JOIN Track t ON pt.TrackId = t.TrackId\\n'\n",
      "          \"WHERE t.GenreId IN (SELECT GenreId FROM Genre WHERE Name IN ('Jazz', 'Blues'))\\n\"\n",
      "          'AND NOT EXISTS (\\n'\n",
      "          '    SELECT 1\\n'\n",
      "          '    FROM PlaylistTrack pt2\\n'\n",
      "          '    JOIN Track t2 ON pt2.TrackId = t2.TrackId\\n'\n",
      "          '    WHERE pt2.PlaylistId = p.PlaylistId\\n'\n",
      "          \"    AND t2.GenreId NOT IN (SELECT GenreId FROM Genre WHERE Name IN ('Jazz', 'Blues'))\\n\"\n",
      "          ')',\n",
      " 'result': '',\n",
      " 'status': 'success'}\n",
      "================================================================================\n",
      "\n",
      "🔹 [NODE] validate_query\n",
      "================================================================================\n",
      "📌 query_state:\n",
      "{'error': {'code': '', 'failed_step': '', 'hint': '', 'message': ''},\n",
      " 'query': 'SELECT DISTINCT p.PlaylistId, p.Name\\n'\n",
      "          'FROM Playlist p\\n'\n",
      "          'JOIN PlaylistTrack pt ON p.PlaylistId = pt.PlaylistId\\n'\n",
      "          'JOIN Track t ON pt.TrackId = t.TrackId\\n'\n",
      "          \"WHERE t.GenreId IN (SELECT g1.GenreId FROM Genre g1 WHERE g1.Name IN ('Jazz', 'Blues'))\\n\"\n",
      "          'AND NOT EXISTS (\\n'\n",
      "          '    SELECT 1\\n'\n",
      "          '    FROM PlaylistTrack pt2\\n'\n",
      "          '    JOIN Track t2 ON pt2.TrackId = t2.TrackId\\n'\n",
      "          '    WHERE pt2.PlaylistId = p.PlaylistId\\n'\n",
      "          \"    AND t2.GenreId NOT IN (SELECT g2.GenreId FROM Genre g2 WHERE g2.Name IN ('Jazz', 'Blues'))\\n\"\n",
      "          ')',\n",
      " 'result': '',\n",
      " 'status': 'success'}\n",
      "================================================================================\n",
      "\n",
      "🔹 [NODE] execute_query\n",
      "================================================================================\n",
      "📌 query_state:\n",
      "{'error': {'code': '', 'failed_step': '', 'hint': '', 'message': ''},\n",
      " 'query': 'SELECT DISTINCT p.PlaylistId, p.Name\\n'\n",
      "          'FROM Playlist p\\n'\n",
      "          'JOIN PlaylistTrack pt ON p.PlaylistId = pt.PlaylistId\\n'\n",
      "          'JOIN Track t ON pt.TrackId = t.TrackId\\n'\n",
      "          \"WHERE t.GenreId IN (SELECT g1.GenreId FROM Genre g1 WHERE g1.Name IN ('Jazz', 'Blues'))\\n\"\n",
      "          'AND NOT EXISTS (\\n'\n",
      "          '    SELECT 1\\n'\n",
      "          '    FROM PlaylistTrack pt2\\n'\n",
      "          '    JOIN Track t2 ON pt2.TrackId = t2.TrackId\\n'\n",
      "          '    WHERE pt2.PlaylistId = p.PlaylistId\\n'\n",
      "          \"    AND t2.GenreId NOT IN (SELECT g2.GenreId FROM Genre g2 WHERE g2.Name IN ('Jazz', 'Blues'))\\n\"\n",
      "          ')',\n",
      " 'result': \"[(18, 'On-The-Go 1')]\",\n",
      " 'status': 'success'}\n",
      "================================================================================\n",
      "\n",
      "🔹 [NODE] get_database_answer\n",
      "================================================================================\n",
      "📌 answer:\n",
      "('# 재즈와 블루스 장르의 트랙만 포함된 플레이리스트 조회 결과\\n'\n",
      " '\\n'\n",
      " '## 사용된 쿼리\\n'\n",
      " '```sql\\n'\n",
      " 'SELECT DISTINCT p.PlaylistId, p.Name\\n'\n",
      " 'FROM Playlist p\\n'\n",
      " 'JOIN PlaylistTrack pt ON p.PlaylistId = pt.PlaylistId\\n'\n",
      " 'JOIN Track t ON pt.TrackId = t.TrackId\\n'\n",
      " \"WHERE t.GenreId IN (SELECT g1.GenreId FROM Genre g1 WHERE g1.Name IN ('Jazz', 'Blues'))\\n\"\n",
      " 'AND NOT EXISTS (\\n'\n",
      " '    SELECT 1\\n'\n",
      " '    FROM PlaylistTrack pt2\\n'\n",
      " '    JOIN Track t2 ON pt2.TrackId = t2.TrackId\\n'\n",
      " '    WHERE pt2.PlaylistId = p.PlaylistId\\n'\n",
      " \"    AND t2.GenreId NOT IN (SELECT g2.GenreId FROM Genre g2 WHERE g2.Name IN ('Jazz', 'Blues'))\\n\"\n",
      " ')\\n'\n",
      " '```\\n'\n",
      " '\\n'\n",
      " '## 결과 데이터\\n'\n",
      " '| PlaylistId | Name |\\n'\n",
      " '|------------|------|\\n'\n",
      " '| 18 | On-The-Go 1 |\\n'\n",
      " '\\n'\n",
      " '## 답변\\n'\n",
      " '재즈와 블루스 장르의 트랙만 포함된 플레이리스트는 \"On-The-Go 1\" 하나뿐입니다. 이 플레이리스트(ID: 18)는 재즈와 블루스 장르의 곡들로만 구성되어 있으며, 다른 장르의 곡은 포함하고 있지 않습니다.')\n",
      "================================================================================\n"
     ]
    }
   ],
   "source": [
    "import pprint\n",
    "from langgraph.errors import GraphRecursionError\n",
    "from langchain_core.runnables import RunnableConfig\n",
    "\n",
    "config = RunnableConfig(\n",
    "            recursion_limit=100, \n",
    "            configurable={\"thread_id\": \"TODO\"},\n",
    "            callbacks=[langfuse_handler]  # 여기에 Langfuse 핸들러 추가}\n",
    "        )\n",
    "\n",
    "\n",
    "# 음악 관련\n",
    "# inputs = GraphState(question=\"각 장르별 트랙의 평균 가격과 총 트랙 수를 계산해줘.\")\n",
    "# inputs = GraphState(question=\"베토벤이 작곡한 모든 트랙의 이름과 그 트랙이 속한 앨범 제목을 알려줘.\")\n",
    "# 사용자 컨텐츠 관리\n",
    "# inputs = GraphState(question=\"'Rock'이라는 단어가 포함된 모든 플레이리스트와 각 플레이리스트에 포함된 트랙 수를 보여줘.\")\n",
    "inputs = GraphState(question=\"재즈와 블루스 장르의 트랙만 포함된 플레이리스트를 모두 찾아줘.\")\n",
    "# 비즈니스/판매 관련\n",
    "# inputs = GraphState(question=\"2022년 매출 상위 10개 국가는?\") - Okay\n",
    "# inputs = GraphState(question=\"상위 고객 5명의 고객 ID와 총 구매 금액 알려줘\")\n",
    "\n",
    "\n",
    "\n",
    "pp = pprint.PrettyPrinter(width=200, compact=True)\n",
    "\n",
    "try:\n",
    "    for output in app.stream(inputs, config=config):\n",
    "        for key, value in output.items():\n",
    "            print(f\"\\n🔹 [NODE] {key}\")\n",
    "            print(\"=\" * 80)\n",
    "            for k, v in value.items():\n",
    "                print(f\"📌 {k}:\")\n",
    "                pp.pprint(v)\n",
    "            print(\"=\" * 80)\n",
    "except GraphRecursionError as e:\n",
    "    print(f\"⚠️ Recursion limit reached: {e}\")"
   ]
  },
  {
   "cell_type": "code",
   "execution_count": null,
   "metadata": {},
   "outputs": [],
   "source": []
  }
 ],
 "metadata": {
  "kernelspec": {
   "display_name": "Python 3 (ipykernel)",
   "language": "python",
   "name": "python3"
  },
  "language_info": {
   "codemirror_mode": {
    "name": "ipython",
    "version": 3
   },
   "file_extension": ".py",
   "mimetype": "text/x-python",
   "name": "python",
   "nbconvert_exporter": "python",
   "pygments_lexer": "ipython3",
   "version": "3.12.9"
  }
 },
 "nbformat": 4,
 "nbformat_minor": 4
}
