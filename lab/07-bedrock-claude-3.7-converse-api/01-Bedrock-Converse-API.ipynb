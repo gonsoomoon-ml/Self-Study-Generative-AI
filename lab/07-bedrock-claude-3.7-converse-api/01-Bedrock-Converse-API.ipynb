{
 "cells": [
  {
   "cell_type": "markdown",
   "metadata": {},
   "source": [
    "# Amazon Bedrock Converse API 예시 ( Claude 3.7 Sonnet)\n",
    "- [Claude 3.7 Sonnet](https://docs.aws.amazon.com/bedrock/latest/userguide/model-parameters-anthropic-claude-37.html)\n",
    "- [개발자 가이드: Converse API](https://docs.aws.amazon.com/bedrock/latest/userguide/conversation-inference.html#conversation-inference-call-request)"
   ]
  },
  {
   "cell_type": "markdown",
   "metadata": {},
   "source": [
    "## 환경 설정"
   ]
  },
  {
   "cell_type": "code",
   "execution_count": 1,
   "metadata": {},
   "outputs": [],
   "source": [
    "# ! pip install -U boto3\n",
    "# ! pip list | grep  boto3 # 1.37.4"
   ]
  },
  {
   "cell_type": "code",
   "execution_count": 2,
   "metadata": {},
   "outputs": [],
   "source": [
    "%load_ext autoreload\n",
    "%autoreload 2"
   ]
  },
  {
   "cell_type": "code",
   "execution_count": 3,
   "metadata": {},
   "outputs": [],
   "source": [
    "from utils import ( \n",
    "        generate_reasoning_generation,\n",
    "        generate_reasoning_stream_generation\n",
    ")"
   ]
  },
  {
   "cell_type": "markdown",
   "metadata": {},
   "source": [
    "## Reasoning converse  api"
   ]
  },
  {
   "cell_type": "code",
   "execution_count": 4,
   "metadata": {},
   "outputs": [],
   "source": [
    "import boto3\n",
    "\n",
    "bedrock_client = boto3.client(service_name=\"bedrock-runtime\")\n",
    "\n",
    "modelId='us.anthropic.claude-3-7-sonnet-20250219-v1:0'    \n",
    "messages=[{\n",
    "    'role': 'user',\n",
    "    'content': [\n",
    "        {\n",
    "            'text': '신선식품의 폐기율을 5% 줄이려면 어떤 전략을 세워야 할까요?'\n",
    "        },\n",
    "    ]\n",
    "}]\n",
    "additionalModelRequestFields={\n",
    "    \"reasoning_config\": {\n",
    "        \"type\": \"enabled\",\n",
    "        \"budget_tokens\": 1024\n",
    "    },\n",
    "}\n",
    "response = generate_reasoning_generation(bedrock_client, modelId, messages, additionalModelRequestFields)"
   ]
  },
  {
   "cell_type": "code",
   "execution_count": 5,
   "metadata": {},
   "outputs": [
    {
     "name": "stdout",
     "output_type": "stream",
     "text": [
      "{\n",
      "  \"ResponseMetadata\": {\n",
      "    \"RequestId\": \"089da4b1-34ad-4789-8d3c-fe76310befb8\",\n",
      "    \"HTTPStatusCode\": 200,\n",
      "    \"HTTPHeaders\": {\n",
      "      \"date\": \"Sun, 02 Mar 2025 13:59:43 GMT\",\n",
      "      \"content-type\": \"application/json\",\n",
      "      \"content-length\": \"3163\",\n",
      "      \"connection\": \"keep-alive\",\n",
      "      \"x-amzn-requestid\": \"089da4b1-34ad-4789-8d3c-fe76310befb8\"\n",
      "    },\n",
      "    \"RetryAttempts\": 0\n",
      "  },\n",
      "  \"output\": {\n",
      "    \"message\": {\n",
      "      \"role\": \"assistant\",\n",
      "      \"content\": [\n",
      "        {\n",
      "          \"reasoningContent\": {\n",
      "            \"reasoningText\": {\n",
      "              \"text\": \"This question is asking about strategies to reduce food waste of fresh produce by 5%. It's in Korean, and translated to English would be: \\\"What strategies should be established to reduce the waste rate of fresh food by 5%?\\\"\\n\\nI'll organize a comprehensive response about reducing fresh food waste, including:\\n\\n1. Inventory management and stock control\\n2. Temperature and storage optimization \\n3. Supply chain improvements\\n4. Technology solutions\\n5. Consumer education\\n6. Secondary markets for less perfect produce\\n7. Improved packaging\\n8. Proper training of staff\\n\\nI'll structure my response to be informative and practical, focusing on actionable strategies across the food supply chain.\",\n",
      "              \"signature\": \"EqoBCkgIARABGAIiQPXERRoY+rcwJC915PfbKKQgmblkroefA3DtdLFWCU+gZwL6UxVeiPp4kPZ5uEQbYS1lua/QURindzlKAWR58+8SDMDoYy7CsWll2fDcbRoMExbGVPX45hJRMGyaIjDXgATyOnA1F1DG+HZF6C8nwocjqgxSrHQd2tDB9ajA8MpULlxAfT2c1I5MW+Lg2jgqEHlSbIyv3HOtZ+AdZIWmtDk=\"\n",
      "            }\n",
      "          }\n",
      "        },\n",
      "        {\n",
      "          \"text\": \"# 신선식품 폐기율 5% 감소를 위한 전략\\n\\n신선식품의 폐기율을 5% 줄이기 위해서는 공급망 전반에 걸친 종합적인 접근이 필요합니다. 다음과 같은 전략들을 고려해 볼 수 있습니다:\\n\\n## 재고 및 주문 관리 개선\\n- **수요 예측 시스템** 도입: 빅데이터와 AI를 활용한 정확한 수요 예측\\n- **선입선출(FIFO) 방식** 엄격한 적용\\n- **소량 다빈도 발주** 시스템으로 전환하여 과잉 재고 방지\\n\\n## 보관 및 운송 최적화\\n- **콜드체인 시스템** 강화\\n- **에틸렌 가스 관리**: 에틸렌 흡수제 사용으로 과일/채소의 숙성 속도 조절\\n- **최적 온도/습도** 유지를 위한 모니터링 시스템 구축\\n\\n## 포장기술 개선\\n- **MAP(Modified Atmosphere Packaging)** 기술 적용\\n- **스마트 패키징**: 신선도 표시기가 있는 포장재 활용\\n- **적정 크기** 포장으로 소비자 과잉 구매 방지\\n\\n## 디지털 기술 활용\\n- **블록체인** 기반 이력추적 시스템으로 신선도 관리\\n- **IoT 센서**를 활용한 실시간 품질 모니터링\\n- **앱 기반** 재고 관리 시스템 도입\\n\\n## 가격 정책 및 마케팅 전략\\n- **유통기한 임박 제품** 할인 판매 프로그램 확대\\n- **비규격품(못생긴 농산물)** 활용 캠페인\\n- **번들링 판매**로 과잉 재고 소진\\n\\n## 직원 교육 및 소비자 인식 개선\\n- **상품 취급 교육** 강화로 물리적 손상 최소화\\n- **소비자 대상** 식품 보관법 교육 및 홍보\\n- **폐기물 감소의 경제적/환경적 가치** 인식 확산\\n\\n효과적인 폐기율 감소를 위해서는 위의 전략들을 통합적으로 적용하며, 각 단계별 폐기 원인을 데이터 기반으로 지속적으로 분석하고 개선해 나가는 것이 중요합니다.\"\n",
      "        }\n",
      "      ]\n",
      "    }\n",
      "  },\n",
      "  \"stopReason\": \"end_turn\",\n",
      "  \"usage\": {\n",
      "    \"inputTokens\": 73,\n",
      "    \"outputTokens\": 945,\n",
      "    \"totalTokens\": 1018\n",
      "  },\n",
      "  \"metrics\": {\n",
      "    \"latencyMs\": 23534\n",
      "  }\n",
      "}\n"
     ]
    }
   ],
   "source": [
    "    import json\n",
    "    pretty_json = json.dumps(response, indent=2, ensure_ascii=False)\n",
    "    \n",
    "    # 출력\n",
    "    print(pretty_json)"
   ]
  },
  {
   "cell_type": "markdown",
   "metadata": {},
   "source": [
    "## Reasoning converse_stream api"
   ]
  },
  {
   "cell_type": "code",
   "execution_count": 6,
   "metadata": {},
   "outputs": [
    {
     "name": "stdout",
     "output_type": "stream",
     "text": [
      "## reasoning: \n",
      "\n",
      "The question is asking about strategies to reduce the waste rate of fresh food products by 5%. Let me think about various approaches to tackle this issue:\n",
      "\n",
      "1. Supply Chain Optimization:\n",
      "   - Improved demand forecasting using data analytics\n",
      "   - Better inventory management systems\n",
      "   - Shorter supply chains to reduce transit time\n",
      "   - Optimizing temperature control during transportation\n",
      "\n",
      "2. Storage Solutions:\n",
      "   - Advanced refrigeration technologies\n",
      "   - Modified atmosphere packaging\n",
      "   - Ethylene absorbers for fruits and vegetables\n",
      "   - Better training for staff on proper storage methods\n",
      "\n",
      "3. Retail Strategies:\n",
      "   - Dynamic pricing for products approaching expiration dates\n",
      "   - Smaller display quantities with more frequent restocking\n",
      "   - Better rotation of stock (FIFO - First In, First Out)\n",
      "   - Optimized order quantities based on sales patterns\n",
      "\n",
      "4. Consumer Education:\n",
      "   - Clear information about storage methods\n",
      "   - Better understanding of expiration dates vs. quality dates\n",
      "   - Recipes and ideas for using slightly older produce\n",
      "   - Awareness campaigns about food waste\n",
      "\n",
      "5. Alternative Uses:\n",
      "   - Processing slightly imperfect items into prepared foods\n",
      "   - Donating safe but unsellable items to food banks\n",
      "   - Converting waste into compost or animal feed\n",
      "   - Using for biogas production\n",
      "\n",
      "6. Technology Solutions:\n",
      "   - Smart packaging that indicates actual freshness\n",
      "   - Blockchain for better traceability\n",
      "   - IoT sensors for monitoring storage conditions\n",
      "   - AI for demand prediction and inventory management\n",
      "\n",
      "I'll structure my answer to cover these main categories of strategies to reduce fresh food waste by 5%.\n",
      "## \n",
      "\n",
      "response: \n",
      "\n",
      "# 신선식품 폐기율 5% 감소를 위한 전략\n",
      "\n",
      "신선식품의 폐기율을 5% 줄이기 위해서는 다음과 같은 종합적인 접근이 필요합니다:\n",
      "\n",
      "## 공급망 최적화\n",
      "- 빅데이터와 AI를 활용한 정확한 수요 예측\n",
      "- 신선도 추적 기술 도입(IoT 센서, 블록체인)\n",
      "- 콜드체인 시스템 개선 및 운송 시간 단축\n",
      "- 지역 생산자와의 협력을 통한 유통 경로 축소\n",
      "\n",
      "## 매장 관리 개선\n",
      "- 선입선출(FIFO) 원칙 철저 적용\n",
      "- 유통기한 임박 상품 할인 판매 시스템 도입\n",
      "- 소량 다품종 진열 방식 채택\n",
      "- 직원 교육 강화(신선식품 취급 방법)\n",
      "\n",
      "## 포장 및 보관 기술 향상\n",
      "- 신선도 유지 포장재 사용(MAP, 에틸렌 흡수제)\n",
      "- 적정 온도·습도 모니터링 시스템 구축\n",
      "- 유통기한이 아닌 실제 신선도를 표시하는 스마트 포장재 도입\n",
      "\n",
      "## 대안적 활용 방안\n",
      "- 판매가 어려운 식품의 즉석 조리식품 전환\n",
      "- 푸드뱅크, 사회단체 기부 시스템 구축\n",
      "- 식품 폐기물의 퇴비화 또는 바이오가스 전환\n",
      "\n",
      "## 소비자 교육\n",
      "- 적절한 보관 방법과 활용법 안내\n",
      "- '유통기한'과 '품질유지기한' 개념 구분 교육\n",
      "- 구매 계획 세우기와 식품 저장 방법 교육\n",
      "\n",
      "이러한 전략들을 통합적으로 실행하면 신선식품의 폐기율을 5% 이상 줄일 수 있을 것입니다.\n"
     ]
    }
   ],
   "source": [
    "messages=[{\n",
    "    'role': 'user',\n",
    "    'content': [\n",
    "        {\n",
    "            'text': '신선식품의 폐기율을 5% 줄이려면 어떤 전략을 세워야 할까요?'\n",
    "        },\n",
    "    ]\n",
    "}]\n",
    "additionalModelRequestFields={\n",
    "    \"reasoning_config\": {\n",
    "        \"type\": \"enabled\",\n",
    "        \"budget_tokens\": 1024\n",
    "    },\n",
    "}\n",
    "response = generate_reasoning_stream_generation(bedrock_client, modelId, messages, additionalModelRequestFields)"
   ]
  },
  {
   "cell_type": "markdown",
   "metadata": {},
   "source": [
    "## Standard generation (No reasoning)"
   ]
  },
  {
   "cell_type": "code",
   "execution_count": 8,
   "metadata": {},
   "outputs": [
    {
     "name": "stdout",
     "output_type": "stream",
     "text": [
      "## reasoning: \n",
      "\n",
      "\n",
      "## \n",
      "\n",
      "response: \n",
      "\n",
      "# 신선식품 폐기율 5% 감소를 위한 전략\n",
      "\n",
      "신선식품 폐기율을 5% 줄이기 위해 다음과 같은 전략을 고려해 볼 수 있습니다:\n",
      "\n",
      "## 재고 관리 최적화\n",
      "- AI 기반 수요 예측 시스템 도입으로 정확한 발주량 결정\n",
      "- FIFO(First In, First Out) 원칙 철저 적용\n",
      "- 실시간 재고 모니터링 시스템 구축\n",
      "\n",
      "## 유통기한 관리\n",
      "- 유통기한 임박 상품 할인판매 프로그램 운영\n",
      "- QR코드를 활용한 상품별 신선도 추적 시스템\n",
      "- 온도민감 스마트 라벨 도입\n",
      "\n",
      "## 운송 및 보관 개선\n",
      "- 콜드체인 시스템 최적화\n",
      "- 온도·습도 모니터링 IoT 기술 도입\n",
      "- 에틸렌 흡수제 활용으로 과일·채소 신선도 유지\n",
      "\n",
      "## 직원 교육\n",
      "- 신선식품 취급 방법 정기 교육\n",
      "- 폐기율 감소 인센티브 제도 도입\n",
      "\n",
      "## 소비자 인식 개선\n",
      "- \"못생긴 농산물\" 마케팅 캠페인\n",
      "- 식품 폐기 줄이기 고객 참여 프로그램\n",
      "\n",
      "이러한 통합적 접근을 통해 신선식품 폐기율을 효과적으로 5% 감소시킬 수 있을 것입니다.\n"
     ]
    }
   ],
   "source": [
    "messages=[{\n",
    "    'role': 'user',\n",
    "    'content': [\n",
    "        {\n",
    "            'text': '신선식품의 폐기율을 5% 줄이려면 어떤 전략을 세워야 할까요?'\n",
    "        },\n",
    "    ]\n",
    "}]\n",
    "additionalModelRequestFields={\n",
    "    \"reasoning_config\": {\n",
    "        \"type\": \"disabled\",\n",
    "    },\n",
    "}\n",
    "response = generate_reasoning_stream_generation(bedrock_client, modelId, messages, additionalModelRequestFields)"
   ]
  },
  {
   "cell_type": "code",
   "execution_count": null,
   "metadata": {},
   "outputs": [],
   "source": []
  }
 ],
 "metadata": {
  "kernelspec": {
   "display_name": "base",
   "language": "python",
   "name": "python3"
  },
  "language_info": {
   "codemirror_mode": {
    "name": "ipython",
    "version": 3
   },
   "file_extension": ".py",
   "mimetype": "text/x-python",
   "name": "python",
   "nbconvert_exporter": "python",
   "pygments_lexer": "ipython3",
   "version": "3.10.14"
  }
 },
 "nbformat": 4,
 "nbformat_minor": 2
}
