{
 "cells": [
  {
   "cell_type": "markdown",
   "id": "5c0122e65c053f38",
   "metadata": {},
   "source": [
    "## Lab 4: Deploy to Production - Use AgentCore Runtime with Observability\n",
    "\n",
    "### Overview\n",
    "\n",
    "In Lab 3 we scaled our Customer Support Agent by centralizing tools through AgentCore Gateway with secure authentication. Now we'll complete the production journey by deploying our agent to AgentCore Runtime with comprehensive observability. This will transform our prototype into a production-ready system that can handle real-world traffic with full monitoring and automatic scaling.\n",
    "\n",
    "[Amazon Bedrock AgentCore Runtime](https://docs.aws.amazon.com/bedrock-agentcore/latest/devguide/agents-tools-runtime.html) is a secure, fully managed runtime that empowers organizations to deploy and scale AI agents in production, regardless of framework, protocol, or model choice. It provides enterprise-grade reliability, automatic scaling, and comprehensive monitoring capabilities.\n",
    "\n",
    "**Workshop Journey:**\n",
    "\n",
    "- **Lab 1 (Done):** Create Agent Prototype - Built a functional customer support agent\n",
    "- **Lab 2 (Done):** Enhance with Memory - Added conversation context and personalization\n",
    "- **Lab 3 (Done):** Scale with Gateway & Identity - Shared tools across agents securely\n",
    "- **Lab 4 (Current):** Deploy to Production - Used AgentCore Runtime with observability\n",
    "- **Lab 5:** Build User Interface - Create a customer-facing application\n",
    "\n",
    "### Why AgentCore Runtime & Production Deployment Matter\n",
    "\n",
    "Current State (Lab 1-3): Agent runs locally with centralized tools but faces production challenges:\n",
    "\n",
    "- Agent runs locally in a single session\n",
    "- No comprehensive monitoring or debugging capabilities\n",
    "- Cannot handle multiple concurrent users reliably\n",
    "\n",
    "After this lab, we will have a production-ready agent infrastructure with:\n",
    "\n",
    "- Serverless auto-scaling to handle variable demand\n",
    "- Comprehensive observability with traces, metrics, and logging\n",
    "- Enterprise reliability with automatic error recovery\n",
    "- Secure deployment with proper access controls\n",
    "- Easy management through AWS console and APIs and support for real-world production workloads.\n",
    "\n",
    "\n",
    "### Adding comprehensive observability with AgentCore Observability\n",
    "\n",
    "Additionally, AgentCore Runtime integrates seamlessly with [AgentCore Observability](https://docs.aws.amazon.com/bedrock-agentcore/latest/devguide/observability.html) to provide full visibility into your agent's behavior in production. AgentCore Observability automatically captures traces, metrics, and logs from your agent interactions, tool usage, and memory access patterns. In this lab we will see how AgentCore Runtime integrates with CloudWatch GenAI Observability to provide comprehensive monitoring and debugging capabilities.\n",
    "\n",
    "For request tracing, AgentCore Observability captures the complete conversation flow including tool invocations, memory retrievals, and model interactions. For performance monitoring, it tracks response times, success rates, and resource utilization to help optimize your agent's performance.\n",
    "\n",
    "During the observability flow, AgentCore Runtime automatically instruments your agent code and sends telemetry data to CloudWatch. You can then use CloudWatch dashboards and GenAI Observability features to analyze patterns, identify bottlenecks, and troubleshoot issues in real-time.\n",
    "\n",
    "### Architecture for Lab 4\n",
    "<div style=\"text-align:left\"> \n",
    "    <img src=\"images/architecture_lab4_runtime.png\" width=\"75%\"/> \n",
    "</div>\n",
    "\n",
    "*Agent now runs in AgentCore Runtime with full observability through CloudWatch, serving production traffic with auto-scaling and comprehensive monitoring. Memory and Gateway integrations from previous labs remain fully functional in the production environment.*\n",
    "\n",
    "### Key Features\n",
    "\n",
    "- **Serverless Agent Deployment:** Transform your local agent into a scalable production service using AgentCore Runtime with minimal code changes\n",
    "- **Comprehensive Observability:** Full request tracing, performance metrics, and debugging capabilities through CloudWatch GenAI Observability\n",
    "\n",
    "### Prerequisites\n",
    "\n",
    "- Python 3.12+\n",
    "- AWS account with appropriate permissions\n",
    "- Docker, Finch or Podman installed and running\n",
    "- Amazon Bedrock AgentCore SDK\n",
    "- Strands Agents framework\n",
    "\n",
    "**Note**: You MUST enable [CloudWatch Transaction Search](https://docs.aws.amazon.com/AmazonCloudWatch/latest/monitoring/Enable-TransactionSearch.html) to be able to see AgentCore Observability traces in CloudWatch.\n"
   ]
  },
  {
   "cell_type": "markdown",
   "id": "d867d862-3b01-4b97-ac00-0ff38ff57fc0",
   "metadata": {},
   "source": [
    "### Step 1: Import Required Libraries"
   ]
  },
  {
   "cell_type": "code",
   "execution_count": 1,
   "id": "aa06404e",
   "metadata": {},
   "outputs": [
    {
     "data": {
      "text/plain": [
       "'CustomerSupportMemory-EtWANNBq0n'"
      ]
     },
     "execution_count": 1,
     "metadata": {},
     "output_type": "execute_result"
    }
   ],
   "source": [
    "# Import required libraries\n",
    "import os\n",
    "import json\n",
    "import boto3\n",
    "from strands import Agent\n",
    "from strands.models import BedrockModel\n",
    "from lab_helpers.lab2_memory import create_or_get_memory_resource\n",
    "\n",
    "create_or_get_memory_resource()  # Just in case the memory lab wasn't executed"
   ]
  },
  {
   "cell_type": "markdown",
   "id": "6820ca8f-a8a8-4f34-b4ef-b6dad3776261",
   "metadata": {},
   "source": [
    "### Step 2: Preparing Your Agent for AgentCore Runtime\n",
    "\n",
    "#### Creating the Runtime-Ready Agent\n",
    "\n",
    "Let's first define the necessary AgentCore Runtime components via Python SDK within our previous local agent implementation.\n",
    "\n",
    "Observe the `#### AGENTCORE RUNTIME - LINE i ####` comments below to see where is the relevant deployment code added. You'll find 4 such lines that prepare the runtime-ready agent:\n",
    "\n",
    "1. Import the Runtime App with `from bedrock_agentcore.runtime import BedrockAgentCoreApp`\n",
    "2. Initialize the App with `app = BedrockAgentCoreApp()`\n",
    "3. Decorate our invocation function with `@app.entrypoint`\n",
    "4. Let AgentCore Runtime control the execution with `app.run()`\n"
   ]
  },
  {
   "cell_type": "code",
   "execution_count": 2,
   "id": "2e79eba2-ca59-463f-9ebf-56e362d7ae66",
   "metadata": {},
   "outputs": [
    {
     "name": "stdout",
     "output_type": "stream",
     "text": [
      "Overwriting ./lab_helpers/lab4_runtime.py\n"
     ]
    }
   ],
   "source": [
    "%%writefile ./lab_helpers/lab4_runtime.py\n",
    "from bedrock_agentcore.runtime import (\n",
    "    BedrockAgentCoreApp,\n",
    ")  #### AGENTCORE RUNTIME - LINE 1 ####\n",
    "from strands import Agent\n",
    "from strands.models import BedrockModel\n",
    "from scripts.utils import get_ssm_parameter\n",
    "from lab_helpers.lab1_strands_agent import (\n",
    "    get_return_policy,\n",
    "    get_product_info,\n",
    "    SYSTEM_PROMPT,\n",
    "    MODEL_ID,\n",
    ")\n",
    "\n",
    "from lab_helpers.lab2_memory import (\n",
    "    CustomerSupportMemoryHooks,\n",
    "    memory_client,\n",
    "    ACTOR_ID,\n",
    "    SESSION_ID,\n",
    ")\n",
    "\n",
    "# Lab1 import: Create the Bedrock model\n",
    "model = BedrockModel(model_id=MODEL_ID)\n",
    "\n",
    "# Lab2 import : Initialize memory via hooks\n",
    "memory_id = get_ssm_parameter(\"/app/customersupport/agentcore/memory_id\")\n",
    "memory_hooks = CustomerSupportMemoryHooks(\n",
    "    memory_id, memory_client, ACTOR_ID, SESSION_ID\n",
    ")\n",
    "\n",
    "# Create the agent with all customer support tools\n",
    "agent = Agent(\n",
    "    model=model,\n",
    "    tools=[get_return_policy, get_product_info],\n",
    "    system_prompt=SYSTEM_PROMPT,\n",
    "    hooks=[memory_hooks],\n",
    ")\n",
    "\n",
    "# Initialize the AgentCore Runtime App\n",
    "app = BedrockAgentCoreApp()  #### AGENTCORE RUNTIME - LINE 2 ####\n",
    "\n",
    "\n",
    "@app.entrypoint  #### AGENTCORE RUNTIME - LINE 3 ####\n",
    "def invoke(payload):\n",
    "    \"\"\"AgentCore Runtime entrypoint function\"\"\"\n",
    "    user_input = payload.get(\"prompt\", \"\")\n",
    "\n",
    "    # Invoke the agent\n",
    "    response = agent(user_input)\n",
    "    return response.message[\"content\"][0][\"text\"]\n",
    "\n",
    "\n",
    "if __name__ == \"__main__\":\n",
    "    app.run()  #### AGENTCORE RUNTIME - LINE 4 ####"
   ]
  },
  {
   "cell_type": "markdown",
   "id": "8855aceb-b79f-4aaa-b16f-8577c059816a",
   "metadata": {},
   "source": [
    "#### What happens behind the scenes?\n",
    "\n",
    "When you use `BedrockAgentCoreApp`, it automatically:\n",
    "\n",
    "- Creates an HTTP server that listens on port 8080\n",
    "- Implements the required `/invocations` endpoint for processing requests\n",
    "- Implements the `/ping` endpoint for health checks\n",
    "- Handles proper content types and response formats\n",
    "- Manages error handling according to AWS standards\n"
   ]
  },
  {
   "cell_type": "markdown",
   "id": "8e8aa1fb-4e80-4dbd-864a-8e7bf9eab714",
   "metadata": {},
   "source": [
    "### Step 3: Deploying to AgentCore Runtime\n",
    "\n",
    "Now let's deploy our agent to AgentCore Runtime using the [AgentCore Starter Toolkit](https://github.com/aws/bedrock-agentcore-starter-toolkit).\n",
    "\n",
    "#### Configure the Secure Runtime Deployment (AgentCore Runtime + AgentCore Identity)\n",
    "\n",
    "First we will use our starter toolkit to configure the AgentCore Runtime deployment with an entrypoint, the execution role we will create and a requirements file. We will also configure the identity authorization using an Amazon Cognito user pool and we will configure the starter kit to auto create the Amazon ECR repository on launch.\n",
    "\n",
    "During the configure step, your docker file will be generated based on your application code\n",
    "\n",
    "<div style=\"text-align:left\"> \n",
    "    <img src=\"images/configure.png\" width=\"75%\"/> \n",
    "</div>\n",
    "\n",
    "**Note**: The Cognito access_token is valid for 2 hours only. If the access_token expires you can vend another access_token by using the `reauthenticate_user` method.\n"
   ]
  },
  {
   "cell_type": "code",
   "execution_count": 3,
   "id": "4581baa2-9edc-425d-becf-09968565081a",
   "metadata": {},
   "outputs": [
    {
     "name": "stdout",
     "output_type": "stream",
     "text": [
      "Setting up Amazon Cognito user pool...\n",
      "{'UserPoolId': 'us-east-1_8eROuquri', 'ClientName': 'MCPServerPoolClient', 'ClientId': '6alrcnckui47t036qvon48p4a0', 'ClientSecret': '1qrjbpvqr2r1gd5oecuvpqnf50tge4r83qqag3ld1dcqf269oh1r', 'LastModifiedDate': datetime.datetime(2025, 8, 16, 7, 15, 42, 204000, tzinfo=tzlocal()), 'CreationDate': datetime.datetime(2025, 8, 16, 7, 15, 42, 204000, tzinfo=tzlocal()), 'RefreshTokenValidity': 30, 'TokenValidityUnits': {}, 'ExplicitAuthFlows': ['ALLOW_USER_PASSWORD_AUTH', 'ALLOW_USER_SRP_AUTH', 'ALLOW_REFRESH_TOKEN_AUTH'], 'AllowedOAuthFlowsUserPoolClient': False, 'EnableTokenRevocation': True, 'EnablePropagateAdditionalUserContextData': False, 'AuthSessionValidity': 3}\n",
      "Pool id: us-east-1_8eROuquri\n",
      "Discovery URL: https://cognito-idp.us-east-1.amazonaws.com/us-east-1_8eROuquri/.well-known/openid-configuration\n",
      "Client ID: 6alrcnckui47t036qvon48p4a0\n",
      "Bearer Token: eyJraWQiOiJZa1Q3cTJKZUllNFVPSld1TEJ3NHZCVlwvZVAxVzdwbW5HMnZcL1g2eWl4cFE9IiwiYWxnIjoiUlMyNTYifQ.eyJzdWIiOiI5NDY4NzQ5OC0xMGIxLTcwMDEtMDk4Ni0zNGRkZmM0ZDNiMTEiLCJpc3MiOiJodHRwczpcL1wvY29nbml0by1pZHAudXMtZWFzdC0xLmFtYXpvbmF3cy5jb21cL3VzLWVhc3QtMV84ZVJPdXF1cmkiLCJjbGllbnRfaWQiOiI2YWxyY25ja3VpNDd0MDM2cXZvbjQ4cDRhMCIsIm9yaWdpbl9qdGkiOiJhZWM4MGJlNC05NWIzLTQzNDYtOGM4My1hNmI3NWQ5ZjYyNWYiLCJldmVudF9pZCI6ImUxN2ZmNmM1LWE4ZDMtNDM5ZS05ZmEzLTk2ZjQxMjYwMjkxNCIsInRva2VuX3VzZSI6ImFjY2VzcyIsInNjb3BlIjoiYXdzLmNvZ25pdG8uc2lnbmluLnVzZXIuYWRtaW4iLCJhdXRoX3RpbWUiOjE3NTUzMjg1NDMsImV4cCI6MTc1NTMzMjE0MywiaWF0IjoxNzU1MzI4NTQzLCJqdGkiOiI5OTBlMzU1My04ODc2LTQzNDYtOGUwNC03Y2MyMTgwOTdkMWUiLCJ1c2VybmFtZSI6InRlc3R1c2VyIn0.RwnMsTVH0mzw1bjdXlEpGo63cQC2nWrKdPCIyMTrlB2kIsTn5EGC38IFFvFoDe0Y56aUxTe7DjBVcavzWV7Q9ZX50__yZ9JQfrN--uLzMNPygd-5REQBzxs9XRkEJcCZf7Qa7UI2OLBbn78bk-j6NvxbnVURWjl6vUlB4q3tHoLb8Gns2XjIRcSxj05bJ0rtN0rUpawDOHQigYHXZ-lnLzSGmEYAmJHZZHTYPCUrs_PdctSUklEVrU-GLrVsHdeK-qHdKz9oTE2-l_d2oXRHd7PXWRUpD066pgXes-KRMf0WOQdrfbfJWAh2PvG_cKdcTZEIzaDdwJ0aNe2BlY34cg\n",
      "✅ Created secret: customer_support_agent\n",
      "Cognito setup completed ✓\n"
     ]
    }
   ],
   "source": [
    "from lab_helpers.utils import setup_cognito_user_pool, reauthenticate_user\n",
    "\n",
    "print(\"Setting up Amazon Cognito user pool...\")\n",
    "cognito_config = (\n",
    "    setup_cognito_user_pool()\n",
    ")  # You'll get your bearer token from this output cell.\n",
    "print(\"Cognito setup completed ✓\")"
   ]
  },
  {
   "cell_type": "code",
   "execution_count": 4,
   "id": "17a32ab8-7701-4900-8055-e24364bdf35c",
   "metadata": {},
   "outputs": [
    {
     "name": "stdout",
     "output_type": "stream",
     "text": [
      "✅ Created IAM role: CustomerSupportAssistantBedrockAgentCoreRole-us-east-1\n",
      "Role ARN: arn:aws:iam::057716757052:role/CustomerSupportAssistantBedrockAgentCoreRole-us-east-1\n",
      "✅ Created policy: CustomerSupportAssistantBedrockAgentCorePolicy-us-east-1\n",
      "✅ Attached policy to role\n",
      "Policy ARN: arn:aws:iam::057716757052:policy/CustomerSupportAssistantBedrockAgentCorePolicy-us-east-1\n"
     ]
    },
    {
     "name": "stderr",
     "output_type": "stream",
     "text": [
      "Entrypoint parsed: file=/home/ubuntu/Self-Study-Generative-AI/lab/17_bedrock_agent_core/01-tutorials/07-AgentCore-E2E/lab_helpers/lab4_runtime.py, bedrock_agentcore_name=lab4_runtime\n",
      "Configuring BedrockAgentCore agent: customer_support_agent\n"
     ]
    },
    {
     "data": {
      "text/html": [
       "<pre style=\"white-space:pre;overflow-x:auto;line-height:normal;font-family:Menlo,'DejaVu Sans Mono',consolas,'Courier New',monospace\">\n",
       "<span style=\"color: #808000; text-decoration-color: #808000; font-weight: bold; text-decoration: underline\">⚠️  [WARNING] Platform mismatch: Current system is </span><span style=\"color: #008000; text-decoration-color: #008000; text-decoration: underline\">'linux/amd64'</span><span style=\"color: #808000; text-decoration-color: #808000; font-weight: bold; text-decoration: underline\"> but Bedrock AgentCore requires </span><span style=\"color: #008000; text-decoration-color: #008000; text-decoration: underline\">'linux/arm64'</span><span style=\"color: #808000; text-decoration-color: #808000; font-weight: bold; text-decoration: underline\">.</span>\n",
       "<span style=\"color: #808000; text-decoration-color: #808000; font-weight: bold; text-decoration: underline\">For deployment options and workarounds, see: </span>\n",
       "<span style=\"color: #0000ff; text-decoration-color: #0000ff; text-decoration: underline\">https://docs.aws.amazon.com/bedrock-agentcore/latest/devguide/getting-started-custom.html</span>\n",
       "\n",
       "</pre>\n"
      ],
      "text/plain": [
       "\n",
       "\u001b[1;4;33m⚠️  \u001b[0m\u001b[1;4;33m[\u001b[0m\u001b[1;4;33mWARNING\u001b[0m\u001b[1;4;33m]\u001b[0m\u001b[1;4;33m Platform mismatch: Current system is \u001b[0m\u001b[4;32m'linux/amd64'\u001b[0m\u001b[1;4;33m but Bedrock AgentCore requires \u001b[0m\u001b[4;32m'linux/arm64'\u001b[0m\u001b[1;4;33m.\u001b[0m\n",
       "\u001b[1;4;33mFor deployment options and workarounds, see: \u001b[0m\n",
       "\u001b[4;94mhttps://docs.aws.amazon.com/bedrock-agentcore/latest/devguide/getting-started-custom.html\u001b[0m\n",
       "\n"
      ]
     },
     "metadata": {},
     "output_type": "display_data"
    },
    {
     "name": "stderr",
     "output_type": "stream",
     "text": [
      "Generated .dockerignore\n",
      "Generated Dockerfile: /home/ubuntu/Self-Study-Generative-AI/lab/17_bedrock_agent_core/01-tutorials/07-AgentCore-E2E/Dockerfile\n",
      "Generated .dockerignore: /home/ubuntu/Self-Study-Generative-AI/lab/17_bedrock_agent_core/01-tutorials/07-AgentCore-E2E/.dockerignore\n",
      "Setting 'customer_support_agent' as default agent\n",
      "Bedrock AgentCore configured: /home/ubuntu/Self-Study-Generative-AI/lab/17_bedrock_agent_core/01-tutorials/07-AgentCore-E2E/.bedrock_agentcore.yaml\n"
     ]
    },
    {
     "name": "stdout",
     "output_type": "stream",
     "text": [
      "Configuration completed: config_path=PosixPath('/home/ubuntu/Self-Study-Generative-AI/lab/17_bedrock_agent_core/01-tutorials/07-AgentCore-E2E/.bedrock_agentcore.yaml') dockerfile_path=PosixPath('/home/ubuntu/Self-Study-Generative-AI/lab/17_bedrock_agent_core/01-tutorials/07-AgentCore-E2E/Dockerfile') dockerignore_path=PosixPath('/home/ubuntu/Self-Study-Generative-AI/lab/17_bedrock_agent_core/01-tutorials/07-AgentCore-E2E/.dockerignore') runtime='Docker' region='us-east-1' account_id='057716757052' execution_role='arn:aws:iam::057716757052:role/CustomerSupportAssistantBedrockAgentCoreRole-us-east-1' ecr_repository=None auto_create_ecr=True\n"
     ]
    }
   ],
   "source": [
    "from bedrock_agentcore_starter_toolkit import Runtime\n",
    "from lab_helpers.utils import create_agentcore_runtime_execution_role\n",
    "\n",
    "# Initialize the runtime toolkit\n",
    "boto_session = boto3.session.Session()\n",
    "region = boto_session.region_name\n",
    "\n",
    "execution_role_arn = create_agentcore_runtime_execution_role()\n",
    "\n",
    "agentcore_runtime = Runtime()\n",
    "\n",
    "# Configure the deployment\n",
    "response = agentcore_runtime.configure(\n",
    "    entrypoint=\"lab_helpers/lab4_runtime.py\",\n",
    "    execution_role=execution_role_arn,\n",
    "    auto_create_ecr=True,\n",
    "    requirements_file=\"requirements.txt\",\n",
    "    region=region,\n",
    "    agent_name=\"customer_support_agent\",\n",
    "    authorizer_configuration={\n",
    "        \"customJWTAuthorizer\": {\n",
    "            \"allowedClients\": [cognito_config.get(\"client_id\")],\n",
    "            \"discoveryUrl\": cognito_config.get(\"discovery_url\"),\n",
    "        }\n",
    "    },\n",
    ")\n",
    "\n",
    "print(\"Configuration completed:\", response)"
   ]
  },
  {
   "cell_type": "markdown",
   "id": "9e1b84cc-798e-472c-ac0b-2c315f4b704d",
   "metadata": {},
   "source": [
    "#### Launch the Agent\n",
    "\n",
    "Now let's launch our agent to AgentCore Runtime. This will create an AWS CodeBuild pipeline, the Amazon ECR repository and the AgentCore Runtime components.\n",
    "\n",
    "<div style=\"text-align:left\"> \n",
    "    <img src=\"images/launch.png\" width=\"100%\"/> \n",
    "</div>"
   ]
  },
  {
   "cell_type": "code",
   "execution_count": 5,
   "id": "afa6ac09-9adb-4846-9fc1-4d12aeb74853",
   "metadata": {},
   "outputs": [
    {
     "name": "stderr",
     "output_type": "stream",
     "text": [
      "🚀 CodeBuild mode: building in cloud (RECOMMENDED - DEFAULT)\n",
      "   • Build ARM64 containers in the cloud with CodeBuild\n",
      "   • No local Docker required\n",
      "💡 Available deployment modes:\n",
      "   • runtime.launch()                           → CodeBuild (current)\n",
      "   • runtime.launch(local=True)                 → Local development\n",
      "   • runtime.launch(local_build=True)           → Local build + cloud deploy (NEW)\n",
      "Starting CodeBuild ARM64 deployment for agent 'customer_support_agent' to account 057716757052 (us-east-1)\n",
      "Starting CodeBuild ARM64 deployment for agent 'customer_support_agent' to account 057716757052 (us-east-1)\n",
      "Setting up AWS resources (ECR repository, execution roles)...\n",
      "Getting or creating ECR repository for agent: customer_support_agent\n",
      "✅ ECR repository available: 057716757052.dkr.ecr.us-east-1.amazonaws.com/bedrock-agentcore-customer_support_agent\n",
      "Using execution role from config: arn:aws:iam::057716757052:role/CustomerSupportAssistantBedrockAgentCoreRole-us-east-1\n"
     ]
    },
    {
     "name": "stdout",
     "output_type": "stream",
     "text": [
      "Repository doesn't exist, creating new ECR repository: bedrock-agentcore-customer_support_agent\n"
     ]
    },
    {
     "name": "stderr",
     "output_type": "stream",
     "text": [
      "✅ Execution role validation passed: arn:aws:iam::057716757052:role/CustomerSupportAssistantBedrockAgentCoreRole-us-east-1\n",
      "Preparing CodeBuild project and uploading source...\n",
      "Getting or creating CodeBuild execution role for agent: customer_support_agent\n",
      "Role name: AmazonBedrockAgentCoreSDKCodeBuild-us-east-1-aa96c3a063\n",
      "CodeBuild role doesn't exist, creating new role: AmazonBedrockAgentCoreSDKCodeBuild-us-east-1-aa96c3a063\n",
      "Creating IAM role: AmazonBedrockAgentCoreSDKCodeBuild-us-east-1-aa96c3a063\n",
      "✓ Role created: arn:aws:iam::057716757052:role/AmazonBedrockAgentCoreSDKCodeBuild-us-east-1-aa96c3a063\n",
      "Attaching inline policy: CodeBuildExecutionPolicy to role: AmazonBedrockAgentCoreSDKCodeBuild-us-east-1-aa96c3a063\n",
      "✓ Policy attached: CodeBuildExecutionPolicy\n",
      "Waiting for IAM role propagation...\n",
      "CodeBuild execution role creation complete: arn:aws:iam::057716757052:role/AmazonBedrockAgentCoreSDKCodeBuild-us-east-1-aa96c3a063\n",
      "Using .dockerignore with 44 patterns\n",
      "Uploaded source to S3: customer_support_agent/20250816-071646.zip\n",
      "Created CodeBuild project: bedrock-agentcore-customer_support_agent-builder\n",
      "Starting CodeBuild build (this may take several minutes)...\n",
      "Starting CodeBuild monitoring...\n",
      "🔄 QUEUED started (total: 0s)\n",
      "✅ QUEUED completed in 5.0s\n",
      "🔄 PROVISIONING started (total: 5s)\n",
      "✅ PROVISIONING completed in 5.0s\n",
      "🔄 DOWNLOAD_SOURCE started (total: 10s)\n",
      "✅ DOWNLOAD_SOURCE completed in 5.0s\n",
      "🔄 PRE_BUILD started (total: 15s)\n",
      "✅ PRE_BUILD completed in 5.0s\n",
      "🔄 BUILD started (total: 20s)\n",
      "✅ BUILD completed in 55.4s\n",
      "🔄 POST_BUILD started (total: 76s)\n",
      "✅ POST_BUILD completed in 10.1s\n",
      "🔄 COMPLETED started (total: 86s)\n",
      "✅ COMPLETED completed in 0.0s\n",
      "🎉 CodeBuild completed successfully in 1m 25s\n",
      "CodeBuild completed successfully\n",
      "✅ CodeBuild project configuration saved\n",
      "Deploying to Bedrock AgentCore...\n",
      "✅ Agent created/updated: arn:aws:bedrock-agentcore:us-east-1:057716757052:runtime/customer_support_agent-fh7PV65rcr\n",
      "Polling for endpoint to be ready...\n",
      "Agent endpoint: arn:aws:bedrock-agentcore:us-east-1:057716757052:runtime/customer_support_agent-fh7PV65rcr/runtime-endpoint/DEFAULT\n",
      "Deployment completed successfully - Agent: arn:aws:bedrock-agentcore:us-east-1:057716757052:runtime/customer_support_agent-fh7PV65rcr\n",
      "Built with CodeBuild: bedrock-agentcore-customer_support_agent-builder:e78a978a-cfe7-4400-8108-e7bd53ca685e\n",
      "Deployed to cloud: arn:aws:bedrock-agentcore:us-east-1:057716757052:runtime/customer_support_agent-fh7PV65rcr\n",
      "ECR image: 057716757052.dkr.ecr.us-east-1.amazonaws.com/bedrock-agentcore-customer_support_agent\n",
      "🔍 Agent logs available at:\n",
      "   /aws/bedrock-agentcore/runtimes/customer_support_agent-fh7PV65rcr-DEFAULT\n",
      "   /aws/bedrock-agentcore/runtimes/customer_support_agent-fh7PV65rcr-DEFAULT/runtime-logs\n",
      "💡 Tail logs with: aws logs tail /aws/bedrock-agentcore/runtimes/customer_support_agent-fh7PV65rcr-DEFAULT --follow\n",
      "💡 Or view recent logs: aws logs tail /aws/bedrock-agentcore/runtimes/customer_support_agent-fh7PV65rcr-DEFAULT --since 1h\n"
     ]
    },
    {
     "name": "stdout",
     "output_type": "stream",
     "text": [
      "Launch completed: arn:aws:bedrock-agentcore:us-east-1:057716757052:runtime/customer_support_agent-fh7PV65rcr\n"
     ]
    }
   ],
   "source": [
    "# Launch the agent (this will build and deploy the container)\n",
    "from lab_helpers.utils import put_ssm_parameter\n",
    "\n",
    "launch_result = agentcore_runtime.launch()\n",
    "print(\"Launch completed:\", launch_result.agent_arn)\n",
    "\n",
    "agent_arn = put_ssm_parameter(\n",
    "    \"/app/customersupport/agentcore/runtime_arn\", launch_result.agent_arn\n",
    ")"
   ]
  },
  {
   "cell_type": "markdown",
   "id": "a0ae9c09-09db-4a76-871a-92eacd96b9c3",
   "metadata": {},
   "source": [
    "#### Check Deployment Status\n",
    "\n",
    "Let's wait for the deployment to complete:\n"
   ]
  },
  {
   "cell_type": "code",
   "execution_count": 6,
   "id": "3d909e42-e1a0-407f-84c2-3d16cc889cd3",
   "metadata": {},
   "outputs": [
    {
     "name": "stderr",
     "output_type": "stream",
     "text": [
      "Retrieved Bedrock AgentCore status for: customer_support_agent\n"
     ]
    },
    {
     "name": "stdout",
     "output_type": "stream",
     "text": [
      "Final status: READY\n"
     ]
    }
   ],
   "source": [
    "import time\n",
    "\n",
    "# Wait for the agent to be ready\n",
    "status_response = agentcore_runtime.status()\n",
    "status = status_response.endpoint[\"status\"]\n",
    "\n",
    "end_status = [\"READY\", \"CREATE_FAILED\", \"DELETE_FAILED\", \"UPDATE_FAILED\"]\n",
    "while status not in end_status:\n",
    "    print(f\"Waiting for deployment... Current status: {status}\")\n",
    "    time.sleep(10)\n",
    "    status_response = agentcore_runtime.status()\n",
    "    status = status_response.endpoint[\"status\"]\n",
    "\n",
    "print(f\"Final status: {status}\")"
   ]
  },
  {
   "cell_type": "markdown",
   "id": "b7f89c56-918a-4cab-beaa-c7ac43a2ba29",
   "metadata": {},
   "source": [
    "### Step 4: Invoking Your Deployed Agent\n",
    "\n",
    "Now that our agent is deployed and ready, let's test it with some queries. We invoke the agent with the right authorization token type. In out case it'll be Cognito access token. Copy the access token from the cell above\n",
    "\n",
    "<div style=\"text-align:left\"> \n",
    "    <img src=\"images/invoke.png\" width=\"100%\"/> \n",
    "</div>\n",
    "\n",
    "#### Using the AgentCore Starter Toolkit\n",
    "\n",
    "We can validate that the agent works using the AgentCore Starter Toolkit for invocation. The starter toolkit can automatically create a session id for us to query our agent. Alternatively, you can also pass the session id as a parameter during invocation. For demonstration purpose, we will create our own session id."
   ]
  },
  {
   "cell_type": "code",
   "execution_count": 11,
   "id": "be15c4b6",
   "metadata": {},
   "outputs": [
    {
     "name": "stderr",
     "output_type": "stream",
     "text": [
      "Invoking BedrockAgentCore agent 'customer_support_agent' via cloud endpoint\n"
     ]
    },
    {
     "data": {
      "text/plain": [
       "{'response': '\"아이폰의 블루투스 연결 문제를 해결하기 위한 몇 가지 단계를 안내해 드리겠습니다:\\\\n\\\\n### 기본 문제 해결 단계:\\\\n\\\\n1. **블루투스 켜고 끄기**:\\\\n   - 설정 앱 → 블루투스를 끈 다음 몇 초 후 다시 켜보세요.\\\\n   - 컨트롤 센터에서 블루투스 아이콘을 눌러 끈 후 다시 활성화해 보세요.\\\\n\\\\n2. **기기 재부팅**:\\\\n   - 아이폰을 완전히 종료한 후 다시 켜보세요.\\\\n\\\\n3. **네트워크 설정 초기화**:\\\\n   - 설정 → 일반 → 재설정 → 네트워크 설정 재설정\\\\n   - (참고: 이 방법은 저장된 Wi-Fi 암호와 블루투스 연결을 모두 삭제합니다)\\\\n\\\\n4. **페어링된 장치 삭제 후 다시 연결**:\\\\n   - 설정 → 블루투스 → 연결하려는 장치 옆의 (i) 아이콘 → \\\\\"이 장치 지우기\\\\\"\\\\n   - 그런 다음 장치를 다시 페어링해 보세요.\\\\n\\\\n5. **최신 iOS 업데이트 확인**:\\\\n   - 설정 → 일반 → 소프트웨어 업데이트에서 최신 iOS 버전 확인\\\\n\\\\n6. **연결하려는 블루투스 장치도 재부팅**:\\\\n   - 헤드폰, 스피커 등 연결하려는 장치도 껐다 켜보세요.\\\\n\\\\n### 지속적인 문제 발생 시:\\\\n\\\\n- 다른 블루투스 장치와 연결을 시도하여 문제가 특정 장치에만 있는지 확인해 보세요.\\\\n- 안전 모드에서 아이폰 재부팅을 시도해 보세요.\\\\n- 애플 지원 센터에 문의하시면 더 전문적인 도움을 받으실 수 있습니다.\\\\n\\\\n혹시 특정 블루투스 장치와의 연결 문제인지, 아니면 모든 블루투스 장치에서 발생하는 문제인지 알려주시면 더 구체적인 도움을 드릴 수 있을 것 같습니다. 다른 질문이 있으시거나 추가 지원이 필요하시면 언제든지 말씀해 주세요!\"'}"
      ]
     },
     "execution_count": 11,
     "metadata": {},
     "output_type": "execute_result"
    }
   ],
   "source": [
    "import uuid\n",
    "\n",
    "# Create a session ID for demonstrating session continuity\n",
    "session_id = uuid.uuid4()\n",
    "\n",
    "# Test different customer support scenarios\n",
    "# user_query = \"My Iphone is not connecting with the Bluetooth. What should I do?\"\n",
    "user_query = \"제 아이폰이 블루투스와 연결되지 않아요. 어떻게 해야 하나요?\"\n",
    "\n",
    "bearer_token = reauthenticate_user(\n",
    "    cognito_config.get(\"client_id\"), \n",
    "    cognito_config.get(\"client_secret\")\n",
    ")\n",
    "\n",
    "response = agentcore_runtime.invoke(\n",
    "    {\"prompt\": user_query}, \n",
    "    bearer_token=bearer_token,\n",
    "    session_id=str(session_id)\n",
    ")\n",
    "response"
   ]
  },
  {
   "cell_type": "markdown",
   "id": "79840836-5cd5-4139-a188-09d181438840",
   "metadata": {},
   "source": [
    "#### Invoking the agent with session continuity\n",
    "\n",
    "Since we are using AgentCore Runtime, we can easily continue our conversation with the same session id."
   ]
  },
  {
   "cell_type": "code",
   "execution_count": 9,
   "id": "2e378d3f-1fcf-4d8e-b8eb-d34578a788ff",
   "metadata": {},
   "outputs": [
    {
     "name": "stderr",
     "output_type": "stream",
     "text": [
      "Invoking BedrockAgentCore agent 'customer_support_agent' via cloud endpoint\n"
     ]
    },
    {
     "data": {
      "text/plain": [
       "{'response': '\"아이폰 블루투스 문제에 대해 계속 불편을 겪고 계시는 것 같습니다. 한국어로 도움을 드리겠습니다.\\\\n\\\\n더 심화된 문제 해결 방법을 안내해 드리겠습니다:\\\\n\\\\n1. **네트워크 설정 초기화**:\\\\n   - 설정 > 일반 > 재설정 > 네트워크 설정 재설정\\\\n   - 참고: 저장된 모든 Wi-Fi 네트워크와 비밀번호, 셀룰러 설정 및 VPN 구성이 삭제됩니다\\\\n\\\\n2. **강제 재시작**:\\\\n   - iPhone 8 이상: 음량 올리기 버튼을 눌렀다 뗀 후, 음량 내리기 버튼을 눌렀다 뗀 다음, 측면 버튼을 Apple 로고가 나타날 때까지 길게 누르세요\\\\n   - iPhone 7: 음량 내리기 버튼과 전원 버튼을 Apple 로고가 나타날 때까지 함께 길게 누르세요\\\\n   - iPhone 6s 이하: 홈 버튼과 전원 버튼을 Apple 로고가 나타날 때까지 함께 길게 누르세요\\\\n\\\\n3. **iOS 업데이트 확인**:\\\\n   - 설정 > 일반 > 소프트웨어 업데이트\\\\n   - 연결성 문제에 대한 버그 수정이 포함되어 있을 수 있으니 가능한 업데이트가 있으면 설치하세요\\\\n\\\\n4. **기기 설정 초기화**:\\\\n   - 설정 > 일반 > 재설정 > 모든 설정 재설정\\\\n   - 참고: 개인 데이터는 유지되지만 모든 시스템 설정이 기본값으로 돌아갑니다\\\\n\\\\n5. **간섭 확인**:\\\\n   - 전자레인지나 다른 블루투스 기기와 같은 간섭을 일으킬 수 있는 장치가 근처에 없는지 확인하세요\\\\n\\\\n위의 방법들로도 문제가 해결되지 않는다면, 하드웨어 문제일 수 있습니다. 아이폰은 1년 제조사 보증이 제공되므로, 기기가 아직 보증 기간 내라면 수리나 교체를 받으실 수 있습니다.\\\\n\\\\n추가 도움이 필요하시거나 더 자세한 정보를 원하시면 알려주세요. 문제 해결을 위해 계속 도와드리겠습니다.\"'}"
      ]
     },
     "execution_count": 9,
     "metadata": {},
     "output_type": "execute_result"
    }
   ],
   "source": [
    "# user_query = \"I've turned my Bluetooth on and off but it still does not work\"\n",
    "user_query = \"블루투스를 켰다 껐다 해봤는데도 여전히 작동하지 않아요\"\n",
    "response = agentcore_runtime.invoke(\n",
    "    {\"prompt\": user_query}, \n",
    "    bearer_token=bearer_token,\n",
    "    session_id=str(session_id)\n",
    ")\n",
    "response"
   ]
  },
  {
   "cell_type": "markdown",
   "id": "687d63ab-c72d-46a7-a9da-d8b008c75136",
   "metadata": {},
   "source": [
    "#### Invoking the agent with a new user\n",
    "In the example below we have not mentioned the Iphone device in the second query, but our agent still has the context of it. This is due to the AgentCore Runtime session continuity. The agent won't know the context for a new user."
   ]
  },
  {
   "cell_type": "code",
   "execution_count": 10,
   "id": "92a84f17-9a71-4025-ba9e-c10682e7cd8e",
   "metadata": {},
   "outputs": [
    {
     "name": "stderr",
     "output_type": "stream",
     "text": [
      "Invoking BedrockAgentCore agent 'customer_support_agent' via cloud endpoint\n"
     ]
    },
    {
     "data": {
      "text/plain": [
       "{'response': '\"안녕하세요. 죄송합니다만, 어떤 기기의 문제인지 정확히 파악하기 어렵습니다. 제공해주신 정보에 따르면 iPhone의 블루투스 연결 문제이거나 게임 콘솔에 관한 문제일 수 있습니다. 도움을 드리기 위해 좀 더 자세한 정보가 필요합니다.\\\\n\\\\n혹시 iPhone의 블루투스 연결 문제에 대해 말씀하시는 것인가요? 아니면 Gaming Console Pro에 관련된 문제인가요? 또한 어떤 기본적인 문제해결 단계를 이미 시도해보셨는지 알려주시면 더 정확한 도움을 드릴 수 있습니다.\\\\n\\\\n문제를 해결하기 위해 스마트폰 또는 게임 콘솔에 대한 제품 정보를 확인해 드릴 수 있습니다. 정확히 어떤 기기에 대한 도움이 필요하신지 알려주시겠어요?\"'}"
      ]
     },
     "execution_count": 10,
     "metadata": {},
     "output_type": "execute_result"
    }
   ],
   "source": [
    "# Creating a new session ID for demonstrating new customer\n",
    "session_id2 = uuid.uuid4()\n",
    "\n",
    "# user_query = \"Still not working. What is going on?\"\n",
    "user_query = \"여전히 작동하지 않아요. 무슨 일이 일어나고 있는 거죠?\"\n",
    "response = agentcore_runtime.invoke(\n",
    "    {\"prompt\": user_query}, \n",
    "    bearer_token=bearer_token,\n",
    "    session_id=str(session_id2)\n",
    ")\n",
    "response"
   ]
  },
  {
   "cell_type": "markdown",
   "id": "087ad1d9",
   "metadata": {},
   "source": [
    "In this case our agent does not have the context anymore and needs more information. \n",
    "\n",
    "And it is all it takes to have a secure and scalable endpoint for our Agent with no need to manage all the underlying infrastructure!"
   ]
  },
  {
   "cell_type": "markdown",
   "id": "ca82b1ee",
   "metadata": {},
   "source": [
    "### Step 5: AgentCore Observability\n",
    "\n",
    "[AgentCore Observability](https://docs.aws.amazon.com/bedrock-agentcore/latest/devguide/observability.html) provides monitoring and tracing capabilities for AI agents using Amazon OpenTelemetry Python Instrumentation and Amazon CloudWatch GenAI Observability.\n",
    "\n",
    "#### Agents\n",
    "\n",
    "Default AgentCore Runtime configuration allows for logging our agent's traces on CloudWatch by means of **AgentCore Observability**. These traces can be seen on the AWS CloudWatch GenAI Observability dashboard. Navigate to Cloudwatch &rarr; GenAI Observability &rarr; Bedrock AgentCore.\n",
    "\n",
    "![Agents Overview on CloudWatch](images/observability_agents.png)\n",
    "\n",
    "#### Sessions\n",
    "\n",
    "The Sessions view shows the list of all the sessions associated with all agents in your account.\n",
    "\n",
    "![sessions](images/sessions_lab5_observability.png)\n",
    "\n",
    "#### Traces\n",
    "\n",
    "Trace view lists all traces from your agents in this account. To work with traces:\n",
    "\n",
    "- Choose Filter traces to search for specific traces.\n",
    "- Sort by column name to organize results.\n",
    "- Under Actions, select Logs Insights to refine your search by querying across your log and span data or select Export selected traces to export.\n",
    "\n",
    "![traces](images/traces_lab4_observability.png)\n"
   ]
  },
  {
   "cell_type": "markdown",
   "id": "7c243e86-a214-483c-aef1-d5243f28ca9e",
   "metadata": {},
   "source": [
    "### Congratulations! 🎉\n",
    "\n",
    "You have successfully completed **Lab 4: Deploy to Production - Use AgentCore Runtime with Observability!**\n",
    "\n",
    "Here is what you accomplished:\n",
    "\n",
    "##### Production-Ready Deployment:\n",
    "\n",
    "- Prepared your agent for production with minimal code changes (only 4 lines added)\n",
    "- Validated proper session isolation between different customers\n",
    "- Confirmed session continuity + memory persistence and context awareness per session\n",
    "\n",
    "##### Enterprise-Grade Security & Identity:\n",
    "\n",
    "- Implemented secure authentication using Cognito integration with JWT tokens\n",
    "- Configured proper IAM roles and execution permissions for production workloads\n",
    "- Established identity-based access control for secure agent invocation\n",
    "\n",
    "##### Comprehensive Observability:\n",
    "\n",
    "- Enabled AgentCore Observability for full request tracing across all customer sessions\n",
    "- Configured CloudWatch GenAI Observability dashboard monitoring\n",
    "\n",
    "##### Current Limitations (We'll fix these next!):\n",
    "\n",
    "- **Developer Focused Interaction** - Agent accessible via SDK/API calls but no user-friendly web interface\n",
    "- **Manual Session Management** - Requires programmatic session creation rather than intuitive user experience\n",
    "\n",
    "##### Next Up [Lab 4: Build User Interface →](lab-05-frontend.ipynb)\n",
    "In Lab 5, you'll complete the customer experience by building a user-friendly interface !! Lets go !!\n"
   ]
  }
 ],
 "metadata": {
  "kernelspec": {
   "display_name": ".venv (Python 3.10.18)",
   "language": "python",
   "name": ".venv"
  },
  "language_info": {
   "codemirror_mode": {
    "name": "ipython",
    "version": 3
   },
   "file_extension": ".py",
   "mimetype": "text/x-python",
   "name": "python",
   "nbconvert_exporter": "python",
   "pygments_lexer": "ipython3",
   "version": "3.10.18"
  }
 },
 "nbformat": 4,
 "nbformat_minor": 5
}
