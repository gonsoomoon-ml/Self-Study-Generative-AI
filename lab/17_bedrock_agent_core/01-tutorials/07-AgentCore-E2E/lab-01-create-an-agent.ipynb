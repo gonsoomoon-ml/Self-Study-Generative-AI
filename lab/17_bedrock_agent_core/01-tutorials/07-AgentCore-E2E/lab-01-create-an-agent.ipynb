{
 "cells": [
  {
   "cell_type": "markdown",
   "metadata": {},
   "source": [
    "## Lab 1: Creating a simple customer support agent prototype\n",
    "\n",
    "### Overview\n",
    "\n",
    "[Amazon Bedrock AgentCore](https://aws.amazon.com/bedrock/agentcore/) helps you deploying and operating AI agents securely at scale - using any framework and model. It provides you with the capability to move from prototype to production faster. \n",
    "\n",
    "In this 5-labs tutorial, we will demonstrate the end-to-end journey from prototype to production using a **Customer Support Agent**. For this example we will use [Strands Agents](https://strandsagents.com/latest/), a simple-to-use, code-first framework for building agents and the Anthropic Claude Sonnet 3.7 model from Amazon Bedrock. For your application you can use the framework and model of your choice. It's important to note that the concepts covered here can be applied using other frameworks and models as well.\n",
    "\n",
    "**Workshop Journey:**\n",
    "- **Lab 1 (Current)**: Create Agent Prototype - Build a functional customer support agent\n",
    "- **Lab 2**: Enhance with Memory - Add conversation context and personalization\n",
    "- **Lab 3**: Scale with Gateway & Identity - Share tools across agents securely\n",
    "- **Lab 4**: Deploy to Production - Use AgentCore Runtime with observability\n",
    "- **Lab 5**: Build User Interface - Create a customer-facing application\n",
    "\n",
    "In this first lab, we'll build a Customer Support Agent prototype that will evolve throughout the workshop into a production-ready system serving multiple customers with persistent memory, shared tools, and full observability. Our agent will have the following local tools available:\n",
    "- **get_return_policy()** - Get return policy for specific products\n",
    "- **get_product_info()** - Get product information\n",
    "- **web_search()** - Search the web for troubleshooting help\n",
    "\n",
    "\n",
    "### Architecture for Lab 1\n",
    "<div style=\"text-align:left\">\n",
    "    <img src=\"images/architecture_lab1_strands.png\" width=\"75%\"/>\n",
    "</div>\n",
    "\n",
    "*Simple prototype running locally. In subsequent labs, we'll migrate this to AgentCore services with shared tools, persistent memory, and production-grade observability.*\n",
    "\n",
    "### Prerequisites\n",
    "\n",
    "* **AWS Account** with appropriate permissions\n",
    "* **Python 3.10+** installed locally\n",
    "* **AWS CLI configured** with credentials\n",
    "* **Anthropic Claude 3.7** enabled on [Amazon Bedrock](https://docs.aws.amazon.com/bedrock/latest/userguide/model-access.html)\n",
    "* **Strands Agents** and other libraries installed in the next cells"
   ]
  },
  {
   "cell_type": "markdown",
   "metadata": {},
   "source": [
    "### Step 1: Install Dependencies and Import Libraries\n",
    "Before we start, let's install the pre-requisites for this lab"
   ]
  },
  {
   "cell_type": "code",
   "execution_count": 1,
   "metadata": {},
   "outputs": [],
   "source": [
    "# Install required packages\n",
    "# %pip install -U -r requirements.txt -q"
   ]
  },
  {
   "cell_type": "markdown",
   "metadata": {},
   "source": [
    "We can now import the required libraries and initialize our boto3 session"
   ]
  },
  {
   "cell_type": "code",
   "execution_count": 2,
   "metadata": {},
   "outputs": [],
   "source": [
    "# Import libraries\n",
    "import boto3\n",
    "from boto3.session import Session\n",
    "\n",
    "from ddgs.exceptions import DDGSException, RatelimitException\n",
    "from ddgs import DDGS\n",
    "\n",
    "from strands.tools import tool\n",
    "from scripts.utils import put_ssm_parameter"
   ]
  },
  {
   "cell_type": "code",
   "execution_count": 3,
   "metadata": {},
   "outputs": [],
   "source": [
    "# Get boto session\n",
    "boto_session = Session()\n",
    "region = boto_session.region_name"
   ]
  },
  {
   "cell_type": "markdown",
   "metadata": {},
   "source": [
    "### Step 2: Implementing custom tools\n",
    "\n",
    "Next, we will implement the 3 tools which will be provided to the Customer Support Agent.\n",
    "\n",
    "Defining tools in Strands Agent is extremely simple, just add a `@tool` decorator to your function, and provide a description of the tool in the function's docstring. Strands Agents will use the function documentation, typing and arguments to provide context on this tool to your agent. \n"
   ]
  },
  {
   "cell_type": "markdown",
   "metadata": {},
   "source": [
    "#### Tool 1: Get Return Policy\n",
    "\n",
    "**Purpose:** This tool helps customers understand return policies for different product categories. It provides detailed information about return windows, conditions, processes, and refund timelines so customers know exactly what to expect when returning items."
   ]
  },
  {
   "cell_type": "code",
   "execution_count": 4,
   "metadata": {},
   "outputs": [
    {
     "name": "stdout",
     "output_type": "stream",
     "text": [
      "✅ Return policy tool ready\n"
     ]
    }
   ],
   "source": [
    "@tool\n",
    "def get_return_policy(product_category: str) -> str:\n",
    "    \"\"\"\n",
    "    Get return policy information for a specific product category.\n",
    "\n",
    "    Args:\n",
    "        product_category: Electronics category (e.g., 'smartphones', 'laptops', 'accessories')\n",
    "\n",
    "    Returns:\n",
    "        Formatted return policy details including timeframes and conditions\n",
    "    \"\"\"\n",
    "    # Mock return policy database - in real implementation, this would query policy database\n",
    "    return_policies = {\n",
    "        \"smartphones\": {\n",
    "            \"window\": \"30 days\",\n",
    "            \"condition\": \"Original packaging, no physical damage, factory reset required\",\n",
    "            \"process\": \"Online RMA portal or technical support\",\n",
    "            \"refund_time\": \"5-7 business days after inspection\",\n",
    "            \"shipping\": \"Free return shipping, prepaid label provided\",\n",
    "            \"warranty\": \"1-year manufacturer warranty included\"\n",
    "        },\n",
    "         \"laptops\": {\n",
    "            \"window\": \"30 days\", \n",
    "            \"condition\": \"Original packaging, all accessories, no software modifications\",\n",
    "            \"process\": \"Technical support verification required before return\",\n",
    "            \"refund_time\": \"7-10 business days after inspection\",\n",
    "            \"shipping\": \"Free return shipping with original packaging\",\n",
    "            \"warranty\": \"1-year manufacturer warranty, extended options available\"\n",
    "        },\n",
    "        \"accessories\": {\n",
    "            \"window\": \"30 days\",\n",
    "            \"condition\": \"Unopened packaging preferred, all components included\",\n",
    "            \"process\": \"Online return portal\",\n",
    "            \"refund_time\": \"3-5 business days after receipt\",\n",
    "            \"shipping\": \"Customer pays return shipping under $50\",\n",
    "            \"warranty\": \"90-day manufacturer warranty\"\n",
    "        }\n",
    "    }\n",
    "\n",
    "    # Default policy for unlisted categories\n",
    "    default_policy = {\n",
    "        \"window\": \"30 days\",\n",
    "        \"condition\": \"Original condition with all included components\",\n",
    "        \"process\": \"Contact technical support\",\n",
    "        \"refund_time\": \"5-7 business days after inspection\", \n",
    "        \"shipping\": \"Return shipping policies vary\",\n",
    "        \"warranty\": \"Standard manufacturer warranty applies\"\n",
    "    }\n",
    "\n",
    "    policy = return_policies.get(product_category.lower(), default_policy)\n",
    "    return f\"Return Policy - {product_category.title()}:\\n\\n\" \\\n",
    "           f\"• Return window: {policy['window']} from delivery\\n\" \\\n",
    "           f\"• Condition: {policy['condition']}\\n\" \\\n",
    "           f\"• Process: {policy['process']}\\n\" \\\n",
    "           f\"• Refund timeline: {policy['refund_time']}\\n\" \\\n",
    "           f\"• Shipping: {policy['shipping']}\\n\" \\\n",
    "           f\"• Warranty: {policy['warranty']}\"\n",
    "print(\"✅ Return policy tool ready\")"
   ]
  },
  {
   "cell_type": "markdown",
   "metadata": {},
   "source": [
    "#### Tool 2: Get Product Information\n",
    "\n",
    "**Purpose:** This tool provides customers with comprehensive product details including warranties, available models, key features, shipping policies, and return information. It helps customers make informed purchasing decisions and understand what they're buying."
   ]
  },
  {
   "cell_type": "code",
   "execution_count": 5,
   "metadata": {},
   "outputs": [
    {
     "name": "stdout",
     "output_type": "stream",
     "text": [
      "✅ get_product_info tool ready\n"
     ]
    }
   ],
   "source": [
    "@tool\n",
    "def get_product_info(product_type: str) -> str:\n",
    "    \"\"\"\n",
    "    Get detailed technical specifications and information for electronics products.\n",
    "\n",
    "    Args:\n",
    "        product_type: Electronics product type (e.g., 'laptops', 'smartphones', 'headphones', 'monitors')\n",
    "    Returns:\n",
    "        Formatted product information including warranty, features, and policies\n",
    "    \"\"\"\n",
    "    # Mock product catalog - in real implementation, this would query a product database\n",
    "    products = {\n",
    "        \"laptops\": {\n",
    "            \"warranty\": \"1-year manufacturer warranty + optional extended coverage\",\n",
    "            \"specs\": \"Intel/AMD processors, 8-32GB RAM, SSD storage, various display sizes\",\n",
    "            \"features\": \"Backlit keyboards, USB-C/Thunderbolt, Wi-Fi 6, Bluetooth 5.0\",\n",
    "            \"compatibility\": \"Windows 11, macOS, Linux support varies by model\",\n",
    "            \"support\": \"Technical support and driver updates included\"\n",
    "        },\n",
    "        \"smartphones\": {\n",
    "            \"warranty\": \"1-year manufacturer warranty\",\n",
    "            \"specs\": \"5G/4G connectivity, 128GB-1TB storage, multiple camera systems\",\n",
    "            \"features\": \"Wireless charging, water resistance, biometric security\",\n",
    "            \"compatibility\": \"iOS/Android, carrier unlocked options available\",\n",
    "            \"support\": \"Software updates and technical support included\"\n",
    "        },\n",
    "        \"headphones\": {\n",
    "            \"warranty\": \"1-year manufacturer warranty\",\n",
    "            \"specs\": \"Wired/wireless options, noise cancellation, 20Hz-20kHz frequency\",\n",
    "            \"features\": \"Active noise cancellation, touch controls, voice assistant\",\n",
    "            \"compatibility\": \"Bluetooth 5.0+, 3.5mm jack, USB-C charging\",\n",
    "            \"support\": \"Firmware updates via companion app\"\n",
    "        },\n",
    "        \"monitors\": {\n",
    "            \"warranty\": \"3-year manufacturer warranty\",\n",
    "            \"specs\": \"4K/1440p/1080p resolutions, IPS/OLED panels, various sizes\",\n",
    "            \"features\": \"HDR support, high refresh rates, adjustable stands\",\n",
    "            \"compatibility\": \"HDMI, DisplayPort, USB-C inputs\",\n",
    "            \"support\": \"Color calibration and technical support\"\n",
    "        }\n",
    "    }\n",
    "    product = products.get(product_type.lower())\n",
    "    if not product:\n",
    "        return f\"Technical specifications for {product_type} not available. Please contact our technical support team for detailed product information and compatibility requirements.\"\n",
    "\n",
    "    return f\"Technical Information - {product_type.title()}:\\n\\n\" \\\n",
    "           f\"• Warranty: {product['warranty']}\\n\" \\\n",
    "           f\"• Specifications: {product['specs']}\\n\" \\\n",
    "           f\"• Key Features: {product['features']}\\n\" \\\n",
    "           f\"• Compatibility: {product['compatibility']}\\n\" \\\n",
    "           f\"• Support: {product['support']}\"\n",
    "\n",
    "print(\"✅ get_product_info tool ready\")"
   ]
  },
  {
   "cell_type": "markdown",
   "metadata": {},
   "source": [
    "#### Tool 3: Web-search\n",
    "\n",
    "**Purpose:** This tool allows customers to get troubleshooting support or suggestions on product recommendations etc."
   ]
  },
  {
   "cell_type": "code",
   "execution_count": 12,
   "metadata": {},
   "outputs": [
    {
     "name": "stdout",
     "output_type": "stream",
     "text": [
      "✅ Web search tool ready\n"
     ]
    }
   ],
   "source": [
    "@tool\n",
    "def web_search(keywords: str, region: str = \"us-en\", max_results: int = 5) -> str:\n",
    "    \"\"\"Search the web for updated information.\n",
    "    \n",
    "    Args:\n",
    "        keywords (str): The search query keywords.\n",
    "        region (str): The search region: wt-wt, us-en, uk-en, ru-ru, etc..\n",
    "        max_results (int | None): The maximum number of results to return.\n",
    "    Returns:\n",
    "        List of dictionaries with search results.\n",
    "    \n",
    "    \"\"\"\n",
    "    try:\n",
    "        results = DDGS().text(keywords, region=region, max_results=max_results)\n",
    "        print(\"web_search results:\\n\", results)\n",
    "        return results if results else \"No results found.\"\n",
    "    except RatelimitException:\n",
    "        return \"Rate limit reached. Please try again later.\"\n",
    "    except DDGSException as e:\n",
    "        return f\"Search error: {e}\"\n",
    "    except Exception as e:\n",
    "        return f\"Search error: {str(e)}\"\n",
    "\n",
    "print(\"✅ Web search tool ready\")"
   ]
  },
  {
   "cell_type": "markdown",
   "metadata": {},
   "source": [
    "### Step 4: Create and Configure the Customer Support Agent\n",
    "\n",
    "Next, we will create the Customer Support Agent providing a model, the list of tools implemented in the previous step, and with a system prompt."
   ]
  },
  {
   "cell_type": "code",
   "execution_count": 13,
   "metadata": {},
   "outputs": [
    {
     "name": "stdout",
     "output_type": "stream",
     "text": [
      "Customer Support Agent created successfully!\n"
     ]
    }
   ],
   "source": [
    "from strands import Agent\n",
    "from strands.models import BedrockModel\n",
    "\n",
    "SYSTEM_PROMPT = \"\"\"You are a helpful and professional customer support assistant for an electronics e-commerce company.\n",
    "Your role is to:\n",
    "- Provide accurate information using the tools available to you\n",
    "- Support the customer with technical information and product specifications.\n",
    "- Be friendly, patient, and understanding with customers\n",
    "- Always offer additional help after answering questions\n",
    "- If you can't help with something, direct customers to the appropriate contact\n",
    "\n",
    "You have access to the following tools:\n",
    "1. get_return_policy() - For warranty and return policy questions\n",
    "2. get_product_info() - To get information about a specific product\n",
    "3. web_search() - To access current technical documentation, or for updated information. \n",
    "Always use the appropriate tool to get accurate, up-to-date information rather than making assumptions about electronic products or specifications.\"\"\"\n",
    "\n",
    "# Initialize the Bedrock model (Anthropic Claude 3.7 Sonnet)\n",
    "model = BedrockModel(\n",
    "    model_id=\"us.anthropic.claude-3-7-sonnet-20250219-v1:0\",\n",
    "    temperature=0.3,\n",
    "    region_name=region\n",
    ")\n",
    "\n",
    "# Create the customer support agent with all tools\n",
    "agent = Agent(\n",
    "    model=model,\n",
    "    tools=[\n",
    "        get_product_info,  # Tool 1: Simple product information lookup\n",
    "        get_return_policy,  # Tool 2: Simple return policy lookup\n",
    "        web_search # Tool 3: Access the web for updated information\n",
    "    ],\n",
    "    system_prompt=SYSTEM_PROMPT,\n",
    ")\n",
    "\n",
    "print(\"Customer Support Agent created successfully!\")"
   ]
  },
  {
   "cell_type": "markdown",
   "metadata": {},
   "source": [
    "### Step 5: Test the Customer Support Agent\n",
    "\n",
    "Let's test our agent with sample queries to ensure all tools work correctly.\n",
    "\n",
    "#### Test Return check"
   ]
  },
  {
   "cell_type": "code",
   "execution_count": 10,
   "metadata": {},
   "outputs": [
    {
     "name": "stdout",
     "output_type": "stream",
     "text": [
      "네, ThinkPad X1 Carbon 노트북의 반품 정책에 대한 정보를 알려드리겠습니다. 바로 확인해 드리겠습니다.\n",
      "Tool #4: get_return_policy\n",
      "ThinkPad X1 Carbon 노트북의 반품 정책은 다음과 같습니다:\n",
      "\n",
      "**노트북 반품 정책:**\n",
      "- 배송일로부터 30일 이내에 반품 가능합니다\n",
      "- 제품은 원래 포장과 모든 액세서리가 포함된 상태로 반환되어야 합니다\n",
      "- 소프트웨어 수정이 없어야 합니다\n",
      "- 반품 처리 전 기술 지원 검증이 필요합니다\n",
      "- 검사 후 환불은 일반적으로 7-10 영업일 이내에 처리됩니다\n",
      "- 원래 포장을 사용하면 반품 배송은 무료입니다\n",
      "- 제품에는 1년 제조사 보증이 제공되며, 연장 보증 옵션도 이용 가능합니다\n",
      "\n",
      "반품 정책에 대해 더 자세한 정보가 필요하시거나 ThinkPad X1 Carbon 반품 절차를 시작하는 데 도움이 필요하신가요?"
     ]
    }
   ],
   "source": [
    "# response = agent(\"What's the return policy for my thinkpad X1 Carbon?\")\n",
    "response = agent(\"ThinkPad X1 Carbon 노트북의 반품 정책을 알려주세요.\")"
   ]
  },
  {
   "cell_type": "markdown",
   "metadata": {},
   "source": [
    "#### Test Troubleshooting"
   ]
  },
  {
   "cell_type": "code",
   "execution_count": 14,
   "metadata": {},
   "outputs": [
    {
     "name": "stdout",
     "output_type": "stream",
     "text": [
      "안녕하세요! iPhone 16의 발열 문제로 고민하고 계시는군요. 도움을 드리기 위해 먼저 iPhone 16에 대한 정보와 발열 문제에 대한 최신 정보를 확인해 보겠습니다.\n",
      "Tool #1: get_product_info\n",
      "\n",
      "Tool #2: web_search\n",
      "web_search results:\n",
      " [{'title': '아이폰 16 발열 원인과 해결 방법: 사용자 가이드 : 네이버 블로그', 'href': 'https://blog.naver.com/superyakuja/223746993522', 'body': '첫째, 고성능 프로세서 사용 아이폰 16 에는 최신 A18 Bionic 칩셋이 탑재되어 있습니다. 이 칩은 뛰어난 성능을 제공하지만, 연산량이 많아질수록 발열이 발생할 가능성이 높아집니다. 둘째, 배터리 효율 최적화 문제 새로운 소프트웨어 업데이트 이후 배터리 효율이 최적화되지 않았을 경우, 과도한 ...'}, {'title': '아이폰 16/15/14/13/12/11 등 발열 문제 해결하는 6가지 방법', 'href': 'https://www.wootechy.com/kr/iphone-issues/fix-iphone-overheating-issue/', 'body': 'May 19, 2025 · 요즘 들어 아이폰이 평소보다 뜨겁게 느껴지시나요? 특히 아이폰 16 , 15, 14, 13, 12, 11 모델 사용자분들 중에는 충전 중이나 앱 사용 시 발 열 문제 를 겪는 분들이 많습니다. 이 글에서는 아이폰 발 열 의 주요 원인과 6가지 실질적인 해결 방법을 정리해드릴게요.'}, {'title': '아이폰 16 프로 발열 심하고 배터리 빨리 닳는 이유는? 해결 방법과 ...', 'href': 'https://yogidamoa.tistory.com/1625', 'body': 'Apr 1, 2025 · 이번 포스팅에서는 아이폰 16 프로의 발 열 원인, 해결 방법 , 그리고 비공식 구매 제품도 교환이 가능한지 에 대한 정보를 자세하게 정리해드릴게요.'}, {'title': '아이폰 16프로 발열 문제 해결 방법 - IANNOMAD', 'href': 'https://iannomad.com/아이폰-16프로-발열-문제-해결-방법/', 'body': 'Feb 20, 2025 · 아이폰 16 프로를 사용하면서 발생하는 발 열 문제는 많은 사용자가 경험하는 일반적인 문제입니다. 이 글을 통해 발 열 문제 의 원인과 다양한 해결 방법을 알아보면, 아이폰의 성능을 최대한 활용할 수 있는 방법을 배울 수 있습니다.'}, {'title': '아이폰16 과열 현상 및 해결 방법 7가지 - 디지털 생활연구소', 'href': 'https://newstiz.com/아이폰16-과열-현상-및-해결-방법-7가지/', 'body': 'Apr 9, 2025 · 자, 이제 아이폰 16 발 열 문제 , 더 이상 두려워하지 마세요! 7가지 해결 방법 과 ReiBoot만 있으면 모든 문제 해결! 더 이상 뜨거운 아이폰 때문에 고생하지 말고, 시원하게 사용하세요!'}]\n",
      "iPhone 16 발열 문제에 대한 정보를 확인했습니다. 발열 문제를 해결하기 위한 몇 가지 방법을 알려드리겠습니다:\n",
      "\n",
      "### iPhone 16 발열 문제 해결 방법\n",
      "\n",
      "1. **백그라운드 앱 확인 및 종료**\n",
      "   - 사용하지 않는 앱을 완전히 종료하세요\n",
      "   - 설정 > 일반 > iPhone 저장 공간에서 많은 배터리를 사용하는 앱을 확인하세요\n",
      "\n",
      "2. **iOS 업데이트 확인**\n",
      "   - 설정 > 일반 > 소프트웨어 업데이트에서 최신 iOS 버전으로 업데이트하세요\n",
      "   - 최신 업데이트는 종종 발열 문제를 해결하는 패치를 포함합니다\n",
      "\n",
      "3. **케이스 제거**\n",
      "   - 두꺼운 케이스는 열 방출을 방해할 수 있으므로 잠시 케이스를 제거해보세요\n",
      "\n",
      "4. **과도한 사용 자제**\n",
      "   - 고사양 게임이나 AR 앱 등 프로세서에 부담을 주는 앱 사용 시간을 줄이세요\n",
      "   - 여러 앱을 동시에 사용하는 것을 피하세요\n",
      "\n",
      "5. **기기 재시작**\n",
      "   - 간단하지만 효과적인 방법으로, iPhone을 완전히 재시작해보세요\n",
      "\n",
      "6. **배터리 설정 확인**\n",
      "   - 설정 > 배터리에서 배터리 상태 및 사용량을 확인하세요\n",
      "   - 배터리 최적화 기능이 켜져 있는지 확인하세요\n",
      "\n",
      "지속적인 발열 문제가 있다면, 제품에 결함이 있을 수 있습니다. iPhone 16을 구매하신지 한 달 정도 되었다고 하셨으니, 아직 1년 제조사 보증 기간 내에 있습니다. 애플 공식 서비스 센터나 구매처에 방문하여 점검을 받아보시는 것을 권장드립니다.\n",
      "\n",
      "혹시 반품이나 교환에 대해 더 알고 싶으시다면, 스마트폰 관련 반품 정책에 대한 정보도 제공해 드릴 수 있습니다. 추가적인 도움이 필요하신가요?"
     ]
    }
   ],
   "source": [
    "#response = agent(\"I bought an iphone 14 last month. I don't like it because it heats up. How do I solve it?\")\n",
    "response = agent(\"iPhone 16를 지난달에 구매했는데 발열 문제가 있어서 고민이에요. 해결 방법을 알려주세요.\")\n"
   ]
  },
  {
   "cell_type": "markdown",
   "metadata": {},
   "source": [
    "## 🎉 Lab 1 Complete!\n",
    "\n",
    "You've successfully created a functional Customer Support Agent prototype! Here's what you accomplished:\n",
    "\n",
    "- Built an agent with 3 custom tools (return policy, product info, web search)  \n",
    "- Tested multi-tool interactions and web search capabilities  \n",
    "- Established the foundation for our production journey  \n",
    "\n",
    "### Current Limitations (We'll fix these!)\n",
    "- **Single user conversation memory** - local conversation session, multiple customers need multiple sessions.\n",
    "- **Conversation history limited to session** - no long term memory or cross session information is available in the conversation.\n",
    "- **Tools reusability** - tools aren't reusable across different agents  \n",
    "- **Running locally only** - not scalable\n",
    "- **Identity** - No user and/or agent identity or access control\n",
    "- **Observability** - Limited observability into agent behavior\n",
    "- **Existing APIs** - No access to existing enterprise APIs for customer data\n",
    "\n",
    "##### Next Up [Lab 2: Personalize our agent by adding memory →](lab-02-agentcore-memory.ipynb)\n"
   ]
  }
 ],
 "metadata": {
  "kernelspec": {
   "display_name": ".venv (Python 3.10.18)",
   "language": "python",
   "name": ".venv"
  },
  "language_info": {
   "codemirror_mode": {
    "name": "ipython",
    "version": 3
   },
   "file_extension": ".py",
   "mimetype": "text/x-python",
   "name": "python",
   "nbconvert_exporter": "python",
   "pygments_lexer": "ipython3",
   "version": "3.10.18"
  }
 },
 "nbformat": 4,
 "nbformat_minor": 4
}
