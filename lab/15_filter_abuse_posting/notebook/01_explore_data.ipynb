{
 "cells": [
  {
   "cell_type": "markdown",
   "id": "f6f1999f",
   "metadata": {},
   "source": [
    "# 데이터 탐색"
   ]
  },
  {
   "cell_type": "code",
   "execution_count": 31,
   "id": "af9c35c4",
   "metadata": {},
   "outputs": [
    {
     "name": "stdout",
     "output_type": "stream",
     "text": [
      "The autoreload extension is already loaded. To reload it, use:\n",
      "  %reload_ext autoreload\n",
      "python path: /Users/moongons/250501-Cursor/Self-Study-Generative-AI/lab/15_filter_abuse_posting already exists\n",
      "sys.path:  ['/Users/moongons/miniconda3/envs/abusing_post/lib/python310.zip', '/Users/moongons/miniconda3/envs/abusing_post/lib/python3.10', '/Users/moongons/miniconda3/envs/abusing_post/lib/python3.10/lib-dynload', '', '/Users/moongons/miniconda3/envs/abusing_post/lib/python3.10/site-packages', '/Users/moongons/250501-Cursor/Self-Study-Generative-AI/lab/15_filter_abuse_posting']\n"
     ]
    }
   ],
   "source": [
    "%load_ext autoreload\n",
    "%autoreload 2\n",
    "\n",
    "import sys, os\n",
    "\n",
    "def add_python_path(module_path):\n",
    "    if os.path.abspath(module_path) not in sys.path:\n",
    "        sys.path.append(os.path.abspath(module_path))\n",
    "        print(f\"python path: {os.path.abspath(module_path)} is added\")\n",
    "    else:\n",
    "        print(f\"python path: {os.path.abspath(module_path)} already exists\")\n",
    "    print(\"sys.path: \", sys.path)\n",
    "\n",
    "module_path = \"..\"\n",
    "add_python_path(module_path)"
   ]
  },
  {
   "cell_type": "code",
   "execution_count": 32,
   "id": "f7d901b3",
   "metadata": {},
   "outputs": [],
   "source": [
    "from util.common_util import (\n",
    "    show_json, show_json_product_details\n",
    ")\n",
    "\n"
   ]
  },
  {
   "cell_type": "markdown",
   "id": "22d917af",
   "metadata": {},
   "source": [
    "## 데이터 로딩"
   ]
  },
  {
   "cell_type": "code",
   "execution_count": 33,
   "id": "c4d7c23c",
   "metadata": {},
   "outputs": [
    {
     "data": {
      "text/plain": [
       "Index(['goods_sno', 'product_name', 'representative_price', 'violation_reason',\n",
       "       'product_details', 'detect_element', 'thumbnail_element '],\n",
       "      dtype='object')"
      ]
     },
     "execution_count": 33,
     "metadata": {},
     "output_type": "execute_result"
    }
   ],
   "source": [
    "import pandas as pd\n",
    "\n",
    "file_path = \"/Users/moongons/250501-Cursor/Self-Study-Generative-AI/lab/15_filter_abuse_posting/data/abuse_posting_case.csv\"\n",
    "\n",
    "\n",
    "# CSV 파일 로딩\n",
    "# 한글 컬럼명이 있으므로 encoding='utf-8' 사용\n",
    "df = pd.read_csv(file_path, encoding='utf-8')\n",
    "df.head(3)\n",
    "df.columns"
   ]
  },
  {
   "cell_type": "code",
   "execution_count": 34,
   "id": "7d3191a6",
   "metadata": {},
   "outputs": [
    {
     "name": "stdout",
     "output_type": "stream",
     "text": [
      "\n",
      "행 0:\n",
      "goods_sno: 18866899\n",
      "product_name: [🔥최저가🔥]부드러운 모찌 왕 틱톡 쫀득쫀득 애기 궁둥이 에어 쿠션 대왕 사이즈 퍼프\n",
      "representative_price: 1600\n",
      "violation_reason: 대표가격 상품이 썸네일과 상품명에 없음\n",
      "\n",
      "product_details:\n",
      "\n",
      "행 0:\n",
      "{ 'goods_sno': '18866899',\n",
      "  'other_options': [ {'name': '1개만 구매(할인적용X), 말랑 에어 모찌 그린', 'price': 3100.0},\n",
      "                     { 'name': '1개만 구매(할인적용X), 말랑 에어 모찌 그린 + 케이스',\n",
      "                       'price': 3200.0},\n",
      "                     {'name': '1개만 구매(할인적용X), 말랑 에어 모찌 옐로우', 'price': 3100.0},\n",
      "                     { 'name': '1개만 구매(할인적용X), 말랑 에어 모찌 옐로우 + 케이스',\n",
      "                       'price': 3200.0},\n",
      "                     { 'name': '❤️2개 이상 구매(할인적용O)❤️ 2개이하 구매시 자동취소, 말랑 에어 모찌 그린',\n",
      "                       'price': 1750.0},\n",
      "                     { 'name': '❤️2개 이상 구매(할인적용O)❤️ 2개이하 구매시 자동취소, 말랑 에어 모찌 그린 '\n",
      "                               '+ 케이스',\n",
      "                       'price': 1800.0},\n",
      "                     { 'name': '❤️2개 이상 구매(할인적용O)❤️ 2개이하 구매시 자동취소, 말랑 에어 모찌 '\n",
      "                               '옐로우',\n",
      "                       'price': 1750.0},\n",
      "                     { 'name': '❤️2개 이상 구매(할인적용O)❤️ 2개이하 구매시 자동취소, 말랑 에어 모찌 '\n",
      "                               '옐로우 + 케이스',\n",
      "                       'price': 1800.0}],\n",
      "  'representative_option': {'name': '케이스만 구매, 케이스', 'price': 1600.0}}\n",
      "detect_element: 썸네일, 상품명\n",
      "thumbnail_element : 강조되는 상품 종류\n"
     ]
    }
   ],
   "source": [
    "show_json(df, row=0)"
   ]
  },
  {
   "cell_type": "code",
   "execution_count": 35,
   "id": "48859edd",
   "metadata": {},
   "outputs": [],
   "source": [
    "# show_json_product_details(df, row=0)"
   ]
  },
  {
   "cell_type": "code",
   "execution_count": null,
   "id": "7c6c4119",
   "metadata": {},
   "outputs": [],
   "source": []
  },
  {
   "cell_type": "code",
   "execution_count": null,
   "id": "316f255d",
   "metadata": {},
   "outputs": [],
   "source": []
  }
 ],
 "metadata": {
  "kernelspec": {
   "display_name": "abusing_post",
   "language": "python",
   "name": "python3"
  },
  "language_info": {
   "codemirror_mode": {
    "name": "ipython",
    "version": 3
   },
   "file_extension": ".py",
   "mimetype": "text/x-python",
   "name": "python",
   "nbconvert_exporter": "python",
   "pygments_lexer": "ipython3",
   "version": "3.10.14"
  }
 },
 "nbformat": 4,
 "nbformat_minor": 5
}
