{
 "cells": [
  {
   "cell_type": "markdown",
   "metadata": {},
   "source": [
    "# LangChain 으로 Amazon Bedrock 시작하기\n",
    "- [LangChain: ChatBedrock 예시](https://python.langchain.com/docs/integrations/chat/bedrock/)\n",
    "- "
   ]
  },
  {
   "cell_type": "markdown",
   "metadata": {},
   "source": [
    "## LangCahin 모델 오브젝트 생성 및 실행"
   ]
  },
  {
   "cell_type": "code",
   "execution_count": 1,
   "metadata": {},
   "outputs": [],
   "source": [
    "from langchain_aws import ChatBedrock\n",
    "\n",
    "llm = ChatBedrock(\n",
    "    model_id=\"anthropic.claude-3-sonnet-20240229-v1:0\",\n",
    "    model_kwargs=dict(temperature=0),\n",
    "    # other params...\n",
    ")"
   ]
  },
  {
   "cell_type": "code",
   "execution_count": 2,
   "metadata": {},
   "outputs": [
    {
     "data": {
      "text/plain": [
       "AIMessage(content='프로그래밍을 좋아합니다.', additional_kwargs={'usage': {'prompt_tokens': 29, 'completion_tokens': 19, 'total_tokens': 48}, 'stop_reason': 'end_turn', 'thinking': {}, 'model_id': 'anthropic.claude-3-sonnet-20240229-v1:0'}, response_metadata={'usage': {'prompt_tokens': 29, 'completion_tokens': 19, 'total_tokens': 48}, 'stop_reason': 'end_turn', 'thinking': {}, 'model_id': 'anthropic.claude-3-sonnet-20240229-v1:0'}, id='run-6bf1055c-c75b-407a-8496-42c9635e7df6-0', usage_metadata={'input_tokens': 29, 'output_tokens': 19, 'total_tokens': 48})"
      ]
     },
     "execution_count": 2,
     "metadata": {},
     "output_type": "execute_result"
    }
   ],
   "source": [
    "messages = [\n",
    "    (\n",
    "        \"system\",\n",
    "        \"You are a helpful assistant that translates English to Korean. Translate the user sentence.\",\n",
    "    ),\n",
    "    (\"human\", \"I love programming.\"),\n",
    "]\n",
    "ai_msg = llm.invoke(messages)\n",
    "ai_msg"
   ]
  },
  {
   "cell_type": "code",
   "execution_count": 3,
   "metadata": {},
   "outputs": [
    {
     "name": "stdout",
     "output_type": "stream",
     "text": [
      "프로그래밍을 좋아합니다.\n"
     ]
    }
   ],
   "source": [
    "print(ai_msg.content)"
   ]
  },
  {
   "cell_type": "markdown",
   "metadata": {},
   "source": [
    "## Chaining"
   ]
  },
  {
   "cell_type": "code",
   "execution_count": 4,
   "metadata": {},
   "outputs": [
    {
     "data": {
      "text/plain": [
       "AIMessage(content='프로그래밍을 좋아합니다.', additional_kwargs={'usage': {'prompt_tokens': 23, 'completion_tokens': 19, 'total_tokens': 42}, 'stop_reason': 'end_turn', 'thinking': {}, 'model_id': 'anthropic.claude-3-sonnet-20240229-v1:0'}, response_metadata={'usage': {'prompt_tokens': 23, 'completion_tokens': 19, 'total_tokens': 42}, 'stop_reason': 'end_turn', 'thinking': {}, 'model_id': 'anthropic.claude-3-sonnet-20240229-v1:0'}, id='run-f38d893f-55a0-49e2-9c95-d8905e983a7b-0', usage_metadata={'input_tokens': 23, 'output_tokens': 19, 'total_tokens': 42})"
      ]
     },
     "execution_count": 4,
     "metadata": {},
     "output_type": "execute_result"
    }
   ],
   "source": [
    "from langchain_core.prompts import ChatPromptTemplate\n",
    "\n",
    "prompt = ChatPromptTemplate.from_messages(\n",
    "    [\n",
    "        (\n",
    "            \"system\",\n",
    "            \"You are a helpful assistant that translates {input_language} to {output_language}.\",\n",
    "        ),\n",
    "        (\"human\", \"{input}\"),\n",
    "    ]\n",
    ")\n",
    "\n",
    "chain = prompt | llm\n",
    "chain.invoke(\n",
    "    {\n",
    "        \"input_language\": \"English\",\n",
    "        \"output_language\": \"korean\",\n",
    "        \"input\": \"I love programming.\",\n",
    "    }\n",
    ")"
   ]
  },
  {
   "cell_type": "markdown",
   "metadata": {},
   "source": [
    "## Bedrock Converse API"
   ]
  },
  {
   "cell_type": "code",
   "execution_count": 5,
   "metadata": {},
   "outputs": [
    {
     "data": {
      "text/plain": [
       "AIMessage(content='프로그래밍을 좋아합니다.', additional_kwargs={}, response_metadata={'ResponseMetadata': {'RequestId': 'b37fb804-16d5-4718-9352-169cb6fb9be9', 'HTTPStatusCode': 200, 'HTTPHeaders': {'date': 'Sun, 09 Mar 2025 03:18:00 GMT', 'content-type': 'application/json', 'content-length': '216', 'connection': 'keep-alive', 'x-amzn-requestid': 'b37fb804-16d5-4718-9352-169cb6fb9be9'}, 'RetryAttempts': 0}, 'stopReason': 'end_turn', 'metrics': {'latencyMs': [362]}}, id='run-22efe914-48f5-41d8-9d4d-7d2bcbd7dc79-0', usage_metadata={'input_tokens': 29, 'output_tokens': 19, 'total_tokens': 48})"
      ]
     },
     "execution_count": 5,
     "metadata": {},
     "output_type": "execute_result"
    }
   ],
   "source": [
    "from langchain_aws import ChatBedrockConverse\n",
    "\n",
    "llm = ChatBedrockConverse(\n",
    "    model=\"anthropic.claude-3-sonnet-20240229-v1:0\",\n",
    "    temperature=0,\n",
    "    max_tokens=None,\n",
    "    # other params...\n",
    ")\n",
    "\n",
    "llm.invoke(messages)"
   ]
  },
  {
   "cell_type": "code",
   "execution_count": 6,
   "metadata": {},
   "outputs": [
    {
     "name": "stdout",
     "output_type": "stream",
     "text": [
      "content=[] additional_kwargs={} response_metadata={} id='run-187fedcc-5bab-49de-88cb-4eae825870df'\n",
      "content=[{'type': 'text', 'text': '프', 'index': 0}] additional_kwargs={} response_metadata={} id='run-187fedcc-5bab-49de-88cb-4eae825870df'\n",
      "content=[{'type': 'text', 'text': '로', 'index': 0}] additional_kwargs={} response_metadata={} id='run-187fedcc-5bab-49de-88cb-4eae825870df'\n",
      "content=[{'type': 'text', 'text': '그', 'index': 0}] additional_kwargs={} response_metadata={} id='run-187fedcc-5bab-49de-88cb-4eae825870df'\n",
      "content=[{'type': 'text', 'text': '래', 'index': 0}] additional_kwargs={} response_metadata={} id='run-187fedcc-5bab-49de-88cb-4eae825870df'\n",
      "content=[{'type': 'text', 'text': '밍', 'index': 0}] additional_kwargs={} response_metadata={} id='run-187fedcc-5bab-49de-88cb-4eae825870df'\n",
      "content=[{'type': 'text', 'text': '을', 'index': 0}] additional_kwargs={} response_metadata={} id='run-187fedcc-5bab-49de-88cb-4eae825870df'\n",
      "content=[{'type': 'text', 'text': ' ', 'index': 0}] additional_kwargs={} response_metadata={} id='run-187fedcc-5bab-49de-88cb-4eae825870df'\n",
      "content=[{'type': 'text', 'text': '좋', 'index': 0}] additional_kwargs={} response_metadata={} id='run-187fedcc-5bab-49de-88cb-4eae825870df'\n",
      "content=[{'type': 'text', 'text': '아', 'index': 0}] additional_kwargs={} response_metadata={} id='run-187fedcc-5bab-49de-88cb-4eae825870df'\n",
      "content=[{'type': 'text', 'text': '합', 'index': 0}] additional_kwargs={} response_metadata={} id='run-187fedcc-5bab-49de-88cb-4eae825870df'\n",
      "content=[{'type': 'text', 'text': '니', 'index': 0}] additional_kwargs={} response_metadata={} id='run-187fedcc-5bab-49de-88cb-4eae825870df'\n",
      "content=[{'type': 'text', 'text': '다', 'index': 0}] additional_kwargs={} response_metadata={} id='run-187fedcc-5bab-49de-88cb-4eae825870df'\n",
      "content=[{'type': 'text', 'text': '.', 'index': 0}] additional_kwargs={} response_metadata={} id='run-187fedcc-5bab-49de-88cb-4eae825870df'\n",
      "content=[{'index': 0}] additional_kwargs={} response_metadata={} id='run-187fedcc-5bab-49de-88cb-4eae825870df'\n",
      "content=[] additional_kwargs={} response_metadata={'stopReason': 'end_turn'} id='run-187fedcc-5bab-49de-88cb-4eae825870df'\n",
      "content=[] additional_kwargs={} response_metadata={'metrics': {'latencyMs': 1695}} id='run-187fedcc-5bab-49de-88cb-4eae825870df' usage_metadata={'input_tokens': 29, 'output_tokens': 18, 'total_tokens': 47}\n"
     ]
    }
   ],
   "source": [
    "for chunk in llm.stream(messages):\n",
    "    print(chunk)"
   ]
  },
  {
   "cell_type": "code",
   "execution_count": 7,
   "metadata": {},
   "outputs": [
    {
     "name": "stdout",
     "output_type": "stream",
     "text": [
      "|프|로|그|래|밍|을| |좋|아|합|니|다|.||||"
     ]
    }
   ],
   "source": [
    "from langchain_core.output_parsers import StrOutputParser\n",
    "\n",
    "chain = llm | StrOutputParser()\n",
    "\n",
    "for chunk in chain.stream(messages):\n",
    "    print(chunk, end=\"|\")"
   ]
  },
  {
   "cell_type": "code",
   "execution_count": null,
   "metadata": {},
   "outputs": [],
   "source": []
  }
 ],
 "metadata": {
  "language_info": {
   "name": "python"
  }
 },
 "nbformat": 4,
 "nbformat_minor": 2
}
