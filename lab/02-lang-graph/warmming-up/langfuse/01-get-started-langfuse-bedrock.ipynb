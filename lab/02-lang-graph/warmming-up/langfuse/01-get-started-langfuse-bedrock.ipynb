{
 "cells": [
  {
   "cell_type": "markdown",
   "metadata": {},
   "source": [
    "# LangChain 으로 Amazon Bedrock 시작하기\n",
    "- [LangChain: ChatBedrock 예시](https://python.langchain.com/docs/integrations/chat/bedrock/)\n",
    "- "
   ]
  },
  {
   "cell_type": "code",
   "execution_count": 8,
   "metadata": {},
   "outputs": [
    {
     "data": {
      "text/plain": [
       "True"
      ]
     },
     "execution_count": 8,
     "metadata": {},
     "output_type": "execute_result"
    }
   ],
   "source": [
    "from dotenv import load_dotenv\n",
    "\n",
    "# .env 파일에서 환경 변수 로드\n",
    "load_dotenv(\"../../.env\")\n",
    "\n"
   ]
  },
  {
   "cell_type": "code",
   "execution_count": 9,
   "metadata": {},
   "outputs": [],
   "source": [
    "from langfuse.callback import CallbackHandler\n",
    "langfuse_handler = CallbackHandler(\n",
    "    public_key=os.environ.get('LANGFUSE_SECRET_KEY'),\n",
    "    secret_key=os.environ.get('LANGFUSE_PUBLIC_KEY'),\n",
    "    host=\"https://us.cloud.langfuse.com\"\n",
    ")"
   ]
  },
  {
   "cell_type": "markdown",
   "metadata": {},
   "source": [
    "## LangCahin 모델 오브젝트 생성 및 실행"
   ]
  },
  {
   "cell_type": "code",
   "execution_count": 10,
   "metadata": {},
   "outputs": [],
   "source": [
    "from langchain_aws import ChatBedrock\n",
    "\n",
    "llm = ChatBedrock(\n",
    "    model_id=\"anthropic.claude-3-sonnet-20240229-v1:0\",\n",
    "    model_kwargs=dict(temperature=0),\n",
    "    # other params...\n",
    ")"
   ]
  },
  {
   "cell_type": "code",
   "execution_count": 11,
   "metadata": {},
   "outputs": [
    {
     "data": {
      "text/plain": [
       "AIMessage(content='프로그래밍을 좋아합니다.', additional_kwargs={'usage': {'prompt_tokens': 29, 'completion_tokens': 19, 'total_tokens': 48}, 'stop_reason': 'end_turn', 'thinking': {}, 'model_id': 'anthropic.claude-3-sonnet-20240229-v1:0'}, response_metadata={'usage': {'prompt_tokens': 29, 'completion_tokens': 19, 'total_tokens': 48}, 'stop_reason': 'end_turn', 'thinking': {}, 'model_id': 'anthropic.claude-3-sonnet-20240229-v1:0'}, id='run-0db05af8-ea7e-412a-9b0d-d316d473a0b1-0', usage_metadata={'input_tokens': 29, 'output_tokens': 19, 'total_tokens': 48})"
      ]
     },
     "execution_count": 11,
     "metadata": {},
     "output_type": "execute_result"
    }
   ],
   "source": [
    "messages = [\n",
    "    (\n",
    "        \"system\",\n",
    "        \"You are a helpful assistant that translates English to Korean. Translate the user sentence.\",\n",
    "    ),\n",
    "    (\"human\", \"I love programming.\"),\n",
    "]\n",
    "ai_msg = llm.invoke(messages, config={\"callbacks\": [langfuse_handler]})\n",
    "ai_msg\n",
    "\n"
   ]
  },
  {
   "cell_type": "code",
   "execution_count": 12,
   "metadata": {},
   "outputs": [
    {
     "name": "stdout",
     "output_type": "stream",
     "text": [
      "프로그래밍을 좋아합니다.\n"
     ]
    }
   ],
   "source": [
    "print(ai_msg.content)"
   ]
  },
  {
   "cell_type": "markdown",
   "metadata": {},
   "source": [
    "## Chaining"
   ]
  },
  {
   "cell_type": "code",
   "execution_count": 13,
   "metadata": {},
   "outputs": [
    {
     "data": {
      "text/plain": [
       "AIMessage(content='프로그래밍을 좋아합니다.', additional_kwargs={'usage': {'prompt_tokens': 23, 'completion_tokens': 19, 'total_tokens': 42}, 'stop_reason': 'end_turn', 'thinking': {}, 'model_id': 'anthropic.claude-3-sonnet-20240229-v1:0'}, response_metadata={'usage': {'prompt_tokens': 23, 'completion_tokens': 19, 'total_tokens': 42}, 'stop_reason': 'end_turn', 'thinking': {}, 'model_id': 'anthropic.claude-3-sonnet-20240229-v1:0'}, id='run-954b435e-18b8-45d2-ac53-e8acfc713431-0', usage_metadata={'input_tokens': 23, 'output_tokens': 19, 'total_tokens': 42})"
      ]
     },
     "execution_count": 13,
     "metadata": {},
     "output_type": "execute_result"
    }
   ],
   "source": [
    "from langchain_core.prompts import ChatPromptTemplate\n",
    "\n",
    "prompt = ChatPromptTemplate.from_messages(\n",
    "    [\n",
    "        (\n",
    "            \"system\",\n",
    "            \"You are a helpful assistant that translates {input_language} to {output_language}.\",\n",
    "        ),\n",
    "        (\"human\", \"{input}\"),\n",
    "    ]\n",
    ")\n",
    "\n",
    "chain = prompt | llm\n",
    "chain.invoke(\n",
    "    {\n",
    "        \"input_language\": \"English\",\n",
    "        \"output_language\": \"korean\",\n",
    "        \"input\": \"I love programming.\",\n",
    "    },\n",
    "    config={\"callbacks\": [langfuse_handler]}\n",
    ")"
   ]
  },
  {
   "cell_type": "markdown",
   "metadata": {},
   "source": [
    "## Bedrock Converse API"
   ]
  },
  {
   "cell_type": "code",
   "execution_count": 14,
   "metadata": {},
   "outputs": [
    {
     "data": {
      "text/plain": [
       "AIMessage(content='프로그래밍을 좋아합니다.', additional_kwargs={}, response_metadata={'ResponseMetadata': {'RequestId': 'a084fb25-aa64-42d9-b45b-8b7f59298274', 'HTTPStatusCode': 200, 'HTTPHeaders': {'date': 'Sun, 09 Mar 2025 08:17:24 GMT', 'content-type': 'application/json', 'content-length': '216', 'connection': 'keep-alive', 'x-amzn-requestid': 'a084fb25-aa64-42d9-b45b-8b7f59298274'}, 'RetryAttempts': 0}, 'stopReason': 'end_turn', 'metrics': {'latencyMs': [581]}}, id='run-c0b99661-488a-4776-9ba2-9ffb955f4250-0', usage_metadata={'input_tokens': 29, 'output_tokens': 19, 'total_tokens': 48})"
      ]
     },
     "execution_count": 14,
     "metadata": {},
     "output_type": "execute_result"
    }
   ],
   "source": [
    "from langchain_aws import ChatBedrockConverse\n",
    "\n",
    "llm = ChatBedrockConverse(\n",
    "    model=\"anthropic.claude-3-sonnet-20240229-v1:0\",\n",
    "    temperature=0,\n",
    "    max_tokens=None,\n",
    "    # other params...\n",
    ")\n",
    "\n",
    "llm.invoke(messages, config={\"callbacks\": [langfuse_handler]})"
   ]
  },
  {
   "cell_type": "code",
   "execution_count": 15,
   "metadata": {},
   "outputs": [
    {
     "name": "stdout",
     "output_type": "stream",
     "text": [
      "content=[] additional_kwargs={} response_metadata={} id='run-d9691e98-08fe-4174-9dfa-b3bdde76c388'\n",
      "content=[{'type': 'text', 'text': '프', 'index': 0}] additional_kwargs={} response_metadata={} id='run-d9691e98-08fe-4174-9dfa-b3bdde76c388'\n",
      "content=[{'type': 'text', 'text': '로', 'index': 0}] additional_kwargs={} response_metadata={} id='run-d9691e98-08fe-4174-9dfa-b3bdde76c388'\n",
      "content=[{'type': 'text', 'text': '그', 'index': 0}] additional_kwargs={} response_metadata={} id='run-d9691e98-08fe-4174-9dfa-b3bdde76c388'\n",
      "content=[{'type': 'text', 'text': '래', 'index': 0}] additional_kwargs={} response_metadata={} id='run-d9691e98-08fe-4174-9dfa-b3bdde76c388'\n",
      "content=[{'type': 'text', 'text': '밍', 'index': 0}] additional_kwargs={} response_metadata={} id='run-d9691e98-08fe-4174-9dfa-b3bdde76c388'\n",
      "content=[{'type': 'text', 'text': '을', 'index': 0}] additional_kwargs={} response_metadata={} id='run-d9691e98-08fe-4174-9dfa-b3bdde76c388'\n",
      "content=[{'type': 'text', 'text': ' ', 'index': 0}] additional_kwargs={} response_metadata={} id='run-d9691e98-08fe-4174-9dfa-b3bdde76c388'\n",
      "content=[{'type': 'text', 'text': '좋', 'index': 0}] additional_kwargs={} response_metadata={} id='run-d9691e98-08fe-4174-9dfa-b3bdde76c388'\n",
      "content=[{'type': 'text', 'text': '아', 'index': 0}] additional_kwargs={} response_metadata={} id='run-d9691e98-08fe-4174-9dfa-b3bdde76c388'\n",
      "content=[{'type': 'text', 'text': '합', 'index': 0}] additional_kwargs={} response_metadata={} id='run-d9691e98-08fe-4174-9dfa-b3bdde76c388'\n",
      "content=[{'type': 'text', 'text': '니', 'index': 0}] additional_kwargs={} response_metadata={} id='run-d9691e98-08fe-4174-9dfa-b3bdde76c388'\n",
      "content=[{'type': 'text', 'text': '다', 'index': 0}] additional_kwargs={} response_metadata={} id='run-d9691e98-08fe-4174-9dfa-b3bdde76c388'\n",
      "content=[{'type': 'text', 'text': '.', 'index': 0}] additional_kwargs={} response_metadata={} id='run-d9691e98-08fe-4174-9dfa-b3bdde76c388'\n",
      "content=[{'index': 0}] additional_kwargs={} response_metadata={} id='run-d9691e98-08fe-4174-9dfa-b3bdde76c388'\n",
      "content=[] additional_kwargs={} response_metadata={'stopReason': 'end_turn'} id='run-d9691e98-08fe-4174-9dfa-b3bdde76c388'\n",
      "content=[] additional_kwargs={} response_metadata={'metrics': {'latencyMs': 1146}} id='run-d9691e98-08fe-4174-9dfa-b3bdde76c388' usage_metadata={'input_tokens': 29, 'output_tokens': 18, 'total_tokens': 47}\n"
     ]
    }
   ],
   "source": [
    "for chunk in llm.stream(messages, config={\"callbacks\": [langfuse_handler]}):\n",
    "    print(chunk)"
   ]
  },
  {
   "cell_type": "code",
   "execution_count": 16,
   "metadata": {},
   "outputs": [
    {
     "name": "stdout",
     "output_type": "stream",
     "text": [
      "|프|로|그|래|밍|을| |좋|아|합|니|다|.||||"
     ]
    }
   ],
   "source": [
    "from langchain_core.output_parsers import StrOutputParser\n",
    "\n",
    "chain = llm | StrOutputParser()\n",
    "\n",
    "for chunk in chain.stream(messages, config={\"callbacks\": [langfuse_handler]}):\n",
    "    print(chunk, end=\"|\")"
   ]
  },
  {
   "cell_type": "code",
   "execution_count": null,
   "metadata": {},
   "outputs": [],
   "source": []
  }
 ],
 "metadata": {
  "language_info": {
   "name": "python"
  }
 },
 "nbformat": 4,
 "nbformat_minor": 2
}
