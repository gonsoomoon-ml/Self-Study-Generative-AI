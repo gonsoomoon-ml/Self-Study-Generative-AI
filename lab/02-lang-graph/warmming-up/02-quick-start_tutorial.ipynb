{
 "cells": [
  {
   "cell_type": "markdown",
   "metadata": {},
   "source": [
    "# Quick Start\n",
    "- https://langchain-ai.github.io/langgraph/tutorials/introduction/#langgraph-cloud"
   ]
  },
  {
   "cell_type": "markdown",
   "metadata": {},
   "source": [
    "## Part 1: Build a Basic Chatbot¶"
   ]
  },
  {
   "cell_type": "code",
   "execution_count": 1,
   "metadata": {},
   "outputs": [],
   "source": [
    "# %%capture --no-stderr\n",
    "# %pip install -U langgraph langsmith\n",
    "\n",
    "# # Used for this tutorial; not a requirement for LangGraph\n",
    "# %pip install -U langchain_anthropic"
   ]
  },
  {
   "cell_type": "code",
   "execution_count": 2,
   "metadata": {},
   "outputs": [],
   "source": [
    "import getpass\n",
    "import os\n",
    "\n",
    "\n",
    "def _set_env(var: str):\n",
    "    if not os.environ.get(var):\n",
    "        os.environ[var] = getpass.getpass(f\"{var}: \")\n",
    "\n",
    "\n",
    "_set_env(\"ANTHROPIC_API_KEY\")"
   ]
  },
  {
   "cell_type": "code",
   "execution_count": 3,
   "metadata": {},
   "outputs": [],
   "source": [
    "from typing import Annotated\n",
    "\n",
    "from typing_extensions import TypedDict\n",
    "\n",
    "from langgraph.graph import StateGraph, START, END\n",
    "from langgraph.graph.message import add_messages\n",
    "\n",
    "\n",
    "class State(TypedDict):\n",
    "    # Messages have the type \"list\". The `add_messages` function\n",
    "    # in the annotation defines how this state key should be updated\n",
    "    # (in this case, it appends messages to the list, rather than overwriting them)\n",
    "    messages: Annotated[list, add_messages]\n",
    "\n",
    "\n",
    "graph_builder = StateGraph(State)"
   ]
  },
  {
   "cell_type": "code",
   "execution_count": 4,
   "metadata": {},
   "outputs": [
    {
     "data": {
      "text/plain": [
       "<langgraph.graph.state.StateGraph at 0x7efc49fef820>"
      ]
     },
     "execution_count": 4,
     "metadata": {},
     "output_type": "execute_result"
    }
   ],
   "source": [
    "from langchain_anthropic import ChatAnthropic\n",
    "\n",
    "llm = ChatAnthropic(model=\"claude-3-haiku-20240307\")\n",
    "\n",
    "\n",
    "def chatbot(state: State):\n",
    "    return {\"messages\": [llm.invoke(state[\"messages\"])]}\n",
    "\n",
    "\n",
    "# The first argument is the unique node name\n",
    "# The second argument is the function or object that will be called whenever\n",
    "# the node is used.\n",
    "graph_builder.add_node(\"chatbot\", chatbot)"
   ]
  },
  {
   "cell_type": "code",
   "execution_count": 5,
   "metadata": {},
   "outputs": [
    {
     "data": {
      "text/plain": [
       "<langgraph.graph.state.StateGraph at 0x7efc49fef820>"
      ]
     },
     "execution_count": 5,
     "metadata": {},
     "output_type": "execute_result"
    }
   ],
   "source": [
    "graph_builder.add_edge(START, \"chatbot\")"
   ]
  },
  {
   "cell_type": "code",
   "execution_count": 6,
   "metadata": {},
   "outputs": [
    {
     "data": {
      "text/plain": [
       "<langgraph.graph.state.StateGraph at 0x7efc49fef820>"
      ]
     },
     "execution_count": 6,
     "metadata": {},
     "output_type": "execute_result"
    }
   ],
   "source": [
    "graph_builder.add_edge(\"chatbot\", END)"
   ]
  },
  {
   "cell_type": "code",
   "execution_count": 7,
   "metadata": {},
   "outputs": [],
   "source": [
    "graph = graph_builder.compile()"
   ]
  },
  {
   "cell_type": "code",
   "execution_count": 8,
   "metadata": {},
   "outputs": [
    {
     "data": {
      "image/png": "[encoded data removed]",
      "text/plain": [
       "<IPython.core.display.Image object>"
      ]
     },
     "metadata": {},
     "output_type": "display_data"
    }
   ],
   "source": [
    "from IPython.display import Image, display\n",
    "\n",
    "try:\n",
    "    display(Image(graph.get_graph().draw_mermaid_png()))\n",
    "except Exception:\n",
    "    # This requires some extra dependencies and is optional\n",
    "    pass"
   ]
  },
  {
   "cell_type": "code",
   "execution_count": 9,
   "metadata": {},
   "outputs": [
    {
     "name": "stdout",
     "output_type": "stream",
     "text": [
      "Assistant: 네, 오늘의 날씨 정보를 알려드리겠습니다:\n",
      "\n",
      "현재 날씨:  \n",
      "- 온도: 섭씨 20도\n",
      "- 날씨: 맑음\n",
      "- 풍속: 시속 5km\n",
      "\n",
      "오늘 날씨 전망:\n",
      "- 전반적으로 맑은 날씨가 지속될 것 같습니다.\n",
      "- 오후에 구름이 다소 많아질 수 있으나 비가 올 가능성은 크지 않습니다. \n",
      "- 기온은 최저 15도에서 최고 25도 사이를 오갈 것으로 예상됩니다.\n",
      "- 바람은 전반적으로 약하게 불 것 같습니다.\n",
      "\n",
      "전반적으로 화창한 날씨가 계속될 것 같습니다. 실외 활동하기에 좋은 날씨라고 볼 수 있겠네요.\n",
      "Assistant: 네, 오늘 저녁 메뉴 추천해 드리겠습니다. \n",
      "\n",
      "봄 날씨에 맞는 건강한 메뉴들을 제안해드리겠습니다:\n",
      "\n",
      "1. 신선한 재료로 만든 샐러드 - 아보카도, 구운 닭고기, 토마토, 양상추 등으로 만든 든든한 샐러드\n",
      "\n",
      "2. 잔치국수 - 가볍고 시원한 느낌의 잔치국수. 계란, 김, 파, 오이 등을 곁들이면 좋습니다.\n",
      "\n",
      "3. 버섯전 - 다양한 버섯으로 만든 건강한 전. 바삭한 식감과 향긋한 맛이 좋습니다.\n",
      "\n",
      "4. 채식 볶음밥 - 다양한 채소와 콩고기로 만든 영양가 있는 볶음밥\n",
      "\n",
      "5. 구운 연어 스테이크 - 구운 연어에 레몬즙, 허브, 마늘 등의 토pping을 올려 깔끔하고 담백한 맛\n",
      "\n",
      "어떤 메뉴가 마음에 드시나요? 드시고 싶으신 메뉴가 있다면 더 자세히 설명드리겠습니다.\n",
      "Assistant: 오늘 간식으로는 다음과 같은 옵션들이 있습니다:\n",
      "\n",
      "1. 초코 칩 쿠키 - 부드럽고 달콤한 초코 칩 쿠키입니다.\n",
      "\n",
      "2. 구운 사과 - 계피와 꿀로 맛을 낸 따뜻한 구운 사과 슬라이스입니다.\n",
      "\n",
      "3. 요구르트 과일 파르페 - 요구르트에 신선한 과일을 함께 담아냈습니다.\n",
      "\n",
      "4. 견과류 믹스 - 아몬드, 호두, 캐슈 너트 등 다양한 견과류를 혼합했습니다.\n",
      "\n",
      "5. 건조 과일 청크 - 건조된 망고, 파인애플, 살구 등 여러 종류의 과일로 구성되어 있습니다.\n",
      "\n",
      "하루의 피로를 풀어주는 다양한 간식들을 골라보시는 것은 어떨까요? 잠깐의 휴식과 함께 맛있게 즐기시길 바랍니다.\n",
      "Goodbye!\n"
     ]
    }
   ],
   "source": [
    "while True:\n",
    "    user_input = input(\"User: \")\n",
    "    if user_input.lower() in [\"quit\", \"exit\", \"q\"]:\n",
    "        print(\"Goodbye!\")\n",
    "        break\n",
    "    for event in graph.stream({\"messages\": (\"user\", user_input)}):\n",
    "        for value in event.values():\n",
    "            print(\"Assistant:\", value[\"messages\"][-1].content)"
   ]
  },
  {
   "cell_type": "markdown",
   "metadata": {},
   "source": [
    "## Part 2: Enhancing the Chatbot with Tools"
   ]
  },
  {
   "cell_type": "code",
   "execution_count": 10,
   "metadata": {},
   "outputs": [],
   "source": [
    "# %%capture --no-stderr\n",
    "# %pip install -U tavily-python\n",
    "# %pip install -U langchain_community"
   ]
  },
  {
   "cell_type": "code",
   "execution_count": 11,
   "metadata": {},
   "outputs": [],
   "source": [
    "_set_env(\"TAVILY_API_KEY\")"
   ]
  },
  {
   "cell_type": "code",
   "execution_count": 12,
   "metadata": {},
   "outputs": [
    {
     "data": {
      "text/plain": [
       "[{'title': 'LangGraph - LangChain Blog',\n",
       "  'url': 'https://blog.langchain.dev/langgraph/',\n",
       "  'content': 'TL;DR: LangGraph is module built on top of LangChain to better enable creation of cyclical graphs, often needed for agent runtimes. This state is updated by nodes in the graph, which return operations to attributes of this state (in the form of a key-value store). After adding nodes, you can then add edges to create the graph. An example of this may be in the basic agent runtime, where we always want the model to be called after we call a tool. graph.add_edge(\"tools\", \"model\") The state of this graph by default contains concepts that should be familiar to you if you\\'ve used LangChain agents: input, chat_history, intermediate_steps (and agent_outcome to represent the most recent agent outcome)',\n",
       "  'score': 0.70944256},\n",
       " {'title': 'LangGraph Glossary - GitHub Pages',\n",
       "  'url': 'https://langchain-ai.github.io/langgraph/concepts/low_level/',\n",
       "  'content': '[](https://langchain-ai.github.io/langgraph/concepts/low_level/#__codelineno-1-19)def node_2(state: OverallState) -> PrivateState: [](https://langchain-ai.github.io/langgraph/concepts/low_level/#__codelineno-1-25)    return {\"graph_output\": state[\"bar\"] + \" Lance\"} [](https://langchain-ai.github.io/langgraph/concepts/low_level/#__codelineno-1-31)builder.add_edge(START, \"node_1\") [](https://langchain-ai.github.io/langgraph/concepts/low_level/#__codelineno-7-13)def my_other_node(state: dict): [](https://langchain-ai.github.io/langgraph/concepts/low_level/#__codelineno-9-3)graph.add_edge(START, \"node_a\") [](https://langchain-ai.github.io/langgraph/concepts/low_level/#__codelineno-10-3)graph.add_edge(\"node_a\", END) [](https://langchain-ai.github.io/langgraph/concepts/low_level/#__codelineno-11-1)graph.add_edge(\"node_a\", \"node_b\") [](https://langchain-ai.github.io/langgraph/concepts/low_level/#__codelineno-12-1)graph.add_conditional_edges(\"node_a\", routing_function) [](https://langchain-ai.github.io/langgraph/concepts/low_level/#__codelineno-13-1)graph.add_conditional_edges(\"node_a\", routing_function, {True: \"node_b\", False: \"node_c\"}) [](https://langchain-ai.github.io/langgraph/concepts/low_level/#__codelineno-14-3)graph.add_edge(START, \"node_a\") [](https://langchain-ai.github.io/langgraph/concepts/low_level/#__codelineno-15-3)graph.add_conditional_edges(START, routing_function) [](https://langchain-ai.github.io/langgraph/concepts/low_level/#__codelineno-16-1)graph.add_conditional_edges(START, routing_function, {True: \"node_b\", False: \"node_c\"}) [](https://langchain-ai.github.io/langgraph/concepts/low_level/#__codelineno-17-4)graph.add_conditional_edges(\"node_a\", continue_to_jokes) [](https://langchain-ai.github.io/langgraph/concepts/low_level/#__codelineno-20-4)        goto=\"other_subgraph\",  # where `other_subgraph` is a node in the parent graph [](https://langchain-ai.github.io/langgraph/concepts/low_level/#__codelineno-22-4)graph = StateGraph(State, config_schema=ConfigSchema) [](https://langchain-ai.github.io/langgraph/concepts/low_level/#__codelineno-24-1)def node_a(state, config): [](https://langchain-ai.github.io/langgraph/concepts/low_level/#__codelineno-26-3)def human_approval_node(state: State): [](https://langchain-ai.github.io/langgraph/concepts/low_level/#__codelineno-29-8)    foo: str  # note that this key is shared with the parent graph state [](https://langchain-ai.github.io/langgraph/concepts/low_level/#__codelineno-29-12)def subgraph_node(state: SubgraphState): [](https://langchain-ai.github.io/langgraph/concepts/low_level/#__codelineno-29-13)    # note that this subgraph node can communicate with the parent graph via the shared \"foo\" key [](https://langchain-ai.github.io/langgraph/concepts/low_level/#__codelineno-30-5)    # note that none of these keys are shared with the parent graph state [](https://langchain-ai.github.io/langgraph/concepts/low_level/#__codelineno-30-10)def subgraph_node(state: SubgraphState):',\n",
       "  'score': 0.6063825}]"
      ]
     },
     "execution_count": 12,
     "metadata": {},
     "output_type": "execute_result"
    }
   ],
   "source": [
    "from langchain_community.tools.tavily_search import TavilySearchResults\n",
    "\n",
    "tool = TavilySearchResults(max_results=2)\n",
    "tools = [tool]\n",
    "tool.invoke(\"What's a 'node' in LangGraph?\")"
   ]
  },
  {
   "cell_type": "code",
   "execution_count": 13,
   "metadata": {},
   "outputs": [
    {
     "data": {
      "text/plain": [
       "<langgraph.graph.state.StateGraph at 0x7efc3792aad0>"
      ]
     },
     "execution_count": 13,
     "metadata": {},
     "output_type": "execute_result"
    }
   ],
   "source": [
    "from typing import Annotated\n",
    "\n",
    "from langchain_anthropic import ChatAnthropic\n",
    "from typing_extensions import TypedDict\n",
    "\n",
    "from langgraph.graph import StateGraph, START\n",
    "from langgraph.graph.message import add_messages\n",
    "\n",
    "\n",
    "class State(TypedDict):\n",
    "    messages: Annotated[list, add_messages]\n",
    "\n",
    "\n",
    "graph_builder = StateGraph(State)\n",
    "\n",
    "\n",
    "llm = ChatAnthropic(model=\"claude-3-haiku-20240307\")\n",
    "# Modification: tell the LLM which tools it can call\n",
    "llm_with_tools = llm.bind_tools(tools)\n",
    "\n",
    "\n",
    "def chatbot(state: State):\n",
    "    return {\"messages\": [llm_with_tools.invoke(state[\"messages\"])]}\n",
    "\n",
    "\n",
    "graph_builder.add_node(\"chatbot\", chatbot)"
   ]
  },
  {
   "cell_type": "code",
   "execution_count": 14,
   "metadata": {},
   "outputs": [
    {
     "data": {
      "text/plain": [
       "<langgraph.graph.state.StateGraph at 0x7efc3792aad0>"
      ]
     },
     "execution_count": 14,
     "metadata": {},
     "output_type": "execute_result"
    }
   ],
   "source": [
    "import json\n",
    "\n",
    "from langchain_core.messages import ToolMessage\n",
    "\n",
    "\n",
    "class BasicToolNode:\n",
    "    \"\"\"A node that runs the tools requested in the last AIMessage.\"\"\"\n",
    "\n",
    "    def __init__(self, tools: list) -> None:\n",
    "        self.tools_by_name = {tool.name: tool for tool in tools}\n",
    "\n",
    "    def __call__(self, inputs: dict):\n",
    "        if messages := inputs.get(\"messages\", []):\n",
    "            message = messages[-1]\n",
    "        else:\n",
    "            raise ValueError(\"No message found in input\")\n",
    "        outputs = []\n",
    "        for tool_call in message.tool_calls:\n",
    "            tool_result = self.tools_by_name[tool_call[\"name\"]].invoke(\n",
    "                tool_call[\"args\"]\n",
    "            )\n",
    "            outputs.append(\n",
    "                ToolMessage(\n",
    "                    content=json.dumps(tool_result),\n",
    "                    name=tool_call[\"name\"],\n",
    "                    tool_call_id=tool_call[\"id\"],\n",
    "                )\n",
    "            )\n",
    "        return {\"messages\": outputs}\n",
    "\n",
    "\n",
    "tool_node = BasicToolNode(tools=[tool])\n",
    "graph_builder.add_node(\"tools\", tool_node)"
   ]
  },
  {
   "cell_type": "code",
   "execution_count": 15,
   "metadata": {},
   "outputs": [],
   "source": [
    "from typing import Literal\n",
    "\n",
    "\n",
    "def route_tools(\n",
    "    state: State,\n",
    ") -> Literal[\"tools\", \"__end__\"]:\n",
    "    \"\"\"\n",
    "    Use in the conditional_edge to route to the ToolNode if the last message\n",
    "    has tool calls. Otherwise, route to the end.\n",
    "    \"\"\"\n",
    "    if isinstance(state, list):\n",
    "        ai_message = state[-1]\n",
    "    elif messages := state.get(\"messages\", []):\n",
    "        ai_message = messages[-1]\n",
    "    else:\n",
    "        raise ValueError(f\"No messages found in input state to tool_edge: {state}\")\n",
    "    if hasattr(ai_message, \"tool_calls\") and len(ai_message.tool_calls) > 0:\n",
    "        return \"tools\"\n",
    "    return \"__end__\"\n",
    "\n",
    "\n",
    "# The `tools_condition` function returns \"tools\" if the chatbot asks to use a tool, and \"__end__\" if\n",
    "# it is fine directly responding. This conditional routing defines the main agent loop.\n",
    "graph_builder.add_conditional_edges(\n",
    "    \"chatbot\",\n",
    "    route_tools,\n",
    "    # The following dictionary lets you tell the graph to interpret the condition's outputs as a specific node\n",
    "    # It defaults to the identity function, but if you\n",
    "    # want to use a node named something else apart from \"tools\",\n",
    "    # You can update the value of the dictionary to something else\n",
    "    # e.g., \"tools\": \"my_tools\"\n",
    "    {\"tools\": \"tools\", \"__end__\": \"__end__\"},\n",
    ")\n",
    "# Any time a tool is called, we return to the chatbot to decide the next step\n",
    "graph_builder.add_edge(\"tools\", \"chatbot\")\n",
    "graph_builder.add_edge(START, \"chatbot\")\n",
    "graph = graph_builder.compile()"
   ]
  },
  {
   "cell_type": "code",
   "execution_count": 16,
   "metadata": {},
   "outputs": [
    {
     "data": {
      "image/png": "[encoded data removed]",
      "text/plain": [
       "<IPython.core.display.Image object>"
      ]
     },
     "metadata": {},
     "output_type": "display_data"
    }
   ],
   "source": [
    "from IPython.display import Image, display\n",
    "\n",
    "try:\n",
    "    display(Image(graph.get_graph().draw_mermaid_png()))\n",
    "except Exception:\n",
    "    # This requires some extra dependencies and is optional\n",
    "    pass"
   ]
  },
  {
   "cell_type": "code",
   "execution_count": 17,
   "metadata": {},
   "outputs": [
    {
     "name": "stdout",
     "output_type": "stream",
     "text": [
      "Assistant: [{'id': 'toolu_013Gsg6mqJ8WXHChsdK1k7jx', 'input': {'query': '서울 날씨'}, 'name': 'tavily_search_results_json', 'type': 'tool_use'}]\n",
      "Assistant: [{\"title\": \"\\uc11c\\uc6b8\\ud2b9\\ubcc4\\uc2dc, \\uc11c\\uc6b8\\uc2dc, \\ub300\\ud55c\\ubbfc\\uad6d 3\\uc77c \\ub0a0\\uc528 \\uc608\\ubcf4 - AccuWeather\", \"url\": \"https://www.accuweather.com/ko/kr/seoul/226081/weather-forecast/226081\", \"content\": \"\\uc11c\\uc6b8\\ud2b9\\ubcc4\\uc2dc, \\uc11c\\uc6b8\\uc2dc, \\ub300\\ud55c\\ubbfc\\uad6d 3\\uc77c \\ub0a0\\uc528 \\uc608\\ubcf4 | AccuWeather \\uc11c\\uc6b8\\ud2b9\\ubcc4\\uc2dc \\uc11c\\uc6b8\\uc2dc 19\\u00b0 \\uc624\\ub298 WinterCast \\uc9c0\\uc5ed {stormName} \\ucd94\\uc801\\uae30 \\uc2dc\\uac04\\ubcc4 \\uc77c\\ubcc4 \\ub808\\uc774\\ub354 MinuteCast \\uc6d4 \\ub300\\uae30\\uc9c8 \\uac74\\uac15 \\ubc0f \\ud65c\\ub3d9 \\uc624\\ub298 --WinterCast \\uc2dc\\uac04\\ubcc4 \\uc77c\\ubcc4 \\ub808\\uc774\\ub354 MinuteCast \\uc6d4 \\ub300\\uae30\\uc9c8 \\uac74\\uac15 \\ubc0f \\ud65c\\ub3d9 2 \\ud55c\\ud30c \\uc8fc\\uc758\\ubcf4\\ud604\\uc7ac \\uae30\\uc0c1 ----- AM 12:55 19\\u00b0F RealFeel\\u00ae 19\\u00b0 \\ub300\\uccb4\\ub85c \\ub9d1\\uc74c \\ucd94\\uac00 \\uc0c1\\uc138 \\uc815\\ubcf4 \\ubc14\\ub78c \\ubd81\\ubd81\\uc11c 4mi/h \\ub3cc\\ud48d 6mi/h \\ub300\\uae30\\uc9c8 \\ub098\\uc068\\uc804\\ub9dd -- \\ud654\\uc694\\uc77c \\uc2ec\\uc57c \\uc9c4\\ub208\\uae68\\ube44\\uc640 \\uc5b4\\ub294 \\ube44\\uac00 \\ub0b4\\ub9bcWinterCast\\u00ae ----------- \\ub2a6\\uc740 \\ud654 \\ubc24  \\uc6b0\\ubc15 2 \\uc2dc\\uac04 \\uc9c0\\uc18d 37\\u00b0 20\\u00b0 \\ub300\\uccb4\\ub85c \\ub9d1\\uc74c \\ub9d1\\uace0 \\ucd94\\uc6c0 2%\\ud654 2. 42\\u00b0 20\\u00b0 \\uc624\\uc804 \\uc911 \\ub54c\\ub54c\\ub85c \\ube44\\uc640 \\ubcf4\\uc2ac\\ube44\\uac00 \\ub0b4\\ub9bc; \\ud750\\ub9bc \\ub300\\uccb4\\ub85c \\ub9d1\\uace0 \\ucd94\\uc6c0 69%\\ubaa9 2. 44\\u00b0 25\\u00b0 \\ub300\\uccb4\\ub85c \\ub9d1\\uc74c \\uc57d\\uac04 \\ud750\\ub9bc 0%\\ud1a0 2. 50\\u00b0 32\\u00b0 \\uc57d\\uac04 \\ud750\\ub9bc \\ub9d1\\uc74c 0%\\ud654 2. 46\\u00b0 26\\u00b0 \\uc57d\\uac04 \\ud750\\ub9bc \\ub300\\uccb4\\ub85c \\ud750\\ub9bc 1% \\uc804 \\uc138\\uacc4 \\uc544\\uc2dc\\uc544 \\ub300\\ud55c\\ubbfc\\uad6d \\uc11c\\uc6b8\\uc2dc \\uc11c\\uc6b8\\ud2b9\\ubcc4\\uc2dc\", \"score\": 0.7293082}, {\"title\": \"\\uc2e0\\ucd0c\\ub3d9 \\uc77c\\uae30\\uc608\\ubcf4 \\ubc0f \\ub0a0\\uc528 - The Weather Channel\", \"url\": \"https://weather.com/ko-KR/weather/today/l/36994b6d164c4043d2ec43cc7d39f5447d3fc0b10bcc175e4593cd4f929976ea\", \"content\": \"\\uc11c\\uc6b8\\ud2b9\\ubcc4\\uc2dc \\uc77c\\uae30\\uc608\\ubcf4 \\ubc0f \\ub0a0\\uc528 - The Weather Channel | Weather.com \\uc54c\\uc81c\\ub9ac | \\u0627\\u0644\\u0639\\u0631\\u0628\\u064a\\u0629\\uc54c\\uc81c\\ub9ac | Fran\\u00e7ais\\uc559\\uace8\\ub77c | Portugu\\u00eas\\ubca0\\ub0c9 | Fran\\u00e7ais\\ubd80\\ub974\\ud0a4\\ub098\\ud30c\\uc18c | Fran\\u00e7ais\\ubd80\\ub8ec\\ub514 | Fran\\u00e7ais\\uce74\\uba54\\ub8ec | Fran\\u00e7ais\\uce74\\uba54\\ub8ec | English\\uce74\\ubcf4\\ubca0\\ub974\\ub370 | Portugu\\u00eas\\uc911\\uc559 \\uc544\\ud504\\ub9ac\\uce74 \\uacf5\\ud654\\uad6d | Fran\\u00e7ais\\ucc28\\ub4dc | Fran\\u00e7ais\\ucc28\\ub4dc | \\u0627\\u0644\\u0639\\u0631\\u0628\\u064a\\u0629\\ucf54\\ubaa8\\ub85c | Fran\\u00e7ais\\ucf54\\ubaa8\\ub85c | \\u0627\\u0644\\u0639\\u0631\\u0628\\u064a\\u0629Democratic Republic of the Congo | Fran\\u00e7ais\\ucf69\\uace0 \\uacf5\\ud654\\uad6d | Fran\\u00e7ais\\ucf54\\ud2b8\\ub514\\ubd80\\uc544\\ub974 | Fran\\u00e7ais\\uc9c0\\ubd80\\ud2f0 | Fran\\u00e7ais\\uc9c0\\ubd80\\ud2f0 | \\u0627\\u0644\\u0639\\u0631\\u0628\\u064a\\u0629\\uc774\\uc9d1\\ud2b8 | \\u0627\\u0644\\u0639\\u0631\\u0628\\u064a\\u0629\\uc801\\ub3c4 \\uae30\\ub2c8 | Espa\\u00f1ol\\uc5d0\\ub9ac\\ud2b8\\ub808\\uc544 | \\u0627\\u0644\\u0639\\u0631\\u0628\\u064a\\u0629\\uac00\\ubd09 | Fran\\u00e7ais\\uac10\\ube44\\uc544 | English\\uac00\\ub098 | English\\uae30\\ub2c8 | Fran\\u00e7ais\\uae30\\ub2c8\\ube44\\uc0ac\\uc6b0 | Portugu\\u00eas\\ucf00\\ub0d0 | English\\ub808\\uc18c\\ud1a0 | English\\ub77c\\uc774\\ubca0\\ub9ac\\uc544 | English\\ub9ac\\ube44\\uc544 | \\u0627\\u0644\\u0639\\u0631\\u0628\\u064a\\u0629\\ub9c8\\ub2e4\\uac00\\uc2a4\\uce74\\ub974 | Fran\\u00e7ais\\ub9d0\\ub9ac | Fran\\u00e7ais\\ubaa8\\ub9ac\\ud0c0\\ub2c8 | \\u0627\\u0644\\u0639\\u0631\\u0628\\u064a\\u0629\\ubaa8\\ub9ac\\uc154\\uc2a4 | English\\ubaa8\\ub9ac\\uc154\\uc2a4 | Fran\\u00e7ais\\ubaa8\\ub85c\\ucf54 | \\u0627\\u0644\\u0639\\u0631\\u0628\\u064a\\u0629\\ubaa8\\ub85c\\ucf54 | Fran\\u00e7ais\\ubaa8\\uc7a0\\ube44\\ud06c | Portugu\\u00eas\\ub098\\ubbf8\\ube44\\uc544 | English\\ub2c8\\uc81c\\ub974 | Fran\\u00e7ais\\ub098\\uc774\\uc9c0\\ub9ac\\uc544 | English\\ub974\\uc644\\ub2e4 | Fran\\u00e7ais\\ub974\\uc644\\ub2e4 | English\\uc0c1\\ud22c\\uba54 \\ud504\\ub9b0\\uc2dc\\ud398 | Portugu\\u00eas\\uc138\\ub124\\uac08 | Fran\\u00e7ais\\uc2dc\\uc5d0\\ub77c\\ub9ac\\uc628 | English\\uc18c\\ub9d0\\ub9ac\\uc544 | \\u0627\\u0644\\u0639\\u0631\\u0628\\u064a\\u0629\\ub0a8\\uc544\\ud504\\ub9ac\\uce74 | English\\ub0a8\\uc218\\ub2e8 | English\\uc218\\ub2e8 | \\u0627\\u0644\\u0639\\u0631\\u0628\\u064a\\u0629\\uc2a4\\uc640\\uc9c8\\ub780\\ub4dc | English\\ud0c4\\uc790\\ub2c8\\uc544 | English\\ud1a0\\uace0 | Fran\\u00e7ais\\ud280\\ub2c8\\uc9c0 | \\u0627\\u0644\\u0639\\u0631\\u0628\\u064a\\u0629\\uc6b0\\uac04\\ub2e4 | English \\ub0a0\\uc528 \\ub370\\uc774\\ud130 API \\ub370\\uc774\\ud130 \\ubca4\\ub354\\uc640 \\ub370\\uc774\\ud130\\ub97c \\uc0ac\\uc6a9\\ud558\\uac70\\ub098 \\uacf5\\uc720\\ud560 \\uc218 \\uc788\\uc2b5\\ub2c8\\ub2e4.\", \"score\": 0.42821008}]\n",
      "Assistant: 이 검색 결과에 따르면, 오늘 서울의 날씨는 다음과 같습니다:\n",
      "\n",
      "- 날씨: 구름 많음, 간헐적 강수 가능\n",
      "- 온도: 아침 -5℃, 낮 5℃ 정도\n",
      "- 풍속: 서북서 바람 4mph, 돌풍 6mph\n",
      "- 강수 확률: 화요일 밤 37%, 수요일 오전 중 69%, 오후 0%\n",
      "\n",
      "전반적으로 살짝 쌀쌀하고 간간히 비나 눈이 올 것으로 보입니다. 외출할 때는 따뜻한 옷을 챙기는 것이 좋겠습니다.\n",
      "Assistant: [{'id': 'toolu_01H6VUdikJj7LEZLuB6Gjw2V', 'input': {'query': 'amazon stock price today'}, 'name': 'tavily_search_results_json', 'type': 'tool_use'}]\n",
      "Assistant: [{\"title\": \"AMZN: Amazon.com Inc - Stock Price, Quote and News - CNBC\", \"url\": \"https://www.cnbc.com/quotes/AMZN\", \"content\": \"AMZN: Amazon.com Inc - Stock Price, Quote and News - CNBC Best Credit Cards Best Rewards Credit Cards Best Travel Credit Cards Best 0% APR Credit Cards Best Cash Back Credit Cards Find the Best Personal Loan for You Best Personal Loans Best Loans to Refinance Credit Card Debt Best Money Market Accounts Best Mortgages Best Mortgages for Average Credit Score Best Credit Monitoring Services Best Credit Cards for Small Business Best Personal Loans for Bad Credit Best Debt Consolidation Loans for Bad Credit Best Mortgages for Bad Credit Best Investing Apps Stocks making the biggest moves midday: Amazon, Expedia, Pinterest and moreFebruary 7, 2025CNBC.com About CNBC Global Business and Financial News, Stock Quotes, and Market Data and Analysis.\", \"score\": 0.46453777}]\n",
      "Assistant: Based on the search results, the current Amazon (AMZN) stock price is available on the CNBC website. The search results provide a summary of the top stories and news related to the Amazon stock price today.\n",
      "Assistant: [{'id': 'toolu_01VNa3ZnyZiUL3KqdLqEAA21', 'input': {'query': '키위의 건강 효과'}, 'name': 'tavily_search_results_json', 'type': 'tool_use'}]\n",
      "Assistant: [{\"title\": \"\\ud0a4\\uc704, \\ud558\\ub8e8 1~2\\uac1c \\uafb8\\uc900\\ud788 \\uc12d\\ucde8\\ud558\\uba74 \\uc88b\\uc544 - \\ubc31\\uc138\\uc2dc\\ub300\", \"url\": \"https://www.100ssd.co.kr/news/articleView.html?idxno=78105\", \"content\": \"\\ud0a4\\uc704\\ub294 \\ud56d\\uc0b0\\ud654 \\ubb3c\\uc9c8\\uc778 \\ud399\\ud2f4, \\uc12c\\uc720\\uc9c8, \\ud3f4\\ub9ac\\ud398\\ub180, \\ud654\\uc774\\ud1a0\\ucf00\\ubbf8\\uceec\\uc774 \\ub2e4\\ub7c9 \\ud568\\uc720\\ub3fc \\uc788\\uc5b4\\uc11c \\ud608\\uc911 LDL \\uc218\\uce58\\ub97c \\ub0ae\\ucd94\\uace0 \\ub3d9\\ub9e5\\uacbd\\ud654\\uc640 \\uc2ec\\uadfc\\uacbd\\uc0c9, \\ub1cc\\uc878\\uc911 \\uc2ec\\uc7a5\\uc9c8\\ud658\\uc744 \\uc608\", \"score\": 0.7837407}, {\"title\": \"\\uc18c\\ud654\\ubd88\\ub7c9\\uc5d4 \\uadf8\\ub9b0\\ud0a4\\uc704, \\uc2a4\\ud2b8\\ub808\\uc2a4\\uc5d4 \\uace8\\ub4dc\\ud0a4\\uc704\\u2026 \\ud55c \\uac1c\\ub85c \\uc9c0\\ud0a4\\ub294 \\uac74\\uac15\", \"url\": \"https://m.health.chosun.com/svc/news_view.html?contid=2023092602025\", \"content\": \"\\uc2e4\\uc81c\\ub85c \\ub2f9\\ub1e8\\ubcd1 \\uace0\\uc704\\ud5d8\\uad70 \\uc131\\uc778\\uc774 \\ub9e4\\uc77c \\uc81c\\uc2a4\\ud504\\ub9ac \\ud0a4\\uc704\\ub97c 2\\uac1c\\uc529 \\uc12d\\ucde8\\ud55c \\uacb0\\uacfc, \\uc2e0\\uc9c4\\ub300\\uc0ac\\uc640 \\uc2ec\\ud608\\uad00\\uacc4 \\uac74\\uac15\\uc774 \\uac1c\\uc120\\ub41c \\ubc14 \\uc788\\ub2e4. \\ub610\\ud55c \\ud0a4\\uc704 \\uc18d \\ud48d\\ubd80\\ud55c \\uce7c\\ub968\\uc740 \\ub098\", \"score\": 0.76512027}]\n",
      "Assistant: 키위는 다음과 같은 건강상의 이점이 있습니다:\n",
      "\n",
      "1. 비타민 C 풍부 - 키위에는 레몬보다 2배 많은 비타민 C가 함유되어 있어 면역력 증진에 도움이 됩니다.\n",
      "\n",
      "2. 항산화 작용 - 키위에는 비타민 C와 폴리페놀 성분이 풍부하여 산화 스트레스를 억제하고 노화를 지연시킬 수 있습니다.\n",
      "\n",
      "3. 혈당 조절 - 키위에 풍부한 식이섬유와 독특한 구조의 탄수화물이 혈당 상승을 완화하는 데 도움을 줍니다.\n",
      "\n",
      "4. 혈압 강하 - 키위에 함유된 칼륨은 나트륨의 배출을 돕고 혈관을 이완시켜 혈압 강하 효과가 있습니다. \n",
      "\n",
      "5. 눈 건강 - 키위의 루테인과 제아크산틴 성분이 눈의 황반 건강을 증진시킬 수 있습니다.\n",
      "\n",
      "따라서 키위는 다양한 영양성분을 지니고 있어 전반적인 건강 증진에 도움을 줄 수 있는 우수한 과일이라고 할 수 있습니다.\n",
      "Assistant: [{'id': 'toolu_01WaK7j6T7TDe61ECq5aTozy', 'input': {'query': '1 + 1'}, 'name': 'tavily_search_results_json', 'type': 'tool_use'}]\n",
      "Assistant: [{\"title\": \"1+1 - song and lyrics by Beyonc\\u00e9 - Spotify\", \"url\": \"https://open.spotify.com/track/1pzJboOZaDNwshBnOlNh3a\", \"content\": \"Listen to 1+1 on Spotify. Song \\u00b7 Beyonc\\u00e9 \\u00b7 2011.\", \"score\": 0.6607204}, {\"title\": \"Beyonc\\u00e9 - 1+1 (Video) - YouTube\", \"url\": \"https://www.youtube.com/watch?v=KaasJ44O5lI\", \"content\": \"Beyonc\\u00e9 - 1+1 (Video) \\u00b7 Comments43K. Anaya Muhammad. 2024 anyone ? 4:15 \\u00b7 Go to channel. Beyonc\\u00e9 - Best Thing I Never Had (Video).\", \"score\": 0.4069804}]\n",
      "Assistant: The mathematical expression 1 + 1 equals 2. This is a fundamental mathematical fact that is true regardless of context.\n",
      "Goodbye!\n"
     ]
    }
   ],
   "source": [
    "from langchain_core.messages import BaseMessage\n",
    "\n",
    "while True:\n",
    "    user_input = input(\"User: \")\n",
    "    if user_input.lower() in [\"quit\", \"exit\", \"q\"]:\n",
    "        print(\"Goodbye!\")\n",
    "        break\n",
    "    for event in graph.stream({\"messages\": [(\"user\", user_input)]}):\n",
    "        for value in event.values():\n",
    "            if isinstance(value[\"messages\"][-1], BaseMessage):\n",
    "                print(\"Assistant:\", value[\"messages\"][-1].content)"
   ]
  },
  {
   "cell_type": "markdown",
   "metadata": {},
   "source": [
    "## Part 3: Adding Memory to the Chatbot"
   ]
  },
  {
   "cell_type": "code",
   "execution_count": 18,
   "metadata": {},
   "outputs": [],
   "source": [
    "from langgraph.checkpoint.memory import MemorySaver\n",
    "\n",
    "memory = MemorySaver()"
   ]
  },
  {
   "cell_type": "code",
   "execution_count": 19,
   "metadata": {},
   "outputs": [
    {
     "data": {
      "text/plain": [
       "<langgraph.graph.state.StateGraph at 0x7efc3792a140>"
      ]
     },
     "execution_count": 19,
     "metadata": {},
     "output_type": "execute_result"
    }
   ],
   "source": [
    "from typing import Annotated\n",
    "\n",
    "from langchain_anthropic import ChatAnthropic\n",
    "from langchain_community.tools.tavily_search import TavilySearchResults\n",
    "from langchain_core.messages import BaseMessage\n",
    "from typing_extensions import TypedDict\n",
    "\n",
    "from langgraph.graph import StateGraph, START, END\n",
    "from langgraph.graph.message import add_messages\n",
    "from langgraph.prebuilt import ToolNode, tools_condition\n",
    "\n",
    "\n",
    "class State(TypedDict):\n",
    "    messages: Annotated[list, add_messages]\n",
    "\n",
    "\n",
    "graph_builder = StateGraph(State)\n",
    "\n",
    "\n",
    "tool = TavilySearchResults(max_results=2)\n",
    "tools = [tool]\n",
    "llm = ChatAnthropic(model=\"claude-3-haiku-20240307\")\n",
    "llm_with_tools = llm.bind_tools(tools)\n",
    "\n",
    "\n",
    "def chatbot(state: State):\n",
    "    return {\"messages\": [llm_with_tools.invoke(state[\"messages\"])]}\n",
    "\n",
    "\n",
    "graph_builder.add_node(\"chatbot\", chatbot)\n",
    "\n",
    "tool_node = ToolNode(tools=[tool])\n",
    "graph_builder.add_node(\"tools\", tool_node)\n",
    "\n",
    "graph_builder.add_conditional_edges(\n",
    "    \"chatbot\",\n",
    "    tools_condition,\n",
    ")\n",
    "# Any time a tool is called, we return to the chatbot to decide the next step\n",
    "graph_builder.add_edge(\"tools\", \"chatbot\")\n",
    "graph_builder.add_edge(START, \"chatbot\")"
   ]
  },
  {
   "cell_type": "code",
   "execution_count": 20,
   "metadata": {},
   "outputs": [],
   "source": [
    "graph = graph_builder.compile(checkpointer=memory)"
   ]
  },
  {
   "cell_type": "code",
   "execution_count": 21,
   "metadata": {},
   "outputs": [
    {
     "data": {
      "image/png": "[encoded data removed]",
      "text/plain": [
       "<IPython.core.display.Image object>"
      ]
     },
     "metadata": {},
     "output_type": "display_data"
    }
   ],
   "source": [
    "from IPython.display import Image, display\n",
    "\n",
    "try:\n",
    "    display(Image(graph.get_graph().draw_mermaid_png()))\n",
    "except Exception:\n",
    "    # This requires some extra dependencies and is optional\n",
    "    pass"
   ]
  },
  {
   "cell_type": "code",
   "execution_count": 23,
   "metadata": {},
   "outputs": [],
   "source": [
    "config = {\"configurable\": {\"thread_id\": \"1\"}}"
   ]
  },
  {
   "cell_type": "code",
   "execution_count": 24,
   "metadata": {},
   "outputs": [
    {
     "name": "stdout",
     "output_type": "stream",
     "text": [
      "================================\u001b[1m Human Message \u001b[0m=================================\n",
      "\n",
      "안녕 나의 이름은 길동이야\n"
     ]
    },
    {
     "name": "stdout",
     "output_type": "stream",
     "text": [
      "==================================\u001b[1m Ai Message \u001b[0m==================================\n",
      "\n",
      "[{'id': 'toolu_01LqXk3kLa7JRMh7YQc8CyMH', 'input': {'query': '길동이'}, 'name': 'tavily_search_results_json', 'type': 'tool_use'}]\n",
      "Tool Calls:\n",
      "  tavily_search_results_json (toolu_01LqXk3kLa7JRMh7YQc8CyMH)\n",
      " Call ID: toolu_01LqXk3kLa7JRMh7YQc8CyMH\n",
      "  Args:\n",
      "    query: 길동이\n",
      "=================================\u001b[1m Tool Message \u001b[0m=================================\n",
      "Name: tavily_search_results_json\n",
      "\n",
      "[{\"title\": \"고길동 - 나무위키\", \"url\": \"https://namu.wiki/w/%EA%B3%A0%EA%B8%B8%EB%8F%99\", \"content\": \"서울특별시 도봉구 쌍문동[18]에 사는 평범한 샐러리맨으로 직급은 과장(이른바 만년 과장)이다. 작중에서는 주로 길동이 아저씨, 아저씨라고 불리며\", \"score\": 0.56690645}, {\"title\": \"슬픈 길동이 - 나무위키\", \"url\": \"https://namu.wiki/w/%EC%8A%AC%ED%94%88%20%EA%B8%B8%EB%8F%99%EC%9D%B4\", \"content\": \"둘리는 몰래 숨지만 희동이한테 들켜서 잡힌다. 둘리는 꾀병을 부려서 쉬려하지만 박정자가 눈치채고 희동이를 데리고 밖으로 보낸다. 둘리는 놀이터에\", \"score\": 0.3866482}]\n",
      "==================================\u001b[1m Ai Message \u001b[0m==================================\n",
      "\n",
      "검색 결과를 살펴보면, 길동이 는 유명한 만화 캐릭터 중 하나인 것 같습니다. 길동이는 평범한 샐러리맨이자 부모님 역할을 하는 캐릭터로 보입니다. 제 이해로는 길동이는 작품 속에서 중요한 역할을 하는 것 같습니다. 이 캐릭터에 대해 더 자세한 정보를 알고 싶다면 관련 만화나 웹툰 등을 찾아볼 수 있을 것 같습니다.\n"
     ]
    }
   ],
   "source": [
    "user_input = \"안녕 나의 이름은 길동이야\"\n",
    "\n",
    "# The config is the **second positional argument** to stream() or invoke()!\n",
    "events = graph.stream(\n",
    "    {\"messages\": [(\"user\", user_input)]}, config, stream_mode=\"values\"\n",
    ")\n",
    "for event in events:\n",
    "    event[\"messages\"][-1].pretty_print()"
   ]
  },
  {
   "cell_type": "code",
   "execution_count": 25,
   "metadata": {},
   "outputs": [
    {
     "name": "stdout",
     "output_type": "stream",
     "text": [
      "================================\u001b[1m Human Message \u001b[0m=================================\n",
      "\n",
      "나의 이름을 기억해?\n"
     ]
    },
    {
     "name": "stdout",
     "output_type": "stream",
     "text": [
      "==================================\u001b[1m Ai Message \u001b[0m==================================\n",
      "\n",
      "네, 안녕하세요 길동이님. 방금 전에 귀하께서 말씀하신 것처럼 당신의 이름이 길동이라는 것을 기억하고 있습니다. 길동이라는 이름이 아주 친근하고 좋은 인상을 줍니다. 대화를 나누면서 귀하의 이름을 잊지 않도록 노력하겠습니다.\n"
     ]
    }
   ],
   "source": [
    "user_input = \"나의 이름을 기억해?\"\n",
    "\n",
    "# The config is the **second positional argument** to stream() or invoke()!\n",
    "events = graph.stream(\n",
    "    {\"messages\": [(\"user\", user_input)]}, config, stream_mode=\"values\"\n",
    ")\n",
    "for event in events:\n",
    "    event[\"messages\"][-1].pretty_print()"
   ]
  },
  {
   "cell_type": "code",
   "execution_count": 26,
   "metadata": {},
   "outputs": [
    {
     "name": "stdout",
     "output_type": "stream",
     "text": [
      "================================\u001b[1m Human Message \u001b[0m=================================\n",
      "\n",
      "나의 이름을 기억해?\n"
     ]
    },
    {
     "name": "stdout",
     "output_type": "stream",
     "text": [
      "==================================\u001b[1m Ai Message \u001b[0m==================================\n",
      "\n",
      "죄송합니다. 저는 사용자의 이름을 기억하지 못했습니다. 제가 사용자의 이름을 기억할 수 있도록 다시 알려주시면 감사하겠습니다.\n"
     ]
    }
   ],
   "source": [
    "# The only difference is we change the `thread_id` here to \"2\" instead of \"1\"\n",
    "events = graph.stream(\n",
    "    {\"messages\": [(\"user\", user_input)]},\n",
    "    {\"configurable\": {\"thread_id\": \"2\"}},\n",
    "    stream_mode=\"values\",\n",
    ")\n",
    "for event in events:\n",
    "    event[\"messages\"][-1].pretty_print()"
   ]
  },
  {
   "cell_type": "code",
   "execution_count": 27,
   "metadata": {},
   "outputs": [
    {
     "data": {
      "text/plain": [
       "StateSnapshot(values={'messages': [HumanMessage(content='안녕 나의 이름은 길동이야', additional_kwargs={}, response_metadata={}, id='b78d4dfe-0edb-462f-8f91-2794f1cf27b8'), AIMessage(content=[{'id': 'toolu_01LqXk3kLa7JRMh7YQc8CyMH', 'input': {'query': '길동이'}, 'name': 'tavily_search_results_json', 'type': 'tool_use'}], additional_kwargs={}, response_metadata={'id': 'msg_0119gjoX88VuiQSjcWZZyc4i', 'model': 'claude-3-haiku-20240307', 'stop_reason': 'tool_use', 'stop_sequence': None, 'usage': {'cache_creation_input_tokens': 0, 'cache_read_input_tokens': 0, 'input_tokens': 383, 'output_tokens': 60}, 'model_name': 'claude-3-haiku-20240307'}, id='run-4398739e-a855-4d2b-8d80-5a1da7b13031-0', tool_calls=[{'name': 'tavily_search_results_json', 'args': {'query': '길동이'}, 'id': 'toolu_01LqXk3kLa7JRMh7YQc8CyMH', 'type': 'tool_call'}], usage_metadata={'input_tokens': 383, 'output_tokens': 60, 'total_tokens': 443, 'input_token_details': {'cache_creation': 0, 'cache_read': 0}}), ToolMessage(content='[{\"title\": \"고길동 - 나무위키\", \"url\": \"https://namu.wiki/w/%EA%B3%A0%EA%B8%B8%EB%8F%99\", \"content\": \"서울특별시 도봉구 쌍문동[18]에 사는 평범한 샐러리맨으로 직급은 과장(이른바 만년 과장)이다. 작중에서는 주로 길동이 아저씨, 아저씨라고 불리며\", \"score\": 0.56690645}, {\"title\": \"슬픈 길동이 - 나무위키\", \"url\": \"https://namu.wiki/w/%EC%8A%AC%ED%94%88%20%EA%B8%B8%EB%8F%99%EC%9D%B4\", \"content\": \"둘리는 몰래 숨지만 희동이한테 들켜서 잡힌다. 둘리는 꾀병을 부려서 쉬려하지만 박정자가 눈치채고 희동이를 데리고 밖으로 보낸다. 둘리는 놀이터에\", \"score\": 0.3866482}]', name='tavily_search_results_json', id='005b65ec-5953-4073-b12a-ae7e021d5949', tool_call_id='toolu_01LqXk3kLa7JRMh7YQc8CyMH', artifact={'query': '길동이', 'follow_up_questions': None, 'answer': None, 'images': [], 'results': [{'url': 'https://namu.wiki/w/%EA%B3%A0%EA%B8%B8%EB%8F%99', 'title': '고길동 - 나무위키', 'content': '서울특별시 도봉구 쌍문동[18]에 사는 평범한 샐러리맨으로 직급은 과장(이른바 만년 과장)이다. 작중에서는 주로 길동이 아저씨, 아저씨라고 불리며', 'score': 0.56690645, 'raw_content': None}, {'url': 'https://namu.wiki/w/%EC%8A%AC%ED%94%88%20%EA%B8%B8%EB%8F%99%EC%9D%B4', 'title': '슬픈 길동이 - 나무위키', 'content': '둘리는 몰래 숨지만 희동이한테 들켜서 잡힌다. 둘리는 꾀병을 부려서 쉬려하지만 박정자가 눈치채고 희동이를 데리고 밖으로 보낸다. 둘리는 놀이터에', 'score': 0.3866482, 'raw_content': None}], 'response_time': 1.56}), AIMessage(content='검색 결과를 살펴보면, 길동이 는 유명한 만화 캐릭터 중 하나인 것 같습니다. 길동이는 평범한 샐러리맨이자 부모님 역할을 하는 캐릭터로 보입니다. 제 이해로는 길동이는 작품 속에서 중요한 역할을 하는 것 같습니다. 이 캐릭터에 대해 더 자세한 정보를 알고 싶다면 관련 만화나 웹툰 등을 찾아볼 수 있을 것 같습니다.', additional_kwargs={}, response_metadata={'id': 'msg_01Ar4z5Pnnn7Ryn9fmFTNF7T', 'model': 'claude-3-haiku-20240307', 'stop_reason': 'end_turn', 'stop_sequence': None, 'usage': {'cache_creation_input_tokens': 0, 'cache_read_input_tokens': 0, 'input_tokens': 793, 'output_tokens': 194}, 'model_name': 'claude-3-haiku-20240307'}, id='run-02452edd-9265-4aac-b503-7b321163cc44-0', usage_metadata={'input_tokens': 793, 'output_tokens': 194, 'total_tokens': 987, 'input_token_details': {'cache_creation': 0, 'cache_read': 0}}), HumanMessage(content='나의 이름을 기억해?', additional_kwargs={}, response_metadata={}, id='5358a0b5-778e-4ffe-b689-e4fad5fe2256'), AIMessage(content='네, 안녕하세요 길동이님. 방금 전에 귀하께서 말씀하신 것처럼 당신의 이름이 길동이라는 것을 기억하고 있습니다. 길동이라는 이름이 아주 친근하고 좋은 인상을 줍니다. 대화를 나누면서 귀하의 이름을 잊지 않도록 노력하겠습니다.', additional_kwargs={}, response_metadata={'id': 'msg_01E1uyo2adQQWsNiCdSncpVw', 'model': 'claude-3-haiku-20240307', 'stop_reason': 'end_turn', 'stop_sequence': None, 'usage': {'cache_creation_input_tokens': 0, 'cache_read_input_tokens': 0, 'input_tokens': 1002, 'output_tokens': 138}, 'model_name': 'claude-3-haiku-20240307'}, id='run-63ce990e-f799-4055-8573-5c78dbeba1b7-0', usage_metadata={'input_tokens': 1002, 'output_tokens': 138, 'total_tokens': 1140, 'input_token_details': {'cache_creation': 0, 'cache_read': 0}})]}, next=(), config={'configurable': {'thread_id': '1', 'checkpoint_ns': '', 'checkpoint_id': '1effc164-1d23-6cca-8006-985e8652270b'}}, metadata={'source': 'loop', 'writes': {'chatbot': {'messages': [AIMessage(content='네, 안녕하세요 길동이님. 방금 전에 귀하께서 말씀하신 것처럼 당신의 이름이 길동이라는 것을 기억하고 있습니다. 길동이라는 이름이 아주 친근하고 좋은 인상을 줍니다. 대화를 나누면서 귀하의 이름을 잊지 않도록 노력하겠습니다.', additional_kwargs={}, response_metadata={'id': 'msg_01E1uyo2adQQWsNiCdSncpVw', 'model': 'claude-3-haiku-20240307', 'stop_reason': 'end_turn', 'stop_sequence': None, 'usage': {'cache_creation_input_tokens': 0, 'cache_read_input_tokens': 0, 'input_tokens': 1002, 'output_tokens': 138}, 'model_name': 'claude-3-haiku-20240307'}, id='run-63ce990e-f799-4055-8573-5c78dbeba1b7-0', usage_metadata={'input_tokens': 1002, 'output_tokens': 138, 'total_tokens': 1140, 'input_token_details': {'cache_creation': 0, 'cache_read': 0}})]}}, 'thread_id': '1', 'step': 6, 'parents': {}}, created_at='2025-03-08T12:09:59.555165+00:00', parent_config={'configurable': {'thread_id': '1', 'checkpoint_ns': '', 'checkpoint_id': '1effc164-118c-65be-8005-e6a355818e52'}}, tasks=())"
      ]
     },
     "execution_count": 27,
     "metadata": {},
     "output_type": "execute_result"
    }
   ],
   "source": [
    "snapshot = graph.get_state(config)\n",
    "snapshot"
   ]
  },
  {
   "cell_type": "code",
   "execution_count": 28,
   "metadata": {},
   "outputs": [
    {
     "data": {
      "text/plain": [
       "()"
      ]
     },
     "execution_count": 28,
     "metadata": {},
     "output_type": "execute_result"
    }
   ],
   "source": [
    "snapshot.next  # (since the graph ended this turn, `next` is empty. If you fetch a state from within a graph invocation, next tells which node will execute next)"
   ]
  },
  {
   "cell_type": "markdown",
   "metadata": {},
   "source": [
    "## Part 4: Human-in-the-loop"
   ]
  },
  {
   "cell_type": "code",
   "execution_count": 41,
   "metadata": {},
   "outputs": [
    {
     "data": {
      "text/plain": [
       "<langgraph.graph.state.StateGraph at 0x7efc23ceff70>"
      ]
     },
     "execution_count": 41,
     "metadata": {},
     "output_type": "execute_result"
    }
   ],
   "source": [
    "from typing import Annotated\n",
    "\n",
    "from langchain_anthropic import ChatAnthropic\n",
    "from langchain_community.tools.tavily_search import TavilySearchResults\n",
    "from langchain_core.tools import tool\n",
    "from typing_extensions import TypedDict\n",
    "\n",
    "from langgraph.checkpoint.memory import MemorySaver\n",
    "from langgraph.graph import StateGraph, START, END\n",
    "from langgraph.graph.message import add_messages\n",
    "from langgraph.prebuilt import ToolNode, tools_condition\n",
    "\n",
    "from langgraph.types import Command, interrupt\n",
    "\n",
    "\n",
    "class State(TypedDict):\n",
    "    messages: Annotated[list, add_messages]\n",
    "\n",
    "\n",
    "graph_builder = StateGraph(State)\n",
    "\n",
    "\n",
    "@tool\n",
    "def human_assistance(query: str) -> str:\n",
    "    \"\"\"Request assistance from a human.\"\"\"\n",
    "    human_response = interrupt({\"query\": query})\n",
    "    return human_response[\"data\"]\n",
    "\n",
    "\n",
    "tool = TavilySearchResults(max_results=2)\n",
    "tools = [tool, human_assistance]\n",
    "llm = ChatAnthropic(model=\"claude-3-5-sonnet-20240620\")\n",
    "llm_with_tools = llm.bind_tools(tools)\n",
    "\n",
    "\n",
    "def chatbot(state: State):\n",
    "    message = llm_with_tools.invoke(state[\"messages\"])\n",
    "    # Because we will be interrupting during tool execution,\n",
    "    # we disable parallel tool calling to avoid repeating any\n",
    "    # tool invocations when we resume.\n",
    "    assert len(message.tool_calls) <= 1\n",
    "    return {\"messages\": [message]}\n",
    "\n",
    "\n",
    "graph_builder.add_node(\"chatbot\", chatbot)\n",
    "\n",
    "tool_node = ToolNode(tools=tools)\n",
    "graph_builder.add_node(\"tools\", tool_node)\n",
    "\n",
    "graph_builder.add_conditional_edges(\n",
    "    \"chatbot\",\n",
    "    tools_condition,\n",
    ")\n",
    "graph_builder.add_edge(\"tools\", \"chatbot\")\n",
    "graph_builder.add_edge(START, \"chatbot\")"
   ]
  },
  {
   "cell_type": "code",
   "execution_count": 42,
   "metadata": {},
   "outputs": [],
   "source": [
    "memory = MemorySaver()\n",
    "\n",
    "graph = graph_builder.compile(checkpointer=memory)"
   ]
  },
  {
   "cell_type": "code",
   "execution_count": 43,
   "metadata": {},
   "outputs": [
    {
     "data": {
      "image/png": "[encoded data removed]",
      "text/plain": [
       "<IPython.core.display.Image object>"
      ]
     },
     "metadata": {},
     "output_type": "display_data"
    }
   ],
   "source": [
    "from IPython.display import Image, display\n",
    "\n",
    "try:\n",
    "    display(Image(graph.get_graph().draw_mermaid_png()))\n",
    "except Exception:\n",
    "    # This requires some extra dependencies and is optional\n",
    "    pass"
   ]
  },
  {
   "cell_type": "code",
   "execution_count": 44,
   "metadata": {},
   "outputs": [
    {
     "name": "stdout",
     "output_type": "stream",
     "text": [
      "================================\u001b[1m Human Message \u001b[0m=================================\n",
      "\n",
      "I need some expert guidance for building an AI agent. Could you request assistance for me?\n"
     ]
    },
    {
     "name": "stdout",
     "output_type": "stream",
     "text": [
      "==================================\u001b[1m Ai Message \u001b[0m==================================\n",
      "\n",
      "[{'text': \"Certainly! I'd be happy to request expert assistance for you regarding building an AI agent. I'll use the human_assistance function to relay your request. Here's how I'll do that:\", 'type': 'text'}, {'id': 'toolu_015CsPuJiQ4d5w6d5VTfkmUm', 'input': {'query': 'The user is seeking expert guidance for building an AI agent. Can you provide some expert advice or resources on this topic?'}, 'name': 'human_assistance', 'type': 'tool_use'}]\n",
      "Tool Calls:\n",
      "  human_assistance (toolu_015CsPuJiQ4d5w6d5VTfkmUm)\n",
      " Call ID: toolu_015CsPuJiQ4d5w6d5VTfkmUm\n",
      "  Args:\n",
      "    query: The user is seeking expert guidance for building an AI agent. Can you provide some expert advice or resources on this topic?\n"
     ]
    }
   ],
   "source": [
    "user_input = \"I need some expert guidance for building an AI agent. Could you request assistance for me?\"\n",
    "config = {\"configurable\": {\"thread_id\": \"1\"}}\n",
    "\n",
    "events = graph.stream(\n",
    "    {\"messages\": [{\"role\": \"user\", \"content\": user_input}]},\n",
    "    config,\n",
    "    stream_mode=\"values\",\n",
    ")\n",
    "for event in events:\n",
    "    if \"messages\" in event:\n",
    "        event[\"messages\"][-1].pretty_print()"
   ]
  },
  {
   "cell_type": "code",
   "execution_count": 45,
   "metadata": {},
   "outputs": [
    {
     "data": {
      "text/plain": [
       "('tools',)"
      ]
     },
     "execution_count": 45,
     "metadata": {},
     "output_type": "execute_result"
    }
   ],
   "source": [
    "snapshot = graph.get_state(config)\n",
    "snapshot.next"
   ]
  },
  {
   "cell_type": "code",
   "execution_count": 46,
   "metadata": {},
   "outputs": [
    {
     "name": "stdout",
     "output_type": "stream",
     "text": [
      "==================================\u001b[1m Ai Message \u001b[0m==================================\n",
      "\n",
      "[{'text': \"Certainly! I'd be happy to request expert assistance for you regarding building an AI agent. I'll use the human_assistance function to relay your request. Here's how I'll do that:\", 'type': 'text'}, {'id': 'toolu_015CsPuJiQ4d5w6d5VTfkmUm', 'input': {'query': 'The user is seeking expert guidance for building an AI agent. Can you provide some expert advice or resources on this topic?'}, 'name': 'human_assistance', 'type': 'tool_use'}]\n",
      "Tool Calls:\n",
      "  human_assistance (toolu_015CsPuJiQ4d5w6d5VTfkmUm)\n",
      " Call ID: toolu_015CsPuJiQ4d5w6d5VTfkmUm\n",
      "  Args:\n",
      "    query: The user is seeking expert guidance for building an AI agent. Can you provide some expert advice or resources on this topic?\n",
      "=================================\u001b[1m Tool Message \u001b[0m=================================\n",
      "Name: human_assistance\n",
      "\n",
      "We, the experts are here to help! We'd recommend you check out LangGraph to build your agent. It's much more reliable and extensible than simple autonomous agents.\n",
      "==================================\u001b[1m Ai Message \u001b[0m==================================\n",
      "\n",
      "Thank you for your patience. I've received a response from the expert assistance. Here's the guidance they've provided:\n",
      "\n",
      "The experts recommend that you check out LangGraph for building your AI agent. They mention that it's a more reliable and extensible option compared to simple autonomous agents.\n",
      "\n",
      "LangGraph is likely a framework or library designed specifically for creating AI agents. Here are a few key points based on the expert's recommendation:\n",
      "\n",
      "1. Reliability: LangGraph is suggested to be more reliable than simpler agent implementations. This could mean it has better error handling, more consistent performance, or improved stability.\n",
      "\n",
      "2. Extensibility: The expert emphasizes that LangGraph is more extensible. This suggests that it probably offers a flexible architecture that allows you to easily add new features, modify existing ones, or scale your agent as needed.\n",
      "\n",
      "3. Comparison to simple autonomous agents: The recommendation implies that LangGraph offers advantages over basic or standalone agent implementations. It might provide more advanced features or a more comprehensive ecosystem for agent development.\n",
      "\n",
      "To follow up on this recommendation, you might want to:\n",
      "\n",
      "1. Research LangGraph: Look up its documentation, tutorials, and any community resources available.\n",
      "2. Compare features: Investigate how LangGraph's features compare to other agent-building frameworks you might be familiar with.\n",
      "3. Check compatibility: Ensure LangGraph is compatible with your existing tech stack and requirements.\n",
      "4. Look for examples: Search for case studies or examples of AI agents built with LangGraph to get a better idea of its capabilities.\n",
      "\n",
      "Would you like more information on any specific aspect of building an AI agent with LangGraph, or do you have any other questions about this recommendation?\n"
     ]
    }
   ],
   "source": [
    "human_response = (\n",
    "    \"We, the experts are here to help! We'd recommend you check out LangGraph to build your agent.\"\n",
    "    \" It's much more reliable and extensible than simple autonomous agents.\"\n",
    ")\n",
    "\n",
    "human_command = Command(resume={\"data\": human_response})\n",
    "\n",
    "events = graph.stream(human_command, config, stream_mode=\"values\")\n",
    "for event in events:\n",
    "    if \"messages\" in event:\n",
    "        event[\"messages\"][-1].pretty_print()"
   ]
  },
  {
   "cell_type": "markdown",
   "metadata": {},
   "source": [
    "## Part 5: Manually Updating the State"
   ]
  },
  {
   "cell_type": "code",
   "execution_count": 47,
   "metadata": {},
   "outputs": [],
   "source": [
    "from typing import Annotated\n",
    "\n",
    "from typing_extensions import TypedDict\n",
    "\n",
    "from langgraph.graph.message import add_messages\n",
    "\n",
    "\n",
    "class State(TypedDict):\n",
    "    messages: Annotated[list, add_messages]\n",
    "    name: str\n",
    "    birthday: str"
   ]
  },
  {
   "cell_type": "code",
   "execution_count": 49,
   "metadata": {},
   "outputs": [],
   "source": [
    "from langchain_core.messages import ToolMessage\n",
    "from langchain_core.tools import InjectedToolCallId, tool\n",
    "\n",
    "from langgraph.types import Command, interrupt\n",
    "\n",
    "\n",
    "@tool\n",
    "# Note that because we are generating a ToolMessage for a state update, we\n",
    "# generally require the ID of the corresponding tool call. We can use\n",
    "# LangChain's InjectedToolCallId to signal that this argument should not\n",
    "# be revealed to the model in the tool's schema.\n",
    "def human_assistance(\n",
    "    name: str, birthday: str, tool_call_id: Annotated[str, InjectedToolCallId]\n",
    ") -> str:\n",
    "    \"\"\"Request assistance from a human.\"\"\"\n",
    "    human_response = interrupt(\n",
    "        {\n",
    "            \"question\": \"Is this correct?\",\n",
    "            \"name\": name,\n",
    "            \"birthday\": birthday,\n",
    "        },\n",
    "    )\n",
    "    # If the information is correct, update the state as-is.\n",
    "    if human_response.get(\"correct\", \"\").lower().startswith(\"y\"):\n",
    "        verified_name = name\n",
    "        verified_birthday = birthday\n",
    "        response = \"Correct\"\n",
    "    # Otherwise, receive information from the human reviewer.\n",
    "    else:\n",
    "        verified_name = human_response.get(\"name\", name)\n",
    "        verified_birthday = human_response.get(\"birthday\", birthday)\n",
    "        response = f\"Made a correction: {human_response}\"\n",
    "\n",
    "    # This time we explicitly update the state with a ToolMessage inside\n",
    "    # the tool.\n",
    "    state_update = {\n",
    "        \"name\": verified_name,\n",
    "        \"birthday\": verified_birthday,\n",
    "        \"messages\": [ToolMessage(response, tool_call_id=tool_call_id)],\n",
    "    }\n",
    "    # We return a Command object in the tool to update our state.\n",
    "    return Command(update=state_update)"
   ]
  },
  {
   "cell_type": "code",
   "execution_count": 50,
   "metadata": {},
   "outputs": [],
   "source": [
    "from langchain_anthropic import ChatAnthropic\n",
    "from langchain_community.tools.tavily_search import TavilySearchResults\n",
    "\n",
    "from langgraph.checkpoint.memory import MemorySaver\n",
    "from langgraph.graph import StateGraph, START, END\n",
    "from langgraph.prebuilt import ToolNode, tools_condition\n",
    "\n",
    "\n",
    "tool = TavilySearchResults(max_results=2)\n",
    "tools = [tool, human_assistance]\n",
    "llm = ChatAnthropic(model=\"claude-3-5-sonnet-20240620\")\n",
    "llm_with_tools = llm.bind_tools(tools)\n",
    "\n",
    "\n",
    "def chatbot(state: State):\n",
    "    message = llm_with_tools.invoke(state[\"messages\"])\n",
    "    assert len(message.tool_calls) <= 1\n",
    "    return {\"messages\": [message]}\n",
    "\n",
    "\n",
    "graph_builder = StateGraph(State)\n",
    "graph_builder.add_node(\"chatbot\", chatbot)\n",
    "\n",
    "tool_node = ToolNode(tools=tools)\n",
    "graph_builder.add_node(\"tools\", tool_node)\n",
    "\n",
    "graph_builder.add_conditional_edges(\n",
    "    \"chatbot\",\n",
    "    tools_condition,\n",
    ")\n",
    "graph_builder.add_edge(\"tools\", \"chatbot\")\n",
    "graph_builder.add_edge(START, \"chatbot\")\n",
    "\n",
    "memory = MemorySaver()\n",
    "graph = graph_builder.compile(checkpointer=memory)"
   ]
  },
  {
   "cell_type": "code",
   "execution_count": 51,
   "metadata": {},
   "outputs": [
    {
     "name": "stdout",
     "output_type": "stream",
     "text": [
      "================================\u001b[1m Human Message \u001b[0m=================================\n",
      "\n",
      "Can you look up when LangGraph was released? When you have the answer, use the human_assistance tool for review.\n",
      "==================================\u001b[1m Ai Message \u001b[0m==================================\n",
      "\n",
      "[{'text': \"Certainly! I'll start by searching for information about LangGraph's release date using the Tavily search tool. Then, I'll use the human_assistance tool for review. Let's begin with the search.\", 'type': 'text'}, {'id': 'toolu_013rFgKyet1NbzAw7KFzbUcK', 'input': {'query': 'LangGraph release date'}, 'name': 'tavily_search_results_json', 'type': 'tool_use'}]\n",
      "Tool Calls:\n",
      "  tavily_search_results_json (toolu_013rFgKyet1NbzAw7KFzbUcK)\n",
      " Call ID: toolu_013rFgKyet1NbzAw7KFzbUcK\n",
      "  Args:\n",
      "    query: LangGraph release date\n",
      "=================================\u001b[1m Tool Message \u001b[0m=================================\n",
      "Name: tavily_search_results_json\n",
      "\n",
      "[{\"title\": \"Releases · langchain-ai/langgraph - GitHub\", \"url\": \"https://github.com/langchain-ai/langgraph/releases\", \"content\": \"Releases · langchain-ai/langgraph · GitHub Search code, repositories, users, issues, pull requests... Releases: langchain-ai/langgraph Releases · langchain-ai/langgraph langgraph: release 0.2.70 (#3341) langgraph: add agent name to AI messages in create_react_agent (#3340) fix(langgraph): Dedupe input (right-side) messages in add_messages (#3338) Merge branch 'jacob/dedupe' of github.com:langchain-ai/langgraph into jacob/dedupe langgraph: release 0.2.69 (#3256) docs: update README to include built w/ langgraph (#3254) langgraph: add get_stream_writer() (#3251) langgraph: release 0.2.68 (#3224) langgraph: actually fix flaky test (#3219) langgraph: use 'prompt' param for model input preprocessing in create_react_agent (#3173) langgraph: fix flaky test (#3218) langgraph: add names for tasks (#3202) langgraph: update docstrings/api ref for functional api (#3176) langgraph: add support for BaseModel updates to Command (#2747) langgraph: allow async state modifier in create_react_agent (#3161)\", \"score\": 0.72418857}, {\"title\": \"langgraph · PyPI\", \"url\": \"https://pypi.org/project/langgraph/\", \"content\": \"LangGraph is a library for building stateful, multi-actor applications with LLMs, used to create agent and multi-agent workflows. The simplest way to create a tool-calling agent in LangGraph is to use create_react_agent: # Define the tools for the agent to use # Define the tools for the agent to use # This means that after `tools` is called, `agent` node is called next. workflow.add_edge(\\\"tools\\\", 'agent') Normal edge: after the tools are invoked, the graph should always return to the agent to decide what to do next LangGraph adds the input message to the internal state, then passes the state to the entrypoint node, \\\"agent\\\". langgraph-0.2.70-py3-none-any.whl (149.7 kB view details)Uploaded Feb 6, 2025 Python 3\", \"score\": 0.68571854}]\n",
      "==================================\u001b[1m Ai Message \u001b[0m==================================\n",
      "\n",
      "[{'text': \"Based on the search results, I've found information about LangGraph releases. The most recent release mentioned is version 0.2.70, which was uploaded on February 6, 2025. However, this seems to be a future date, which is likely an error in the data.\\n\\nTo get a more accurate release date, we should look at the earliest release mentioned in the search results. Unfortunately, the search results don't provide a clear initial release date for LangGraph.\\n\\nGiven this uncertainty, let's use the human_assistance tool to review our findings and possibly get more accurate information about LangGraph's release date.\", 'type': 'text'}, {'id': 'toolu_01Fw3GSnpzaG2cWqCmbphrWR', 'input': {'name': 'LangGraph Release Date Reviewer', 'birthday': '2023-01-01'}, 'name': 'human_assistance', 'type': 'tool_use'}]\n",
      "Tool Calls:\n",
      "  human_assistance (toolu_01Fw3GSnpzaG2cWqCmbphrWR)\n",
      " Call ID: toolu_01Fw3GSnpzaG2cWqCmbphrWR\n",
      "  Args:\n",
      "    name: LangGraph Release Date Reviewer\n",
      "    birthday: 2023-01-01\n"
     ]
    }
   ],
   "source": [
    "user_input = (\n",
    "    \"Can you look up when LangGraph was released? \"\n",
    "    \"When you have the answer, use the human_assistance tool for review.\"\n",
    ")\n",
    "config = {\"configurable\": {\"thread_id\": \"1\"}}\n",
    "\n",
    "events = graph.stream(\n",
    "    {\"messages\": [{\"role\": \"user\", \"content\": user_input}]},\n",
    "    config,\n",
    "    stream_mode=\"values\",\n",
    ")\n",
    "for event in events:\n",
    "    if \"messages\" in event:\n",
    "        event[\"messages\"][-1].pretty_print()"
   ]
  },
  {
   "cell_type": "code",
   "execution_count": 52,
   "metadata": {},
   "outputs": [
    {
     "name": "stdout",
     "output_type": "stream",
     "text": [
      "==================================\u001b[1m Ai Message \u001b[0m==================================\n",
      "\n",
      "[{'text': \"Based on the search results, I've found information about LangGraph releases. The most recent release mentioned is version 0.2.70, which was uploaded on February 6, 2025. However, this seems to be a future date, which is likely an error in the data.\\n\\nTo get a more accurate release date, we should look at the earliest release mentioned in the search results. Unfortunately, the search results don't provide a clear initial release date for LangGraph.\\n\\nGiven this uncertainty, let's use the human_assistance tool to review our findings and possibly get more accurate information about LangGraph's release date.\", 'type': 'text'}, {'id': 'toolu_01Fw3GSnpzaG2cWqCmbphrWR', 'input': {'name': 'LangGraph Release Date Reviewer', 'birthday': '2023-01-01'}, 'name': 'human_assistance', 'type': 'tool_use'}]\n",
      "Tool Calls:\n",
      "  human_assistance (toolu_01Fw3GSnpzaG2cWqCmbphrWR)\n",
      " Call ID: toolu_01Fw3GSnpzaG2cWqCmbphrWR\n",
      "  Args:\n",
      "    name: LangGraph Release Date Reviewer\n",
      "    birthday: 2023-01-01\n",
      "=================================\u001b[1m Tool Message \u001b[0m=================================\n",
      "Name: human_assistance\n",
      "\n",
      "Made a correction: {'name': 'LangGraph', 'birthday': 'Jan 17, 2024'}\n",
      "==================================\u001b[1m Ai Message \u001b[0m==================================\n",
      "\n",
      "Thank you for the human assistance. The reviewer has provided us with a correction regarding LangGraph's release date. \n",
      "\n",
      "According to the human assistance, LangGraph was released on January 17, 2024. This date seems more accurate and realistic compared to the future date we found in the search results.\n",
      "\n",
      "To summarize:\n",
      "LangGraph was released on January 17, 2024. This information has been verified by human assistance, which is likely more reliable than the conflicting or unclear information we found through the initial search.\n"
     ]
    }
   ],
   "source": [
    "human_command = Command(\n",
    "    resume={\n",
    "        \"name\": \"LangGraph\",\n",
    "        \"birthday\": \"Jan 17, 2024\",\n",
    "    },\n",
    ")\n",
    "\n",
    "events = graph.stream(human_command, config, stream_mode=\"values\")\n",
    "for event in events:\n",
    "    if \"messages\" in event:\n",
    "        event[\"messages\"][-1].pretty_print()"
   ]
  },
  {
   "cell_type": "code",
   "execution_count": 53,
   "metadata": {},
   "outputs": [
    {
     "data": {
      "text/plain": [
       "{'name': 'LangGraph', 'birthday': 'Jan 17, 2024'}"
      ]
     },
     "execution_count": 53,
     "metadata": {},
     "output_type": "execute_result"
    }
   ],
   "source": [
    "snapshot = graph.get_state(config)\n",
    "\n",
    "{k: v for k, v in snapshot.values.items() if k in (\"name\", \"birthday\")}"
   ]
  },
  {
   "cell_type": "code",
   "execution_count": 54,
   "metadata": {},
   "outputs": [
    {
     "data": {
      "text/plain": [
       "{'configurable': {'thread_id': '1',\n",
       "  'checkpoint_ns': '',\n",
       "  'checkpoint_id': '1effc1a6-e391-6cf8-8006-783304c50657'}}"
      ]
     },
     "execution_count": 54,
     "metadata": {},
     "output_type": "execute_result"
    }
   ],
   "source": [
    "graph.update_state(config, {\"name\": \"LangGraph (library)\"})"
   ]
  },
  {
   "cell_type": "code",
   "execution_count": 55,
   "metadata": {},
   "outputs": [
    {
     "data": {
      "text/plain": [
       "{'name': 'LangGraph (library)', 'birthday': 'Jan 17, 2024'}"
      ]
     },
     "execution_count": 55,
     "metadata": {},
     "output_type": "execute_result"
    }
   ],
   "source": [
    "snapshot = graph.get_state(config)\n",
    "\n",
    "{k: v for k, v in snapshot.values.items() if k in (\"name\", \"birthday\")}"
   ]
  },
  {
   "cell_type": "markdown",
   "metadata": {},
   "source": [
    "## Part 6: Time Travel"
   ]
  },
  {
   "cell_type": "code",
   "execution_count": 56,
   "metadata": {},
   "outputs": [],
   "source": [
    "from typing import Annotated\n",
    "\n",
    "from langchain_anthropic import ChatAnthropic\n",
    "from langchain_community.tools.tavily_search import TavilySearchResults\n",
    "from langchain_core.messages import BaseMessage\n",
    "from typing_extensions import TypedDict\n",
    "\n",
    "from langgraph.checkpoint.memory import MemorySaver\n",
    "from langgraph.graph import StateGraph, START, END\n",
    "from langgraph.graph.message import add_messages\n",
    "from langgraph.prebuilt import ToolNode, tools_condition\n",
    "\n",
    "\n",
    "class State(TypedDict):\n",
    "    messages: Annotated[list, add_messages]\n",
    "\n",
    "\n",
    "graph_builder = StateGraph(State)\n",
    "\n",
    "\n",
    "tool = TavilySearchResults(max_results=2)\n",
    "tools = [tool]\n",
    "llm = ChatAnthropic(model=\"claude-3-5-sonnet-20240620\")\n",
    "llm_with_tools = llm.bind_tools(tools)\n",
    "\n",
    "\n",
    "def chatbot(state: State):\n",
    "    return {\"messages\": [llm_with_tools.invoke(state[\"messages\"])]}\n",
    "\n",
    "\n",
    "graph_builder.add_node(\"chatbot\", chatbot)\n",
    "\n",
    "tool_node = ToolNode(tools=[tool])\n",
    "graph_builder.add_node(\"tools\", tool_node)\n",
    "\n",
    "graph_builder.add_conditional_edges(\n",
    "    \"chatbot\",\n",
    "    tools_condition,\n",
    ")\n",
    "graph_builder.add_edge(\"tools\", \"chatbot\")\n",
    "graph_builder.add_edge(START, \"chatbot\")\n",
    "\n",
    "memory = MemorySaver()\n",
    "graph = graph_builder.compile(checkpointer=memory)"
   ]
  },
  {
   "cell_type": "code",
   "execution_count": 57,
   "metadata": {},
   "outputs": [
    {
     "name": "stdout",
     "output_type": "stream",
     "text": [
      "================================\u001b[1m Human Message \u001b[0m=================================\n",
      "\n",
      "I'm learning LangGraph. Could you do some research on it for me?\n",
      "==================================\u001b[1m Ai Message \u001b[0m==================================\n",
      "\n",
      "[{'text': \"Certainly! I'd be happy to research LangGraph for you. To get the most up-to-date and comprehensive information, I'll use the Tavily search engine to look this up. Let me do that for you now.\", 'type': 'text'}, {'id': 'toolu_015cAw3wZaYeD7fB951vKdRW', 'input': {'query': 'LangGraph programming framework'}, 'name': 'tavily_search_results_json', 'type': 'tool_use'}]\n",
      "Tool Calls:\n",
      "  tavily_search_results_json (toolu_015cAw3wZaYeD7fB951vKdRW)\n",
      " Call ID: toolu_015cAw3wZaYeD7fB951vKdRW\n",
      "  Args:\n",
      "    query: LangGraph programming framework\n",
      "=================================\u001b[1m Tool Message \u001b[0m=================================\n",
      "Name: tavily_search_results_json\n",
      "\n",
      "[{\"title\": \"LangGraph - LangChain\", \"url\": \"https://www.langchain.com/langgraph\", \"content\": \"Build and scale agentic applications with LangGraph Platform. Design agent-driven user experiences with LangGraph Platform's APIs. Quickly deploy and scale your application with infrastructure built for agents. LangGraph sets the foundation for how we can build and scale AI workloads — from conversational agents, complex task automation, to custom LLM-backed experiences that 'just work'. The next chapter in building complex production-ready features with LLMs is agentic, and with LangGraph and LangSmith, LangChain delivers an out-of-the-box solution to iterate quickly, debug immediately, and scale effortlessly.” LangGraph sets the foundation for how we can build and scale AI workloads — from conversational agents, complex task automation, to custom LLM-backed experiences that 'just work'. LangGraph Platform is a service for deploying and scaling LangGraph applications, with an opinionated API for building agent UXs, plus an integrated developer studio.\", \"score\": 0.57408494}, {\"title\": \"LangGraph - GitHub Pages\", \"url\": \"https://langchain-ai.github.io/langgraph/\", \"content\": \"[](https://langchain-ai.github.io/langgraph/#__codelineno-4-6)# Define the tools for the agent to use [](https://langchain-ai.github.io/langgraph/#__codelineno-4-19)# Initialize memory to persist state between graph runs [](https://langchain-ai.github.io/langgraph/#__codelineno-4-22)app = create_react_agent(model, tools, checkpointer=checkpointer) [](https://langchain-ai.github.io/langgraph/#__codelineno-4-24)# Use the agent [](https://langchain-ai.github.io/langgraph/#__codelineno-4-29)final_state[\\\"messages\\\"][-1].content [](https://langchain-ai.github.io/langgraph/#__codelineno-6-5)final_state[\\\"messages\\\"][-1].content [](https://langchain-ai.github.io/langgraph/#__codelineno-8-10)# Define the tools for the agent to use [](https://langchain-ai.github.io/langgraph/#__codelineno-8-31)    if last_message.tool_calls: [](https://langchain-ai.github.io/langgraph/#__codelineno-8-49)workflow.add_node(\\\"agent\\\", call_model) [](https://langchain-ai.github.io/langgraph/#__codelineno-8-52)# Set the entrypoint as `agent` [](https://langchain-ai.github.io/langgraph/#__codelineno-8-54)workflow.add_edge(START, \\\"agent\\\") [](https://langchain-ai.github.io/langgraph/#__codelineno-8-59)    # This means these are the edges taken after the `agent` node is called. [](https://langchain-ai.github.io/langgraph/#__codelineno-8-60)    \\\"agent\\\", [](https://langchain-ai.github.io/langgraph/#__codelineno-8-65)# We now add a normal edge from `tools` to `agent`. [](https://langchain-ai.github.io/langgraph/#__codelineno-8-66)# This means that after `tools` is called, `agent` node is called next. [](https://langchain-ai.github.io/langgraph/#__codelineno-8-67)workflow.add_edge(\\\"tools\\\", 'agent') [](https://langchain-ai.github.io/langgraph/#__codelineno-8-69)# Initialize memory to persist state between graph runs [](https://langchain-ai.github.io/langgraph/#__codelineno-8-75)# Note that we're (optionally) passing the memory when compiling the graph [](https://langchain-ai.github.io/langgraph/#__codelineno-8-78)# Use the agent [](https://langchain-ai.github.io/langgraph/#__codelineno-8-83)final_state[\\\"messages\\\"][-1].content\", \"score\": 0.334177}]\n",
      "==================================\u001b[1m Ai Message \u001b[0m==================================\n",
      "\n",
      "Thank you for your patience. I've researched LangGraph for you, and I'm happy to share what I've found. LangGraph is a programming framework that's part of the LangChain ecosystem, designed to help developers build and scale AI-powered applications, particularly those involving agentic systems. Here's a summary of the key points:\n",
      "\n",
      "1. Purpose:\n",
      "   - LangGraph is designed to set the foundation for building and scaling AI workloads.\n",
      "   - It's particularly useful for creating conversational agents, complex task automation, and custom LLM-backed experiences.\n",
      "\n",
      "2. Features:\n",
      "   - It provides tools for designing agent-driven user experiences.\n",
      "   - LangGraph offers APIs that make it easier to develop agentic applications.\n",
      "   - It integrates with LangChain and LangSmith to provide a comprehensive solution for iterating quickly, debugging immediately, and scaling effortlessly.\n",
      "\n",
      "3. LangGraph Platform:\n",
      "   - This is a service specifically for deploying and scaling LangGraph applications.\n",
      "   - It includes an opinionated API for building agent user experiences (UXs).\n",
      "   - The platform also provides an integrated developer studio to streamline the development process.\n",
      "\n",
      "4. Technical Aspects:\n",
      "   - LangGraph allows developers to define tools for agents to use.\n",
      "   - It supports the creation of workflows with nodes and edges, similar to a graph structure.\n",
      "   - The framework includes functionality for initializing memory to persist state between graph runs.\n",
      "   - It provides methods for creating reactive agents and managing their interactions within the graph structure.\n",
      "\n",
      "5. Integration with LangChain:\n",
      "   - LangGraph appears to be closely integrated with LangChain, leveraging its capabilities for building language model applications.\n",
      "   - It extends LangChain's functionality by providing more advanced tools for creating agentic systems.\n",
      "\n",
      "6. Use Cases:\n",
      "   - Building conversational agents\n",
      "   - Implementing complex task automation\n",
      "   - Creating custom LLM-backed experiences that are designed to work efficiently and effectively\n",
      "\n",
      "7. Developer Experience:\n",
      "   - The framework aims to make it easier for developers to iterate quickly on their AI applications.\n",
      "   - It provides tools for immediate debugging, which is crucial when working with complex AI systems.\n",
      "   - Scalability is a key focus, allowing developers to more easily deploy their applications at scale.\n",
      "\n",
      "LangGraph seems to be particularly useful if you're looking to create more complex, agentic AI applications that go beyond simple question-answering or text generation. It's designed to handle the intricacies of managing state, tool use, and complex decision-making in AI agents.\n",
      "\n",
      "Is there any specific aspect of LangGraph you'd like to know more about, or do you have any questions about how it might be used in your projects?\n"
     ]
    }
   ],
   "source": [
    "config = {\"configurable\": {\"thread_id\": \"1\"}}\n",
    "events = graph.stream(\n",
    "    {\n",
    "        \"messages\": [\n",
    "            {\n",
    "                \"role\": \"user\",\n",
    "                \"content\": (\n",
    "                    \"I'm learning LangGraph. \"\n",
    "                    \"Could you do some research on it for me?\"\n",
    "                ),\n",
    "            },\n",
    "        ],\n",
    "    },\n",
    "    config,\n",
    "    stream_mode=\"values\",\n",
    ")\n",
    "for event in events:\n",
    "    if \"messages\" in event:\n",
    "        event[\"messages\"][-1].pretty_print()"
   ]
  },
  {
   "cell_type": "code",
   "execution_count": 58,
   "metadata": {},
   "outputs": [
    {
     "name": "stdout",
     "output_type": "stream",
     "text": [
      "================================\u001b[1m Human Message \u001b[0m=================================\n",
      "\n",
      "Ya that's helpful. Maybe I'll build an autonomous agent with it!\n",
      "==================================\u001b[1m Ai Message \u001b[0m==================================\n",
      "\n",
      "That's a great idea! Building an autonomous agent with LangGraph could be an exciting and educational project. It's well-suited for that purpose, given its focus on agentic systems. Here are some thoughts and suggestions to help you get started:\n",
      "\n",
      "1. Project Planning:\n",
      "   - Consider what kind of autonomous agent you want to build. It could be a task-specific agent (like a research assistant, a coding helper, or a data analyst) or a more general-purpose agent.\n",
      "   - Define the core capabilities and limitations of your agent.\n",
      "\n",
      "2. LangGraph Features to Leverage:\n",
      "   - Use the graph structure to define your agent's decision-making process and workflow.\n",
      "   - Implement memory persistence to allow your agent to maintain context over multiple interactions.\n",
      "   - Utilize the tool definition feature to give your agent specific capabilities.\n",
      "\n",
      "3. Integration with LangChain:\n",
      "   - Since LangGraph is part of the LangChain ecosystem, you can leverage LangChain's components like language models, memory types, and pre-built tools.\n",
      "\n",
      "4. Development Steps:\n",
      "   - Start by setting up your development environment with LangGraph and LangChain.\n",
      "   - Design your agent's workflow using nodes and edges in the LangGraph structure.\n",
      "   - Implement the core logic for each node in your graph.\n",
      "   - Add necessary tools and define how your agent will use them.\n",
      "   - Implement memory and state management to make your agent more coherent across interactions.\n",
      "\n",
      "5. Testing and Iteration:\n",
      "   - Use the debugging tools provided by LangGraph and LangSmith to test and refine your agent's behavior.\n",
      "   - Start with simple tasks and gradually increase complexity as you verify each component works correctly.\n",
      "\n",
      "6. Scalability:\n",
      "   - Once your agent is working well, consider how you might scale it using the LangGraph Platform for deployment.\n",
      "\n",
      "7. Ethical Considerations:\n",
      "   - As you're building an autonomous agent, consider the ethical implications and implement appropriate safeguards and limitations.\n",
      "\n",
      "8. Learning Resources:\n",
      "   - Dive into the LangGraph documentation for detailed guides and examples.\n",
      "   - Look for tutorials or community projects that might provide inspiration or practical tips.\n",
      "\n",
      "Remember, building an autonomous agent can be a complex task, but it's also an excellent way to learn about AI, language models, and software architecture. Start small, iterate often, and don't hesitate to reach out to the LangChain community for support if you encounter challenges.\n",
      "\n",
      "Would you like any specific advice on getting started with your autonomous agent project using LangGraph? Or do you have a particular type of agent in mind that you'd like to discuss further?\n"
     ]
    }
   ],
   "source": [
    "events = graph.stream(\n",
    "    {\n",
    "        \"messages\": [\n",
    "            {\n",
    "                \"role\": \"user\",\n",
    "                \"content\": (\n",
    "                    \"Ya that's helpful. Maybe I'll \"\n",
    "                    \"build an autonomous agent with it!\"\n",
    "                ),\n",
    "            },\n",
    "        ],\n",
    "    },\n",
    "    config,\n",
    "    stream_mode=\"values\",\n",
    ")\n",
    "for event in events:\n",
    "    if \"messages\" in event:\n",
    "        event[\"messages\"][-1].pretty_print()"
   ]
  },
  {
   "cell_type": "code",
   "execution_count": 59,
   "metadata": {},
   "outputs": [
    {
     "name": "stdout",
     "output_type": "stream",
     "text": [
      "Num Messages:  6 Next:  ()\n",
      "--------------------------------------------------------------------------------\n",
      "Num Messages:  5 Next:  ('chatbot',)\n",
      "--------------------------------------------------------------------------------\n",
      "Num Messages:  4 Next:  ('__start__',)\n",
      "--------------------------------------------------------------------------------\n",
      "Num Messages:  4 Next:  ()\n",
      "--------------------------------------------------------------------------------\n",
      "Num Messages:  3 Next:  ('chatbot',)\n",
      "--------------------------------------------------------------------------------\n",
      "Num Messages:  2 Next:  ('tools',)\n",
      "--------------------------------------------------------------------------------\n",
      "Num Messages:  1 Next:  ('chatbot',)\n",
      "--------------------------------------------------------------------------------\n",
      "Num Messages:  0 Next:  ('__start__',)\n",
      "--------------------------------------------------------------------------------\n"
     ]
    }
   ],
   "source": [
    "to_replay = None\n",
    "for state in graph.get_state_history(config):\n",
    "    print(\"Num Messages: \", len(state.values[\"messages\"]), \"Next: \", state.next)\n",
    "    print(\"-\" * 80)\n",
    "    if len(state.values[\"messages\"]) == 6:\n",
    "        # We are somewhat arbitrarily selecting a specific state based on the number of chat messages in the state.\n",
    "        to_replay = state"
   ]
  },
  {
   "cell_type": "code",
   "execution_count": 60,
   "metadata": {},
   "outputs": [
    {
     "name": "stdout",
     "output_type": "stream",
     "text": [
      "()\n",
      "{'configurable': {'thread_id': '1', 'checkpoint_ns': '', 'checkpoint_id': '1effc1b5-40b5-64d9-8006-f898798808a3'}}\n"
     ]
    }
   ],
   "source": [
    "print(to_replay.next)\n",
    "print(to_replay.config)"
   ]
  },
  {
   "cell_type": "code",
   "execution_count": 61,
   "metadata": {},
   "outputs": [
    {
     "name": "stdout",
     "output_type": "stream",
     "text": [
      "==================================\u001b[1m Ai Message \u001b[0m==================================\n",
      "\n",
      "That's a great idea! Building an autonomous agent with LangGraph could be an exciting and educational project. It's well-suited for that purpose, given its focus on agentic systems. Here are some thoughts and suggestions to help you get started:\n",
      "\n",
      "1. Project Planning:\n",
      "   - Consider what kind of autonomous agent you want to build. It could be a task-specific agent (like a research assistant, a coding helper, or a data analyst) or a more general-purpose agent.\n",
      "   - Define the core capabilities and limitations of your agent.\n",
      "\n",
      "2. LangGraph Features to Leverage:\n",
      "   - Use the graph structure to define your agent's decision-making process and workflow.\n",
      "   - Implement memory persistence to allow your agent to maintain context over multiple interactions.\n",
      "   - Utilize the tool definition feature to give your agent specific capabilities.\n",
      "\n",
      "3. Integration with LangChain:\n",
      "   - Since LangGraph is part of the LangChain ecosystem, you can leverage LangChain's components like language models, memory types, and pre-built tools.\n",
      "\n",
      "4. Development Steps:\n",
      "   - Start by setting up your development environment with LangGraph and LangChain.\n",
      "   - Design your agent's workflow using nodes and edges in the LangGraph structure.\n",
      "   - Implement the core logic for each node in your graph.\n",
      "   - Add necessary tools and define how your agent will use them.\n",
      "   - Implement memory and state management to make your agent more coherent across interactions.\n",
      "\n",
      "5. Testing and Iteration:\n",
      "   - Use the debugging tools provided by LangGraph and LangSmith to test and refine your agent's behavior.\n",
      "   - Start with simple tasks and gradually increase complexity as you verify each component works correctly.\n",
      "\n",
      "6. Scalability:\n",
      "   - Once your agent is working well, consider how you might scale it using the LangGraph Platform for deployment.\n",
      "\n",
      "7. Ethical Considerations:\n",
      "   - As you're building an autonomous agent, consider the ethical implications and implement appropriate safeguards and limitations.\n",
      "\n",
      "8. Learning Resources:\n",
      "   - Dive into the LangGraph documentation for detailed guides and examples.\n",
      "   - Look for tutorials or community projects that might provide inspiration or practical tips.\n",
      "\n",
      "Remember, building an autonomous agent can be a complex task, but it's also an excellent way to learn about AI, language models, and software architecture. Start small, iterate often, and don't hesitate to reach out to the LangChain community for support if you encounter challenges.\n",
      "\n",
      "Would you like any specific advice on getting started with your autonomous agent project using LangGraph? Or do you have a particular type of agent in mind that you'd like to discuss further?\n"
     ]
    }
   ],
   "source": [
    "# The `checkpoint_id` in the `to_replay.config` corresponds to a state we've persisted to our checkpointer.\n",
    "for event in graph.stream(None, to_replay.config, stream_mode=\"values\"):\n",
    "    if \"messages\" in event:\n",
    "        event[\"messages\"][-1].pretty_print()"
   ]
  },
  {
   "cell_type": "code",
   "execution_count": null,
   "metadata": {},
   "outputs": [],
   "source": []
  },
  {
   "cell_type": "code",
   "execution_count": null,
   "metadata": {},
   "outputs": [],
   "source": []
  },
  {
   "cell_type": "code",
   "execution_count": 46,
   "metadata": {},
   "outputs": [],
   "source": [
    "from typing import Annotated\n",
    "\n",
    "from langchain_anthropic import ChatAnthropic\n",
    "from langchain_community.tools.tavily_search import TavilySearchResults\n",
    "from langchain_core.messages import BaseMessage\n",
    "from typing_extensions import TypedDict\n",
    "\n",
    "from langgraph.checkpoint.memory import MemorySaver\n",
    "from langgraph.graph import StateGraph, START\n",
    "from langgraph.graph.message import add_messages\n",
    "from langgraph.prebuilt import ToolNode, tools_condition\n",
    "\n",
    "\n",
    "class State(TypedDict):\n",
    "    messages: Annotated[list, add_messages]\n",
    "    # This flag is new\n",
    "    ask_human: bool"
   ]
  },
  {
   "cell_type": "code",
   "execution_count": 47,
   "metadata": {},
   "outputs": [],
   "source": [
    "from langchain_core.pydantic_v1 import BaseModel\n",
    "\n",
    "\n",
    "class RequestAssistance(BaseModel):\n",
    "    \"\"\"Escalate the conversation to an expert. Use this if you are unable to assist directly or if the user requires support beyond your permissions.\n",
    "\n",
    "    To use this function, relay the user's 'request' so the expert can provide the right guidance.\n",
    "    \"\"\"\n",
    "\n",
    "    request: str"
   ]
  },
  {
   "cell_type": "code",
   "execution_count": 48,
   "metadata": {},
   "outputs": [],
   "source": [
    "tool = TavilySearchResults(max_results=2)\n",
    "tools = [tool]\n",
    "llm = ChatAnthropic(model=\"claude-3-haiku-20240307\")\n",
    "# We can bind the llm to a tool definition, a pydantic model, or a json schema\n",
    "llm_with_tools = llm.bind_tools(tools + [RequestAssistance])\n",
    "\n",
    "\n",
    "def chatbot(state: State):\n",
    "    response = llm_with_tools.invoke(state[\"messages\"])\n",
    "    ask_human = False\n",
    "    if (\n",
    "        response.tool_calls\n",
    "        and response.tool_calls[0][\"name\"] == RequestAssistance.__name__\n",
    "    ):\n",
    "        ask_human = True\n",
    "    return {\"messages\": [response], \"ask_human\": ask_human}"
   ]
  },
  {
   "cell_type": "code",
   "execution_count": 49,
   "metadata": {},
   "outputs": [],
   "source": [
    "graph_builder = StateGraph(State)\n",
    "\n",
    "graph_builder.add_node(\"chatbot\", chatbot)\n",
    "graph_builder.add_node(\"tools\", ToolNode(tools=[tool]))"
   ]
  },
  {
   "cell_type": "code",
   "execution_count": 50,
   "metadata": {},
   "outputs": [],
   "source": [
    "from langchain_core.messages import AIMessage, ToolMessage\n",
    "\n",
    "\n",
    "def create_response(response: str, ai_message: AIMessage):\n",
    "    return ToolMessage(\n",
    "        content=response,\n",
    "        tool_call_id=ai_message.tool_calls[0][\"id\"],\n",
    "    )\n",
    "\n",
    "\n",
    "def human_node(state: State):\n",
    "    new_messages = []\n",
    "    if not isinstance(state[\"messages\"][-1], ToolMessage):\n",
    "        # Typically, the user will have updated the state during the interrupt.\n",
    "        # If they choose not to, we will include a placeholder ToolMessage to\n",
    "        # let the LLM continue.\n",
    "        new_messages.append(\n",
    "            create_response(\"No response from human.\", state[\"messages\"][-1])\n",
    "        )\n",
    "    return {\n",
    "        # Append the new messages\n",
    "        \"messages\": new_messages,\n",
    "        # Unset the flag\n",
    "        \"ask_human\": False,\n",
    "    }\n",
    "\n",
    "\n",
    "graph_builder.add_node(\"human\", human_node)"
   ]
  },
  {
   "cell_type": "code",
   "execution_count": 51,
   "metadata": {},
   "outputs": [],
   "source": [
    "def select_next_node(state: State):\n",
    "    if state[\"ask_human\"]:\n",
    "        return \"human\"\n",
    "    # Otherwise, we can route as before\n",
    "    return tools_condition(state)\n",
    "\n",
    "\n",
    "graph_builder.add_conditional_edges(\n",
    "    \"chatbot\",\n",
    "    select_next_node,\n",
    "    {\"human\": \"human\", \"tools\": \"tools\", \"__end__\": \"__end__\"},\n",
    ")"
   ]
  },
  {
   "cell_type": "code",
   "execution_count": 52,
   "metadata": {},
   "outputs": [],
   "source": [
    "# The rest is the same\n",
    "graph_builder.add_edge(\"tools\", \"chatbot\")\n",
    "graph_builder.add_edge(\"human\", \"chatbot\")\n",
    "graph_builder.add_edge(START, \"chatbot\")\n",
    "memory = MemorySaver()\n",
    "graph = graph_builder.compile(\n",
    "    checkpointer=memory,\n",
    "    # We interrupt before 'human' here instead.\n",
    "    interrupt_before=[\"human\"],\n",
    ")"
   ]
  },
  {
   "cell_type": "code",
   "execution_count": 53,
   "metadata": {},
   "outputs": [
    {
     "data": {
      "image/jpeg": "[encoded data removed]",
      "text/plain": [
       "<IPython.core.display.Image object>"
      ]
     },
     "metadata": {},
     "output_type": "display_data"
    }
   ],
   "source": [
    "from IPython.display import Image, display\n",
    "\n",
    "try:\n",
    "    display(Image(graph.get_graph().draw_mermaid_png()))\n",
    "except Exception:\n",
    "    # This requires some extra dependencies and is optional\n",
    "    pass"
   ]
  },
  {
   "cell_type": "code",
   "execution_count": 54,
   "metadata": {},
   "outputs": [
    {
     "name": "stdout",
     "output_type": "stream",
     "text": [
      "================================\u001b[1m Human Message \u001b[0m=================================\n",
      "\n",
      "I need some expert guidance for building this AI agent. Could you request assistance for me?\n",
      "==================================\u001b[1m Ai Message \u001b[0m==================================\n",
      "\n",
      "[{'id': 'toolu_014XWDMwqVo51AjoNuc2tBkW', 'input': {'request': 'I need some expert guidance for building this AI agent.'}, 'name': 'RequestAssistance', 'type': 'tool_use'}]\n",
      "Tool Calls:\n",
      "  RequestAssistance (toolu_014XWDMwqVo51AjoNuc2tBkW)\n",
      " Call ID: toolu_014XWDMwqVo51AjoNuc2tBkW\n",
      "  Args:\n",
      "    request: I need some expert guidance for building this AI agent.\n"
     ]
    }
   ],
   "source": [
    "user_input = \"I need some expert guidance for building this AI agent. Could you request assistance for me?\"\n",
    "config = {\"configurable\": {\"thread_id\": \"1\"}}\n",
    "# The config is the **second positional argument** to stream() or invoke()!\n",
    "events = graph.stream(\n",
    "    {\"messages\": [(\"user\", user_input)]}, config, stream_mode=\"values\"\n",
    ")\n",
    "for event in events:\n",
    "    if \"messages\" in event:\n",
    "        event[\"messages\"][-1].pretty_print()"
   ]
  },
  {
   "cell_type": "code",
   "execution_count": 55,
   "metadata": {},
   "outputs": [
    {
     "data": {
      "text/plain": [
       "('human',)"
      ]
     },
     "execution_count": 55,
     "metadata": {},
     "output_type": "execute_result"
    }
   ],
   "source": [
    "snapshot = graph.get_state(config)\n",
    "snapshot.next"
   ]
  },
  {
   "cell_type": "code",
   "execution_count": 56,
   "metadata": {},
   "outputs": [
    {
     "data": {
      "text/plain": [
       "{'configurable': {'thread_id': '1',\n",
       "  'checkpoint_ns': '',\n",
       "  'checkpoint_id': '1ef69a08-901e-6898-8002-aea55f708040'}}"
      ]
     },
     "execution_count": 56,
     "metadata": {},
     "output_type": "execute_result"
    }
   ],
   "source": [
    "ai_message = snapshot.values[\"messages\"][-1]\n",
    "human_response = (\n",
    "    \"We, the experts are here to help! We'd recommend you check out LangGraph to build your agent.\"\n",
    "    \" It's much more reliable and extensible than simple autonomous agents.\"\n",
    ")\n",
    "tool_message = create_response(human_response, ai_message)\n",
    "graph.update_state(config, {\"messages\": [tool_message]})"
   ]
  },
  {
   "cell_type": "code",
   "execution_count": 57,
   "metadata": {},
   "outputs": [
    {
     "data": {
      "text/plain": [
       "[HumanMessage(content='I need some expert guidance for building this AI agent. Could you request assistance for me?', id='24999ddd-b6ad-423f-ba1a-83e3e5ee9f99'),\n",
       " AIMessage(content=[{'id': 'toolu_014XWDMwqVo51AjoNuc2tBkW', 'input': {'request': 'I need some expert guidance for building this AI agent.'}, 'name': 'RequestAssistance', 'type': 'tool_use'}], response_metadata={'id': 'msg_01PHaUjjLWgdy1UkLu5MxRD2', 'model': 'claude-3-haiku-20240307', 'stop_reason': 'tool_use', 'stop_sequence': None, 'usage': {'input_tokens': 486, 'output_tokens': 63}}, id='run-8ad50b6e-a7e2-46c0-b3a6-a325d9ff832c-0', tool_calls=[{'name': 'RequestAssistance', 'args': {'request': 'I need some expert guidance for building this AI agent.'}, 'id': 'toolu_014XWDMwqVo51AjoNuc2tBkW', 'type': 'tool_call'}], usage_metadata={'input_tokens': 486, 'output_tokens': 63, 'total_tokens': 549}),\n",
       " ToolMessage(content=\"We, the experts are here to help! We'd recommend you check out LangGraph to build your agent. It's much more reliable and extensible than simple autonomous agents.\", id='0ab39f99-dba7-4d73-aaad-1be6b4887458', tool_call_id='toolu_014XWDMwqVo51AjoNuc2tBkW')]"
      ]
     },
     "execution_count": 57,
     "metadata": {},
     "output_type": "execute_result"
    }
   ],
   "source": [
    "graph.get_state(config).values[\"messages\"]"
   ]
  },
  {
   "cell_type": "code",
   "execution_count": 58,
   "metadata": {},
   "outputs": [
    {
     "name": "stdout",
     "output_type": "stream",
     "text": [
      "=================================\u001b[1m Tool Message \u001b[0m=================================\n",
      "\n",
      "We, the experts are here to help! We'd recommend you check out LangGraph to build your agent. It's much more reliable and extensible than simple autonomous agents.\n",
      "=================================\u001b[1m Tool Message \u001b[0m=================================\n",
      "\n",
      "We, the experts are here to help! We'd recommend you check out LangGraph to build your agent. It's much more reliable and extensible than simple autonomous agents.\n",
      "==================================\u001b[1m Ai Message \u001b[0m==================================\n",
      "\n",
      "The experts have been notified of your request for guidance on building an AI agent. They've suggested checking out LangGraph, which they say is a more reliable and extensible solution compared to simpler autonomous agents. Let me know if you have any other questions and I'll be happy to relay them to the experts.\n"
     ]
    }
   ],
   "source": [
    "events = graph.stream(None, config, stream_mode=\"values\")\n",
    "for event in events:\n",
    "    if \"messages\" in event:\n",
    "        event[\"messages\"][-1].pretty_print()"
   ]
  },
  {
   "cell_type": "markdown",
   "metadata": {},
   "source": [
    "## Part 7: Time Travel\n"
   ]
  },
  {
   "cell_type": "code",
   "execution_count": 59,
   "metadata": {},
   "outputs": [],
   "source": [
    "from typing import Annotated, Literal\n",
    "\n",
    "from langchain_anthropic import ChatAnthropic\n",
    "from langchain_community.tools.tavily_search import TavilySearchResults\n",
    "from langchain_core.messages import AIMessage, ToolMessage\n",
    "from langchain_core.pydantic_v1 import BaseModel\n",
    "from typing_extensions import TypedDict\n",
    "\n",
    "from langgraph.checkpoint.memory import MemorySaver\n",
    "from langgraph.graph import StateGraph, START\n",
    "from langgraph.graph.message import add_messages\n",
    "from langgraph.prebuilt import ToolNode, tools_condition\n",
    "\n",
    "\n",
    "class State(TypedDict):\n",
    "    messages: Annotated[list, add_messages]\n",
    "    # This flag is new\n",
    "    ask_human: bool\n",
    "\n",
    "\n",
    "class RequestAssistance(BaseModel):\n",
    "    \"\"\"Escalate the conversation to an expert. Use this if you are unable to assist directly or if the user requires support beyond your permissions.\n",
    "\n",
    "    To use this function, relay the user's 'request' so the expert can provide the right guidance.\n",
    "    \"\"\"\n",
    "\n",
    "    request: str\n",
    "\n",
    "\n",
    "tool = TavilySearchResults(max_results=2)\n",
    "tools = [tool]\n",
    "llm = ChatAnthropic(model=\"claude-3-haiku-20240307\")\n",
    "# We can bind the llm to a tool definition, a pydantic model, or a json schema\n",
    "llm_with_tools = llm.bind_tools(tools + [RequestAssistance])\n",
    "\n",
    "\n",
    "def chatbot(state: State):\n",
    "    response = llm_with_tools.invoke(state[\"messages\"])\n",
    "    ask_human = False\n",
    "    if (\n",
    "        response.tool_calls\n",
    "        and response.tool_calls[0][\"name\"] == RequestAssistance.__name__\n",
    "    ):\n",
    "        ask_human = True\n",
    "    return {\"messages\": [response], \"ask_human\": ask_human}\n",
    "\n",
    "\n",
    "graph_builder = StateGraph(State)\n",
    "\n",
    "graph_builder.add_node(\"chatbot\", chatbot)\n",
    "graph_builder.add_node(\"tools\", ToolNode(tools=[tool]))\n",
    "\n",
    "\n",
    "def create_response(response: str, ai_message: AIMessage):\n",
    "    return ToolMessage(\n",
    "        content=response,\n",
    "        tool_call_id=ai_message.tool_calls[0][\"id\"],\n",
    "    )\n",
    "\n",
    "\n",
    "def human_node(state: State):\n",
    "    new_messages = []\n",
    "    if not isinstance(state[\"messages\"][-1], ToolMessage):\n",
    "        # Typically, the user will have updated the state during the interrupt.\n",
    "        # If they choose not to, we will include a placeholder ToolMessage to\n",
    "        # let the LLM continue.\n",
    "        new_messages.append(\n",
    "            create_response(\"No response from human.\", state[\"messages\"][-1])\n",
    "        )\n",
    "    return {\n",
    "        # Append the new messages\n",
    "        \"messages\": new_messages,\n",
    "        # Unset the flag\n",
    "        \"ask_human\": False,\n",
    "    }\n",
    "\n",
    "\n",
    "graph_builder.add_node(\"human\", human_node)\n",
    "\n",
    "\n",
    "def select_next_node(state: State) -> Literal[\"human\", \"tools\", \"__end__\"]:\n",
    "    if state[\"ask_human\"]:\n",
    "        return \"human\"\n",
    "    # Otherwise, we can route as before\n",
    "    return tools_condition(state)\n",
    "\n",
    "\n",
    "graph_builder.add_conditional_edges(\n",
    "    \"chatbot\",\n",
    "    select_next_node,\n",
    "    {\"human\": \"human\", \"tools\": \"tools\", \"__end__\": \"__end__\"},\n",
    ")\n",
    "graph_builder.add_edge(\"tools\", \"chatbot\")\n",
    "graph_builder.add_edge(\"human\", \"chatbot\")\n",
    "graph_builder.add_edge(START, \"chatbot\")\n",
    "memory = MemorySaver()\n",
    "graph = graph_builder.compile(\n",
    "    checkpointer=memory,\n",
    "    interrupt_before=[\"human\"],\n",
    ")"
   ]
  },
  {
   "cell_type": "code",
   "execution_count": 60,
   "metadata": {},
   "outputs": [
    {
     "data": {
      "image/jpeg": "[encoded data removed]",
      "text/plain": [
       "<IPython.core.display.Image object>"
      ]
     },
     "metadata": {},
     "output_type": "display_data"
    }
   ],
   "source": [
    "from IPython.display import Image, display\n",
    "\n",
    "try:\n",
    "    display(Image(graph.get_graph().draw_mermaid_png()))\n",
    "except Exception:\n",
    "    # This requires some extra dependencies and is optional\n",
    "    pass"
   ]
  },
  {
   "cell_type": "code",
   "execution_count": 61,
   "metadata": {},
   "outputs": [
    {
     "name": "stdout",
     "output_type": "stream",
     "text": [
      "================================\u001b[1m Human Message \u001b[0m=================================\n",
      "\n",
      "I'm learning LangGraph. Could you do some research on it for me?\n",
      "==================================\u001b[1m Ai Message \u001b[0m==================================\n",
      "\n",
      "[{'text': 'Okay, let me do some research on LangGraph for you. Here is what I found:', 'type': 'text'}, {'id': 'toolu_01HE8ZDriitcK3W2MEAXr7vG', 'input': {'query': 'LangGraph'}, 'name': 'tavily_search_results_json', 'type': 'tool_use'}]\n",
      "Tool Calls:\n",
      "  tavily_search_results_json (toolu_01HE8ZDriitcK3W2MEAXr7vG)\n",
      " Call ID: toolu_01HE8ZDriitcK3W2MEAXr7vG\n",
      "  Args:\n",
      "    query: LangGraph\n",
      "=================================\u001b[1m Tool Message \u001b[0m=================================\n",
      "Name: tavily_search_results_json\n",
      "\n",
      "[{\"url\": \"https://www.langchain.com/langgraph\", \"content\": \"LangGraph is a framework for building stateful, multi-actor agents with LLMs that can handle complex scenarios and collaborate with humans. Learn how to use LangGraph with Python or JavaScript, and deploy your agents at scale with LangGraph Cloud.\"}, {\"url\": \"https://www.datacamp.com/tutorial/langgraph-tutorial\", \"content\": \"LangGraph is a library within the LangChain ecosystem that simplifies the development of complex, multi-agent large language model (LLM) applications. Learn how to use LangGraph to create stateful, flexible, and scalable systems with nodes, edges, and state management.\"}]\n",
      "==================================\u001b[1m Ai Message \u001b[0m==================================\n",
      "\n",
      "Based on the search results, it seems that LangGraph is a framework or library within the LangChain ecosystem that is designed to help developers build complex, multi-agent systems using large language models (LLMs). \n",
      "\n",
      "Some key points about LangGraph:\n",
      "\n",
      "- It allows you to create stateful, multi-actor agents that can handle complex scenarios and collaborate with humans.\n",
      "- It provides tools and functionality for managing the nodes, edges, and state within these multi-agent systems.\n",
      "- It can be used with both Python and JavaScript, and has an option for deploying agents at scale through LangGraph Cloud.\n",
      "- LangGraph is focused on simplifying the development of flexible, scalable LLM-powered applications.\n",
      "\n",
      "Let me know if you need any clarification or have additional questions about LangGraph! I'm happy to provide more details based on my research.\n"
     ]
    }
   ],
   "source": [
    "config = {\"configurable\": {\"thread_id\": \"1\"}}\n",
    "events = graph.stream(\n",
    "    {\n",
    "        \"messages\": [\n",
    "            (\"user\", \"I'm learning LangGraph. Could you do some research on it for me?\")\n",
    "        ]\n",
    "    },\n",
    "    config,\n",
    "    stream_mode=\"values\",\n",
    ")\n",
    "for event in events:\n",
    "    if \"messages\" in event:\n",
    "        event[\"messages\"][-1].pretty_print()"
   ]
  },
  {
   "cell_type": "code",
   "execution_count": 62,
   "metadata": {},
   "outputs": [
    {
     "name": "stdout",
     "output_type": "stream",
     "text": [
      "================================\u001b[1m Human Message \u001b[0m=================================\n",
      "\n",
      "Ya that's helpful. Maybe I'll build an autonomous agent with it!\n",
      "==================================\u001b[1m Ai Message \u001b[0m==================================\n",
      "\n",
      "[{'text': \"That's great that you're interested in building an autonomous agent using LangGraph! That sounds like a really interesting project. Here are a few additional thoughts and suggestions as you explore using LangGraph for that:\", 'type': 'text'}, {'id': 'toolu_018bcnnf8LvPXSUL3GhDQ6XM', 'input': {'query': 'building autonomous agents with LangGraph'}, 'name': 'tavily_search_results_json', 'type': 'tool_use'}]\n",
      "Tool Calls:\n",
      "  tavily_search_results_json (toolu_018bcnnf8LvPXSUL3GhDQ6XM)\n",
      " Call ID: toolu_018bcnnf8LvPXSUL3GhDQ6XM\n",
      "  Args:\n",
      "    query: building autonomous agents with LangGraph\n",
      "=================================\u001b[1m Tool Message \u001b[0m=================================\n",
      "Name: tavily_search_results_json\n",
      "\n",
      "[{\"url\": \"https://www.oreilly.com/library/view/building-autonomous-ai/9781836643159/\", \"content\": \"Title: Building Autonomous AI Agents with LangGraph. Author (s): Paulo Dichone. Release date: August 2024. Publisher (s): Packt Publishing. ISBN: 9781836643159. Embark on a detailed journey into AI agent development with our comprehensive course. We begin with an introduction to the course structure and setting up your development environment.\"}, {\"url\": \"https://medium.com/@Shrishml/a-primer-on-ai-agents-with-langgraph-understand-all-about-it-0534345190dc\", \"content\": \"Task-driven Autonomous Agent Utilizing GPT-4, Pinecone, and LangChain for Diverse Applications. ... LangGraph is a library for building stateful, multi-actor applications with LLMs. It extends the ...\"}]\n",
      "==================================\u001b[1m Ai Message \u001b[0m==================================\n",
      "\n",
      "The search results highlight a few key considerations for building autonomous agents with LangGraph:\n",
      "\n",
      "1. **Stateful, Multi-Actor Design**: LangGraph is specifically designed to support the creation of stateful, multi-agent systems. This will be important as you build out your autonomous agent and think about how it will interact with other agents or components.\n",
      "\n",
      "2. **Leveraging LLMs**: LangGraph is built on top of large language models (LLMs), so you'll want to think about which models and capabilities you want to integrate into your autonomous agent.\n",
      "\n",
      "3. **Scalability & Deployment**: The mention of LangGraph Cloud suggests there are options for scaling and deploying your agent in a production environment, which could be helpful as your project grows.\n",
      "\n",
      "4. **Development Resources**: There seems to be some upcoming educational content and tutorials focused on building autonomous agents with LangGraph, which could provide useful guidance as you get started.\n",
      "\n",
      "I'd recommend exploring the LangGraph documentation and community resources to dive deeper into the specific design patterns and best practices for this type of project. And feel free to reach back out if you have any other questions as you start prototyping your autonomous agent!\n"
     ]
    }
   ],
   "source": [
    "events = graph.stream(\n",
    "    {\n",
    "        \"messages\": [\n",
    "            (\"user\", \"Ya that's helpful. Maybe I'll build an autonomous agent with it!\")\n",
    "        ]\n",
    "    },\n",
    "    config,\n",
    "    stream_mode=\"values\",\n",
    ")\n",
    "for event in events:\n",
    "    if \"messages\" in event:\n",
    "        event[\"messages\"][-1].pretty_print()"
   ]
  },
  {
   "cell_type": "code",
   "execution_count": 63,
   "metadata": {},
   "outputs": [
    {
     "name": "stdout",
     "output_type": "stream",
     "text": [
      "Num Messages:  8 Next:  ()\n",
      "--------------------------------------------------------------------------------\n",
      "Num Messages:  7 Next:  ('chatbot',)\n",
      "--------------------------------------------------------------------------------\n",
      "Num Messages:  6 Next:  ('tools',)\n",
      "--------------------------------------------------------------------------------\n",
      "Num Messages:  5 Next:  ('chatbot',)\n",
      "--------------------------------------------------------------------------------\n",
      "Num Messages:  4 Next:  ('__start__',)\n",
      "--------------------------------------------------------------------------------\n",
      "Num Messages:  4 Next:  ()\n",
      "--------------------------------------------------------------------------------\n",
      "Num Messages:  3 Next:  ('chatbot',)\n",
      "--------------------------------------------------------------------------------\n",
      "Num Messages:  2 Next:  ('tools',)\n",
      "--------------------------------------------------------------------------------\n",
      "Num Messages:  1 Next:  ('chatbot',)\n",
      "--------------------------------------------------------------------------------\n",
      "Num Messages:  0 Next:  ('__start__',)\n",
      "--------------------------------------------------------------------------------\n"
     ]
    }
   ],
   "source": [
    "to_replay = None\n",
    "for state in graph.get_state_history(config):\n",
    "    print(\"Num Messages: \", len(state.values[\"messages\"]), \"Next: \", state.next)\n",
    "    print(\"-\" * 80)\n",
    "    if len(state.values[\"messages\"]) == 6:\n",
    "        # We are somewhat arbitrarily selecting a specific state based on the number of chat messages in the state.\n",
    "        to_replay = state"
   ]
  },
  {
   "cell_type": "code",
   "execution_count": 64,
   "metadata": {},
   "outputs": [
    {
     "name": "stdout",
     "output_type": "stream",
     "text": [
      "('tools',)\n",
      "{'configurable': {'thread_id': '1', 'checkpoint_ns': '', 'checkpoint_id': '1ef69a11-41f5-644e-8006-a4f8a7abe9d4'}}\n"
     ]
    }
   ],
   "source": [
    "print(to_replay.next)\n",
    "print(to_replay.config)"
   ]
  },
  {
   "cell_type": "code",
   "execution_count": 65,
   "metadata": {},
   "outputs": [
    {
     "name": "stdout",
     "output_type": "stream",
     "text": [
      "==================================\u001b[1m Ai Message \u001b[0m==================================\n",
      "\n",
      "[{'text': \"That's great that you're interested in building an autonomous agent using LangGraph! That sounds like a really interesting project. Here are a few additional thoughts and suggestions as you explore using LangGraph for that:\", 'type': 'text'}, {'id': 'toolu_018bcnnf8LvPXSUL3GhDQ6XM', 'input': {'query': 'building autonomous agents with LangGraph'}, 'name': 'tavily_search_results_json', 'type': 'tool_use'}]\n",
      "Tool Calls:\n",
      "  tavily_search_results_json (toolu_018bcnnf8LvPXSUL3GhDQ6XM)\n",
      " Call ID: toolu_018bcnnf8LvPXSUL3GhDQ6XM\n",
      "  Args:\n",
      "    query: building autonomous agents with LangGraph\n",
      "=================================\u001b[1m Tool Message \u001b[0m=================================\n",
      "Name: tavily_search_results_json\n",
      "\n",
      "[{\"url\": \"https://www.oreilly.com/library/view/building-autonomous-ai/9781836643159/\", \"content\": \"Title: Building Autonomous AI Agents with LangGraph. Author (s): Paulo Dichone. Release date: August 2024. Publisher (s): Packt Publishing. ISBN: 9781836643159. Embark on a detailed journey into AI agent development with our comprehensive course. We begin with an introduction to the course structure and setting up your development environment.\"}, {\"url\": \"https://medium.com/@Shrishml/a-primer-on-ai-agents-with-langgraph-understand-all-about-it-0534345190dc\", \"content\": \"Task-driven Autonomous Agent Utilizing GPT-4, Pinecone, and LangChain for Diverse Applications. ... LangGraph is a library for building stateful, multi-actor applications with LLMs. It extends the ...\"}]\n",
      "==================================\u001b[1m Ai Message \u001b[0m==================================\n",
      "\n",
      "- The search results indicate that there are some learning resources and tutorials available for using LangGraph specifically for building autonomous AI agents. It looks like there may even be an upcoming book on the topic.\n",
      "\n",
      "- Some key considerations for an autonomous agent built with LangGraph would be:\n",
      "  - Defining the agent's goals, tasks, and decision-making capabilities\n",
      "  - Structuring the agent's nodes, edges, and state management\n",
      "  - Integrating the agent with language models like GPT-4 for natural interaction\n",
      "  - Deploying and scaling the agent for real-world use\n",
      "\n",
      "- You may also want to look into how LangGraph integrates with other tools and frameworks in the LangChain ecosystem, as that could open up additional capabilities for your autonomous agent.\n",
      "\n",
      "Please let me know if you have any other specific questions as you dive into this! I'm happy to provide more insights or point you to helpful resources.\n"
     ]
    }
   ],
   "source": [
    "# The `thread_ts` in the `to_replay.config` corresponds to a state we've persisted to our checkpointer.\n",
    "for event in graph.stream(None, to_replay.config, stream_mode=\"values\"):\n",
    "    if \"messages\" in event:\n",
    "        event[\"messages\"][-1].pretty_print()"
   ]
  },
  {
   "cell_type": "code",
   "execution_count": null,
   "metadata": {},
   "outputs": [],
   "source": []
  }
 ],
 "metadata": {
  "kernelspec": {
   "display_name": ".venv",
   "language": "python",
   "name": "python3"
  },
  "language_info": {
   "codemirror_mode": {
    "name": "ipython",
    "version": 3
   },
   "file_extension": ".py",
   "mimetype": "text/x-python",
   "name": "python",
   "nbconvert_exporter": "python",
   "pygments_lexer": "ipython3",
   "version": "3.10.14"
  }
 },
 "nbformat": 4,
 "nbformat_minor": 2
}
