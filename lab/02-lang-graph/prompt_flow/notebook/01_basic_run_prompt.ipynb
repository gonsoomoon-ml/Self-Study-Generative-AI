{
 "cells": [
  {
   "cell_type": "markdown",
   "metadata": {},
   "source": [
    "# Bedrock Claude 및 LangGraph 를 이용한 Prompt Flow "
   ]
  },
  {
   "cell_type": "markdown",
   "metadata": {},
   "source": [
    "# 0. 환경 설정"
   ]
  },
  {
   "cell_type": "code",
   "execution_count": 1,
   "metadata": {},
   "outputs": [
    {
     "name": "stdout",
     "output_type": "stream",
     "text": [
      "python path: /home/sagemaker-user/Self-Study-Generative-AI/lab/02-lang-graph is added\n",
      "sys.path:  ['/home/sagemaker-user/Self-Study-Generative-AI/lab/02-lang-graph/prompt_flow/notebook', '/home/sagemaker-user/Self-Study-Generative-AI/.conda/lib/python310.zip', '/home/sagemaker-user/Self-Study-Generative-AI/.conda/lib/python3.10', '/home/sagemaker-user/Self-Study-Generative-AI/.conda/lib/python3.10/lib-dynload', '', '/home/sagemaker-user/Self-Study-Generative-AI/.conda/lib/python3.10/site-packages', '/home/sagemaker-user/Self-Study-Generative-AI/lab/02-lang-graph']\n"
     ]
    }
   ],
   "source": [
    "%load_ext autoreload\n",
    "%autoreload 2\n",
    "\n",
    "import sys, os\n",
    "\n",
    "def add_python_path(module_path):\n",
    "    if os.path.abspath(module_path) not in sys.path:\n",
    "        sys.path.append(os.path.abspath(module_path))\n",
    "        print(f\"python path: {os.path.abspath(module_path)} is added\")\n",
    "    else:\n",
    "        print(f\"python path: {os.path.abspath(module_path)} already exists\")\n",
    "    print(\"sys.path: \", sys.path)\n",
    "\n",
    "module_path = \"../..\"\n",
    "add_python_path(module_path)"
   ]
  },
  {
   "cell_type": "markdown",
   "metadata": {},
   "source": [
    "## Bedrock Client 생성"
   ]
  },
  {
   "cell_type": "code",
   "execution_count": 2,
   "metadata": {},
   "outputs": [
    {
     "name": "stdout",
     "output_type": "stream",
     "text": [
      "Create new client\n",
      "  Using region: us-east-1\n",
      "  Using profile: None\n",
      "boto3 Bedrock client successfully created!\n",
      "bedrock-runtime(https://bedrock-runtime.us-east-1.amazonaws.com)\n",
      "\u001b[32m\n",
      "== FM lists ==\u001b[0m\n",
      "{'Claude-Instant-V1': 'anthropic.claude-instant-v1',\n",
      " 'Claude-V1': 'anthropic.claude-v1',\n",
      " 'Claude-V2': 'anthropic.claude-v2',\n",
      " 'Claude-V2-1': 'anthropic.claude-v2:1',\n",
      " 'Claude-V3-5-Sonnet': 'anthropic.claude-3-5-sonnet-20240620-v1:0',\n",
      " 'Claude-V3-Haiku': 'anthropic.claude-3-haiku-20240307-v1:0',\n",
      " 'Claude-V3-Opus': 'anthropic.claude-3-sonnet-20240229-v1:0',\n",
      " 'Claude-V3-Sonnet': 'anthropic.claude-3-sonnet-20240229-v1:0',\n",
      " 'Cohere-Embeddings-En': 'cohere.embed-english-v3',\n",
      " 'Cohere-Embeddings-Multilingual': 'cohere.embed-multilingual-v3',\n",
      " 'Command': 'cohere.command-text-v14',\n",
      " 'Command-Light': 'cohere.command-light-text-v14',\n",
      " 'Jurassic-2-Mid': 'ai21.j2-mid-v1',\n",
      " 'Jurassic-2-Ultra': 'ai21.j2-ultra-v1',\n",
      " 'Llama2-13b-Chat': 'meta.llama2-13b-chat-v1',\n",
      " 'Titan-Embeddings-G1': 'amazon.titan-embed-text-v1',\n",
      " 'Titan-Text-Embeddings-V2': 'amazon.titan-embed-text-v2:0',\n",
      " 'Titan-Text-G1': 'amazon.titan-text-express-v1',\n",
      " 'Titan-Text-G1-Express': 'amazon.titan-text-express-v1',\n",
      " 'Titan-Text-G1-Light': 'amazon.titan-text-lite-v1',\n",
      " 'Titan-Text-G1-Premier': 'amazon.titan-text-premier-v1:0'}\n"
     ]
    }
   ],
   "source": [
    "from pprint import pprint\n",
    "from termcolor import colored\n",
    "from utils import bedrock\n",
    "from utils.bedrock import bedrock_info\n",
    "\n",
    "boto3_bedrock = bedrock.get_bedrock_client(\n",
    "    assumed_role=os.environ.get(\"BEDROCK_ASSUME_ROLE\", None),\n",
    "    endpoint_url=os.environ.get(\"BEDROCK_ENDPOINT_URL\", None),\n",
    "    region=os.environ.get(\"AWS_DEFAULT_REGION\", None),\n",
    ")\n",
    "\n",
    "print (colored(\"\\n== FM lists ==\", \"green\"))\n",
    "pprint (bedrock_info.get_list_fm_models(verbose=False))"
   ]
  },
  {
   "cell_type": "markdown",
   "metadata": {},
   "source": [
    "### 모델 ID 및 Bedrock converse API 정의"
   ]
  },
  {
   "cell_type": "code",
   "execution_count": 3,
   "metadata": {},
   "outputs": [],
   "source": [
    "from utils.bedrock import converse_invoke\n",
    "\n",
    "# model_id = \"anthropic.claude-3-sonnet-20240229-v1:0\"\n",
    "model_id = \"anthropic.claude-3-5-sonnet-20240620-v1:0\"\n",
    "\n"
   ]
  },
  {
   "cell_type": "markdown",
   "metadata": {},
   "source": [
    "# 1. Graph 정의"
   ]
  },
  {
   "cell_type": "markdown",
   "metadata": {},
   "source": [
    "#### 그래프 정의\n",
    "- State 정의\n",
    "- 그래프 빌더 정의\n",
    "- 노드, 에지 정의\n",
    "- 그래프 컴파일"
   ]
  },
  {
   "cell_type": "code",
   "execution_count": 4,
   "metadata": {},
   "outputs": [
    {
     "data": {
      "image/png": "[encoded data removed]",
      "text/plain": [
       "<IPython.core.display.Image object>"
      ]
     },
     "metadata": {},
     "output_type": "display_data"
    }
   ],
   "source": [
    "from typing import TypedDict, Annotated\n",
    "from langgraph.graph import StateGraph, START, END\n",
    "from langchain_anthropic import ChatAnthropic\n",
    "from langchain_core.messages import HumanMessage\n",
    "\n",
    "# Stage 정의\n",
    "class State(TypedDict):\n",
    "    prompt: Annotated[str, \"실행할 프롬프트\"]\n",
    "    response: Annotated[str, \"AI의 응답\"]\n",
    "\n",
    "# 프롬프트 처리 노드 정의\n",
    "def process_prompt(state: State) -> State:\n",
    "    # llm = get_llm_model(model_id=\"claude-3-haiku-20240307):\n",
    "    prompt = state[\"prompt\"]\n",
    "    response = converse_invoke(boto3_bedrock, model_id, prompt)    \n",
    "    # print(\"response: \\n\", response)\n",
    "    output_message = response['output']['message']['content'][0]['text']    \n",
    "    # response = llm_sonnet.invoke([HumanMessage(content=prompt)])\n",
    "    return {\"prompt\": prompt, \"response\": output_message}\n",
    "\n",
    "# 그래프 정의\n",
    "graph_builder = StateGraph(State)\n",
    "\n",
    "# 노트, 에지 생성\n",
    "graph_builder.add_node(\"process_prompt\", process_prompt)\n",
    "graph_builder.add_edge(START, \"process_prompt\")\n",
    "graph_builder.add_edge(\"process_prompt\", END)\n",
    "# 그래프 컴파일\n",
    "graph = graph_builder.compile()\n",
    "\n",
    "from IPython.display import Image, display\n",
    "\n",
    "try:\n",
    "    display(Image(graph.get_graph().draw_mermaid_png()))\n",
    "except Exception:\n",
    "    # This requires some extra dependencies and is optional\n",
    "    pass\n",
    "\n"
   ]
  },
  {
   "cell_type": "markdown",
   "metadata": {},
   "source": [
    "### 그래프를 실행할 함수 정의"
   ]
  },
  {
   "cell_type": "code",
   "execution_count": 5,
   "metadata": {},
   "outputs": [],
   "source": [
    "def run_prompt(prompt: str):\n",
    "    inputs = {\"prompt\": prompt}\n",
    "    result = graph.invoke(inputs)\n",
    "    return result[\"response\"]\n",
    "\n",
    "\n"
   ]
  },
  {
   "cell_type": "markdown",
   "metadata": {},
   "source": [
    "# 3. 메인: 그래프 실행"
   ]
  },
  {
   "cell_type": "code",
   "execution_count": 6,
   "metadata": {},
   "outputs": [
    {
     "name": "stdout",
     "output_type": "stream",
     "text": [
      "\n",
      "프롬프트 1: 인공지능이 사회에 미칠 긍정적인 영향을 서술해주세요.\n"
     ]
    },
    {
     "name": "stdout",
     "output_type": "stream",
     "text": [
      "응답: 인공지능은 분명 우리 사회에 큰 변화를 가져올 것입니다. 하지만 그 변화를 어떻게 관리하고 활용하느냐에 따라 결과가 달라질 수 있습니다. 인공지능의 발전이 인간의 삶의 질을 높이고 사회 문제를 해결하는 데 도움이 되도록 하려면, 기술 개발과 함께 윤리적, 법적, 사회적 고려사항들도 함께 검토해야 합니다. 또한 인공지능 기술의 혜택이 모든 사람에게 골고루 돌아갈 수 있도록 노력해야 할 것입니다. 이를 통해 인공지능이 우리 사회에 긍정적인 변화를 가져올 수 있을 것입니다.\n"
     ]
    }
   ],
   "source": [
    "# 테스트용 프롬프트\n",
    "test_prompts = [\n",
    "    \"인공지능이 사회에 미칠 긍정적인 영향을 서술해주세요.\"\n",
    "]\n",
    "\n",
    "for i, prompt in enumerate(test_prompts, 1):\n",
    "    print(f\"\\n프롬프트 {i}: {prompt}\")\n",
    "    response = run_prompt(prompt)\n",
    "    print(f\"응답: {response}\")\n",
    "\n"
   ]
  },
  {
   "cell_type": "code",
   "execution_count": null,
   "metadata": {},
   "outputs": [],
   "source": []
  }
 ],
 "metadata": {
  "kernelspec": {
   "display_name": ".venv",
   "language": "python",
   "name": "python3"
  },
  "language_info": {
   "codemirror_mode": {
    "name": "ipython",
    "version": 3
   },
   "file_extension": ".py",
   "mimetype": "text/x-python",
   "name": "python",
   "nbconvert_exporter": "python",
   "pygments_lexer": "ipython3",
   "version": "3.10.14"
  }
 },
 "nbformat": 4,
 "nbformat_minor": 2
}
