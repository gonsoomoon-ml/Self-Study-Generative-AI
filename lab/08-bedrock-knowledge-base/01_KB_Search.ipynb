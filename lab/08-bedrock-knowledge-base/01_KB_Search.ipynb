{
 "cells": [
  {
   "cell_type": "markdown",
   "id": "73d381a2-3787-46cc-8aaf-ab0b9d9fd042",
   "metadata": {},
   "source": [
    "# Step 2. KB(Knowledge Base) 검색"
   ]
  },
  {
   "cell_type": "markdown",
   "id": "b3fe7756-c1c8-4630-a35a-0971b64b0fb0",
   "metadata": {},
   "source": [
    "### Setup"
   ]
  },
  {
   "cell_type": "code",
   "execution_count": null,
   "id": "5c798255-1f83-47e6-b668-be528e2fd83b",
   "metadata": {
    "tags": []
   },
   "outputs": [],
   "source": [
    "# 패키지 설치 후 Kernel Restart 를 수행하시고 다음 쉘로 진행하세요.\n",
    "\n",
    "%pip install --upgrade pip\n",
    "%pip install boto3 --force-reinstall --quiet\n",
    "%pip install botocore --force-reinstall --quiet\n",
    "%pip install sqlalchemy==2.0.0 --quiet\n",
    "%pip install langchain --force-reinstall --quiet"
   ]
  },
  {
   "cell_type": "markdown",
   "id": "a989ee22-215a-4ffd-872f-d6facb39cf37",
   "metadata": {},
   "source": [
    "### 사전에 생성한 KB 목록 확인\n",
    "\n",
    "* 사용하려는 KB의 ID 를 확인합니다."
   ]
  },
  {
   "cell_type": "code",
   "execution_count": null,
   "id": "e8b63d17-7dff-4ab9-8e58-6d0bfe1fdeb1",
   "metadata": {
    "tags": []
   },
   "outputs": [],
   "source": [
    "import boto3\n",
    "\n",
    "def list_knowledge_bases():\n",
    "    # Bedrock 클라이언트 생성\n",
    "    bedrock_agent = boto3.client('bedrock-agent')\n",
    "\n",
    "    # Knowledge Base 목록 가져오기\n",
    "    response = bedrock_agent.list_knowledge_bases(\n",
    "        maxResults=100  # 한 번에 가져올 최대 결과 수\n",
    "    )\n",
    "\n",
    "    # 결과 출력\n",
    "    if 'knowledgeBaseSummaries' in response:\n",
    "        print(\"Found Knowledge Bases:\")\n",
    "        for kb in response['knowledgeBaseSummaries']:\n",
    "            print(f\"- Name: {kb['name']}\")\n",
    "            print(f\"  ID: {kb['knowledgeBaseId']}\")\n",
    "            print(f\"  Description: {kb.get('description', 'N/A')}\")\n",
    "            print(f\"  Status: {kb['status']}\")\n",
    "            print(f\"  Last Updated: {kb['updatedAt']}\")\n",
    "            print(\"---\")\n",
    "    else:\n",
    "        print(\"No Knowledge Bases found.\")\n",
    "\n",
    "    # 페이지네이션 처리\n",
    "    while 'nextToken' in response:\n",
    "        response = bedrock_agent.list_knowledge_bases(\n",
    "            maxResults=100,\n",
    "            nextToken=response['nextToken']\n",
    "        )\n",
    "        \n",
    "        for kb in response['knowledgeBaseSummaries']:\n",
    "            print(f\"- Name: {kb['name']}\")\n",
    "            print(f\"  ID: {kb['knowledgeBaseId']}\")\n",
    "            print(f\"  Description: {kb.get('description', 'N/A')}\")\n",
    "            print(f\"  Status: {kb['status']}\")\n",
    "            print(f\"  Last Updated: {kb['updatedAt']}\")\n",
    "            print(\"---\")\n",
    "\n",
    "if __name__ == \"__main__\":\n",
    "    list_knowledge_bases()"
   ]
  },
  {
   "cell_type": "markdown",
   "id": "28f32e37-bd46-40cb-8ee3-d7b37d1614d3",
   "metadata": {},
   "source": [
    "### Bedrock Client 초기화"
   ]
  },
  {
   "cell_type": "code",
   "execution_count": 3,
   "id": "ada3127a-74df-474b-a472-106dbd961af3",
   "metadata": {
    "tags": []
   },
   "outputs": [
    {
     "name": "stdout",
     "output_type": "stream",
     "text": [
      "us-west-2\n"
     ]
    }
   ],
   "source": [
    "import boto3\n",
    "import pprint\n",
    "from botocore.client import Config\n",
    "import json\n",
    "\n",
    "pp = pprint.PrettyPrinter(indent=2)\n",
    "session = boto3.session.Session()\n",
    "region = session.region_name\n",
    "bedrock_config = Config(connect_timeout=120, read_timeout=120, retries={'max_attempts': 0})\n",
    "bedrock_client = boto3.client('bedrock-runtime', region_name = region)\n",
    "bedrock_agent_client = boto3.client(\"bedrock-agent-runtime\",\n",
    "                              config=bedrock_config, region_name = region)\n",
    "print(region)"
   ]
  },
  {
   "cell_type": "code",
   "execution_count": 4,
   "id": "671f9472-cf13-4984-ab4f-8b15d9954024",
   "metadata": {
    "tags": []
   },
   "outputs": [],
   "source": [
    "# 사용자 쿼리\n",
    "\n",
    "query = \"\"\"\n",
    "664 코드 알려줘?\n",
    "\"\"\""
   ]
  },
  {
   "cell_type": "markdown",
   "id": "32905e71-393e-4f77-a975-f528c72b87d0",
   "metadata": {},
   "source": [
    "### KB 리트리버 설정 (Hybrid Search)\n",
    "* 위에서 사용할 KB ID 를 확인하고 kb_id 에 수정하세요."
   ]
  },
  {
   "cell_type": "code",
   "execution_count": null,
   "id": "9c81125a-07e3-4ec9-b840-c4b123c8e214",
   "metadata": {
    "tags": []
   },
   "outputs": [],
   "source": [
    "# 위에서 KB ID를 확인하고 수정합니다.\n",
    "kb_id = \"<Enter KB ID>\"\n",
    "\n",
    "# numberOfResults 는 RAG 검색에서 가져올 청크 갯수 입니다.\n",
    "def retrieve(query, kbId, numberOfResults=10):\n",
    "    return bedrock_agent_client.retrieve(\n",
    "        retrievalQuery= {\n",
    "            'text': query\n",
    "        },\n",
    "        knowledgeBaseId=kbId,\n",
    "        retrievalConfiguration= {\n",
    "            'vectorSearchConfiguration': {\n",
    "                'numberOfResults': numberOfResults,\n",
    "                'overrideSearchType': \"HYBRID\", # optional\n",
    "            }\n",
    "        }\n",
    "    )\n",
    "\n",
    "# fetch context from the response\n",
    "def get_contexts(retrievalResults):\n",
    "    contexts = []\n",
    "    for retrievedResult in retrievalResults: \n",
    "        contexts.append(retrievedResult['content']['text'])\n",
    "    return contexts\n",
    "\n",
    "response = retrieve(query, kb_id, 10)\n",
    "retrievalResults = response['retrievalResults']\n",
    "contexts = get_contexts(retrievalResults)\n",
    "\n",
    "pp.pprint(contexts)"
   ]
  },
  {
   "cell_type": "code",
   "execution_count": 6,
   "id": "112d2595-bd86-4f9f-9fc5-57c931dfe001",
   "metadata": {
    "tags": []
   },
   "outputs": [],
   "source": [
    "# 프롬프트 템플릿\n",
    "\n",
    "prompt = f\"\"\"\n",
    "Human: You are an advisor AI system, and provides answers to questions by using fact based when possible. \n",
    "Use the following pieces of information to provide a detail answer to the question enclosed in <question> tags. \n",
    "If you don't know the answer, just say that you don't know, don't try to make up an answer.\n",
    "<context>\n",
    "{contexts}\n",
    "</context>\n",
    "\n",
    "<question>\n",
    "{query}\n",
    "</question>\n",
    "\n",
    "The response should be specific and use statistics or numbers when possible.\n",
    "\n",
    "Assistant:\"\"\""
   ]
  },
  {
   "cell_type": "markdown",
   "id": "a38e12d9-8bba-4477-8579-4a15baa98541",
   "metadata": {},
   "source": [
    "### Amazon Bedrock에서 Claude 3 모델 호출"
   ]
  },
  {
   "cell_type": "code",
   "execution_count": 7,
   "id": "a736981b-6f71-42c7-88cc-6354ec084b07",
   "metadata": {
    "tags": []
   },
   "outputs": [
    {
     "name": "stdout",
     "output_type": "stream",
     "text": [
      "664 코드는 \"Overlay fs Enabled Error\"로, A/B 업데이트 중에 Remount가 일어난 경우에 발생하는 오류입니다.\n",
      "\n",
      "영문 설명으로는 \"During A/B update, Overlayfs is enabled (adb remount)\"라고 되어 있습니다.\n",
      "\n",
      "이 오류는 A/B 업데이트 과정에서 adb remount 명령어 등을 통해 파일 시스템이 overlayfs 모드로 마운트되었을 때 발생합니다. 이는 일반적으로 개발 목적으로 파일 시스템을 수정 가능한 상태로 만들었을 때 업데이트 과정에 영향을 줄 수 있어 발생하는 오류입니다.\n"
     ]
    }
   ],
   "source": [
    "# payload with model paramters\n",
    "messages=[{ \"role\":'user', \"content\":[{'type':'text','text': prompt.format(contexts, query)}]}]\n",
    "sonnet_payload = json.dumps({\n",
    "    \"anthropic_version\": \"bedrock-2023-05-31\",\n",
    "    \"max_tokens\": 4096,\n",
    "    \"messages\": messages,\n",
    "    \"temperature\": 0.0,\n",
    "    \"top_p\": 0\n",
    "        }  )\n",
    "\n",
    "modelId = \"us.anthropic.claude-3-7-sonnet-20250219-v1:0\"\n",
    "# #modelId = \"anthropic.claude-3-5-sonnet-20240620-v1:0\"  # Claude 3.5 Sonnet\n",
    "# modelId = 'anthropic.claude-3-sonnet-20240229-v1:0' # Claude 3 Sonnet\n",
    "accept = 'application/json'\n",
    "contentType = 'application/json'\n",
    "response = bedrock_client.invoke_model(body=sonnet_payload, modelId=modelId, accept=accept, contentType=contentType)\n",
    "response_body = json.loads(response.get('body').read())\n",
    "response_text = response_body.get('content')[0]['text']\n",
    "\n",
    "#pp.pprint(response_text)\n",
    "\n",
    "print(response_text)"
   ]
  },
  {
   "cell_type": "markdown",
   "id": "ed9c34df-fa57-4bac-b03c-76871a8664ae",
   "metadata": {},
   "source": [
    "---"
   ]
  },
  {
   "cell_type": "markdown",
   "id": "6142f6f5-bab5-4b73-9202-41fcd27d7ed1",
   "metadata": {},
   "source": [
    "---"
   ]
  },
  {
   "cell_type": "code",
   "execution_count": null,
   "id": "d1cc7cb8-a4a2-4ddc-bb00-d86bd5dbc7e7",
   "metadata": {},
   "outputs": [],
   "source": []
  }
 ],
 "metadata": {
  "kernelspec": {
   "display_name": "Python 3 (ipykernel)",
   "language": "python",
   "name": "python3"
  },
  "language_info": {
   "codemirror_mode": {
    "name": "ipython",
    "version": 3
   },
   "file_extension": ".py",
   "mimetype": "text/x-python",
   "name": "python",
   "nbconvert_exporter": "python",
   "pygments_lexer": "ipython3",
   "version": "3.10.14"
  }
 },
 "nbformat": 4,
 "nbformat_minor": 5
}
