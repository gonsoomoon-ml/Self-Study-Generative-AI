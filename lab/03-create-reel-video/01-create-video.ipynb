{
 "cells": [
  {
   "cell_type": "code",
   "execution_count": 1,
   "metadata": {},
   "outputs": [
    {
     "name": "stdout",
     "output_type": "stream",
     "text": [
      "Requirement already satisfied: Pillow in /opt/conda/lib/python3.11/site-packages (10.4.0)\n"
     ]
    }
   ],
   "source": [
    "! pip install Pillow"
   ]
  },
  {
   "cell_type": "code",
   "execution_count": 6,
   "metadata": {},
   "outputs": [],
   "source": [
    "from PIL import Image\n",
    "\n",
    "def resize_with_padding(input_path, output_path, target_size=(1280, 720)):\n",
    "    # 이미지 열기\n",
    "    with Image.open(input_path) as img:\n",
    "        # 원본 이미지의 비율 계산\n",
    "        target_ratio = target_size[0] / target_size[1]\n",
    "        img_ratio = img.width / img.height\n",
    "        \n",
    "        if img_ratio > target_ratio:\n",
    "            # 이미지가 더 넓은 경우\n",
    "            new_width = target_size[0]\n",
    "            new_height = int(new_width / img_ratio)\n",
    "        else:\n",
    "            # 이미지가 더 높은 경우\n",
    "            new_height = target_size[1]\n",
    "            new_width = int(new_height * img_ratio)\n",
    "            \n",
    "        # 비율 유지하며 리사이즈\n",
    "        resized_img = img.resize((new_width, new_height), Image.Resampling.LANCZOS)\n",
    "        \n",
    "        # 흰색 배경의 새 이미지 생성\n",
    "        new_img = Image.new('RGB', target_size, (255, 255, 255))\n",
    "        \n",
    "        # 중앙에 배치하기 위한 좌표 계산\n",
    "        paste_x = (target_size[0] - new_width) // 2\n",
    "        paste_y = (target_size[1] - new_height) // 2\n",
    "        \n",
    "        # 리사이즈된 이미지를 중앙에 붙여넣기\n",
    "        new_img.paste(resized_img, (paste_x, paste_y))\n",
    "        \n",
    "        # 결과 이미지 저장\n",
    "        new_img.save(output_path, quality=95)\n",
    "\n",
    "# 사용 예시\n",
    "input_image = \"input_img/baby.jpg\"  # 원본 이미지 경로\n",
    "output_image = \"output_img/baby_resize.jpg\"  # 저장할 이미지 경로\n",
    "\n",
    "# 함수 실행\n",
    "resize_with_padding(input_image, output_image)"
   ]
  },
  {
   "cell_type": "code",
   "execution_count": null,
   "metadata": {},
   "outputs": [],
   "source": []
  }
 ],
 "metadata": {
  "language_info": {
   "name": "python"
  }
 },
 "nbformat": 4,
 "nbformat_minor": 2
}
