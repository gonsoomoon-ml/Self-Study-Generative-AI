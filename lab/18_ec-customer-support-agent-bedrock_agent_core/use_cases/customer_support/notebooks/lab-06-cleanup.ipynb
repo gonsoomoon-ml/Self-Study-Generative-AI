{
 "cells": [
  {
   "cell_type": "markdown",
   "metadata": {},
   "source": [
    "# 🧹 K-Style 이커머스 고객 지원 에이전트 - 리소스 정리\n",
    "\n",
    "이 노트북은 **이커머스 프로젝트에서만 생성한** 모든 AWS 리소스를 안전하게 정리하는 프로세스를 제공합니다.\n",
    "\n",
    "## 개요\n",
    "\n",
    "이 정리 프로세스는 **오직 이커머스 프로젝트 관련 리소스만** 제거합니다:\n",
    "- **메모리**: `/app/ecommerce/` 경로의 AgentCore Memory 리소스\n",
    "- **런타임**: 이커머스 프로젝트의 Agent 런타임 인스턴스\n",
    "- **게이트웨이**: 이커머스 프로젝트의 AgentCore Gateway 및 Lambda 함수들\n",
    "- **보안**: `EcommerceAgentCore*` 패턴의 IAM 역할 및 `ecommerce_customer_support_agent` 시크릿\n",
    "- **관측성**: 이커머스 프로젝트 관련 CloudWatch 로그\n",
    "- **CloudFormation**: `ecommerce-customer-support-*` 스택들\n",
    "\n",
    "⚠️ **안전성**: 다른 프로젝트의 리소스는 건드리지 않습니다. 이커머스 프로젝트에서 생성한 리소스만 정확히 식별하여 삭제합니다.\n",
    "\n",
    "---"
   ]
  },
  {
   "cell_type": "markdown",
   "metadata": {},
   "source": [
    "## Step 1: 필수 의존성 가져오기\n",
    "\n",
    "정리 프로세스에 필요한 모든 모듈과 헬퍼 함수들을 로드합니다."
   ]
  },
  {
   "cell_type": "code",
   "execution_count": null,
   "metadata": {},
   "outputs": [],
   "source": "import boto3\nimport os\nimport json\nimport time\nfrom botocore.exceptions import ClientError\n\n# AgentCore 관련 import\nfrom bedrock_agentcore_starter_toolkit import Runtime\n\n# Lab 헬퍼 모듈들\nfrom lab_helpers.utils import get_ssm_parameter\n\n# AWS 클라이언트 설정\nREGION = \"us-east-1\"\nsession = boto3.Session(region_name=REGION)\nssm_client = session.client('ssm')\nsecrets_client = session.client('secretsmanager')\ncloudformation_client = session.client('cloudformation')\nlogs_client = session.client('logs')\ncognito_client = session.client('cognito-idp')\niam_client = session.client('iam')\nlambda_client = session.client('lambda')\n\n# Gateway 클라이언트 별도 설정 (bedrock-agentcore-control 사용)\ntry:\n    bedrock_agentcore_control_client = session.client('bedrock-agentcore-control')\n    print(\"✅ bedrock-agentcore-control 클라이언트 설정 완료\")\nexcept Exception as e:\n    print(f\"⚠️ bedrock-agentcore-control 클라이언트 설정 실패: {e}\")\n    bedrock_agentcore_control_client = None\n\nprint(\"✅ 의존성 가져오기 완료\")\nprint(f\"🌍 작업 리전: {REGION}\")\nprint(\"🎯 이커머스 프로젝트 리소스만 안전하게 정리합니다\")"
  },
  {
   "cell_type": "markdown",
   "metadata": {},
   "source": [
    "## Step 2: 이커머스 메모리 리소스 정리\n",
    "\n",
    "`/app/ecommerce/` 경로의 AgentCore Memory 리소스만 제거합니다."
   ]
  },
  {
   "cell_type": "code",
   "execution_count": null,
   "metadata": {},
   "outputs": [],
   "source": "print(\"🧠 이커머스 메모리 정리 시작...\")\n\ntry:\n    # 이커머스 프로젝트의 특정 SSM 파라미터에서만 메모리 ID 가져오기\n    try:\n        memory_id = get_ssm_parameter(\"/app/ecommerce/agentcore/memory_id\")\n        print(f\"  📋 이커머스 메모리 ID 발견: {memory_id}\")\n        \n        # bedrock-agentcore-control 클라이언트로 메모리 삭제\n        if bedrock_agentcore_control_client:\n            # 메모리 데이터 삭제 (이커머스 프로젝트에서 생성한 것만)\n            print(\"  🗑️ 이커머스 메모리 데이터 삭제 중...\")\n            response = bedrock_agentcore_control_client.delete_memory(\n                memoryId=memory_id\n            )\n            print(\"  ✅ 이커머스 메모리 데이터 삭제 완료\")\n        else:\n            print(\"  ⚠️ bedrock-agentcore-control 클라이언트를 사용할 수 없어 메모리 직접 삭제를 건너뜁니다\")\n        \n        # 이커머스 프로젝트의 SSM 파라미터만 삭제\n        ssm_client.delete_parameter(Name=\"/app/ecommerce/agentcore/memory_id\")\n        print(\"  ✅ 이커머스 메모리 SSM 파라미터 삭제 완료\")\n        \n    except ssm_client.exceptions.ParameterNotFound:\n        print(\"  ⚠️ 이커머스 메모리 ID를 찾을 수 없습니다 (이미 삭제되었거나 생성되지 않음)\")\n    except Exception as e:\n        print(f\"  ❌ 이커머스 메모리 정리 중 오류: {e}\")\n        \nexcept Exception as e:\n    print(f\"  ❌ 메모리 정리 중 전체 오류: {e}\")\n\nprint(\"✅ 이커머스 메모리 정리 완료\")"
  },
  {
   "cell_type": "markdown",
   "metadata": {},
   "source": [
    "## Step 3: 이커머스 런타임 리소스 정리\n",
    "\n",
    "이커머스 프로젝트의 AgentCore Runtime만 제거합니다."
   ]
  },
  {
   "cell_type": "code",
   "execution_count": null,
   "metadata": {},
   "outputs": [],
   "source": "print(\"🚀 이커머스 런타임 정리 시작...\")\n\ntry:\n    # bedrock-agentcore-control 클라이언트로 런타임 관리 (원본 패턴 따라함)\n    if bedrock_agentcore_control_client:\n        try:\n            # 모든 Agent Runtime 조회 후 이커머스 관련만 삭제\n            print(\"  🗑️ 이커머스 Agent Runtime 삭제 중...\")\n            runtimes = bedrock_agentcore_control_client.list_agent_runtimes()\n            \n            for runtime in runtimes['agentRuntimes']:\n                runtime_id = runtime['agentRuntimeId']\n                runtime_name = runtime.get('name', '')\n                \n                # 이커머스 관련 런타임만 식별하여 삭제\n                if ('ecommerce' in runtime_name.lower() or \n                    'k-style' in runtime_name.lower() or\n                    'customer-support' in runtime_name.lower()):\n                    \n                    print(f\"    🎯 이커머스 런타임 삭제: {runtime_id}\")\n                    response = bedrock_agentcore_control_client.delete_agent_runtime(\n                        agentRuntimeId=runtime_id\n                    )\n                    print(f\"    ✅ 이커머스 런타임 삭제 완료: {response['status']}\")\n            \n            print(\"  ✅ 이커머스 Agent Runtime 삭제 완료\")\n            \n        except Exception as e:\n            print(f\"  ❌ 이커머스 런타임 삭제 실패: {e}\")\n            \n        # ECR 리포지토리 삭제 (이커머스 관련만)\n        try:\n            print(\"  🗑️ 이커머스 ECR 리포지토리 삭제 중...\")\n            ecr_client = session.client(\"ecr\")\n            repositories = ecr_client.describe_repositories()\n            \n            for repo in repositories['repositories']:\n                repo_name = repo['repositoryName']\n                \n                # 이커머스 관련 리포지토리만 식별하여 삭제 (원본 패턴 유사하게)\n                if ('ecommerce' in repo_name.lower() or \n                    'k-style' in repo_name.lower() or\n                    'customer-support' in repo_name.lower() or\n                    'bedrock-agentcore-customer_support_agent' in repo_name):\n                    \n                    print(f\"    🎯 이커머스 ECR 리포지토리 삭제: {repo_name}\")\n                    ecr_client.delete_repository(\n                        repositoryName=repo_name,\n                        force=True\n                    )\n                    print(f\"    ✅ 이커머스 ECR 리포지토리 삭제 완료: {repo_name}\")\n            \n            print(\"  ✅ 이커머스 ECR 리포지토리 삭제 완료\")\n            \n        except Exception as e:\n            print(f\"  ❌ 이커머스 ECR 리포지토리 삭제 실패: {e}\")\n    else:\n        print(\"  ⚠️ bedrock-agentcore-control 클라이언트를 사용할 수 없어 런타임 직접 삭제를 건너뜁니다\")\n    \n    # 이커머스 프로젝트의 SSM 파라미터 삭제\n    try:\n        ssm_client.delete_parameter(Name=\"/app/ecommerce/agentcore/runtime_arn\")\n        print(\"  ✅ 이커머스 런타임 SSM 파라미터 삭제 완료\")\n    except ssm_client.exceptions.ParameterNotFound:\n        print(\"  ⚠️ 이커머스 런타임 SSM 파라미터를 찾을 수 없습니다\")\n    except Exception as e:\n        print(f\"  ❌ 이커머스 런타임 SSM 파라미터 삭제 실패: {e}\")\n        \nexcept Exception as e:\n    print(f\"  ❌ 런타임 정리 중 전체 오류: {e}\")\n\nprint(\"✅ 이커머스 런타임 정리 완료\")"
  },
  {
   "cell_type": "markdown",
   "metadata": {},
   "source": [
    "## Step 4: 이커머스 게이트웨이 리소스 정리\n",
    "\n",
    "이커머스 프로젝트의 AgentCore Gateway와 관련 Lambda 함수들만 제거합니다."
   ]
  },
  {
   "cell_type": "code",
   "execution_count": null,
   "metadata": {},
   "outputs": [],
   "source": "print(\"⚙️ 이커머스 게이트웨이 정리 시작...\")\n\ntry:\n    # 이커머스 프로젝트의 특정 SSM 파라미터에서만 게이트웨이 ID 가져오기\n    try:\n        gateway_id = get_ssm_parameter(\"/app/ecommerce/agentcore/gateway_id\")\n        print(f\"  📋 이커머스 게이트웨이 ID 발견: {gateway_id}\")\n        \n        # bedrock-agentcore-control 클라이언트로 게이트웨이 관리\n        if bedrock_agentcore_control_client:\n            # 먼저 이커머스 게이트웨이의 모든 타겟들 삭제 (원본 패턴 따라함)\n            try:\n                print(\"  🗑️ 이커머스 게이트웨이 타겟들 삭제 중...\")\n                list_response = bedrock_agentcore_control_client.list_gateway_targets(\n                    gatewayIdentifier=gateway_id, maxResults=100\n                )\n                \n                for item in list_response[\"items\"]:\n                    target_id = item[\"targetId\"]\n                    print(f\"    🎯 이커머스 타겟 삭제: {target_id}\")\n                    bedrock_agentcore_control_client.delete_gateway_target(\n                        gatewayIdentifier=gateway_id,\n                        targetId=target_id\n                    )\n                    print(f\"    ✅ 이커머스 타겟 {target_id} 삭제 완료\")\n                print(\"  ✅ 이커머스 게이트웨이 타겟들 삭제 완료\")\n            except Exception as e:\n                print(f\"  ⚠️ 이커머스 타겟 삭제 중 오류: {e}\")\n            \n            # 이커머스 게이트웨이만 삭제\n            try:\n                print(\"  🗑️ 이커머스 게이트웨이 삭제 중...\")\n                bedrock_agentcore_control_client.delete_gateway(\n                    gatewayIdentifier=gateway_id\n                )\n                print(\"  ✅ 이커머스 게이트웨이 삭제 완료\")\n            except Exception as e:\n                print(f\"  ❌ 이커머스 게이트웨이 삭제 실패: {e}\")\n        else:\n            print(\"  ⚠️ bedrock-agentcore-control 클라이언트를 사용할 수 없어 게이트웨이 직접 삭제를 건너뜁니다\")\n        \n        # 이커머스 프로젝트의 SSM 파라미터만 삭제\n        ssm_client.delete_parameter(Name=\"/app/ecommerce/agentcore/gateway_id\")\n        print(\"  ✅ 이커머스 게이트웨이 SSM 파라미터 삭제 완료\")\n        \n    except ssm_client.exceptions.ParameterNotFound:\n        print(\"  ⚠️ 이커머스 게이트웨이 ID를 찾을 수 없습니다 (이미 삭제되었거나 생성되지 않음)\")\n    except Exception as e:\n        print(f\"  ❌ 이커머스 게이트웨이 정리 중 오류: {e}\")\n        \n    # 이커머스 프로젝트의 CloudFormation 스택만 삭제\n    try:\n        print(\"  🗑️ 이커머스 CloudFormation 스택 삭제 중...\")\n        ecommerce_stacks_to_delete = [\n            \"ecommerce-customer-support-infrastructure\",\n            \"ecommerce-customer-support-cognito\"\n        ]\n        \n        for stack_name in ecommerce_stacks_to_delete:\n            try:\n                # 스택이 존재하는지 확인\n                stacks = cloudformation_client.describe_stacks(StackName=stack_name)\n                cloudformation_client.delete_stack(StackName=stack_name)\n                print(f\"    ✅ 이커머스 스택 삭제 요청: {stack_name}\")\n            except cloudformation_client.exceptions.ClientError as e:\n                if \"does not exist\" in str(e):\n                    print(f\"    ⚠️ 이커머스 스택을 찾을 수 없습니다: {stack_name}\")\n                else:\n                    print(f\"    ❌ 이커머스 스택 {stack_name} 삭제 실패: {e}\")\n                    \n    except Exception as e:\n        print(f\"  ⚠️ 이커머스 CloudFormation 스택 삭제 중 오류: {e}\")\n        \nexcept Exception as e:\n    print(f\"  ❌ 게이트웨이 정리 중 전체 오류: {e}\")\n\nprint(\"✅ 이커머스 게이트웨이 정리 완료\")"
  },
  {
   "cell_type": "markdown",
   "metadata": {},
   "source": [
    "## Step 5: 이커머스 보안 리소스 정리\n",
    "\n",
    "이커머스 프로젝트에서만 생성한 IAM 역할, Cognito 사용자 풀, Secrets Manager 시크릿만 제거합니다."
   ]
  },
  {
   "cell_type": "code",
   "execution_count": null,
   "metadata": {},
   "outputs": [],
   "source": [
    "print(\"🛡️ 이커머스 보안 리소스 정리 시작...\")\n",
    "\n",
    "try:\n",
    "    # 이커머스 프로젝트의 Secrets Manager 시크릿만 가져오기 및 삭제\n",
    "    try:\n",
    "        print(\"  🗑️ 이커머스 Secrets Manager 시크릿 삭제 중...\")\n",
    "        secret_response = secrets_client.get_secret_value(SecretId=\"ecommerce_customer_support_agent\")\n",
    "        cognito_config = json.loads(secret_response['SecretString'])\n",
    "        \n",
    "        # 이커머스 프로젝트의 Cognito 사용자 풀만 삭제\n",
    "        try:\n",
    "            print(\"  🗑️ 이커머스 Cognito 사용자 풀 삭제 중...\")\n",
    "            pool_id = cognito_config.get('pool_id')\n",
    "            if pool_id:\n",
    "                cognito_client.delete_user_pool(UserPoolId=pool_id)\n",
    "                print(f\"    ✅ 이커머스 사용자 풀 삭제 완료: {pool_id}\")\n",
    "        except Exception as e:\n",
    "            print(f\"    ⚠️ 이커머스 Cognito 사용자 풀 삭제 실패: {e}\")\n",
    "        \n",
    "        # 이커머스 시크릿만 삭제\n",
    "        secrets_client.delete_secret(\n",
    "            SecretId=\"ecommerce_customer_support_agent\",\n",
    "            ForceDeleteWithoutRecovery=True\n",
    "        )\n",
    "        print(\"  ✅ 이커머스 Secrets Manager 시크릿 삭제 완료\")\n",
    "        \n",
    "    except secrets_client.exceptions.ResourceNotFoundException:\n",
    "        print(\"  ⚠️ 이커머스 시크릿을 찾을 수 없습니다 (이미 삭제되었거나 생성되지 않음)\")\n",
    "    except Exception as e:\n",
    "        print(f\"  ⚠️ 이커머스 시크릿 정리 중 오류: {e}\")\n",
    "    \n",
    "    # 이커머스 프로젝트의 IAM 역할만 삭제 (명시적 이름 패턴)\n",
    "    try:\n",
    "        print(\"  🗑️ 이커머스 IAM 역할 삭제 중...\")\n",
    "        ecommerce_roles_to_delete = [\n",
    "            \"EcommerceAgentCoreRuntimeExecutionRole\",\n",
    "            \"EcommerceCustomerSupportRole\",\n",
    "            \"EcommerceAgentCoreRole\"\n",
    "        ]\n",
    "        \n",
    "        for role_name in ecommerce_roles_to_delete:\n",
    "            try:\n",
    "                # 역할이 존재하는지 확인\n",
    "                iam_client.get_role(RoleName=role_name)\n",
    "                \n",
    "                # 연결된 정책들 먼저 분리 (이커머스 역할에서만)\n",
    "                attached_policies = iam_client.list_attached_role_policies(RoleName=role_name)\n",
    "                for policy in attached_policies['AttachedPolicies']:\n",
    "                    iam_client.detach_role_policy(\n",
    "                        RoleName=role_name,\n",
    "                        PolicyArn=policy['PolicyArn']\n",
    "                    )\n",
    "                \n",
    "                # 인라인 정책들 삭제 (이커머스 역할에서만)\n",
    "                inline_policies = iam_client.list_role_policies(RoleName=role_name)\n",
    "                for policy_name in inline_policies['PolicyNames']:\n",
    "                    iam_client.delete_role_policy(\n",
    "                        RoleName=role_name,\n",
    "                        PolicyName=policy_name\n",
    "                    )\n",
    "                \n",
    "                # 이커머스 역할만 삭제\n",
    "                iam_client.delete_role(RoleName=role_name)\n",
    "                print(f\"    ✅ 이커머스 역할 삭제 완료: {role_name}\")\n",
    "                \n",
    "            except iam_client.exceptions.NoSuchEntityException:\n",
    "                print(f\"    ⚠️ 이커머스 역할을 찾을 수 없습니다: {role_name}\")\n",
    "            except Exception as e:\n",
    "                print(f\"    ❌ 이커머스 역할 삭제 실패 {role_name}: {e}\")\n",
    "                \n",
    "    except Exception as e:\n",
    "        print(f\"  ❌ 이커머스 IAM 역할 정리 중 오류: {e}\")\n",
    "    \n",
    "    # 이커머스 프로젝트의 SSM 파라미터들만 삭제\n",
    "    try:\n",
    "        print(\"  🗑️ 이커머스 SSM 파라미터들 삭제 중...\")\n",
    "        ecommerce_parameters_to_delete = [\n",
    "            \"/app/ecommerce/agentcore/memory_id\",\n",
    "            \"/app/ecommerce/agentcore/runtime_arn\",\n",
    "            \"/app/ecommerce/agentcore/gateway_id\"\n",
    "        ]\n",
    "        \n",
    "        for param_name in ecommerce_parameters_to_delete:\n",
    "            try:\n",
    "                ssm_client.delete_parameter(Name=param_name)\n",
    "                print(f\"    ✅ 이커머스 SSM 파라미터 삭제: {param_name}\")\n",
    "            except ssm_client.exceptions.ParameterNotFound:\n",
    "                print(f\"    ⚠️ 이커머스 SSM 파라미터를 찾을 수 없습니다: {param_name}\")\n",
    "            except Exception as e:\n",
    "                print(f\"    ❌ 이커머스 SSM 파라미터 삭제 실패 {param_name}: {e}\")\n",
    "                \n",
    "    except Exception as e:\n",
    "        print(f\"  ❌ 이커머스 SSM 파라미터 정리 중 오류: {e}\")\n",
    "        \n",
    "except Exception as e:\n",
    "    print(f\"❌ 이커머스 보안 리소스 정리 중 전체 오류: {e}\")\n",
    "\n",
    "print(\"✅ 이커머스 보안 리소스 정리 완료\")"
   ]
  },
  {
   "cell_type": "markdown",
   "metadata": {},
   "source": [
    "## Step 6: 이커머스 관측성 리소스 정리\n",
    "\n",
    "이커머스 프로젝트 관련 CloudWatch 로그 그룹만 제거합니다."
   ]
  },
  {
   "cell_type": "code",
   "execution_count": null,
   "metadata": {},
   "outputs": [],
   "source": "print(\"📊 이커머스 관측성 리소스 정리 시작...\")\n\ntry:\n    # 이커머스 프로젝트의 CloudWatch 로그 그룹만 삭제 (원본 패턴 적용)\n    print(\"  🗑️ 이커머스 CloudWatch 로그 그룹 삭제 중...\")\n    ecommerce_log_groups_to_delete = [\n        \"/aws/lambda/ecommerce-return-eligibility\",\n        \"/aws/lambda/ecommerce-web-search\", \n        \"/aws/lambda/ecommerce-customer-support\",\n        \"agents/ecommerce-customer-support-logs\",\n        \"agents/k-style-customer-support-logs\"\n    ]\n    \n    # 이커머스 관련 로그 그룹들을 동적으로 찾기\n    try:\n        paginator = logs_client.get_paginator('describe_log_groups')\n        for page in paginator.paginate():\n            for log_group in page['logGroups']:\n                log_group_name = log_group['logGroupName']\n                # 이커머스 관련 로그 그룹만 식별\n                if ('ecommerce' in log_group_name.lower() or \n                    'k-style' in log_group_name.lower() or\n                    'customer-support' in log_group_name.lower() or\n                    log_group_name in ecommerce_log_groups_to_delete):\n                    ecommerce_log_groups_to_delete.append(log_group_name)\n    except Exception as e:\n        print(f\"    ⚠️ 이커머스 로그 그룹 자동 탐지 실패: {e}\")\n    \n    # 중복 제거\n    ecommerce_log_groups_to_delete = list(set(ecommerce_log_groups_to_delete))\n    \n    # 로그 스트림 먼저 삭제하고 로그 그룹 삭제 (원본 패턴 따라함)\n    for log_group in ecommerce_log_groups_to_delete:\n        try:\n            # 로그 스트림 먼저 삭제\n            try:\n                streams_response = logs_client.describe_log_streams(logGroupName=log_group)\n                for stream in streams_response.get('logStreams', []):\n                    stream_name = stream['logStreamName']\n                    logs_client.delete_log_stream(\n                        logGroupName=log_group,\n                        logStreamName=stream_name\n                    )\n            except Exception:\n                pass  # 스트림이 없을 수 있음\n            \n            # 로그 그룹 삭제\n            logs_client.delete_log_group(logGroupName=log_group)\n            print(f\"    ✅ 이커머스 로그 그룹 삭제: {log_group}\")\n        except logs_client.exceptions.ResourceNotFoundException:\n            print(f\"    ⚠️ 이커머스 로그 그룹을 찾을 수 없습니다: {log_group}\")\n        except Exception as e:\n            if e.response[\"Error\"][\"Code\"] == \"ResourceNotFoundException\":\n                print(f\"    ⚠️ 이커머스 로그 그룹을 찾을 수 없습니다: {log_group}\")\n            else:\n                print(f\"    ❌ 이커머스 로그 그룹 삭제 실패 {log_group}: {e}\")\n            \nexcept Exception as e:\n    print(f\"❌ 이커머스 관측성 리소스 정리 중 오류: {e}\")\n\nprint(\"✅ 이커머스 관측성 리소스 정리 완료\")"
  },
  {
   "cell_type": "markdown",
   "metadata": {},
   "source": [
    "## Step 7: 이커머스 로컬 파일 정리\n",
    "\n",
    "이커머스 프로젝트의 로컬 임시 파일들만 제거합니다."
   ]
  },
  {
   "cell_type": "code",
   "execution_count": null,
   "metadata": {},
   "outputs": [],
   "source": "print(\"📁 이커머스 로컬 파일 정리 시작...\")\n\nimport shutil\n\ntry:\n    # 이커머스 프로젝트의 임시 파일들만 정리\n    print(\"  🗑️ 이커머스 프로젝트 임시 파일들 삭제 중...\")\n    \n    # 가상환경 외부의 __pycache__ 디렉토리들만 삭제 (원본 패턴 적용)\n    import os\n    for root, dirs, files in os.walk(\".\"):\n        if \"__pycache__\" in dirs:\n            pycache_path = os.path.join(root, \"__pycache__\")\n            # 가상환경 내부는 제외하고 이커머스 프로젝트 관련만\n            if (\".venv\" not in pycache_path and \n                \"site-packages\" not in pycache_path and\n                (\"use_cases\" in pycache_path or \"lab_helpers\" in pycache_path or \"tools\" in pycache_path)):\n                try:\n                    shutil.rmtree(pycache_path)\n                    print(f\"    ✅ 이커머스 __pycache__ 삭제: {pycache_path}\")\n                except Exception as e:\n                    print(f\"    ❌ 이커머스 __pycache__ 삭제 실패 {pycache_path}: {e}\")\n    \n    # 이커머스 프로젝트의 설정 파일들 삭제 (원본 패턴 따라함)\n    ecommerce_files_to_delete = [\n        \"Dockerfile\",\n        \".dockerignore\", \n        \".bedrock_agentcore.yaml\",\n        \"ecommerce_customer_support_agent.py\",\n        \"k_style_agent_runtime.py\"\n    ]\n    \n    deleted_files = []\n    missing_files = []\n    \n    for file in ecommerce_files_to_delete:\n        if os.path.exists(file):\n            try:\n                os.unlink(file)\n                deleted_files.append(file)\n                print(f\"    ✅ 이커머스 파일 삭제: {file}\")\n            except Exception as e:\n                print(f\"    ❌ 이커머스 파일 삭제 실패 {file}: {e}\")\n        else:\n            missing_files.append(file)\n    \n    # 이커머스 프로젝트의 임시 디렉토리들만 삭제\n    ecommerce_temp_directories = [\n        \"artifacts\",\n        \"logs\", \n        \"temp\",\n        \"ecommerce_artifacts\"\n    ]\n    \n    for directory in ecommerce_temp_directories:\n        if os.path.exists(directory):\n            try:\n                shutil.rmtree(directory)\n                print(f\"    ✅ 이커머스 임시 디렉토리 삭제: {directory}\")\n            except Exception as e:\n                print(f\"    ❌ 이커머스 임시 디렉토리 삭제 실패 {directory}: {e}\")\n    \n    if deleted_files:\n        print(f\"  📁 이커머스 파일 {len(deleted_files)}개 삭제 완료\")\n    if missing_files:\n        print(f\"  ℹ️ {len(missing_files)}개 파일은 이미 없음: {', '.join(missing_files)}\")\n    \n    print(\"  ✅ 이커머스 로컬 파일 정리 완료\")\n    \nexcept Exception as e:\n    print(f\"❌ 이커머스 로컬 파일 정리 중 오류: {e}\")\n\nprint(\"✅ 이커머스 로컬 파일 정리 완료\")"
  },
  {
   "cell_type": "markdown",
   "metadata": {},
   "source": [
    "## Step 8: 정리 완료 확인\n",
    "\n",
    "이커머스 프로젝트 리소스들이 완전히 정리되었는지 확인합니다."
   ]
  },
  {
   "cell_type": "code",
   "execution_count": null,
   "metadata": {},
   "outputs": [],
   "source": [
    "print(\"🔍 이커머스 리소스 정리 상태 확인...\")\n",
    "\n",
    "verification_results = []\n",
    "\n",
    "# SSM 파라미터 확인\n",
    "try:\n",
    "    ecommerce_params = [\n",
    "        \"/app/ecommerce/agentcore/memory_id\",\n",
    "        \"/app/ecommerce/agentcore/runtime_arn\", \n",
    "        \"/app/ecommerce/agentcore/gateway_id\"\n",
    "    ]\n",
    "    \n",
    "    remaining_params = []\n",
    "    for param in ecommerce_params:\n",
    "        try:\n",
    "            ssm_client.get_parameter(Name=param)\n",
    "            remaining_params.append(param)\n",
    "        except ssm_client.exceptions.ParameterNotFound:\n",
    "            pass  # 정상적으로 삭제됨\n",
    "    \n",
    "    if remaining_params:\n",
    "        verification_results.append(f\"⚠️ 남은 이커머스 SSM 파라미터: {remaining_params}\")\n",
    "    else:\n",
    "        verification_results.append(\"✅ 모든 이커머스 SSM 파라미터 정리 완료\")\n",
    "        \n",
    "except Exception as e:\n",
    "    verification_results.append(f\"❌ SSM 파라미터 확인 실패: {e}\")\n",
    "\n",
    "# Secrets Manager 확인\n",
    "try:\n",
    "    secrets_client.get_secret_value(SecretId=\"ecommerce_customer_support_agent\")\n",
    "    verification_results.append(\"⚠️ 이커머스 시크릿이 아직 남아있습니다\")\n",
    "except secrets_client.exceptions.ResourceNotFoundException:\n",
    "    verification_results.append(\"✅ 이커머스 시크릿 정리 완료\")\n",
    "except Exception as e:\n",
    "    verification_results.append(f\"❌ 시크릿 확인 실패: {e}\")\n",
    "\n",
    "# CloudFormation 스택 확인\n",
    "try:\n",
    "    ecommerce_stacks = [\"ecommerce-customer-support-infrastructure\", \"ecommerce-customer-support-cognito\"]\n",
    "    remaining_stacks = []\n",
    "    \n",
    "    for stack_name in ecommerce_stacks:\n",
    "        try:\n",
    "            cloudformation_client.describe_stacks(StackName=stack_name)\n",
    "            remaining_stacks.append(stack_name)\n",
    "        except cloudformation_client.exceptions.ClientError:\n",
    "            pass  # 정상적으로 삭제됨\n",
    "    \n",
    "    if remaining_stacks:\n",
    "        verification_results.append(f\"⚠️ 남은 이커머스 CloudFormation 스택: {remaining_stacks}\")\n",
    "    else:\n",
    "        verification_results.append(\"✅ 모든 이커머스 CloudFormation 스택 정리 완료\")\n",
    "        \n",
    "except Exception as e:\n",
    "    verification_results.append(f\"❌ CloudFormation 스택 확인 실패: {e}\")\n",
    "\n",
    "# 결과 출력\n",
    "print(\"\\n📋 정리 확인 결과:\")\n",
    "for result in verification_results:\n",
    "    print(f\"  {result}\")\n",
    "\n",
    "print(\"\\n✅ 이커머스 리소스 정리 상태 확인 완료\")"
   ]
  },
  {
   "cell_type": "markdown",
   "metadata": {},
   "source": [
    "## 🎉 K-Style 이커머스 정리 완료!\n",
    "\n",
    "이커머스 프로젝트에서 생성한 모든 AWS 리소스가 안전하게 정리되었습니다."
   ]
  },
  {
   "cell_type": "code",
   "execution_count": null,
   "metadata": {},
   "outputs": [],
   "source": [
    "print(\"\\n\" + \"=\" * 70)\n",
    "print(\"🧹 K-STYLE 이커머스 에이전트 정리 완료! 🧹\")\n",
    "print(\"=\" * 70)\n",
    "print()\n",
    "print(\"📋 정리된 이커머스 리소스들:\")\n",
    "print(\"  🧠 메모리: 이커머스 AgentCore Memory 리소스 및 데이터\")\n",
    "print(\"  🚀 런타임: 이커머스 Agent 런타임 및 ECR 리포지토리\")\n",
    "print(\"  ⚙️ 게이트웨이: 이커머스 AgentCore Gateway 및 Lambda 함수들\")\n",
    "print(\"  🛡️ 보안: 이커머스 IAM 역할, Cognito 사용자 풀, SSM 파라미터\")\n",
    "print(\"  📊 관측성: 이커머스 CloudWatch 로그 그룹 및 스트림\")\n",
    "print(\"  📁 파일: 이커머스 로컬 설정 및 임시 파일들\")\n",
    "print()\n",
    "print(\"🔒 안전성 보장:\")\n",
    "print(\"  ✅ 다른 프로젝트의 리소스는 보호됨\")\n",
    "print(\"  ✅ 이커머스 프로젝트 리소스만 정확히 식별하여 삭제\")\n",
    "print(\"  ✅ 명시적 이름 패턴으로 안전한 삭제 보장\")\n",
    "print()\n",
    "print(\"✨ AWS 계정에서 이커머스 프로젝트가 깔끔하게 정리되었습니다!\")\n",
    "print(\"🛍️ K-Style 이커머스 고객 지원 에이전트 워크숍을 완료해주셔서 감사합니다!\")\n",
    "print()\n",
    "print(\"🎯 다음 단계:\")\n",
    "print(\"  • 새로운 에이전트 실험을 위해 Lab 1부터 다시 시작\")\n",
    "print(\"  • 다른 유스케이스에 AgentCore 적용 고려\")\n",
    "print(\"  • 프로덕션 환경에서의 확장 방안 검토\")\n",
    "print(\"  • 다른 AgentCore 튜토리얼과의 공존 가능\")\n",
    "print(\"\\n\" + \"=\" * 70)"
   ]
  }
 ],
 "metadata": {
  "kernelspec": {
   "display_name": "Ecommerce Agent (.venv Python 3.12)",
   "language": "python",
   "name": "ecommerce-agent"
  },
  "language_info": {
   "codemirror_mode": {
    "name": "ipython",
    "version": 3
   },
   "file_extension": ".py",
   "mimetype": "text/x-python",
   "name": "python",
   "nbconvert_exporter": "python",
   "pygments_lexer": "ipython3",
   "version": "3.12.11"
  }
 },
 "nbformat": 4,
 "nbformat_minor": 4
}