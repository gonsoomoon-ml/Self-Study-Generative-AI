{
 "cells": [
  {
   "cell_type": "markdown",
   "metadata": {},
   "source": [
    "# Bedrock Developer Guide Example \n",
    "- [Tool use API examples](https://docs.aws.amazon.com/bedrock/latest/userguide/tool-use-examples.html)"
   ]
  },
  {
   "cell_type": "code",
   "execution_count": 1,
   "metadata": {},
   "outputs": [],
   "source": [
    "# is_needed_install = True\n",
    "is_needed_install = False\n",
    "\n",
    "if is_needed_install:\n",
    "    ! pip install -U boto3"
   ]
  },
  {
   "cell_type": "code",
   "execution_count": 2,
   "metadata": {},
   "outputs": [],
   "source": [
    "%load_ext autoreload\n",
    "%autoreload 2\n",
    "\n",
    "from utils_bedrock import *"
   ]
  },
  {
   "cell_type": "markdown",
   "metadata": {},
   "source": [
    "## 2. Load Image"
   ]
  },
  {
   "cell_type": "code",
   "execution_count": 3,
   "metadata": {},
   "outputs": [],
   "source": [
    "# Load and prep all images in the current directory\n",
    "# prepped_images = load_and_prep_images(directory=\"experiment_img\")\n",
    "prepped_images = load_and_prep_images(directory=\"full_img\")"
   ]
  },
  {
   "cell_type": "markdown",
   "metadata": {},
   "source": [
    "## 3. Run experiment"
   ]
  },
  {
   "cell_type": "code",
   "execution_count": 4,
   "metadata": {},
   "outputs": [],
   "source": [
    "from textwrap import dedent\n",
    "\n",
    "instructions_content_priors = dedent(\n",
    "    \"\"\"\n",
    "    Generate unique, varied social media positive comments:\n",
    "\n",
    "    * Aim for 10 characters max, but vary lengths\n",
    "    * Ensure each comment uses distinct words/phrases\n",
    "    * Randomize tone: casual, excited, curious, skeptical, etc.\n",
    "    * Incorporate diverse emoji, slang, and text expressions\n",
    "    * Sprinkle in typos and unconventional spellings sparingly\n",
    "    * Avoid clichés and overused internet phrases\n",
    "    * Craft comments friendly, and enthusiastic specific to the image/post content\n",
    "    * Use a wide range of adjectives and interjections\n",
    "    * Mix short reactions with slightly longer musings\n",
    "    * Include occasional questions or calls to action\n",
    "    * Vary sentence structures and punctuation styles\n",
    "    * Draw from a broad vocabulary pool for each comment\n",
    "    * Ensure emotional range without extreme positivity/negativity\n",
    "    * Adapt language to suit different user personas\n",
    "    \"\"\"\n",
    ")\n"
   ]
  },
  {
   "cell_type": "code",
   "execution_count": 5,
   "metadata": {},
   "outputs": [
    {
     "name": "stdout",
     "output_type": "stream",
     "text": [
      "## Generating text with model %s us.anthropic.claude-3-5-sonnet-20240620-v1:0\n",
      "##response: after the first converse() with the query and tool_config \n",
      "{\n",
      "  \"ResponseMetadata\": {\n",
      "    \"RequestId\": \"204027a8-6912-4dc2-9313-e8f25f099a91\",\n",
      "    \"HTTPStatusCode\": 200,\n",
      "    \"HTTPHeaders\": {\n",
      "      \"date\": \"Thu, 17 Oct 2024 07:10:16 GMT\",\n",
      "      \"content-type\": \"application/json\",\n",
      "      \"content-length\": \"970\",\n",
      "      \"connection\": \"keep-alive\",\n",
      "      \"x-amzn-requestid\": \"204027a8-6912-4dc2-9313-e8f25f099a91\"\n",
      "    },\n",
      "    \"RetryAttempts\": 0\n",
      "  },\n",
      "  \"output\": {\n",
      "    \"message\": {\n",
      "      \"role\": \"assistant\",\n",
      "      \"content\": [\n",
      "        {\n",
      "          \"text\": \"Certainly! I'll use the Comments function to generate unique and varied social media comments in Korean, keeping in mind all the guidelines you've provided. I'll aim for diversity in length, tone, and style while ensuring they remain positive and tailored to a hypothetical image or post content.\"\n",
      "        },\n",
      "        {\n",
      "          \"toolUse\": {\n",
      "            \"toolUseId\": \"tooluse_g0XePsNTR5-o6J0Hsq_xhQ\",\n",
      "            \"name\": \"Comments\",\n",
      "            \"input\": {\n",
      "              \"korean_comment_1\": \"대박! 😍\",\n",
      "              \"korean_comment_2\": \"어머 이거 뭐야?\",\n",
      "              \"korean_comment_3\": \"ㅋㅋ 귀여워~\",\n",
      "              \"korean_comment_4\": \"와우... 멋지다!\",\n",
      "              \"korean_comment_5\": \"헐ㄹ 진짜?\",\n",
      "              \"korean_comment_6\": \"짱이네요 ㅇㅇ\",\n",
      "              \"korean_comment_7\": \"어떻게 했어?🤔\",\n",
      "              \"korean_comment_8\": \"완전 내스타일!\",\n",
      "              \"korean_comment_9\": \"오 대박ㅋ 궁금\",\n",
      "              \"korean_comment_10\": \"좋아요~♥️\"\n",
      "            }\n",
      "          }\n",
      "        }\n",
      "      ]\n",
      "    }\n",
      "  },\n",
      "  \"stopReason\": \"tool_use\",\n",
      "  \"usage\": {\n",
      "    \"inputTokens\": 637,\n",
      "    \"outputTokens\": 395,\n",
      "    \"totalTokens\": 1032\n",
      "  },\n",
      "  \"metrics\": {\n",
      "    \"latencyMs\": 9677\n",
      "  }\n",
      "}\n",
      "Finished generating text with model us.anthropic.claude-3-5-sonnet-20240620-v1:0.\n"
     ]
    }
   ],
   "source": [
    "model_id = \"us.anthropic.claude-3-5-sonnet-20240620-v1:0\"\n",
    "\n",
    "tool_config = {\n",
    "\"tools\": [\n",
    "    {\n",
    "        \"toolSpec\": {\n",
    "            \"name\": \"Comments\",\n",
    "            \"description\": \"A set of 10 friendly english and korean comments in response to the image on social media\",\n",
    "            \"inputSchema\": {\n",
    "                \"json\": {\n",
    "                    \"type\": \"object\",\n",
    "                    \"properties\": {\n",
    "                        \"korean_comment_1\": {\n",
    "                            \"type\": \"string\",\n",
    "                            \"description\": \"An Korean comment in response to the image on social media\"\n",
    "                        },\n",
    "                        \"korean_comment_2\": {\n",
    "                            \"type\": \"string\",\n",
    "                            \"description\": \"An Korean comment in response to the image on social media\"\n",
    "                        },\n",
    "                        \"korean_comment_1\": {\n",
    "                            \"type\": \"string\",\n",
    "                            \"description\": \"An Korean comment in response to the image on social media\"\n",
    "                        },\n",
    "                        \"korean_comment_2\": {\n",
    "                            \"type\": \"string\",\n",
    "                            \"description\": \"An Korean comment in response to the image on social media\"\n",
    "                        },\n",
    "                        \"korean_comment_1\": {\n",
    "                            \"type\": \"string\",\n",
    "                            \"description\": \"An Korean comment in response to the image on social media\"\n",
    "                        },\n",
    "                    },\n",
    "                    \"required\": [\n",
    "                        \"korean_comment_1\",\n",
    "                        \"korean_comment_2\",\n",
    "                        \"korean_comment_3\",\n",
    "                        \"korean_comment_4\",\n",
    "                        \"korean_comment_5\",                        \n",
    "                    ]\n",
    "                }\n",
    "            }\n",
    "        }\n",
    "    }\n",
    "]\n",
    "}\n",
    "bedrock_client = boto3.client(service_name='bedrock-runtime')\n",
    "\n",
    "\n",
    "try:\n",
    "    # print(f\"Input Prompt: {instructions_content_priors}\")\n",
    "    generate_text(bedrock_client, model_id, tool_config, instructions_content_priors)\n",
    "\n",
    "except ClientError as err:\n",
    "    message = err.response['Error']['Message']\n",
    "    logger.error(\"A client error occurred: %s\", message)\n",
    "    print(f\"A client error occured: {message}\")\n",
    "\n",
    "else:\n",
    "    print(\n",
    "        f\"Finished generating text with model {model_id}.\")\n",
    "\n"
   ]
  },
  {
   "cell_type": "code",
   "execution_count": null,
   "metadata": {},
   "outputs": [],
   "source": []
  }
 ],
 "metadata": {
  "kernelspec": {
   "display_name": "base",
   "language": "python",
   "name": "python3"
  },
  "language_info": {
   "codemirror_mode": {
    "name": "ipython",
    "version": 3
   },
   "file_extension": ".py",
   "mimetype": "text/x-python",
   "name": "python",
   "nbconvert_exporter": "python",
   "pygments_lexer": "ipython3",
   "version": "3.10.15"
  }
 },
 "nbformat": 4,
 "nbformat_minor": 2
}
