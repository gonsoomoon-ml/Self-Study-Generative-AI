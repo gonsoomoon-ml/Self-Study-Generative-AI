{
 "cells": [
  {
   "cell_type": "markdown",
   "metadata": {},
   "source": [
    "# Analyze person image with ToolUse or not\n",
    "- [Tool use API examples](https://docs.aws.amazon.com/bedrock/latest/userguide/tool-use-examples.html)"
   ]
  },
  {
   "cell_type": "code",
   "execution_count": 9,
   "metadata": {},
   "outputs": [],
   "source": [
    "# is_needed_install = True\n",
    "is_needed_install = False\n",
    "\n",
    "if is_needed_install:\n",
    "    # ! pip install -U boto3 langchain_aws anthropic\n",
    "    ! pip install -U boto3 "
   ]
  },
  {
   "cell_type": "code",
   "execution_count": 10,
   "metadata": {},
   "outputs": [
    {
     "name": "stdout",
     "output_type": "stream",
     "text": [
      "The autoreload extension is already loaded. To reload it, use:\n",
      "  %reload_ext autoreload\n"
     ]
    }
   ],
   "source": [
    "%load_ext autoreload\n",
    "%autoreload 2\n",
    "\n",
    "from utils_bedrock_skin_gender import *"
   ]
  },
  {
   "cell_type": "markdown",
   "metadata": {},
   "source": [
    "## 2. Load Image"
   ]
  },
  {
   "cell_type": "code",
   "execution_count": 11,
   "metadata": {},
   "outputs": [],
   "source": [
    "prepped_images = \"skin_gender_img/amazon_big_size_photo.jpeg\""
   ]
  },
  {
   "cell_type": "markdown",
   "metadata": {},
   "source": [
    "## 3. Run experiment"
   ]
  },
  {
   "cell_type": "code",
   "execution_count": 36,
   "metadata": {},
   "outputs": [],
   "source": [
    "from textwrap import dedent\n",
    "\n",
    "prompt = dedent(\n",
    "    \"\"\"\n",
    "    이미지의 인물을 설명해줘\n",
    "    \"\"\"\n",
    ")\n",
    "\n",
    "model_id =\"anthropic.claude-3-5-sonnet-20240620-v1:0\"\n",
    "# model_id = \"anthropic.claude-3-5-haiku-20241022-v1:0\"\n",
    "# model_id = \"anthropic.claude-3-5-sonnet-20241022-v2:0\"\n",
    "\n",
    "tool_config = {\n",
    "\"tools\": [\n",
    "    {\n",
    "        \"toolSpec\": {\n",
    "            \"name\": \"Comments\",\n",
    "            \"description\": \"이미지를 분석해서 얼굴의 특징을 뽑아내고, 얼굴색 및 성별에 맞는 중세시대 기사의 영웅적인 자화상을 만드는 프롬프트를 생성해줘\",\n",
    "            \"inputSchema\": {\n",
    "                \"json\": {\n",
    "                    \"type\": \"object\",\n",
    "                    \"properties\": {\n",
    "                        \"korean_comment_1\": {\n",
    "                            \"type\": \"string\",\n",
    "                            \"description\": \"이미지를 분석해서 얼굴의 특징을 뽑아내서, 중세시대 여성 기사의 영웅적인 자화상을 만드는 프롬프트를 생성해줘\"\n",
    "                        },\n",
    "                        \"korean_comment_2\": {\n",
    "                            \"type\": \"string\",\n",
    "                            \"description\": \"성별을 알려줘\"\n",
    "                        },\n",
    "                        \"korean_comment_3\": {\n",
    "                            \"type\": \"string\",\n",
    "                            \"description\": \"피부색을 알려줘\"\n",
    "                        },\n",
    "\n",
    "                    },\n",
    "                    \"required\": [\n",
    "                        \"korean_comment_1\",\n",
    "                        \"korean_comment_2\",\n",
    "                        \"korean_comment_3\",                        \n",
    "                    ]\n",
    "                }\n",
    "            }\n",
    "        }\n",
    "    }\n",
    "]\n",
    "}\n",
    "\n",
    "# inference config\n",
    "inference_config = {\n",
    "    \"maxTokens\": 4096,\n",
    "    \"temperature\": 0,\n",
    "    \"topP\": 0.1,\n",
    "    \"stopSequences\": [\"\\n\\nHuman:\"]\n",
    "}\n",
    "\n",
    "bedrock_client = boto3.client(service_name='bedrock-runtime')\n",
    "\n",
    "\n"
   ]
  },
  {
   "cell_type": "markdown",
   "metadata": {},
   "source": [
    "### Claude 에서 이미지 전달하여, Prommt 에 반응"
   ]
  },
  {
   "cell_type": "code",
   "execution_count": 37,
   "metadata": {},
   "outputs": [
    {
     "name": "stdout",
     "output_type": "stream",
     "text": [
      "## Generating text with model %s anthropic.claude-3-5-sonnet-20240620-v1:0\n",
      "ToolUse is NOT used\n"
     ]
    },
    {
     "name": "stdout",
     "output_type": "stream",
     "text": [
      "이 이미지는 검은 배경 앞에서 찍은 한 남성의 얼굴 사진입니다.\n",
      "그는 아시아계로 보이며, 짧은 검은 머리를 하고 있습니다.\n",
      "그의 표정은 따뜻하고 친근해 보이며, 부드러운 미소를 짓고 있습니다.\n",
      "그는 밝은 회색 또는 흰색 상의를 입고 있는 것으로 보입니다.\n",
      "전반적으로 이 사진은 전문적이면서도 친근한 느낌을 줍니다.\n"
     ]
    }
   ],
   "source": [
    "try:\n",
    "    isToollUse = False\n",
    "    messages = generate_text(bedrock_client, model_id, tool_config, \n",
    "                            prompt, \n",
    "                            prepped_images,\n",
    "                            inference_config,\n",
    "                            # tools=isToollUse,\n",
    "                            tools=isToollUse,   \n",
    "                            verbose=False,                         \n",
    "                            )\n",
    "\n",
    "\n",
    "except ClientError as err:\n",
    "    messages = err.response['Error']['Message']\n",
    "    print(\"A client error occurred: %s\", message)\n",
    "    print(f\"A client error occured: {message}\")\n",
    "\n",
    "if isToollUse:\n",
    "    parse_korean_comments_tools(messages)\n",
    "else:\n",
    "    parse_korean_comments(messages)\n"
   ]
  },
  {
   "cell_type": "markdown",
   "metadata": {},
   "source": [
    "### Claude 에서 이미지 전달하고, ToolUse 를 이용하여 Prommt 에 반응"
   ]
  },
  {
   "cell_type": "code",
   "execution_count": 38,
   "metadata": {},
   "outputs": [
    {
     "name": "stdout",
     "output_type": "stream",
     "text": [
      "## Generating text with model %s anthropic.claude-3-5-sonnet-20240620-v1:0\n",
      "ToolUse is used\n"
     ]
    },
    {
     "name": "stdout",
     "output_type": "stream",
     "text": [
      "A client error occurred: %s Too many requests, please wait before trying again. You have sent too many requests.  Wait before trying again.\n",
      "A client error occured: Too many requests, please wait before trying again. You have sent too many requests.  Wait before trying again.\n"
     ]
    },
    {
     "ename": "AttributeError",
     "evalue": "'str' object has no attribute 'get'",
     "output_type": "error",
     "traceback": [
      "\u001b[0;31m---------------------------------------------------------------------------\u001b[0m",
      "\u001b[0;31mAttributeError\u001b[0m                            Traceback (most recent call last)",
      "\u001b[1;32m/home/sagemaker-user/Self-Study-Generative-AI/tool-use/03-describe-person/01-analyze-image-tool-use.ipynb Cell 11\u001b[0m line \u001b[0;36m1\n\u001b[1;32m     <a href='vscode-notebook-cell://5rpekozdhu6pwqt.studio.us-east-1.sagemaker.aws/home/sagemaker-user/Self-Study-Generative-AI/tool-use/03-describe-person/01-analyze-image-tool-use.ipynb#X13sdnNjb2RlLXJlbW90ZQ%3D%3D?line=15'>16</a>\u001b[0m     \u001b[39mprint\u001b[39m(\u001b[39mf\u001b[39m\u001b[39m\"\u001b[39m\u001b[39mA client error occured: \u001b[39m\u001b[39m{\u001b[39;00mmessage\u001b[39m}\u001b[39;00m\u001b[39m\"\u001b[39m)\n\u001b[1;32m     <a href='vscode-notebook-cell://5rpekozdhu6pwqt.studio.us-east-1.sagemaker.aws/home/sagemaker-user/Self-Study-Generative-AI/tool-use/03-describe-person/01-analyze-image-tool-use.ipynb#X13sdnNjb2RlLXJlbW90ZQ%3D%3D?line=17'>18</a>\u001b[0m \u001b[39mif\u001b[39;00m isToollUse:\n\u001b[0;32m---> <a href='vscode-notebook-cell://5rpekozdhu6pwqt.studio.us-east-1.sagemaker.aws/home/sagemaker-user/Self-Study-Generative-AI/tool-use/03-describe-person/01-analyze-image-tool-use.ipynb#X13sdnNjb2RlLXJlbW90ZQ%3D%3D?line=18'>19</a>\u001b[0m     parse_korean_comments_tools(messages)\n\u001b[1;32m     <a href='vscode-notebook-cell://5rpekozdhu6pwqt.studio.us-east-1.sagemaker.aws/home/sagemaker-user/Self-Study-Generative-AI/tool-use/03-describe-person/01-analyze-image-tool-use.ipynb#X13sdnNjb2RlLXJlbW90ZQ%3D%3D?line=19'>20</a>\u001b[0m \u001b[39melse\u001b[39;00m:\n\u001b[1;32m     <a href='vscode-notebook-cell://5rpekozdhu6pwqt.studio.us-east-1.sagemaker.aws/home/sagemaker-user/Self-Study-Generative-AI/tool-use/03-describe-person/01-analyze-image-tool-use.ipynb#X13sdnNjb2RlLXJlbW90ZQ%3D%3D?line=20'>21</a>\u001b[0m     parse_korean_comments(messages)\n",
      "File \u001b[0;32m~/Self-Study-Generative-AI/tool-use/03-describe-person/utils_bedrock_skin_gender.py:90\u001b[0m, in \u001b[0;36mparse_korean_comments_tools\u001b[0;34m(message)\u001b[0m\n\u001b[1;32m     88\u001b[0m \u001b[39mdef\u001b[39;00m \u001b[39mparse_korean_comments_tools\u001b[39m(message):\n\u001b[1;32m     89\u001b[0m     \u001b[39m# Access the content list\u001b[39;00m\n\u001b[0;32m---> 90\u001b[0m     content \u001b[39m=\u001b[39m message\u001b[39m.\u001b[39;49mget(\u001b[39m'\u001b[39m\u001b[39mcontent\u001b[39m\u001b[39m'\u001b[39m, [])\n\u001b[1;32m     92\u001b[0m     \u001b[39mprint\u001b[39m(\u001b[39m\"\u001b[39m\u001b[39m## content: \u001b[39m\u001b[39m\\n\u001b[39;00m\u001b[39m\"\u001b[39m, content)\n\u001b[1;32m     94\u001b[0m     \u001b[39m# Look for toolUse dictionary in content\u001b[39;00m\n",
      "\u001b[0;31mAttributeError\u001b[0m: 'str' object has no attribute 'get'"
     ]
    }
   ],
   "source": [
    "try:\n",
    "    isToollUse = True\n",
    "\n",
    "    messages = generate_text(bedrock_client, model_id, tool_config, \n",
    "                            prompt, \n",
    "                            prepped_images,\n",
    "                            inference_config,\n",
    "                            tools=isToollUse,   \n",
    "                            verbose=True,                         \n",
    "                            )\n",
    "\n",
    "\n",
    "except ClientError as err:\n",
    "    messages = err.response['Error']['Message']\n",
    "    print(\"A client error occurred: %s\", message)\n",
    "    print(f\"A client error occured: {message}\")\n",
    "\n",
    "if isToollUse:\n",
    "    parse_korean_comments_tools(messages)\n",
    "else:\n",
    "    parse_korean_comments(messages)\n"
   ]
  },
  {
   "cell_type": "code",
   "execution_count": null,
   "metadata": {},
   "outputs": [],
   "source": []
  }
 ],
 "metadata": {
  "kernelspec": {
   "display_name": "base",
   "language": "python",
   "name": "python3"
  },
  "language_info": {
   "codemirror_mode": {
    "name": "ipython",
    "version": 3
   },
   "file_extension": ".py",
   "mimetype": "text/x-python",
   "name": "python",
   "nbconvert_exporter": "python",
   "pygments_lexer": "ipython3",
   "version": "3.10.14"
  }
 },
 "nbformat": 4,
 "nbformat_minor": 2
}
